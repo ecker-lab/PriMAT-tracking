{
 "cells": [
  {
   "cell_type": "markdown",
   "id": "tracked-identifier",
   "metadata": {},
   "source": [
    "## Kalman filter"
   ]
  },
  {
   "cell_type": "code",
   "execution_count": 42,
   "id": "upset-street",
   "metadata": {},
   "outputs": [],
   "source": [
    "from __future__ import absolute_import\n",
    "from __future__ import division\n",
    "from __future__ import print_function\n",
    "\n",
    "import os.path as osp\n",
    "import sys\n",
    "#sys.path.insert(0, '/usr/users/vogg/FairMOT/src')\n",
    "#sys.path.insert(0, '/usr/users/vogg/FairMOT/src/lib')\n",
    "#sys.path.insert(0, '/opt/conda/envs/FairMOT/lib/python3.8/site-packages')\n",
    "#sys.path.insert(0, '/usr/users/vogg/FairMOT/DCNv2')\n",
    "#sys.path"
   ]
  },
  {
   "cell_type": "code",
   "execution_count": 43,
   "id": "practical-intention",
   "metadata": {},
   "outputs": [],
   "source": [
    "import matplotlib.pyplot as plt\n",
    "import numpy as np\n",
    "from tracking_utils.kalman_filter import KalmanFilter\n",
    "from tracker import matching\n",
    "from tracker.basetrack import BaseTrack, TrackState\n",
    "from tracker.multitracker import STrack"
   ]
  },
  {
   "cell_type": "code",
   "execution_count": 44,
   "id": "wrong-address",
   "metadata": {},
   "outputs": [],
   "source": [
    "kf = KalmanFilter()"
   ]
  },
  {
   "cell_type": "code",
   "execution_count": null,
   "id": "trained-europe",
   "metadata": {},
   "outputs": [],
   "source": []
  },
  {
   "cell_type": "code",
   "execution_count": 114,
   "id": "random-poultry",
   "metadata": {},
   "outputs": [
    {
     "data": {
      "text/plain": [
       "array([     205.37,      310.74,     0.81961,      55.372,      1.0331,      2.0661, -1.9608e-10,      1.0331])"
      ]
     },
     "execution_count": 114,
     "metadata": {},
     "output_type": "execute_result"
    }
   ],
   "source": [
    "mean, cov = kf.initiate([200, 300, 0.82, 50])\n",
    "plot_list = []\n",
    "\n",
    "new_mean, new_cov = kf.predict(mean, cov)\n",
    "final_mean, final_cov = kf.update(new_mean, new_cov, [205, 310, 0.8, 55])\n",
    "new_mean, new_cov = kf.predict(final_mean, final_cov)\n",
    "    \n",
    "new_mean"
   ]
  },
  {
   "cell_type": "code",
   "execution_count": 105,
   "id": "disciplinary-missile",
   "metadata": {},
   "outputs": [
    {
     "data": {
      "text/plain": [
       "array([[       2500,           0,           0,           0,           0,           0,           0,           0],\n",
       "       [          0,        2500,           0,           0,           0,           0,           0,           0],\n",
       "       [          0,           0,      0.0001,           0,           0,           0,           0,           0],\n",
       "       [          0,           0,           0,        2500,           0,           0,           0,           0],\n",
       "       [          0,           0,           0,           0,      976.56,           0,           0,           0],\n",
       "       [          0,           0,           0,           0,           0,      976.56,           0,           0],\n",
       "       [          0,           0,           0,           0,           0,           0,       1e-10,           0],\n",
       "       [          0,           0,           0,           0,           0,           0,           0,      976.56]])"
      ]
     },
     "execution_count": 105,
     "metadata": {},
     "output_type": "execute_result"
    }
   ],
   "source": [
    "cov"
   ]
  },
  {
   "cell_type": "code",
   "execution_count": 106,
   "id": "boxed-saint",
   "metadata": {},
   "outputs": [
    {
     "data": {
      "image/png": "[encoded data removed]",
      "text/plain": [
       "<Figure size 432x288 with 1 Axes>"
      ]
     },
     "metadata": {
      "needs_background": "light"
     },
     "output_type": "display_data"
    }
   ],
   "source": [
    "surf = plt.pcolormesh(new_cov)"
   ]
  },
  {
   "cell_type": "code",
   "execution_count": 107,
   "id": "lesbian-harris",
   "metadata": {},
   "outputs": [],
   "source": [
    "mu = new_mean[:2]\n",
    "Sigma = new_cov[:2,:2]"
   ]
  },
  {
   "cell_type": "code",
   "execution_count": 117,
   "id": "happy-municipality",
   "metadata": {},
   "outputs": [],
   "source": [
    "N = 6000\n",
    "X = np.linspace(0, 1980, 1980)\n",
    "Y = np.linspace(0, 1088, 1088)\n",
    "X, Y = np.meshgrid(X, Y)\n",
    "\n",
    "pos = np.empty(X.shape + (2,))\n",
    "pos[:, :, 0] = X\n",
    "pos[:, :, 1] = Y"
   ]
  },
  {
   "cell_type": "code",
   "execution_count": 118,
   "id": "short-execution",
   "metadata": {},
   "outputs": [],
   "source": [
    "def multivariate_gaussian(pos, mu, Sigma):\n",
    "    \"\"\"Return the multivariate Gaussian distribution on array pos.\n",
    "\n",
    "    pos is an array constructed by packing the meshed arrays of variables\n",
    "    x_1, x_2, x_3, ..., x_k into its _last_ dimension.\n",
    "\n",
    "    \"\"\"\n",
    "\n",
    "    n = mu.shape[0]\n",
    "    Sigma_det = np.linalg.det(Sigma)\n",
    "    Sigma_inv = np.linalg.inv(Sigma)\n",
    "    N = np.sqrt((2*np.pi)**n * Sigma_det)\n",
    "    # This einsum call calculates (x-mu)T.Sigma-1.(x-mu) in a vectorized\n",
    "    # way across all the input variables.\n",
    "    fac = np.einsum('...k,kl,...l->...', pos-mu, Sigma_inv, pos-mu)\n",
    "\n",
    "    return np.exp(-fac / 2) / N\n"
   ]
  },
  {
   "cell_type": "code",
   "execution_count": 119,
   "id": "ultimate-devon",
   "metadata": {},
   "outputs": [
    {
     "data": {
      "text/plain": [
       "array([[ 5.5799e-22,  6.2731e-22,  7.0485e-22, ...,           0,           0,           0],\n",
       "       [ 6.6631e-22,  7.4909e-22,  8.4168e-22, ...,           0,           0,           0],\n",
       "       [  7.952e-22,  8.9399e-22,  1.0045e-21, ...,           0,           0,           0],\n",
       "       ...,\n",
       "       [ 1.4567e-84,  1.6376e-84,    1.84e-84, ...,           0,           0,           0],\n",
       "       [ 9.3475e-85,  1.0509e-84,  1.1808e-84, ...,           0,           0,           0],\n",
       "       [  5.995e-85,  6.7398e-85,  7.5729e-85, ...,           0,           0,           0]])"
      ]
     },
     "execution_count": 119,
     "metadata": {},
     "output_type": "execute_result"
    }
   ],
   "source": [
    "Z = multivariate_gaussian(pos, mu, Sigma)\n",
    "Sigma_det = np.linalg.det(Sigma)\n",
    "Sigma_inv = np.linalg.inv(Sigma)\n",
    "N = np.sqrt((2*np.pi)**2 * Sigma_det)\n",
    "\n",
    "fac = np.einsum('...k,kl,...l->...', pos-mu, Sigma_inv, pos-mu)\n",
    "\n",
    "np.exp(-fac / 2) / N"
   ]
  },
  {
   "cell_type": "code",
   "execution_count": 132,
   "id": "outside-denial",
   "metadata": {},
   "outputs": [
    {
     "data": {
      "image/png": "[encoded data removed]",
      "text/plain": [
       "<Figure size 432x288 with 1 Axes>"
      ]
     },
     "metadata": {
      "needs_background": "light"
     },
     "output_type": "display_data"
    },
    {
     "data": {
      "text/plain": [
       "9.092103573316494e-05"
      ]
     },
     "execution_count": 132,
     "metadata": {},
     "output_type": "execute_result"
    }
   ],
   "source": [
    "plt.imshow(Z, cmap='hot', interpolation='nearest')\n",
    "plt.show()\n",
    "\n",
    "np.max(Z)"
   ]
  },
  {
   "cell_type": "code",
   "execution_count": 128,
   "id": "awful-geneva",
   "metadata": {},
   "outputs": [
    {
     "ename": "NameError",
     "evalue": "name 'torch' is not defined",
     "output_type": "error",
     "traceback": [
      "\u001b[0;31m---------------------------------------------------------------------------\u001b[0m",
      "\u001b[0;31mNameError\u001b[0m                                 Traceback (most recent call last)",
      "\u001b[0;32m<ipython-input-128-4bb3d2256420>\u001b[0m in \u001b[0;36m<module>\u001b[0;34m\u001b[0m\n\u001b[0;32m----> 1\u001b[0;31m \u001b[0mtorch\u001b[0m\u001b[0;34m.\u001b[0m\u001b[0mfrom_numpy\u001b[0m\u001b[0;34m(\u001b[0m\u001b[0mnp\u001b[0m\u001b[0;34m.\u001b[0m\u001b[0mones\u001b[0m\u001b[0;34m(\u001b[0m\u001b[0;34m(\u001b[0m\u001b[0;36m5\u001b[0m\u001b[0;34m,\u001b[0m\u001b[0;36m5\u001b[0m\u001b[0;34m)\u001b[0m\u001b[0;34m)\u001b[0m\u001b[0;34m)\u001b[0m\u001b[0;34m\u001b[0m\u001b[0;34m\u001b[0m\u001b[0m\n\u001b[0m",
      "\u001b[0;31mNameError\u001b[0m: name 'torch' is not defined"
     ]
    }
   ],
   "source": [
    "torch.from_numpy(np.ones((5,5)))"
   ]
  },
  {
   "cell_type": "code",
   "execution_count": null,
   "id": "about-commission",
   "metadata": {},
   "outputs": [],
   "source": []
  }
 ],
 "metadata": {
  "kernelspec": {
   "display_name": "Python 3",
   "language": "python",
   "name": "python3"
  },
  "language_info": {
   "codemirror_mode": {
    "name": "ipython",
    "version": 3
   },
   "file_extension": ".py",
   "mimetype": "text/x-python",
   "name": "python",
   "nbconvert_exporter": "python",
   "pygments_lexer": "ipython3",
   "version": "3.8.6"
  }
 },
 "nbformat": 4,
 "nbformat_minor": 5
}
