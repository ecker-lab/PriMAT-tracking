{
 "cells": [
  {
   "cell_type": "code",
   "execution_count": 2,
   "id": "horizontal-tuner",
   "metadata": {},
   "outputs": [
    {
     "name": "stdout",
     "output_type": "stream",
     "text": [
      "/home/matthias/monkey/MC-FairMOT_mt/own_ideas\n"
     ]
    }
   ],
   "source": [
    "import numpy as np\n",
    "import pandas as pd\n",
    "import os\n",
    "import re\n",
    "# import matplotlib.pyplot as plt\n",
    "from PIL import Image\n",
    "\n",
    "\n",
    "from pathlib import Path\n",
    "import json\n",
    "import shutil\n",
    "\n",
    "os.getcwd()\n",
    "!pwd\n",
    "\n"
   ]
  },
  {
   "cell_type": "markdown",
   "id": "adult-louisville",
   "metadata": {},
   "source": [
    "## Converting VoTT output\n",
    "\n",
    "After labeling with VoTT, we obtain a .csv file, which we convert into many .txt files, one file for every frame. These will be saved in a folder called labels_with_ids (if it does not exist you have to create it."
   ]
  },
  {
   "cell_type": "markdown",
   "id": "0c30c4d0",
   "metadata": {},
   "source": [
    "### Paths to everything"
   ]
  },
  {
   "cell_type": "markdown",
   "id": "14796546",
   "metadata": {},
   "source": [
    "#### Paths for Lemur & Box"
   ]
  },
  {
   "cell_type": "code",
   "execution_count": 10,
   "id": "plastic-indicator",
   "metadata": {},
   "outputs": [],
   "source": [
    "data_root = Path(\"/home/matthias/storage/sfb1528_storage/Z02/LemursAndBoxes/vott-csv-export/\")\n",
    "data_out = Path(\"/home/matthias/storage/datasets/lemur_box/train/\")"
   ]
  },
  {
   "cell_type": "markdown",
   "id": "f8c5d54e",
   "metadata": {},
   "source": [
    "#### Paths Richards things"
   ]
  },
  {
   "cell_type": "code",
   "execution_count": null,
   "id": "3d5cc7c6",
   "metadata": {},
   "outputs": [],
   "source": [
    "data_root = \"/usr/users/vogg/Labelling/Baboons/\"\n",
    "data_root = Path(\"/media/kiwi/gwdg_home/Data/Monkey/02_VoTT/\")"
   ]
  },
  {
   "cell_type": "markdown",
   "id": "abab8e19",
   "metadata": {},
   "source": [
    "#### Paths Branch Interaction"
   ]
  },
  {
   "cell_type": "code",
   "execution_count": null,
   "id": "3807d074",
   "metadata": {},
   "outputs": [],
   "source": [
    "data_root = Path(\"/home/matthias/storage/sfb1528_storage/Z01/MonkeyBranchInteraction/\")\n",
    "data_out = data_root / \"train\""
   ]
  },
  {
   "cell_type": "markdown",
   "id": "493bd810",
   "metadata": {},
   "source": [
    "#### Paths Exploration Room"
   ]
  },
  {
   "cell_type": "code",
   "execution_count": 6,
   "id": "788c264e",
   "metadata": {},
   "outputs": [],
   "source": [
    "data_root = Path(\"/home/matthias/storage/datasets/explorationroom_largest/validation\")\n",
    "data_out = data_root\n",
    "labels = pd.read_csv(data_root / \"monkey_pose_val-export.csv\")"
   ]
  },
  {
   "cell_type": "markdown",
   "id": "29ff3869",
   "metadata": {},
   "source": [
    "### Test output of labels"
   ]
  },
  {
   "cell_type": "code",
   "execution_count": 3,
   "id": "intensive-photograph",
   "metadata": {},
   "outputs": [],
   "source": [
    "# labels = pd.read_csv(data_root + \"images/Baboon-finder-export.csv\")\n",
    "labels = data_root\n",
    "# labels = pd.read_csv(data_root / 'Lemur_new-export.csv')"
   ]
  },
  {
   "cell_type": "code",
   "execution_count": 4,
   "id": "resident-consensus",
   "metadata": {},
   "outputs": [
    {
     "data": {
      "text/html": [
       "<div>\n",
       "<style scoped>\n",
       "    .dataframe tbody tr th:only-of-type {\n",
       "        vertical-align: middle;\n",
       "    }\n",
       "\n",
       "    .dataframe tbody tr th {\n",
       "        vertical-align: top;\n",
       "    }\n",
       "\n",
       "    .dataframe thead th {\n",
       "        text-align: right;\n",
       "    }\n",
       "</style>\n",
       "<table border=\"1\" class=\"dataframe\">\n",
       "  <thead>\n",
       "    <tr style=\"text-align: right;\">\n",
       "      <th></th>\n",
       "      <th>image</th>\n",
       "      <th>xmin</th>\n",
       "      <th>ymin</th>\n",
       "      <th>xmax</th>\n",
       "      <th>ymax</th>\n",
       "      <th>label</th>\n",
       "    </tr>\n",
       "  </thead>\n",
       "  <tbody>\n",
       "    <tr>\n",
       "      <th>0</th>\n",
       "      <td>Train10_close_3332.jpg</td>\n",
       "      <td>1828.126935</td>\n",
       "      <td>844.818234</td>\n",
       "      <td>2064.736842</td>\n",
       "      <td>941.114106</td>\n",
       "      <td>Box</td>\n",
       "    </tr>\n",
       "    <tr>\n",
       "      <th>1</th>\n",
       "      <td>Train10_close_3332.jpg</td>\n",
       "      <td>1404.907121</td>\n",
       "      <td>1182.906537</td>\n",
       "      <td>1950.123839</td>\n",
       "      <td>1565.736812</td>\n",
       "      <td>Box</td>\n",
       "    </tr>\n",
       "    <tr>\n",
       "      <th>2</th>\n",
       "      <td>Train10_close_3332.jpg</td>\n",
       "      <td>1882.167183</td>\n",
       "      <td>723.968463</td>\n",
       "      <td>2130.619195</td>\n",
       "      <td>914.145069</td>\n",
       "      <td>Lemur</td>\n",
       "    </tr>\n",
       "    <tr>\n",
       "      <th>3</th>\n",
       "      <td>Train10_close_3332.jpg</td>\n",
       "      <td>820.975232</td>\n",
       "      <td>857.714450</td>\n",
       "      <td>1407.321981</td>\n",
       "      <td>1744.193807</td>\n",
       "      <td>Lemur</td>\n",
       "    </tr>\n",
       "    <tr>\n",
       "      <th>4</th>\n",
       "      <td>Train10_close_3332.jpg</td>\n",
       "      <td>1832.972136</td>\n",
       "      <td>825.264908</td>\n",
       "      <td>2592.662539</td>\n",
       "      <td>1509.724197</td>\n",
       "      <td>Lemur</td>\n",
       "    </tr>\n",
       "  </tbody>\n",
       "</table>\n",
       "</div>"
      ],
      "text/plain": [
       "                    image         xmin         ymin         xmax         ymax  \\\n",
       "0  Train10_close_3332.jpg  1828.126935   844.818234  2064.736842   941.114106   \n",
       "1  Train10_close_3332.jpg  1404.907121  1182.906537  1950.123839  1565.736812   \n",
       "2  Train10_close_3332.jpg  1882.167183   723.968463  2130.619195   914.145069   \n",
       "3  Train10_close_3332.jpg   820.975232   857.714450  1407.321981  1744.193807   \n",
       "4  Train10_close_3332.jpg  1832.972136   825.264908  2592.662539  1509.724197   \n",
       "\n",
       "   label  \n",
       "0    Box  \n",
       "1    Box  \n",
       "2  Lemur  \n",
       "3  Lemur  \n",
       "4  Lemur  "
      ]
     },
     "execution_count": 4,
     "metadata": {},
     "output_type": "execute_result"
    }
   ],
   "source": [
    "labels.head()"
   ]
  },
  {
   "cell_type": "markdown",
   "id": "fef1c2af",
   "metadata": {},
   "source": [
    "### Fixing paths to image and label files"
   ]
  },
  {
   "cell_type": "code",
   "execution_count": 7,
   "id": "widespread-country",
   "metadata": {},
   "outputs": [],
   "source": [
    "# img_list = os.listdir(data_root + \"images\")\n",
    "imgs = data_root / 'extracted_images'\n",
    "# lbls = data_root / 'labels_with_ids'\n",
    "# imgs = data_root\n",
    "lbls = data_root / 'VoTT_output'\n",
    "# img_list = imgs.glob('**/*.png')\n",
    "img_list = imgs.glob('**/*.jpg')\n",
    "labels_list = lbls.glob('**/*.json')\n",
    "# regex = re.compile('.*JPG')\n",
    "# img_list = sorted([i for i in img_list if regex.match(i)])"
   ]
  },
  {
   "cell_type": "markdown",
   "id": "f4f0ad57",
   "metadata": {},
   "source": [
    "### Get all resolutions of images"
   ]
  },
  {
   "cell_type": "code",
   "execution_count": null,
   "id": "ac0decfb",
   "metadata": {},
   "outputs": [],
   "source": [
    "sh = []\n",
    "for img in img_list:\n",
    "    img=np.asarray(Image.open(img))\n",
    "    sh.append((img.shape))\n",
    "# print(sh)\n",
    "print(np.unique(sh))\n",
    "\n",
    "# ken front left camera has other resolution than the rest: 768x768 instead of 768x1024"
   ]
  },
  {
   "cell_type": "markdown",
   "id": "1e8ed384",
   "metadata": {},
   "source": [
    "### Copy images to train location"
   ]
  },
  {
   "cell_type": "code",
   "execution_count": 12,
   "id": "1bee55e4",
   "metadata": {},
   "outputs": [],
   "source": [
    "# save all pngs to images\n",
    "for img in img_list:\n",
    "    shutil.copy(img, (data_root.parent.parent / 'train' / 'images' / img.name))\n",
    "\n",
    "    # sort out imgs without corresponding labeling\n",
    "    # tmp = (lbls / img.name).with_suffix('.txt')\n",
    "    # if not tmp.is_file():\n",
    "    #     img.rename((data_root / 'sorted_out' / img.name))\n"
   ]
  },
  {
   "cell_type": "markdown",
   "id": "ba4339df",
   "metadata": {},
   "source": [
    "### Get image shapes"
   ]
  },
  {
   "cell_type": "code",
   "execution_count": 27,
   "id": "exact-creativity",
   "metadata": {},
   "outputs": [],
   "source": [
    "# img_id = img_list[1]\n",
    "img_path = next(img_list)\n",
    "# img = np.asarray(Image.open(data_root + \"images/\" + img_id))\n",
    "img = np.asarray(Image.open(img_path))\n",
    "#fig, ax = plt.subplots(figsize=(640/96, 640/96), dpi=96)\n",
    "#ax.imshow(img)\n",
    "img_h, img_w, _ = img.shape"
   ]
  },
  {
   "cell_type": "markdown",
   "id": "42fc09c1",
   "metadata": {},
   "source": [
    "### Plot BBox of images"
   ]
  },
  {
   "cell_type": "code",
   "execution_count": 60,
   "id": "69e2d0cf",
   "metadata": {},
   "outputs": [],
   "source": [
    "import numpy as np\n",
    "import pandas as pd\n",
    "import cv2\n",
    "import matplotlib.pyplot as plt\n",
    "%matplotlib inline\n",
    "import os\n",
    "import re\n",
    "from random import sample\n",
    "from PIL import Image\n",
    "import json\n",
    "import csv\n",
    "def plotBBox(img_id, img_path, label_path, ending = \".jpg\"):\n",
    "    coords = pd.read_csv(label_path + img_id + \".txt\", header = None, \n",
    "                       sep = \" \")\n",
    "    im = cv2.imread(img_path + img_id + ending)\n",
    "    \n",
    "    im_h, im_w = im.shape[:2]\n",
    "    print(im_w)\n",
    "    for i in range(len(coords)):\n",
    "        center = tuple(map(int, (im_w * coords.iloc[i, 2], im_h * coords.iloc[i, 3])))\n",
    "        low_left = tuple(map(int, (im_w * (coords.iloc[i, 2] - coords.iloc[i, 4]/2),\n",
    "                                   im_h * (coords.iloc[i, 3] - coords.iloc[i, 5]/2))))\n",
    "        up_right = tuple(map(int, (im_w * (coords.iloc[i, 2] + coords.iloc[i, 4]/2), \n",
    "                                 im_h * (coords.iloc[i, 3] + coords.iloc[i, 5]/2))))\n",
    "\n",
    "        color = (i * 100 % 255, i * 75 % 255, i * 50 % 255)\n",
    "        im = cv2.circle(im, center, radius = 2, color = color, thickness = 5)\n",
    "        im = cv2.rectangle(im, low_left, up_right, color = color, thickness = 5)\n",
    "        \n",
    "    fig, ax = plt.subplots(figsize=(10, 7))\n",
    "    ax.imshow(cv2.cvtColor(im, cv2.COLOR_BGR2RGB))\n",
    "    \n",
    "    plt.show()"
   ]
  },
  {
   "cell_type": "markdown",
   "id": "e46f14b1",
   "metadata": {},
   "source": [
    "# Extracting multiple json VoTT output for single-class FairMOT\n",
    "\n",
    "- used for testing Zurnas Explorationroom labeling with single class FairMOT \n",
    "- all classes labeled in VoTT but only monkey class BB's are extracted"
   ]
  },
  {
   "cell_type": "code",
   "execution_count": null,
   "id": "d9544e6f",
   "metadata": {},
   "outputs": [],
   "source": [
    "# cell to extract monkey class\n",
    "i_monkey = 0\n",
    "for label in labels_list:\n",
    "    # print(label)\n",
    "    with open(label) as f:\n",
    "        content = json.load(f)\n",
    "        \n",
    "    origin_path = Path(content[\"asset\"][\"path\"])\n",
    "    image_path_end = Path(origin_path.parent.name, origin_path.name)\n",
    "    image_path = data_root / label.parent.parent.name  / image_path_end\n",
    "    # print(image_path)\n",
    "    # img = np.asarray(Image.open(image_path))\n",
    "    # img_h, img_w, _ = img.shape\n",
    "    img_h, img_w = content[\"asset\"][\"size\"].values()\n",
    "\n",
    "    all_boxes = content[\"regions\"]\n",
    "    # print(all_boxes[0])\n",
    "    monkey_boxes = [box for box in all_boxes if \"monkey\" in box[\"tags\"]]\n",
    "    # if monkey_boxes:\n",
    "    #     shutil.copy(image_path, (data_root / 'images' /image_path.name))\n",
    "    # print(monkey_boxes)\n",
    "\n",
    "    label_fpath = (data_root / \"labels_with_ids\" / image_path.name).with_suffix('.txt')\n",
    "    # print(label_fpath)\n",
    "\n",
    "    for monkey_box in monkey_boxes:\n",
    "        id = monkey_box[\"id\"]\n",
    "        h, w, left, top = monkey_box[\"boundingBox\"].values()\n",
    "        # print(h,w,left,top)\n",
    "\n",
    "        x_center = left + w/2\n",
    "        y_center = top + h/2\n",
    "\n",
    "        #  img_id = re.sub(\"[.]jpg\",\"\", img_id)\n",
    "        #Label-String schreiben.\n",
    "\n",
    "        label_str = '0 {:d} {:.6f} {:.6f} {:.6f} {:.6f}\\n'.format(\n",
    "                i_monkey, x_center / img_w, y_center / img_h, w / img_w, h / img_h)\n",
    "\n",
    "        i_monkey += 1\n",
    "        with label_fpath.open(mode='a') as f:\n",
    "            f.write(label_str)\n",
    "    # plotBBox(str(image_path.stem),str(image_path.parent)+'/',str(label_fpath.parent)+'/', ending='.png')\n",
    "        \n"
   ]
  },
  {
   "cell_type": "markdown",
   "id": "373960fb",
   "metadata": {},
   "source": [
    "# Extracting multiple json VoTT output for multi-class FairMOT\n",
    "\n",
    "- used for Zurnas Explorationroom labeling"
   ]
  },
  {
   "cell_type": "code",
   "execution_count": 68,
   "id": "d8143988",
   "metadata": {},
   "outputs": [],
   "source": [
    "# cell for all classes\n",
    "i_obj = [0,0,0,0,0]\n",
    "\n",
    "for label in labels_list:\n",
    "    # print(label)\n",
    "    with open(label) as f:\n",
    "        content = json.load(f)\n",
    "        \n",
    "    origin_path = Path(content[\"asset\"][\"path\"])\n",
    "    image_path_end = Path(origin_path.parent.name, origin_path.name)\n",
    "    image_path = data_root / label.parent.parent.name  / image_path_end\n",
    "    # print(image_path)\n",
    "    # img = np.asarray(Image.open(image_path))\n",
    "    # img_h, img_w, _ = img.shape\n",
    "    img_h, img_w = content[\"asset\"][\"size\"].values()\n",
    "\n",
    "    all_boxes = content[\"regions\"]\n",
    "\n",
    "    # monkey_boxes = [box for box in all_boxes if \"monkey\" in box[\"tags\"]]\n",
    "\n",
    "    label_fpath = (data_root / \"labels_with_ids\" / image_path.name).with_suffix('.txt')\n",
    "\n",
    "    for box in all_boxes:\n",
    "        if \"monkey\" in box[\"tags\"]:\n",
    "            obj_class = 0\n",
    "        elif \"patch\" in box[\"tags\"]:\n",
    "            obj_class = 1\n",
    "        elif \"kong\" in box[\"tags\"]:\n",
    "            obj_class = 2\n",
    "        elif \"branch\" in box[\"tags\"]:\n",
    "            obj_class = 3\n",
    "        elif \"XBI\" in box[\"tags\"]:\n",
    "            obj_class = 4\n",
    "        h, w, left, top = box[\"boundingBox\"].values()\n",
    "        # print(h,w,left,top)\n",
    "\n",
    "        x_center = left + w/2\n",
    "        y_center = top + h/2\n",
    "\n",
    "        #  img_id = re.sub(\"[.]jpg\",\"\", img_id)\n",
    "        #Label-String schreiben.\n",
    "\n",
    "        label_str = '{:d} {:d} {:.6f} {:.6f} {:.6f} {:.6f}\\n'.format(\n",
    "                obj_class, i_obj[obj_class], x_center / img_w, y_center / img_h, w / img_w, h / img_h)\n",
    "\n",
    "        i_obj[obj_class] += 1\n",
    "        with label_fpath.open(mode='a') as f:\n",
    "            f.write(label_str)"
   ]
  },
  {
   "cell_type": "markdown",
   "id": "4bbd3fe4",
   "metadata": {},
   "source": [
    "# Extracting one csv VoTT output for multi-class FairMOT\n",
    "\n",
    "- used for lemurs and boxes"
   ]
  },
  {
   "cell_type": "code",
   "execution_count": 13,
   "id": "cfd7d822",
   "metadata": {},
   "outputs": [],
   "source": [
    "i_obj = [0,0]\n",
    "img_paths = []\n",
    "for _, row in labels.iterrows():\n",
    "    # print(label)\n",
    "    image, xmin, ymin, xmax, ymax, label = row\n",
    "\n",
    "    image_path = data_out / 'images' / image\n",
    "    img_paths.append(str(image_path))\n",
    "    # print(image_path)\n",
    "    img = np.asarray(Image.open(image_path))\n",
    "    img_h, img_w, _ = img.shape\n",
    "\n",
    "    # for lemur and box ---\n",
    "    # img_h, img_w = [2160, 3840]\n",
    "\n",
    "\n",
    "    # label_fpath = (data_out / 'labels' / image_path.name).with_suffix('.txt')\n",
    "    # for exp room\n",
    "    label_fpath = (data_out / 'labels_with_ids' / image_path.name).with_suffix('.txt')\n",
    "    \n",
    "    obj_class = 0\n",
    "\n",
    "    # for lemur and box ---\n",
    "    # if \"Lemur\" in label:\n",
    "    #     obj_class = 0\n",
    "    # elif \"Box\" in label:\n",
    "    #     obj_class = 1\n",
    "\n",
    "    w = (xmax - xmin)\n",
    "    h = (ymax - ymin)\n",
    "\n",
    "    x_center = xmin + w / 2\n",
    "    y_center = ymin + h / 2\n",
    "\n",
    "    #  img_id = re.sub(\"[.]jpg\",\"\", img_id)\n",
    "    #Label-String schreiben.\n",
    "\n",
    "    label_str = '{:d} {:d} {:.6f} {:.6f} {:.6f} {:.6f}\\n'.format(\n",
    "            obj_class, i_obj[obj_class], x_center / img_w, y_center / img_h, w / img_w, h / img_h)\n",
    "\n",
    "    i_obj[obj_class] += 1\n",
    "\n",
    "    # not for lemur box\n",
    "    with label_fpath.open(mode='a') as f:\n",
    "        f.write(label_str)\n",
    "\n",
    "# for lemur box\n",
    "# img_paths = list(set(img_paths))\n",
    "# with (data_out / 'lemur_box.train').open('w') as f:\n",
    "#     for ip in img_paths:\n",
    "#         f.write(f'{ip}\\n')"
   ]
  },
  {
   "cell_type": "markdown",
   "id": "bb9c314a",
   "metadata": {},
   "source": [
    "# Original VoTT output transform for FairMOT (from Richard)\n",
    "\n",
    "- I at least think that that is in this cell ^^"
   ]
  },
  {
   "cell_type": "code",
   "execution_count": 332,
   "id": "positive-exhibit",
   "metadata": {},
   "outputs": [],
   "source": [
    "i_monkey = 0\n",
    "\n",
    "# for img_id in img_list:\n",
    "for img_path in img_list:\n",
    "    idx = np.where(labels.image == img_id)\n",
    "    image_labels = labels.iloc[idx]\n",
    "    \n",
    "    label_fpath = data_root + \"labels_with_ids/\" + re.sub(\".JPG\", \".txt\", img_id)\n",
    "\n",
    "    img = np.asarray(Image.open(data_root + \"images/\" + img_id))\n",
    "    img_h, img_w, _ = img.shape\n",
    "\n",
    "    for index, row in image_labels.iterrows():\n",
    "\n",
    "        #if row.label == \"baboon\":\n",
    "        x_center = row.xmin + (row.xmax - row.xmin)/2\n",
    "        y_center = row.ymin + (row.ymax - row.ymin)/2\n",
    "        w = row.xmax - row.xmin\n",
    "        h = row.ymax - row.ymin\n",
    "\n",
    "        #i_monkey = row.label\n",
    "\n",
    "        img_id = re.sub(\"[.]jpg\",\"\", img_id)\n",
    "        #Label-String schreiben.\n",
    "\n",
    "        label_str = '0 {:d} {:.6f} {:.6f} {:.6f} {:.6f}\\n'.format(\n",
    "                i_monkey, x_center / img_w, y_center / img_h, w / img_w, h / img_h)\n",
    "\n",
    "        i_monkey += 1\n",
    "        with open(label_fpath, 'a') as f:\n",
    "            f.write(label_str)\n",
    "\n",
    "\n",
    "            "
   ]
  },
  {
   "cell_type": "markdown",
   "id": "chubby-kruger",
   "metadata": {},
   "source": [
    "### Converting CVAT output\n",
    "\n",
    "Data comes in separate files."
   ]
  },
  {
   "cell_type": "code",
   "execution_count": 353,
   "id": "loved-trace",
   "metadata": {},
   "outputs": [],
   "source": [
    "video_id = 'VID_20210227_133440_0'\n",
    "\n",
    "data_root = \"/usr/users/agecker/datasets/macaque_videos/\"\n",
    "\n",
    "path_o = data_root + video_id + \"/obj_train_data/\"\n",
    "\n",
    "frame_list = os.listdir(path_o)\n",
    "frame_list.sort()"
   ]
  },
  {
   "cell_type": "code",
   "execution_count": 354,
   "id": "sophisticated-grade",
   "metadata": {},
   "outputs": [
    {
     "name": "stdout",
     "output_type": "stream",
     "text": [
      "361\n"
     ]
    }
   ],
   "source": [
    "regex = re.compile('.*txt')\n",
    "frame_list = [i for i in frame_list if regex.match(i)]\n",
    "print(len(frame_list))"
   ]
  },
  {
   "cell_type": "code",
   "execution_count": 343,
   "id": "middle-reform",
   "metadata": {},
   "outputs": [
    {
     "name": "stdout",
     "output_type": "stream",
     "text": [
      "mkdir: cannot create directory ‘/usr/users/agecker/datasets/macaque_videos/VID_20210228_153846_0/labels_with_ids/’: File exists\n"
     ]
    }
   ],
   "source": [
    "\n",
    "!mkdir /usr/users/agecker/datasets/macaque_videos/VID_20210228_153846_0/labels_with_ids/"
   ]
  },
  {
   "cell_type": "code",
   "execution_count": 356,
   "id": "concrete-diabetes",
   "metadata": {},
   "outputs": [],
   "source": [
    "!mkdir /usr/users/agecker/datasets/macaque_videos/VID_20210227_133440_0/images/"
   ]
  },
  {
   "cell_type": "code",
   "execution_count": 357,
   "id": "confident-ability",
   "metadata": {},
   "outputs": [],
   "source": [
    "for frame_id in frame_list:\n",
    "    text = pd.read_csv(path_o + frame_id, names = [1,2,3,4,5], sep = \" \")\n",
    "    text.insert(0, \"z\", np.zeros(len(text)))\n",
    "    text.z = text.z.astype(int)\n",
    "    text.to_csv(data_root + video_id + \"/labels_with_ids/\" + frame_id,\n",
    "                 sep=' ', index=False, header = False)"
   ]
  },
  {
   "cell_type": "markdown",
   "id": "subtle-captain",
   "metadata": {},
   "source": [
    "## Videos to frames"
   ]
  },
  {
   "cell_type": "code",
   "execution_count": 358,
   "id": "extensive-bulletin",
   "metadata": {},
   "outputs": [],
   "source": [
    "import cv2\n",
    "import sys\n",
    "#sys.path"
   ]
  },
  {
   "cell_type": "code",
   "execution_count": 359,
   "id": "quick-efficiency",
   "metadata": {},
   "outputs": [
    {
     "name": "stdout",
     "output_type": "stream",
     "text": [
      "Frame count: 361\n"
     ]
    }
   ],
   "source": [
    "path = \"/usr/users/agecker/datasets/macaque_videos/\"\n",
    "cap = cv2.VideoCapture(path + \"Videos/\" + video_id + \".mp4\")\n",
    "\n",
    "#Total number of frames\n",
    "frame_count = int(cap.get(cv2.CAP_PROP_FRAME_COUNT))\n",
    "print('Frame count:', frame_count)\n",
    "\n",
    "count = 0"
   ]
  },
  {
   "cell_type": "code",
   "execution_count": 360,
   "id": "grateful-import",
   "metadata": {},
   "outputs": [
    {
     "name": "stdout",
     "output_type": "stream",
     "text": [
      "50\n",
      "100\n",
      "150\n",
      "200\n",
      "250\n",
      "300\n",
      "350\n"
     ]
    }
   ],
   "source": [
    "#%%\n",
    "\n",
    "while count < frame_count:\n",
    "    cap.set(cv2.CAP_PROP_POS_FRAMES, count)\n",
    "    success, image = cap.read()\n",
    "    cv2.imwrite(path + video_id + \"/images/frame_%s.jpg\" % str(count).zfill(6), image)     # save frame as JPEG file\n",
    "    count += 1\n",
    "    if count % 50 == 0:\n",
    "        print(count)"
   ]
  },
  {
   "cell_type": "code",
   "execution_count": null,
   "id": "iraqi-influence",
   "metadata": {},
   "outputs": [],
   "source": []
  },
  {
   "cell_type": "markdown",
   "id": "answering-temperature",
   "metadata": {},
   "source": [
    "## All files for training list - Wildmacaques"
   ]
  },
  {
   "cell_type": "code",
   "execution_count": 361,
   "id": "gorgeous-delay",
   "metadata": {},
   "outputs": [
    {
     "data": {
      "text/plain": [
       "['VID_20210223_123630_0',\n",
       " 'VID_20210227_133440_0',\n",
       " 'VID_20210224_114038_0',\n",
       " 'VID_20210224_115729_0',\n",
       " 'VID_20210223_123817_0',\n",
       " 'VID_20210228_153846_0',\n",
       " 'VID_20210224_115455_0',\n",
       " 'VID_20210223_123854_0',\n",
       " 'VID_20210227_133251_0']"
      ]
     },
     "execution_count": 361,
     "metadata": {},
     "output_type": "execute_result"
    }
   ],
   "source": [
    "path = \"/usr/users/agecker/datasets/macaque_videos/\"\n",
    "\n",
    "vids = os.listdir(path)\n",
    "\n",
    "regex = re.compile('VID_.*')\n",
    "vids = [i for i in vids if regex.match(i)]\n",
    "vids"
   ]
  },
  {
   "cell_type": "code",
   "execution_count": 362,
   "id": "affected-insertion",
   "metadata": {},
   "outputs": [],
   "source": [
    "for i, out_vid in enumerate(vids):\n",
    "    temp_vids = [x for x in vids if x != out_vid]\n",
    "    \n",
    "    for vid in temp_vids:\n",
    "        img_ids = os.listdir(path + vid + \"/images\")\n",
    "\n",
    "\n",
    "        label_fpath = \"/usr/users/vogg/FairMOT/src/data/wildmacaques\" + str(i) + \".train\"\n",
    "        regex = re.compile(\"frame.*\")\n",
    "        for img_id in sorted(img_ids):\n",
    "\n",
    "            if regex.match(img_id):\n",
    "                label_str =  \"macaque_videos/\" + vid + \"/images/\" + img_id + \"\\n\"\n",
    "\n",
    "                with open(label_fpath, 'a') as f:\n",
    "                    f.write(label_str)"
   ]
  },
  {
   "cell_type": "markdown",
   "id": "hearing-director",
   "metadata": {},
   "source": [
    "## Make files for training list images"
   ]
  },
  {
   "cell_type": "code",
   "execution_count": 272,
   "id": "following-editor",
   "metadata": {},
   "outputs": [],
   "source": [
    "for img_id in img_list:\n",
    "    label_fpath = \"/usr/users/vogg/FairMOT/src/data/baboons.train\"\n",
    "\n",
    "    label_str =  \"Baboons/images/\" + img_id + \"\\n\"\n",
    "\n",
    "    with open(label_fpath, 'a') as f:\n",
    "        f.write(label_str)"
   ]
  },
  {
   "cell_type": "code",
   "execution_count": null,
   "id": "associate-madagascar",
   "metadata": {},
   "outputs": [],
   "source": [
    "# my verion\n",
    "for i, img in enumerate(img_list):\n",
    "    train_labl_fpath = '/media/gwdg_home/Data/Monkey/02_VoTT/lab.train'\n",
    "    val_labl_fpath = '/media/gwdg_home/Data/Monkey/02_VoTT/lab.val'\n",
    "    if i % 10 == 0:\n",
    "        with open(val_labl_fpath, 'a') as f:\n",
    "            f.write(str(img) + '\\n')\n",
    "    else:\n",
    "        with open(train_labl_fpath, 'a') as f:\n",
    "            f.write(str(img) + '\\n')\n"
   ]
  }
 ],
 "metadata": {
  "kernelspec": {
   "display_name": "Python 3.8.12 ('mcmot')",
   "language": "python",
   "name": "python3"
  },
  "language_info": {
   "codemirror_mode": {
    "name": "ipython",
    "version": 3
   },
   "file_extension": ".py",
   "mimetype": "text/x-python",
   "name": "python",
   "nbconvert_exporter": "python",
   "pygments_lexer": "ipython3",
   "version": "3.8.10"
  },
  "vscode": {
   "interpreter": {
    "hash": "39eb24884a20efbe92a33a7cb5a30cfdbf07e4ee47e10a659e4e13f995e930ee"
   }
  }
 },
 "nbformat": 4,
 "nbformat_minor": 5
}
