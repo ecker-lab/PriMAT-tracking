{
 "cells": [
  {
   "cell_type": "code",
   "execution_count": 1,
   "metadata": {},
   "outputs": [],
   "source": [
    "import cv2\n",
    "from pathlib import Path\n",
    "import os\n"
   ]
  },
  {
   "cell_type": "code",
   "execution_count": 2,
   "metadata": {},
   "outputs": [],
   "source": [
    "p = Path('../src/data/lab.val')\n",
    "out_p = Path('../src/data/lab_pose.val')\n",
    "if not out_p.is_file():\n",
    "    out_p.touch()\n",
    "out = out_p.open(\"a\")"
   ]
  },
  {
   "cell_type": "code",
   "execution_count": 3,
   "metadata": {},
   "outputs": [
    {
     "name": "stdout",
     "output_type": "stream",
     "text": [
      "stopped after:  65\n",
      "stopped after:  66\n"
     ]
    },
    {
     "ename": "KeyboardInterrupt",
     "evalue": "",
     "output_type": "error",
     "traceback": [
      "\u001b[0;31m---------------------------------------------------------------------------\u001b[0m",
      "\u001b[0;31mKeyboardInterrupt\u001b[0m                         Traceback (most recent call last)",
      "\u001b[1;32m/home/matthias/monkey/MC-FairMOT_mt/own_ideas/pose_labeling.ipynb Cell 3'\u001b[0m in \u001b[0;36m<cell line: 2>\u001b[0;34m()\u001b[0m\n\u001b[1;32m      <a href='vscode-notebook-cell://ssh-remote%2Bfrankfurt_vis/home/matthias/monkey/MC-FairMOT_mt/own_ideas/pose_labeling.ipynb#ch0000002vscode-remote?line=7'>8</a>\u001b[0m \u001b[39mwhile\u001b[39;00m(\u001b[39m1\u001b[39m):\n\u001b[1;32m      <a href='vscode-notebook-cell://ssh-remote%2Bfrankfurt_vis/home/matthias/monkey/MC-FairMOT_mt/own_ideas/pose_labeling.ipynb#ch0000002vscode-remote?line=8'>9</a>\u001b[0m     cv2\u001b[39m.\u001b[39mimshow(\u001b[39m'\u001b[39m\u001b[39mImage Pose?\u001b[39m\u001b[39m'\u001b[39m, img)\n\u001b[0;32m---> <a href='vscode-notebook-cell://ssh-remote%2Bfrankfurt_vis/home/matthias/monkey/MC-FairMOT_mt/own_ideas/pose_labeling.ipynb#ch0000002vscode-remote?line=9'>10</a>\u001b[0m     k \u001b[39m=\u001b[39m cv2\u001b[39m.\u001b[39;49mwaitKey(\u001b[39m33\u001b[39;49m)\n\u001b[1;32m     <a href='vscode-notebook-cell://ssh-remote%2Bfrankfurt_vis/home/matthias/monkey/MC-FairMOT_mt/own_ideas/pose_labeling.ipynb#ch0000002vscode-remote?line=10'>11</a>\u001b[0m     \u001b[39mif\u001b[39;00m k\u001b[39m==\u001b[39m\u001b[39m27\u001b[39m:    \u001b[39m# Esc key to stop\u001b[39;00m\n\u001b[1;32m     <a href='vscode-notebook-cell://ssh-remote%2Bfrankfurt_vis/home/matthias/monkey/MC-FairMOT_mt/own_ideas/pose_labeling.ipynb#ch0000002vscode-remote?line=11'>12</a>\u001b[0m         \u001b[39mprint\u001b[39m(\u001b[39m'\u001b[39m\u001b[39mstopped after: \u001b[39m\u001b[39m'\u001b[39m, \u001b[39mstr\u001b[39m(i))\n",
      "\u001b[0;31mKeyboardInterrupt\u001b[0m: "
     ]
    },
    {
     "ename": "",
     "evalue": "",
     "output_type": "error",
     "traceback": [
      "\u001b[1;31mThe Kernel crashed while executing code in the the current cell or a previous cell. Please review the code in the cell(s) to identify a possible cause of the failure. Click <a href='https://aka.ms/vscodeJupyterKernelCrash'>here</a> for more info. View Jupyter <a href='command:jupyter.viewOutput'>log</a> for further details."
     ]
    }
   ],
   "source": [
    "i = 50\n",
    "with p.open('r') as f:\n",
    "    for j, img in enumerate([x.rstrip() for x in f.readlines()]):\n",
    "        if j < i:\n",
    "            continue\n",
    "\n",
    "        img = cv2.imread(img)\n",
    "        while(1):\n",
    "            cv2.imshow('Image Pose?', img)\n",
    "            k = cv2.waitKey(33)\n",
    "            if k==27:    # Esc key to stop\n",
    "                print('stopped after: ', str(i))\n",
    "                exit()\n",
    "            elif k==-1:  # normally -1 returned,so don't print it\n",
    "                continue\n",
    "            elif k>=ord('1') and k<=ord('5'):\n",
    "                out.write(chr(k-1)+'\\n')\n",
    "                break\n",
    "        i += 1\n"
   ]
  },
  {
   "cell_type": "code",
   "execution_count": null,
   "metadata": {},
   "outputs": [],
   "source": []
  }
 ],
 "metadata": {
  "interpreter": {
   "hash": "39eb24884a20efbe92a33a7cb5a30cfdbf07e4ee47e10a659e4e13f995e930ee"
  },
  "kernelspec": {
   "display_name": "Python 3.8.12 ('mcmot')",
   "language": "python",
   "name": "python3"
  },
  "language_info": {
   "codemirror_mode": {
    "name": "ipython",
    "version": 3
   },
   "file_extension": ".py",
   "mimetype": "text/x-python",
   "name": "python",
   "nbconvert_exporter": "python",
   "pygments_lexer": "ipython3",
   "version": "3.8.12"
  },
  "orig_nbformat": 4
 },
 "nbformat": 4,
 "nbformat_minor": 2
}
