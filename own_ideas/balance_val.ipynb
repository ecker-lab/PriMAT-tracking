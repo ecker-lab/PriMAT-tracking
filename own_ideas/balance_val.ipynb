{
 "cells": [
  {
   "cell_type": "code",
   "execution_count": 1,
   "metadata": {},
   "outputs": [],
   "source": [
    "import cv2\n",
    "from pathlib import Path\n",
    "import os\n",
    "import pandas as pd\n",
    "import numpy as np\n",
    "\n",
    "pd.set_option('display.max_rows',None)\n"
   ]
  },
  {
   "cell_type": "code",
   "execution_count": 2,
   "metadata": {},
   "outputs": [
    {
     "name": "stdout",
     "output_type": "stream",
     "text": [
      "   a  b\n",
      "0  0  0\n",
      "1  1  1\n",
      "2  2  2\n",
      "3  3  3\n",
      "4  4  4\n",
      "5  5  5\n",
      "6  6  6\n",
      "7  7  7\n",
      "8  8  8\n",
      "9  9  9\n"
     ]
    }
   ],
   "source": [
    "df = pd.DataFrame(columns=['a', 'b'])\n",
    "for i, j in zip(range(10), range(10)):\n",
    "    x = [i, j]\n",
    "    df.loc[len(df.index)] = x\n",
    "print(df)"
   ]
  },
  {
   "cell_type": "code",
   "execution_count": 3,
   "metadata": {},
   "outputs": [
    {
     "data": {
      "text/plain": [
       "a    0\n",
       "b    0\n",
       "Name: 0, dtype: int64"
      ]
     },
     "execution_count": 3,
     "metadata": {},
     "output_type": "execute_result"
    }
   ],
   "source": [
    "df.loc[0]"
   ]
  },
  {
   "cell_type": "code",
   "execution_count": 4,
   "metadata": {},
   "outputs": [
    {
     "data": {
      "text/plain": [
       "a    0\n",
       "b    0\n",
       "Name: 0, dtype: int64"
      ]
     },
     "execution_count": 4,
     "metadata": {},
     "output_type": "execute_result"
    }
   ],
   "source": [
    "df.iloc[0]"
   ]
  },
  {
   "cell_type": "code",
   "execution_count": 6,
   "metadata": {},
   "outputs": [
    {
     "data": {
      "text/plain": [
       "0    0\n",
       "1    1\n",
       "2    2\n",
       "3    3\n",
       "4    4\n",
       "5    5\n",
       "6    6\n",
       "7    7\n",
       "8    8\n",
       "9    9\n",
       "Name: a, dtype: int64"
      ]
     },
     "execution_count": 6,
     "metadata": {},
     "output_type": "execute_result"
    }
   ],
   "source": [
    "df['a']"
   ]
  },
  {
   "cell_type": "code",
   "execution_count": 8,
   "metadata": {},
   "outputs": [
    {
     "data": {
      "text/html": [
       "<div>\n",
       "<style scoped>\n",
       "    .dataframe tbody tr th:only-of-type {\n",
       "        vertical-align: middle;\n",
       "    }\n",
       "\n",
       "    .dataframe tbody tr th {\n",
       "        vertical-align: top;\n",
       "    }\n",
       "\n",
       "    .dataframe thead th {\n",
       "        text-align: right;\n",
       "    }\n",
       "</style>\n",
       "<table border=\"1\" class=\"dataframe\">\n",
       "  <thead>\n",
       "    <tr style=\"text-align: right;\">\n",
       "      <th></th>\n",
       "      <th>a</th>\n",
       "      <th>b</th>\n",
       "    </tr>\n",
       "  </thead>\n",
       "  <tbody>\n",
       "    <tr>\n",
       "      <th>2</th>\n",
       "      <td>2</td>\n",
       "      <td>2</td>\n",
       "    </tr>\n",
       "  </tbody>\n",
       "</table>\n",
       "</div>"
      ],
      "text/plain": [
       "   a  b\n",
       "2  2  2"
      ]
     },
     "execution_count": 8,
     "metadata": {},
     "output_type": "execute_result"
    }
   ],
   "source": [
    "df.loc[df['a'] == 2]"
   ]
  },
  {
   "cell_type": "code",
   "execution_count": 9,
   "metadata": {},
   "outputs": [
    {
     "ename": "ValueError",
     "evalue": "Array conditional must be same shape as self",
     "output_type": "error",
     "traceback": [
      "\u001b[0;31m---------------------------------------------------------------------------\u001b[0m",
      "\u001b[0;31mValueError\u001b[0m                                Traceback (most recent call last)",
      "\u001b[1;32m/home/matthias/monkey/MC-FairMOT_mt/own_ideas/balance_val.ipynb Cell 7\u001b[0m in \u001b[0;36m<cell line: 1>\u001b[0;34m()\u001b[0m\n\u001b[0;32m----> <a href='vscode-notebook-cell://ssh-remote%2Bfrankfurt_vis/home/matthias/monkey/MC-FairMOT_mt/own_ideas/balance_val.ipynb#ch0000013vscode-remote?line=0'>1</a>\u001b[0m df\u001b[39m.\u001b[39;49mwhere(\u001b[39m'\u001b[39;49m\u001b[39ma\u001b[39;49m\u001b[39m'\u001b[39;49m \u001b[39m==\u001b[39;49m \u001b[39m2\u001b[39;49m)\n",
      "File \u001b[0;32m~/miniconda3/envs/mcmot/lib/python3.8/site-packages/pandas/util/_decorators.py:311\u001b[0m, in \u001b[0;36mdeprecate_nonkeyword_arguments.<locals>.decorate.<locals>.wrapper\u001b[0;34m(*args, **kwargs)\u001b[0m\n\u001b[1;32m    305\u001b[0m \u001b[39mif\u001b[39;00m \u001b[39mlen\u001b[39m(args) \u001b[39m>\u001b[39m num_allow_args:\n\u001b[1;32m    306\u001b[0m     warnings\u001b[39m.\u001b[39mwarn(\n\u001b[1;32m    307\u001b[0m         msg\u001b[39m.\u001b[39mformat(arguments\u001b[39m=\u001b[39marguments),\n\u001b[1;32m    308\u001b[0m         \u001b[39mFutureWarning\u001b[39;00m,\n\u001b[1;32m    309\u001b[0m         stacklevel\u001b[39m=\u001b[39mstacklevel,\n\u001b[1;32m    310\u001b[0m     )\n\u001b[0;32m--> 311\u001b[0m \u001b[39mreturn\u001b[39;00m func(\u001b[39m*\u001b[39;49margs, \u001b[39m*\u001b[39;49m\u001b[39m*\u001b[39;49mkwargs)\n",
      "File \u001b[0;32m~/miniconda3/envs/mcmot/lib/python3.8/site-packages/pandas/core/frame.py:10961\u001b[0m, in \u001b[0;36mDataFrame.where\u001b[0;34m(self, cond, other, inplace, axis, level, errors, try_cast)\u001b[0m\n\u001b[1;32m  10948\u001b[0m \u001b[39m@deprecate_nonkeyword_arguments\u001b[39m(\n\u001b[1;32m  10949\u001b[0m     version\u001b[39m=\u001b[39m\u001b[39mNone\u001b[39;00m, allowed_args\u001b[39m=\u001b[39m[\u001b[39m\"\u001b[39m\u001b[39mself\u001b[39m\u001b[39m\"\u001b[39m, \u001b[39m\"\u001b[39m\u001b[39mcond\u001b[39m\u001b[39m\"\u001b[39m, \u001b[39m\"\u001b[39m\u001b[39mother\u001b[39m\u001b[39m\"\u001b[39m]\n\u001b[1;32m  10950\u001b[0m )\n\u001b[0;32m   (...)\u001b[0m\n\u001b[1;32m  10959\u001b[0m     try_cast\u001b[39m=\u001b[39mlib\u001b[39m.\u001b[39mno_default,\n\u001b[1;32m  10960\u001b[0m ):\n\u001b[0;32m> 10961\u001b[0m     \u001b[39mreturn\u001b[39;00m \u001b[39msuper\u001b[39;49m()\u001b[39m.\u001b[39;49mwhere(cond, other, inplace, axis, level, errors, try_cast)\n",
      "File \u001b[0;32m~/miniconda3/envs/mcmot/lib/python3.8/site-packages/pandas/core/generic.py:9310\u001b[0m, in \u001b[0;36mNDFrame.where\u001b[0;34m(self, cond, other, inplace, axis, level, errors, try_cast)\u001b[0m\n\u001b[1;32m   9302\u001b[0m \u001b[39mif\u001b[39;00m try_cast \u001b[39mis\u001b[39;00m \u001b[39mnot\u001b[39;00m lib\u001b[39m.\u001b[39mno_default:\n\u001b[1;32m   9303\u001b[0m     warnings\u001b[39m.\u001b[39mwarn(\n\u001b[1;32m   9304\u001b[0m         \u001b[39m\"\u001b[39m\u001b[39mtry_cast keyword is deprecated and will be removed in a \u001b[39m\u001b[39m\"\u001b[39m\n\u001b[1;32m   9305\u001b[0m         \u001b[39m\"\u001b[39m\u001b[39mfuture version.\u001b[39m\u001b[39m\"\u001b[39m,\n\u001b[1;32m   9306\u001b[0m         \u001b[39mFutureWarning\u001b[39;00m,\n\u001b[1;32m   9307\u001b[0m         stacklevel\u001b[39m=\u001b[39mfind_stack_level(),\n\u001b[1;32m   9308\u001b[0m     )\n\u001b[0;32m-> 9310\u001b[0m \u001b[39mreturn\u001b[39;00m \u001b[39mself\u001b[39;49m\u001b[39m.\u001b[39;49m_where(cond, other, inplace, axis, level, errors\u001b[39m=\u001b[39;49merrors)\n",
      "File \u001b[0;32m~/miniconda3/envs/mcmot/lib/python3.8/site-packages/pandas/core/generic.py:9054\u001b[0m, in \u001b[0;36mNDFrame._where\u001b[0;34m(self, cond, other, inplace, axis, level, errors)\u001b[0m\n\u001b[1;32m   9052\u001b[0m         cond \u001b[39m=\u001b[39m np\u001b[39m.\u001b[39masanyarray(cond)\n\u001b[1;32m   9053\u001b[0m     \u001b[39mif\u001b[39;00m cond\u001b[39m.\u001b[39mshape \u001b[39m!=\u001b[39m \u001b[39mself\u001b[39m\u001b[39m.\u001b[39mshape:\n\u001b[0;32m-> 9054\u001b[0m         \u001b[39mraise\u001b[39;00m \u001b[39mValueError\u001b[39;00m(\u001b[39m\"\u001b[39m\u001b[39mArray conditional must be same shape as self\u001b[39m\u001b[39m\"\u001b[39m)\n\u001b[1;32m   9055\u001b[0m     cond \u001b[39m=\u001b[39m \u001b[39mself\u001b[39m\u001b[39m.\u001b[39m_constructor(cond, \u001b[39m*\u001b[39m\u001b[39m*\u001b[39m\u001b[39mself\u001b[39m\u001b[39m.\u001b[39m_construct_axes_dict())\n\u001b[1;32m   9057\u001b[0m \u001b[39m# make sure we are boolean\u001b[39;00m\n",
      "\u001b[0;31mValueError\u001b[0m: Array conditional must be same shape as self"
     ]
    }
   ],
   "source": [
    "df.where('a' == 2)"
   ]
  },
  {
   "cell_type": "code",
   "execution_count": 8,
   "metadata": {},
   "outputs": [
    {
     "data": {
      "text/plain": [
       "array(['cam19415032', 'cam19415037', 'cam21013369', 'cam19415034',\n",
       "       'cam19415039'], dtype=object)"
      ]
     },
     "execution_count": 8,
     "metadata": {},
     "output_type": "execute_result"
    }
   ],
   "source": [
    "p_img_file = Path('../src/data/explorationroom_largest.val')\n",
    "p_pose_file = Path('../src/data/explorationroom_largest-pose.val')\n",
    "\n",
    "df = pd.DataFrame({'file_position':pd.Series(dtype='int'), 'monkey':pd.Series(dtype='str'), 'recording':pd.Series(dtype='str'), 'camera':pd.Series(dtype='str'), 'frame':pd.Series(dtype='int'), 'pose':pd.Series(dtype='int')})\n",
    "\n",
    "with p_img_file.open('r') as img_f:\n",
    "    with p_pose_file.open('r') as pose_f:\n",
    "        for i, (img_path, pose) in enumerate(zip([x.rstrip() for x in img_f.readlines()], [x.rstrip() for x in pose_f.readlines()])):\n",
    "            # print(i, img, pose)\n",
    "            p_img = Path(img_path)\n",
    "            img_n = p_img.stem\n",
    "            # following does not work! border case: recordings including \"M1-2\" in name. M1-2 is appended to recording name by \"_\", in that case it's part of the name...\n",
    "            # vals = img_n.split(sep='_')\n",
    "            vals = [i, img_n[0:3], img_n[4:img_n.find('cam')-1], *img_n.split(sep='_')[-2:], pose]\n",
    "            # contains: [name, recording, camera, frame]\n",
    "            df.loc[len(df.index)] = vals\n",
    "            \n",
    "# print(df)\n",
    "df.camera.unique()\n",
    "df['camera'].unique()"
   ]
  },
  {
   "cell_type": "code",
   "execution_count": 34,
   "metadata": {},
   "outputs": [
    {
     "data": {
      "text/html": [
       "<div>\n",
       "<style scoped>\n",
       "    .dataframe tbody tr th:only-of-type {\n",
       "        vertical-align: middle;\n",
       "    }\n",
       "\n",
       "    .dataframe tbody tr th {\n",
       "        vertical-align: top;\n",
       "    }\n",
       "\n",
       "    .dataframe thead th {\n",
       "        text-align: right;\n",
       "    }\n",
       "</style>\n",
       "<table border=\"1\" class=\"dataframe\">\n",
       "  <thead>\n",
       "    <tr style=\"text-align: right;\">\n",
       "      <th></th>\n",
       "      <th>monkey</th>\n",
       "      <th>recording</th>\n",
       "      <th>camera</th>\n",
       "      <th>frame</th>\n",
       "      <th>pose</th>\n",
       "    </tr>\n",
       "  </thead>\n",
       "  <tbody>\n",
       "    <tr>\n",
       "      <th>127</th>\n",
       "      <td>hum</td>\n",
       "      <td>20092021_M1-1</td>\n",
       "      <td>cam19415032</td>\n",
       "      <td>9730</td>\n",
       "      <td>0</td>\n",
       "    </tr>\n",
       "    <tr>\n",
       "      <th>244</th>\n",
       "      <td>hum</td>\n",
       "      <td>20092021_M1-1</td>\n",
       "      <td>cam19415032</td>\n",
       "      <td>42175</td>\n",
       "      <td>0</td>\n",
       "    </tr>\n",
       "    <tr>\n",
       "      <th>897</th>\n",
       "      <td>hum</td>\n",
       "      <td>20092021_M1-1</td>\n",
       "      <td>cam19415032</td>\n",
       "      <td>8225</td>\n",
       "      <td>0</td>\n",
       "    </tr>\n",
       "    <tr>\n",
       "      <th>1036</th>\n",
       "      <td>hum</td>\n",
       "      <td>20092021_M1-1</td>\n",
       "      <td>cam19415032</td>\n",
       "      <td>64820</td>\n",
       "      <td>0</td>\n",
       "    </tr>\n",
       "    <tr>\n",
       "      <th>1622</th>\n",
       "      <td>hum</td>\n",
       "      <td>20092021_M1-1</td>\n",
       "      <td>cam19415032</td>\n",
       "      <td>19425</td>\n",
       "      <td>0</td>\n",
       "    </tr>\n",
       "    <tr>\n",
       "      <th>...</th>\n",
       "      <td>...</td>\n",
       "      <td>...</td>\n",
       "      <td>...</td>\n",
       "      <td>...</td>\n",
       "      <td>...</td>\n",
       "    </tr>\n",
       "    <tr>\n",
       "      <th>1859</th>\n",
       "      <td>luk</td>\n",
       "      <td>27082021_PRR-1</td>\n",
       "      <td>cam21013369</td>\n",
       "      <td>38535</td>\n",
       "      <td>3</td>\n",
       "    </tr>\n",
       "    <tr>\n",
       "      <th>292</th>\n",
       "      <td>luk</td>\n",
       "      <td>27082021_PRR-1</td>\n",
       "      <td>cam21013369</td>\n",
       "      <td>45395</td>\n",
       "      <td>4</td>\n",
       "    </tr>\n",
       "    <tr>\n",
       "      <th>698</th>\n",
       "      <td>luk</td>\n",
       "      <td>27082021_PRR-1</td>\n",
       "      <td>cam21013369</td>\n",
       "      <td>385</td>\n",
       "      <td>4</td>\n",
       "    </tr>\n",
       "    <tr>\n",
       "      <th>946</th>\n",
       "      <td>luk</td>\n",
       "      <td>27082021_PRR-1</td>\n",
       "      <td>cam21013369</td>\n",
       "      <td>45850</td>\n",
       "      <td>4</td>\n",
       "    </tr>\n",
       "    <tr>\n",
       "      <th>2441</th>\n",
       "      <td>luk</td>\n",
       "      <td>27082021_PRR-1</td>\n",
       "      <td>cam21013369</td>\n",
       "      <td>46270</td>\n",
       "      <td>4</td>\n",
       "    </tr>\n",
       "  </tbody>\n",
       "</table>\n",
       "<p>2993 rows × 5 columns</p>\n",
       "</div>"
      ],
      "text/plain": [
       "     monkey       recording       camera  frame pose\n",
       "127     hum   20092021_M1-1  cam19415032   9730    0\n",
       "244     hum   20092021_M1-1  cam19415032  42175    0\n",
       "897     hum   20092021_M1-1  cam19415032   8225    0\n",
       "1036    hum   20092021_M1-1  cam19415032  64820    0\n",
       "1622    hum   20092021_M1-1  cam19415032  19425    0\n",
       "...     ...             ...          ...    ...  ...\n",
       "1859    luk  27082021_PRR-1  cam21013369  38535    3\n",
       "292     luk  27082021_PRR-1  cam21013369  45395    4\n",
       "698     luk  27082021_PRR-1  cam21013369    385    4\n",
       "946     luk  27082021_PRR-1  cam21013369  45850    4\n",
       "2441    luk  27082021_PRR-1  cam21013369  46270    4\n",
       "\n",
       "[2993 rows x 5 columns]"
      ]
     },
     "execution_count": 34,
     "metadata": {},
     "output_type": "execute_result"
    }
   ],
   "source": [
    "df.sort_values(by=['monkey', 'recording', 'camera', 'pose'], inplace=True)\n",
    "df"
   ]
  },
  {
   "cell_type": "code",
   "execution_count": 36,
   "metadata": {},
   "outputs": [
    {
     "data": {
      "text/html": [
       "<div>\n",
       "<style scoped>\n",
       "    .dataframe tbody tr th:only-of-type {\n",
       "        vertical-align: middle;\n",
       "    }\n",
       "\n",
       "    .dataframe tbody tr th {\n",
       "        vertical-align: top;\n",
       "    }\n",
       "\n",
       "    .dataframe thead th {\n",
       "        text-align: right;\n",
       "    }\n",
       "</style>\n",
       "<table border=\"1\" class=\"dataframe\">\n",
       "  <thead>\n",
       "    <tr style=\"text-align: right;\">\n",
       "      <th></th>\n",
       "      <th></th>\n",
       "      <th></th>\n",
       "      <th></th>\n",
       "      <th>frame</th>\n",
       "    </tr>\n",
       "    <tr>\n",
       "      <th>monkey</th>\n",
       "      <th>recording</th>\n",
       "      <th>camera</th>\n",
       "      <th>pose</th>\n",
       "      <th></th>\n",
       "    </tr>\n",
       "  </thead>\n",
       "  <tbody>\n",
       "    <tr>\n",
       "      <th rowspan=\"5\" valign=\"top\">hum</th>\n",
       "      <th rowspan=\"5\" valign=\"top\">20092021_M1-1</th>\n",
       "      <th rowspan=\"5\" valign=\"top\">cam19415032</th>\n",
       "      <th>0</th>\n",
       "      <td>8</td>\n",
       "    </tr>\n",
       "    <tr>\n",
       "      <th>1</th>\n",
       "      <td>8</td>\n",
       "    </tr>\n",
       "    <tr>\n",
       "      <th>2</th>\n",
       "      <td>4</td>\n",
       "    </tr>\n",
       "    <tr>\n",
       "      <th>3</th>\n",
       "      <td>6</td>\n",
       "    </tr>\n",
       "    <tr>\n",
       "      <th>4</th>\n",
       "      <td>4</td>\n",
       "    </tr>\n",
       "    <tr>\n",
       "      <th>...</th>\n",
       "      <th>...</th>\n",
       "      <th>...</th>\n",
       "      <th>...</th>\n",
       "      <td>...</td>\n",
       "    </tr>\n",
       "    <tr>\n",
       "      <th rowspan=\"5\" valign=\"top\">luk</th>\n",
       "      <th rowspan=\"5\" valign=\"top\">27082021_PRR-1</th>\n",
       "      <th rowspan=\"5\" valign=\"top\">cam21013369</th>\n",
       "      <th>0</th>\n",
       "      <td>4</td>\n",
       "    </tr>\n",
       "    <tr>\n",
       "      <th>1</th>\n",
       "      <td>16</td>\n",
       "    </tr>\n",
       "    <tr>\n",
       "      <th>2</th>\n",
       "      <td>1</td>\n",
       "    </tr>\n",
       "    <tr>\n",
       "      <th>3</th>\n",
       "      <td>5</td>\n",
       "    </tr>\n",
       "    <tr>\n",
       "      <th>4</th>\n",
       "      <td>4</td>\n",
       "    </tr>\n",
       "  </tbody>\n",
       "</table>\n",
       "<p>477 rows × 1 columns</p>\n",
       "</div>"
      ],
      "text/plain": [
       "                                        frame\n",
       "monkey recording      camera      pose       \n",
       "hum    20092021_M1-1  cam19415032 0         8\n",
       "                                  1         8\n",
       "                                  2         4\n",
       "                                  3         6\n",
       "                                  4         4\n",
       "...                                       ...\n",
       "luk    27082021_PRR-1 cam21013369 0         4\n",
       "                                  1        16\n",
       "                                  2         1\n",
       "                                  3         5\n",
       "                                  4         4\n",
       "\n",
       "[477 rows x 1 columns]"
      ]
     },
     "execution_count": 36,
     "metadata": {},
     "output_type": "execute_result"
    }
   ],
   "source": [
    "df.groupby(by=['monkey', 'recording', 'camera', 'pose']).count()"
   ]
  },
  {
   "cell_type": "code",
   "execution_count": 45,
   "metadata": {},
   "outputs": [
    {
     "name": "stdout",
     "output_type": "stream",
     "text": [
      "monkey  camera       pose\n",
      "hum     cam19415032  0        32\n",
      "                     1        63\n",
      "                     2        15\n",
      "                     3        33\n",
      "                     4        37\n",
      "        cam19415034  0        32\n",
      "                     1        55\n",
      "                     2         9\n",
      "                     3        31\n",
      "                     4        53\n",
      "        cam19415037  0        22\n",
      "                     1        66\n",
      "                     2        11\n",
      "                     3        33\n",
      "                     4        48\n",
      "        cam19415039  0        22\n",
      "                     1        50\n",
      "                     2         8\n",
      "                     3        43\n",
      "                     4        57\n",
      "        cam21013369  0        35\n",
      "                     1        67\n",
      "                     2        11\n",
      "                     3        35\n",
      "                     4        32\n",
      "ken     cam19415032  0        56\n",
      "                     1        76\n",
      "                     2         5\n",
      "                     3         9\n",
      "                     4        33\n",
      "        cam19415034  0        49\n",
      "                     1        67\n",
      "                     2         5\n",
      "                     3        15\n",
      "                     4        43\n",
      "        cam19415037  0        46\n",
      "                     1        50\n",
      "                     2         6\n",
      "                     3         7\n",
      "                     4        70\n",
      "        cam19415039  0        55\n",
      "                     1        69\n",
      "                     2        10\n",
      "                     3        13\n",
      "                     4        31\n",
      "        cam21013369  0        57\n",
      "                     1        70\n",
      "                     2         8\n",
      "                     3        10\n",
      "                     4        33\n",
      "luk     cam19415032  0        58\n",
      "                     1        93\n",
      "                     2        25\n",
      "                     3        62\n",
      "                     4        62\n",
      "        cam19415034  0        38\n",
      "                     1       151\n",
      "                     2        20\n",
      "                     3        46\n",
      "                     4        45\n",
      "        cam19415039  0        47\n",
      "                     1       128\n",
      "                     2        23\n",
      "                     3        49\n",
      "                     4        53\n",
      "        cam21013369  0        45\n",
      "                     1       166\n",
      "                     2        16\n",
      "                     3        42\n",
      "                     4        31\n",
      "Name: frame, dtype: int64\n"
     ]
    }
   ],
   "source": [
    "print(df.groupby(by=['monkey', 'camera', 'pose'])['frame'].count())"
   ]
  },
  {
   "cell_type": "code",
   "execution_count": 15,
   "metadata": {},
   "outputs": [
    {
     "data": {
      "text/plain": [
       "monkey  recording             \n",
       "hum     20092021_M1-1             150\n",
       "        21092021_M1-1             150\n",
       "        21092021_M1-2             150\n",
       "        22092021_PMd-1_1          150\n",
       "        22092021_PMd-1_2          150\n",
       "        23092021_SMA-2            150\n",
       "ken     01112021-1                150\n",
       "        01112021-2                150\n",
       "        02112021-1                150\n",
       "        02112021-2                150\n",
       "        03112021-2                143\n",
       "        03112021-3                150\n",
       "luk     24082021_M1-2             120\n",
       "        24082021_PMd-2            120\n",
       "        24082021_PRR-1            120\n",
       "        25082021_M1-2             120\n",
       "        25082021_M1-2_standing    120\n",
       "        26082021_M1-2_1           120\n",
       "        26082021_M1-2_2           120\n",
       "        27082021_M1-1             120\n",
       "        27082021_PMd-2            120\n",
       "        27082021_PRR-1            120\n",
       "dtype: int64"
      ]
     },
     "execution_count": 15,
     "metadata": {},
     "output_type": "execute_result"
    }
   ],
   "source": [
    "df.groupby(by=['monkey', 'recording']).size()"
   ]
  },
  {
   "cell_type": "code",
   "execution_count": 16,
   "metadata": {},
   "outputs": [
    {
     "data": {
      "text/plain": [
       "monkey  recording               camera     \n",
       "hum     20092021_M1-1           cam19415032    30\n",
       "                                cam19415034    30\n",
       "                                cam19415037    30\n",
       "                                cam19415039    30\n",
       "                                cam21013369    30\n",
       "        21092021_M1-1           cam19415032    30\n",
       "                                cam19415034    30\n",
       "                                cam19415037    30\n",
       "                                cam19415039    30\n",
       "                                cam21013369    30\n",
       "        21092021_M1-2           cam19415032    30\n",
       "                                cam19415034    30\n",
       "                                cam19415037    30\n",
       "                                cam19415039    30\n",
       "                                cam21013369    30\n",
       "        22092021_PMd-1_1        cam19415032    30\n",
       "                                cam19415034    30\n",
       "                                cam19415037    30\n",
       "                                cam19415039    30\n",
       "                                cam21013369    30\n",
       "        22092021_PMd-1_2        cam19415032    30\n",
       "                                cam19415034    30\n",
       "                                cam19415037    30\n",
       "                                cam19415039    30\n",
       "                                cam21013369    30\n",
       "        23092021_SMA-2          cam19415032    30\n",
       "                                cam19415034    30\n",
       "                                cam19415037    30\n",
       "                                cam19415039    30\n",
       "                                cam21013369    30\n",
       "ken     01112021-1              cam19415032    30\n",
       "                                cam19415034    30\n",
       "                                cam19415037    30\n",
       "                                cam19415039    30\n",
       "                                cam21013369    30\n",
       "        01112021-2              cam19415032    30\n",
       "                                cam19415034    30\n",
       "                                cam19415037    30\n",
       "                                cam19415039    30\n",
       "                                cam21013369    30\n",
       "        02112021-1              cam19415032    30\n",
       "                                cam19415034    30\n",
       "                                cam19415037    30\n",
       "                                cam19415039    30\n",
       "                                cam21013369    30\n",
       "        02112021-2              cam19415032    30\n",
       "                                cam19415034    30\n",
       "                                cam19415037    30\n",
       "                                cam19415039    30\n",
       "                                cam21013369    30\n",
       "        03112021-2              cam19415032    29\n",
       "                                cam19415034    29\n",
       "                                cam19415037    29\n",
       "                                cam19415039    28\n",
       "                                cam21013369    28\n",
       "        03112021-3              cam19415032    30\n",
       "                                cam19415034    30\n",
       "                                cam19415037    30\n",
       "                                cam19415039    30\n",
       "                                cam21013369    30\n",
       "luk     24082021_M1-2           cam19415032    30\n",
       "                                cam19415034    30\n",
       "                                cam19415039    30\n",
       "                                cam21013369    30\n",
       "        24082021_PMd-2          cam19415032    30\n",
       "                                cam19415034    30\n",
       "                                cam19415039    30\n",
       "                                cam21013369    30\n",
       "        24082021_PRR-1          cam19415032    30\n",
       "                                cam19415034    30\n",
       "                                cam19415039    30\n",
       "                                cam21013369    30\n",
       "        25082021_M1-2           cam19415032    30\n",
       "                                cam19415034    30\n",
       "                                cam19415039    30\n",
       "                                cam21013369    30\n",
       "        25082021_M1-2_standing  cam19415032    30\n",
       "                                cam19415034    30\n",
       "                                cam19415039    30\n",
       "                                cam21013369    30\n",
       "        26082021_M1-2_1         cam19415032    30\n",
       "                                cam19415034    30\n",
       "                                cam19415039    30\n",
       "                                cam21013369    30\n",
       "        26082021_M1-2_2         cam19415032    30\n",
       "                                cam19415034    30\n",
       "                                cam19415039    30\n",
       "                                cam21013369    30\n",
       "        27082021_M1-1           cam19415032    30\n",
       "                                cam19415034    30\n",
       "                                cam19415039    30\n",
       "                                cam21013369    30\n",
       "        27082021_PMd-2          cam19415032    30\n",
       "                                cam19415034    30\n",
       "                                cam19415039    30\n",
       "                                cam21013369    30\n",
       "        27082021_PRR-1          cam19415032    30\n",
       "                                cam19415034    30\n",
       "                                cam19415039    30\n",
       "                                cam21013369    30\n",
       "dtype: int64"
      ]
     },
     "execution_count": 16,
     "metadata": {},
     "output_type": "execute_result"
    }
   ],
   "source": [
    "df.groupby(by=['monkey', 'recording', 'camera']).size()"
   ]
  },
  {
   "cell_type": "code",
   "execution_count": 9,
   "metadata": {},
   "outputs": [
    {
     "data": {
      "text/plain": [
       "monkey  camera     \n",
       "hum     cam19415032    180\n",
       "        cam19415034    180\n",
       "        cam19415037    180\n",
       "        cam19415039    180\n",
       "        cam21013369    180\n",
       "ken     cam19415032    179\n",
       "        cam19415034    179\n",
       "        cam19415037    179\n",
       "        cam19415039    178\n",
       "        cam21013369    178\n",
       "luk     cam19415032    300\n",
       "        cam19415034    300\n",
       "        cam19415039    300\n",
       "        cam21013369    300\n",
       "dtype: int64"
      ]
     },
     "execution_count": 9,
     "metadata": {},
     "output_type": "execute_result"
    }
   ],
   "source": [
    "df.groupby(by=['monkey', 'camera']).size()"
   ]
  },
  {
   "cell_type": "code",
   "execution_count": 46,
   "metadata": {},
   "outputs": [
    {
     "data": {
      "text/plain": [
       "monkey  camera       pose\n",
       "hum     cam19415032  0        32\n",
       "                     1        63\n",
       "                     2        15\n",
       "                     3        33\n",
       "                     4        37\n",
       "        cam19415034  0        32\n",
       "                     1        55\n",
       "                     2         9\n",
       "                     3        31\n",
       "                     4        53\n",
       "        cam19415037  0        22\n",
       "                     1        66\n",
       "                     2        11\n",
       "                     3        33\n",
       "                     4        48\n",
       "        cam19415039  0        22\n",
       "                     1        50\n",
       "                     2         8\n",
       "                     3        43\n",
       "                     4        57\n",
       "        cam21013369  0        35\n",
       "                     1        67\n",
       "                     2        11\n",
       "                     3        35\n",
       "                     4        32\n",
       "ken     cam19415032  0        56\n",
       "                     1        76\n",
       "                     2         5\n",
       "                     3         9\n",
       "                     4        33\n",
       "        cam19415034  0        49\n",
       "                     1        67\n",
       "                     2         5\n",
       "                     3        15\n",
       "                     4        43\n",
       "        cam19415037  0        46\n",
       "                     1        50\n",
       "                     2         6\n",
       "                     3         7\n",
       "                     4        70\n",
       "        cam19415039  0        55\n",
       "                     1        69\n",
       "                     2        10\n",
       "                     3        13\n",
       "                     4        31\n",
       "        cam21013369  0        57\n",
       "                     1        70\n",
       "                     2         8\n",
       "                     3        10\n",
       "                     4        33\n",
       "luk     cam19415032  0        58\n",
       "                     1        93\n",
       "                     2        25\n",
       "                     3        62\n",
       "                     4        62\n",
       "        cam19415034  0        38\n",
       "                     1       151\n",
       "                     2        20\n",
       "                     3        46\n",
       "                     4        45\n",
       "        cam19415039  0        47\n",
       "                     1       128\n",
       "                     2        23\n",
       "                     3        49\n",
       "                     4        53\n",
       "        cam21013369  0        45\n",
       "                     1       166\n",
       "                     2        16\n",
       "                     3        42\n",
       "                     4        31\n",
       "dtype: int64"
      ]
     },
     "execution_count": 46,
     "metadata": {},
     "output_type": "execute_result"
    }
   ],
   "source": [
    "df.groupby(by=['monkey', 'camera', 'pose']).size()"
   ]
  },
  {
   "cell_type": "code",
   "execution_count": 54,
   "metadata": {},
   "outputs": [],
   "source": [
    "sampled_val = df.groupby(by=['monkey', 'camera', 'pose']).sample(n=5)\n",
    "sampled_val_np = sampled_val['file_position'].values"
   ]
  },
  {
   "cell_type": "code",
   "execution_count": 59,
   "metadata": {},
   "outputs": [],
   "source": [
    "p_img_file = Path('../src/data/explorationroom_largest.val')\n",
    "p_pose_file = Path('../src/data/explorationroom_largest-pose.val')\n",
    "\n",
    "p_img_file_sampled = Path('../src/data/explorationroom_largest_sampled.val')\n",
    "p_pose_file_sampled = Path('../src/data/explorationroom_largest_sampled-pose.val')\n",
    "\n",
    "img_f = p_img_file.open('r')\n",
    "pose_f = p_pose_file.open('r')\n",
    "\n",
    "imgs = img_f.readlines()\n",
    "poses = pose_f.readlines()\n",
    "\n",
    "\n",
    "p_img_file_sampled.touch()\n",
    "p_pose_file_sampled.touch()\n",
    "img_f_out = p_img_file_sampled.open('w')\n",
    "pose_f_out = p_pose_file_sampled.open('w')\n",
    "\n",
    "for x in sampled_val_np:\n",
    "    img_f_out.write(imgs[x])\n",
    "    pose_f_out.write(poses[x])\n"
   ]
  }
 ],
 "metadata": {
  "kernelspec": {
   "display_name": "Python 3.8.12 ('mcmot')",
   "language": "python",
   "name": "python3"
  },
  "language_info": {
   "codemirror_mode": {
    "name": "ipython",
    "version": 3
   },
   "file_extension": ".py",
   "mimetype": "text/x-python",
   "name": "python",
   "nbconvert_exporter": "python",
   "pygments_lexer": "ipython3",
   "version": "3.8.10"
  },
  "orig_nbformat": 4,
  "vscode": {
   "interpreter": {
    "hash": "39eb24884a20efbe92a33a7cb5a30cfdbf07e4ee47e10a659e4e13f995e930ee"
   }
  }
 },
 "nbformat": 4,
 "nbformat_minor": 2
}
