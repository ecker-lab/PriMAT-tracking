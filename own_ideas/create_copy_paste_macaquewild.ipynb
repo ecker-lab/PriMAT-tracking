{
 "cells": [
  {
   "cell_type": "markdown",
   "id": "dressed-turtle",
   "metadata": {},
   "source": [
    "## Copy and paste monkey segmentations on other images"
   ]
  },
  {
   "cell_type": "code",
   "execution_count": 44,
   "id": "cleared-discovery",
   "metadata": {},
   "outputs": [],
   "source": [
    "import matplotlib.pyplot as plt\n",
    "import numpy as np\n",
    "from PIL import Image, ImageDraw\n",
    "from random import sample, randrange\n",
    "import pandas as pd\n",
    "import os\n",
    "import re\n",
    "import json\n",
    "import csv\n"
   ]
  },
  {
   "cell_type": "code",
   "execution_count": 4,
   "id": "competent-lexington",
   "metadata": {},
   "outputs": [],
   "source": [
    "!mkdir /local_datasets/MacaqueCopyPasteWild"
   ]
  },
  {
   "cell_type": "code",
   "execution_count": 19,
   "id": "personalized-terrorism",
   "metadata": {},
   "outputs": [],
   "source": [
    "!mkdir /local_datasets/MacaqueCopyPasteWild/images"
   ]
  },
  {
   "cell_type": "code",
   "execution_count": 45,
   "id": "complex-transport",
   "metadata": {},
   "outputs": [],
   "source": [
    "data_root = \"/local_datasets/MacaquePose/\"\n",
    "background_root = \"/usr/users/vogg/background_imgs/\"\n",
    "\n",
    "img_name_list = os.listdir(background_root)\n",
    "regex = re.compile('.*jpg')\n",
    "img_name_list = sorted([i for i in img_name_list if regex.match(i)])\n",
    "\n",
    "with open(data_root + 'annotations.csv', 'r') as fp:\n",
    "    data_annotation = list(csv.reader(fp, delimiter=','))"
   ]
  },
  {
   "cell_type": "code",
   "execution_count": 46,
   "id": "objective-namibia",
   "metadata": {},
   "outputs": [
    {
     "name": "stdout",
     "output_type": "stream",
     "text": [
      "88\n",
      "13084\n"
     ]
    }
   ],
   "source": [
    "print(len(img_name_list))\n",
    "print(len(data_annotation))"
   ]
  },
  {
   "cell_type": "code",
   "execution_count": 47,
   "id": "related-radar",
   "metadata": {},
   "outputs": [
    {
     "name": "stdout",
     "output_type": "stream",
     "text": [
      "0\n",
      "1000\n",
      "2000\n",
      "3000\n",
      "4000\n",
      "5000\n",
      "6000\n",
      "7000\n",
      "8000\n",
      "9000\n",
      "10000\n",
      "11000\n",
      "12000\n",
      "13000\n"
     ]
    }
   ],
   "source": [
    "for i in range(len(data_annotation)-1):\n",
    "\n",
    "    row = data_annotation[i+1]\n",
    "    \n",
    "    # load monkey image\n",
    "    img1 = Image.open(data_root + 'images/' + row[0])\n",
    "\n",
    "    nx, ny = img1.size\n",
    "\n",
    "    # load segmentation\n",
    "    seg_string= row[2]\n",
    "    Seg = json.loads(seg_string)\n",
    "    \n",
    "    mask = Image.new('L', (nx, ny), 0)\n",
    "\n",
    "    for i_monkey, seg in enumerate(Seg):\n",
    "        for s in seg:\n",
    "            points = s['segment']\n",
    "            path = [tuple(x) for x in points]\n",
    "            if len(path) < 3:\n",
    "                continue\n",
    "            ImageDraw.Draw(mask).polygon(path, outline=1, fill=255)\n",
    "            \n",
    "    img2 = Image.open(backgrounds_root + img_name_list[i % len(img_name_list)])\n",
    "    \n",
    "    x, y = img2.size\n",
    "    \n",
    "    x0, y0 = img1.size\n",
    "    \n",
    "    scale_factor = randrange(50, 95)/100\n",
    "    width = int(min(x * scale_factor, x0))\n",
    "    height = int(min(y * scale_factor, y0))\n",
    "    x1 = randrange(0, x - xstart)\n",
    "    y1 = randrange(0, y - ystart)\n",
    "    img3 = img2.crop((x1, y1, x1 + xstart, y1 + height)).resize(img1.size)\n",
    "    \n",
    "    im = Image.composite(img1, img3, mask)\n",
    "    \n",
    "    \n",
    "    \n",
    "    im.save(\"/local_datasets/MacaqueCopyPasteWild/images/\"+row[0])\n",
    "    \n",
    "    if i % 1000 == 0:\n",
    "        print(i)"
   ]
  },
  {
   "cell_type": "code",
   "execution_count": 76,
   "id": "tired-welding",
   "metadata": {},
   "outputs": [
    {
     "data": {
      "text/plain": [
       "0"
      ]
     },
     "execution_count": 76,
     "metadata": {},
     "output_type": "execute_result"
    }
   ],
   "source": [
    "len([])"
   ]
  },
  {
   "cell_type": "code",
   "execution_count": null,
   "id": "impaired-midnight",
   "metadata": {},
   "outputs": [],
   "source": []
  }
 ],
 "metadata": {
  "kernelspec": {
   "display_name": "Python 3",
   "language": "python",
   "name": "python3"
  },
  "language_info": {
   "codemirror_mode": {
    "name": "ipython",
    "version": 3
   },
   "file_extension": ".py",
   "mimetype": "text/x-python",
   "name": "python",
   "nbconvert_exporter": "python",
   "pygments_lexer": "ipython3",
   "version": "3.8.6"
  }
 },
 "nbformat": 4,
 "nbformat_minor": 5
}
