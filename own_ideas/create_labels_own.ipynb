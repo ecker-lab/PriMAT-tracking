{
 "cells": [
  {
   "cell_type": "code",
   "execution_count": 35,
   "id": "amber-liver",
   "metadata": {},
   "outputs": [
    {
     "data": {
      "text/plain": [
       "'/usr/users/vogg/FairMOT/own_ideas'"
      ]
     },
     "execution_count": 35,
     "metadata": {},
     "output_type": "execute_result"
    }
   ],
   "source": [
    "import numpy as np\n",
    "import pandas as pd\n",
    "import os\n",
    "import re\n",
    "import matplotlib.pyplot as plt\n",
    "from PIL import Image\n",
    "\n",
    "os.getcwd()"
   ]
  },
  {
   "cell_type": "code",
   "execution_count": 15,
   "id": "decreased-negative",
   "metadata": {},
   "outputs": [],
   "source": [
    "data_root = \"/usr/users/vogg/test/\""
   ]
  },
  {
   "cell_type": "code",
   "execution_count": 16,
   "id": "clean-model",
   "metadata": {},
   "outputs": [],
   "source": [
    "labels = pd.read_csv(data_root + \"Validation-export.csv\")"
   ]
  },
  {
   "cell_type": "code",
   "execution_count": 17,
   "id": "structured-encyclopedia",
   "metadata": {},
   "outputs": [
    {
     "data": {
      "text/html": [
       "<div>\n",
       "<style scoped>\n",
       "    .dataframe tbody tr th:only-of-type {\n",
       "        vertical-align: middle;\n",
       "    }\n",
       "\n",
       "    .dataframe tbody tr th {\n",
       "        vertical-align: top;\n",
       "    }\n",
       "\n",
       "    .dataframe thead th {\n",
       "        text-align: right;\n",
       "    }\n",
       "</style>\n",
       "<table border=\"1\" class=\"dataframe\">\n",
       "  <thead>\n",
       "    <tr style=\"text-align: right;\">\n",
       "      <th></th>\n",
       "      <th>image</th>\n",
       "      <th>xmin</th>\n",
       "      <th>ymin</th>\n",
       "      <th>xmax</th>\n",
       "      <th>ymax</th>\n",
       "      <th>label</th>\n",
       "    </tr>\n",
       "  </thead>\n",
       "  <tbody>\n",
       "    <tr>\n",
       "      <th>0</th>\n",
       "      <td>VID_20210223_123551.mp4#t=0.jpg</td>\n",
       "      <td>61.029412</td>\n",
       "      <td>10.690080</td>\n",
       "      <td>324.535604</td>\n",
       "      <td>360.552179</td>\n",
       "      <td>1</td>\n",
       "    </tr>\n",
       "    <tr>\n",
       "      <th>1</th>\n",
       "      <td>VID_20210223_123551.mp4#t=0.jpg</td>\n",
       "      <td>675.526316</td>\n",
       "      <td>662.877867</td>\n",
       "      <td>948.885449</td>\n",
       "      <td>999.061927</td>\n",
       "      <td>2</td>\n",
       "    </tr>\n",
       "    <tr>\n",
       "      <th>2</th>\n",
       "      <td>VID_20210223_123551.mp4#t=0.jpg</td>\n",
       "      <td>939.047988</td>\n",
       "      <td>774.368979</td>\n",
       "      <td>1139.520124</td>\n",
       "      <td>1075.262615</td>\n",
       "      <td>3</td>\n",
       "    </tr>\n",
       "    <tr>\n",
       "      <th>3</th>\n",
       "      <td>VID_20210223_123551.mp4#t=0.jpg</td>\n",
       "      <td>919.032508</td>\n",
       "      <td>628.144782</td>\n",
       "      <td>1068.119195</td>\n",
       "      <td>794.471904</td>\n",
       "      <td>4</td>\n",
       "    </tr>\n",
       "    <tr>\n",
       "      <th>4</th>\n",
       "      <td>VID_20210223_123551.mp4#t=0.jpg</td>\n",
       "      <td>1335.394737</td>\n",
       "      <td>204.613245</td>\n",
       "      <td>1559.976780</td>\n",
       "      <td>540.263188</td>\n",
       "      <td>5</td>\n",
       "    </tr>\n",
       "    <tr>\n",
       "      <th>...</th>\n",
       "      <td>...</td>\n",
       "      <td>...</td>\n",
       "      <td>...</td>\n",
       "      <td>...</td>\n",
       "      <td>...</td>\n",
       "      <td>...</td>\n",
       "    </tr>\n",
       "    <tr>\n",
       "      <th>908</th>\n",
       "      <td>VID_20210223_123551.mp4#t=10.333333.jpg</td>\n",
       "      <td>782.662539</td>\n",
       "      <td>642.055046</td>\n",
       "      <td>921.362229</td>\n",
       "      <td>943.266055</td>\n",
       "      <td>1</td>\n",
       "    </tr>\n",
       "    <tr>\n",
       "      <th>909</th>\n",
       "      <td>VID_20210223_123551.mp4#t=10.333333.jpg</td>\n",
       "      <td>671.702786</td>\n",
       "      <td>672.786124</td>\n",
       "      <td>899.566563</td>\n",
       "      <td>1070.091743</td>\n",
       "      <td>2</td>\n",
       "    </tr>\n",
       "    <tr>\n",
       "      <th>910</th>\n",
       "      <td>VID_20210223_123551.mp4#t=10.333333.jpg</td>\n",
       "      <td>1523.715170</td>\n",
       "      <td>430.018349</td>\n",
       "      <td>1719.876161</td>\n",
       "      <td>725.284404</td>\n",
       "      <td>3</td>\n",
       "    </tr>\n",
       "    <tr>\n",
       "      <th>911</th>\n",
       "      <td>VID_20210223_123551.mp4#t=10.333333.jpg</td>\n",
       "      <td>1278.018576</td>\n",
       "      <td>231.853211</td>\n",
       "      <td>1501.919505</td>\n",
       "      <td>529.100917</td>\n",
       "      <td>5</td>\n",
       "    </tr>\n",
       "    <tr>\n",
       "      <th>912</th>\n",
       "      <td>VID_20210223_123551.mp4#t=10.333333.jpg</td>\n",
       "      <td>885.696594</td>\n",
       "      <td>530.254300</td>\n",
       "      <td>1054.117647</td>\n",
       "      <td>854.091743</td>\n",
       "      <td>6</td>\n",
       "    </tr>\n",
       "  </tbody>\n",
       "</table>\n",
       "<p>913 rows × 6 columns</p>\n",
       "</div>"
      ],
      "text/plain": [
       "                                       image         xmin        ymin  \\\n",
       "0            VID_20210223_123551.mp4#t=0.jpg    61.029412   10.690080   \n",
       "1            VID_20210223_123551.mp4#t=0.jpg   675.526316  662.877867   \n",
       "2            VID_20210223_123551.mp4#t=0.jpg   939.047988  774.368979   \n",
       "3            VID_20210223_123551.mp4#t=0.jpg   919.032508  628.144782   \n",
       "4            VID_20210223_123551.mp4#t=0.jpg  1335.394737  204.613245   \n",
       "..                                       ...          ...         ...   \n",
       "908  VID_20210223_123551.mp4#t=10.333333.jpg   782.662539  642.055046   \n",
       "909  VID_20210223_123551.mp4#t=10.333333.jpg   671.702786  672.786124   \n",
       "910  VID_20210223_123551.mp4#t=10.333333.jpg  1523.715170  430.018349   \n",
       "911  VID_20210223_123551.mp4#t=10.333333.jpg  1278.018576  231.853211   \n",
       "912  VID_20210223_123551.mp4#t=10.333333.jpg   885.696594  530.254300   \n",
       "\n",
       "            xmax         ymax  label  \n",
       "0     324.535604   360.552179      1  \n",
       "1     948.885449   999.061927      2  \n",
       "2    1139.520124  1075.262615      3  \n",
       "3    1068.119195   794.471904      4  \n",
       "4    1559.976780   540.263188      5  \n",
       "..           ...          ...    ...  \n",
       "908   921.362229   943.266055      1  \n",
       "909   899.566563  1070.091743      2  \n",
       "910  1719.876161   725.284404      3  \n",
       "911  1501.919505   529.100917      5  \n",
       "912  1054.117647   854.091743      6  \n",
       "\n",
       "[913 rows x 6 columns]"
      ]
     },
     "execution_count": 17,
     "metadata": {},
     "output_type": "execute_result"
    }
   ],
   "source": [
    "labels"
   ]
  },
  {
   "cell_type": "code",
   "execution_count": 19,
   "id": "whole-excellence",
   "metadata": {},
   "outputs": [],
   "source": [
    "img_list = labels['image'].unique()"
   ]
  },
  {
   "cell_type": "code",
   "execution_count": 24,
   "id": "median-commission",
   "metadata": {},
   "outputs": [
    {
     "name": "stdout",
     "output_type": "stream",
     "text": [
      "(1080, 1920, 3)\n"
     ]
    }
   ],
   "source": [
    "len(img_list)\n",
    "print(img.shape)"
   ]
  },
  {
   "cell_type": "code",
   "execution_count": 25,
   "id": "lonely-trust",
   "metadata": {},
   "outputs": [],
   "source": [
    "img_id = img_list[0]\n",
    "\n",
    "img = np.asarray(Image.open(data_root + \"images/\" + img_id))\n",
    "#fig, ax = plt.subplots(figsize=(640/96, 640/96), dpi=96)\n",
    "#ax.imshow(img)\n",
    "img_h, img_w, _ = img.shape"
   ]
  },
  {
   "cell_type": "code",
   "execution_count": 27,
   "id": "monthly-finger",
   "metadata": {},
   "outputs": [
    {
     "data": {
      "text/plain": [
       "1920"
      ]
     },
     "execution_count": 27,
     "metadata": {},
     "output_type": "execute_result"
    }
   ],
   "source": [
    "img_w"
   ]
  },
  {
   "cell_type": "code",
   "execution_count": 37,
   "id": "second-moses",
   "metadata": {},
   "outputs": [],
   "source": [
    "for img_id in img_list:\n",
    "    idx = np.where(labels.image == img_id)\n",
    "    image_labels = labels.iloc[idx]\n",
    "    \n",
    "    for index, row in image_labels.iterrows():\n",
    "        x_center = row.xmin + (row.xmax - row.xmin)/2\n",
    "        y_center = row.ymin + (row.ymax - row.ymin)/2\n",
    "        w = row.xmax - row.xmin\n",
    "        h = row.ymax - row.ymin\n",
    "        \n",
    "        i_monkey = row.label\n",
    "\n",
    "        img_id = re.sub(\"[.]jpg\",\"\", img_id)\n",
    "        #Label-String schreiben.\n",
    "        label_fpath = data_root + \"labels_with_ids/\" + img_id +'.txt'\n",
    "\n",
    "        label_str = '0 {:d} {:.6f} {:.6f} {:.6f} {:.6f}\\n'.format(\n",
    "                i_monkey, x_center / img_w, y_center / img_h, w / img_w, h / img_h)\n",
    "\n",
    "        with open(label_fpath, 'a') as f:\n",
    "            f.write(label_str)"
   ]
  },
  {
   "cell_type": "code",
   "execution_count": null,
   "id": "damaged-international",
   "metadata": {},
   "outputs": [],
   "source": []
  }
 ],
 "metadata": {
  "kernelspec": {
   "display_name": "Python 3",
   "language": "python",
   "name": "python3"
  },
  "language_info": {
   "codemirror_mode": {
    "name": "ipython",
    "version": 3
   },
   "file_extension": ".py",
   "mimetype": "text/x-python",
   "name": "python",
   "nbconvert_exporter": "python",
   "pygments_lexer": "ipython3",
   "version": "3.8.6"
  }
 },
 "nbformat": 4,
 "nbformat_minor": 5
}
