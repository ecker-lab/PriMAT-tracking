{
 "cells": [
  {
   "cell_type": "code",
   "execution_count": 1,
   "id": "horizontal-tuner",
   "metadata": {},
   "outputs": [
    {
     "data": {
      "text/plain": [
       "'/home/matthias/monkey/MC-FairMOT_mt/own_ideas'"
      ]
     },
     "execution_count": 1,
     "metadata": {},
     "output_type": "execute_result"
    }
   ],
   "source": [
    "import numpy as np\n",
    "import pandas as pd\n",
    "import os\n",
    "import re\n",
    "import matplotlib.pyplot as plt\n",
    "from PIL import Image\n",
    "\n",
    "os.getcwd()"
   ]
  },
  {
   "cell_type": "markdown",
   "id": "adult-louisville",
   "metadata": {},
   "source": [
    "## Converting VoTT output\n",
    "\n",
    "After labeling with VoTT, we obtain a .csv file, which we convert into many .txt files, one file for every frame. These will be saved in a folder called labels_with_ids (if it does not exist you have to create it."
   ]
  },
  {
   "cell_type": "code",
   "execution_count": 327,
   "id": "plastic-indicator",
   "metadata": {},
   "outputs": [],
   "source": [
    "data_root = \"/usr/users/vogg/Labelling/Baboons/\""
   ]
  },
  {
   "cell_type": "code",
   "execution_count": 328,
   "id": "intensive-photograph",
   "metadata": {},
   "outputs": [],
   "source": [
    "labels = pd.read_csv(data_root + \"images/Baboon-finder-export.csv\")"
   ]
  },
  {
   "cell_type": "code",
   "execution_count": 329,
   "id": "resident-consensus",
   "metadata": {},
   "outputs": [
    {
     "data": {
      "text/html": [
       "<div>\n",
       "<style scoped>\n",
       "    .dataframe tbody tr th:only-of-type {\n",
       "        vertical-align: middle;\n",
       "    }\n",
       "\n",
       "    .dataframe tbody tr th {\n",
       "        vertical-align: top;\n",
       "    }\n",
       "\n",
       "    .dataframe thead th {\n",
       "        text-align: right;\n",
       "    }\n",
       "</style>\n",
       "<table border=\"1\" class=\"dataframe\">\n",
       "  <thead>\n",
       "    <tr style=\"text-align: right;\">\n",
       "      <th></th>\n",
       "      <th>image</th>\n",
       "      <th>xmin</th>\n",
       "      <th>ymin</th>\n",
       "      <th>xmax</th>\n",
       "      <th>ymax</th>\n",
       "      <th>label</th>\n",
       "    </tr>\n",
       "  </thead>\n",
       "  <tbody>\n",
       "    <tr>\n",
       "      <th>0</th>\n",
       "      <td>IMAG0043%20-%202015%20-%20jan%20-%20ct3.JPG</td>\n",
       "      <td>352.207792</td>\n",
       "      <td>292.987013</td>\n",
       "      <td>574.545455</td>\n",
       "      <td>610.909091</td>\n",
       "      <td>baboon</td>\n",
       "    </tr>\n",
       "    <tr>\n",
       "      <th>1</th>\n",
       "      <td>IMAG0043%20-%202015%20-%20jan%20-%20ct3.JPG</td>\n",
       "      <td>1.038961</td>\n",
       "      <td>280.519481</td>\n",
       "      <td>437.402597</td>\n",
       "      <td>718.961039</td>\n",
       "      <td>baboon</td>\n",
       "    </tr>\n",
       "    <tr>\n",
       "      <th>2</th>\n",
       "      <td>IMAG0043%20-%202015%20-%20jan%20-%20ct3.JPG</td>\n",
       "      <td>929.870130</td>\n",
       "      <td>480.000000</td>\n",
       "      <td>1220.779221</td>\n",
       "      <td>700.259740</td>\n",
       "      <td>baboon</td>\n",
       "    </tr>\n",
       "    <tr>\n",
       "      <th>3</th>\n",
       "      <td>IMAG0043%20-%202015%20-%20jan%20-%20ct3.JPG</td>\n",
       "      <td>545.454545</td>\n",
       "      <td>309.610390</td>\n",
       "      <td>1204.155844</td>\n",
       "      <td>775.064935</td>\n",
       "      <td>baboon</td>\n",
       "    </tr>\n",
       "    <tr>\n",
       "      <th>4</th>\n",
       "      <td>IMAG0043%20-%202015%20-%20jan%20-%20ct3.JPG</td>\n",
       "      <td>1285.194805</td>\n",
       "      <td>658.701299</td>\n",
       "      <td>1628.051948</td>\n",
       "      <td>955.844156</td>\n",
       "      <td>baboon</td>\n",
       "    </tr>\n",
       "  </tbody>\n",
       "</table>\n",
       "</div>"
      ],
      "text/plain": [
       "                                         image         xmin        ymin  \\\n",
       "0  IMAG0043%20-%202015%20-%20jan%20-%20ct3.JPG   352.207792  292.987013   \n",
       "1  IMAG0043%20-%202015%20-%20jan%20-%20ct3.JPG     1.038961  280.519481   \n",
       "2  IMAG0043%20-%202015%20-%20jan%20-%20ct3.JPG   929.870130  480.000000   \n",
       "3  IMAG0043%20-%202015%20-%20jan%20-%20ct3.JPG   545.454545  309.610390   \n",
       "4  IMAG0043%20-%202015%20-%20jan%20-%20ct3.JPG  1285.194805  658.701299   \n",
       "\n",
       "          xmax        ymax   label  \n",
       "0   574.545455  610.909091  baboon  \n",
       "1   437.402597  718.961039  baboon  \n",
       "2  1220.779221  700.259740  baboon  \n",
       "3  1204.155844  775.064935  baboon  \n",
       "4  1628.051948  955.844156  baboon  "
      ]
     },
     "execution_count": 329,
     "metadata": {},
     "output_type": "execute_result"
    }
   ],
   "source": [
    "labels.head()"
   ]
  },
  {
   "cell_type": "code",
   "execution_count": 330,
   "id": "widespread-country",
   "metadata": {},
   "outputs": [],
   "source": [
    "img_list = os.listdir(data_root + \"images\")\n",
    "regex = re.compile('.*JPG')\n",
    "img_list = sorted([i for i in img_list if regex.match(i)])"
   ]
  },
  {
   "cell_type": "code",
   "execution_count": 331,
   "id": "exact-creativity",
   "metadata": {},
   "outputs": [
    {
     "data": {
      "text/plain": [
       "1920"
      ]
     },
     "execution_count": 331,
     "metadata": {},
     "output_type": "execute_result"
    }
   ],
   "source": [
    "img_id = img_list[1]\n",
    "\n",
    "img = np.asarray(Image.open(data_root + \"images/\" + img_id))\n",
    "#fig, ax = plt.subplots(figsize=(640/96, 640/96), dpi=96)\n",
    "#ax.imshow(img)\n",
    "img_h, img_w, _ = img.shape\n",
    "img_h"
   ]
  },
  {
   "cell_type": "code",
   "execution_count": 332,
   "id": "positive-exhibit",
   "metadata": {},
   "outputs": [],
   "source": [
    "i_monkey = 0\n",
    "\n",
    "for img_id in img_list:\n",
    "    idx = np.where(labels.image == img_id)\n",
    "    image_labels = labels.iloc[idx]\n",
    "    \n",
    "    label_fpath = data_root + \"labels_with_ids/\" + re.sub(\".JPG\", \".txt\", img_id)\n",
    "\n",
    "    img = np.asarray(Image.open(data_root + \"images/\" + img_id))\n",
    "    img_h, img_w, _ = img.shape\n",
    "\n",
    "    for index, row in image_labels.iterrows():\n",
    "\n",
    "        #if row.label == \"baboon\":\n",
    "        x_center = row.xmin + (row.xmax - row.xmin)/2\n",
    "        y_center = row.ymin + (row.ymax - row.ymin)/2\n",
    "        w = row.xmax - row.xmin\n",
    "        h = row.ymax - row.ymin\n",
    "\n",
    "        #i_monkey = row.label\n",
    "\n",
    "        img_id = re.sub(\"[.]jpg\",\"\", img_id)\n",
    "        #Label-String schreiben.\n",
    "\n",
    "        label_str = '0 {:d} {:.6f} {:.6f} {:.6f} {:.6f}\\n'.format(\n",
    "                i_monkey, x_center / img_w, y_center / img_h, w / img_w, h / img_h)\n",
    "\n",
    "        i_monkey += 1\n",
    "        with open(label_fpath, 'a') as f:\n",
    "            f.write(label_str)\n",
    "\n",
    "\n",
    "            "
   ]
  },
  {
   "cell_type": "markdown",
   "id": "chubby-kruger",
   "metadata": {},
   "source": [
    "### Converting CVAT output\n",
    "\n",
    "Data comes in separate files."
   ]
  },
  {
   "cell_type": "code",
   "execution_count": 353,
   "id": "loved-trace",
   "metadata": {},
   "outputs": [],
   "source": [
    "video_id = 'VID_20210227_133440_0'\n",
    "\n",
    "data_root = \"/usr/users/agecker/datasets/macaque_videos/\"\n",
    "\n",
    "path_o = data_root + video_id + \"/obj_train_data/\"\n",
    "\n",
    "frame_list = os.listdir(path_o)\n",
    "frame_list.sort()"
   ]
  },
  {
   "cell_type": "code",
   "execution_count": 354,
   "id": "sophisticated-grade",
   "metadata": {},
   "outputs": [
    {
     "name": "stdout",
     "output_type": "stream",
     "text": [
      "361\n"
     ]
    }
   ],
   "source": [
    "regex = re.compile('.*txt')\n",
    "frame_list = [i for i in frame_list if regex.match(i)]\n",
    "print(len(frame_list))"
   ]
  },
  {
   "cell_type": "code",
   "execution_count": 343,
   "id": "middle-reform",
   "metadata": {},
   "outputs": [
    {
     "name": "stdout",
     "output_type": "stream",
     "text": [
      "mkdir: cannot create directory ‘/usr/users/agecker/datasets/macaque_videos/VID_20210228_153846_0/labels_with_ids/’: File exists\n"
     ]
    }
   ],
   "source": [
    "\n",
    "!mkdir /usr/users/agecker/datasets/macaque_videos/VID_20210228_153846_0/labels_with_ids/"
   ]
  },
  {
   "cell_type": "code",
   "execution_count": 356,
   "id": "concrete-diabetes",
   "metadata": {},
   "outputs": [],
   "source": [
    "!mkdir /usr/users/agecker/datasets/macaque_videos/VID_20210227_133440_0/images/"
   ]
  },
  {
   "cell_type": "code",
   "execution_count": 357,
   "id": "confident-ability",
   "metadata": {},
   "outputs": [],
   "source": [
    "for frame_id in frame_list:\n",
    "    text = pd.read_csv(path_o + frame_id, names = [1,2,3,4,5], sep = \" \")\n",
    "    text.insert(0, \"z\", np.zeros(len(text)))\n",
    "    text.z = text.z.astype(int)\n",
    "    text.to_csv(data_root + video_id + \"/labels_with_ids/\" + frame_id,\n",
    "                 sep=' ', index=False, header = False)"
   ]
  },
  {
   "cell_type": "markdown",
   "id": "subtle-captain",
   "metadata": {},
   "source": [
    "## Videos to frames"
   ]
  },
  {
   "cell_type": "code",
   "execution_count": 358,
   "id": "extensive-bulletin",
   "metadata": {},
   "outputs": [],
   "source": [
    "import cv2\n",
    "import sys\n",
    "#sys.path"
   ]
  },
  {
   "cell_type": "code",
   "execution_count": 359,
   "id": "quick-efficiency",
   "metadata": {},
   "outputs": [
    {
     "name": "stdout",
     "output_type": "stream",
     "text": [
      "Frame count: 361\n"
     ]
    }
   ],
   "source": [
    "path = \"/usr/users/agecker/datasets/macaque_videos/\"\n",
    "cap = cv2.VideoCapture(path + \"Videos/\" + video_id + \".mp4\")\n",
    "\n",
    "#Total number of frames\n",
    "frame_count = int(cap.get(cv2.CAP_PROP_FRAME_COUNT))\n",
    "print('Frame count:', frame_count)\n",
    "\n",
    "count = 0"
   ]
  },
  {
   "cell_type": "code",
   "execution_count": 360,
   "id": "grateful-import",
   "metadata": {},
   "outputs": [
    {
     "name": "stdout",
     "output_type": "stream",
     "text": [
      "50\n",
      "100\n",
      "150\n",
      "200\n",
      "250\n",
      "300\n",
      "350\n"
     ]
    }
   ],
   "source": [
    "#%%\n",
    "\n",
    "while count < frame_count:\n",
    "    cap.set(cv2.CAP_PROP_POS_FRAMES, count)\n",
    "    success, image = cap.read()\n",
    "    cv2.imwrite(path + video_id + \"/images/frame_%s.jpg\" % str(count).zfill(6), image)     # save frame as JPEG file\n",
    "    count += 1\n",
    "    if count % 50 == 0:\n",
    "        print(count)"
   ]
  },
  {
   "cell_type": "code",
   "execution_count": null,
   "id": "iraqi-influence",
   "metadata": {},
   "outputs": [],
   "source": []
  },
  {
   "cell_type": "markdown",
   "id": "answering-temperature",
   "metadata": {},
   "source": [
    "## All files for training list - Wildmacaques"
   ]
  },
  {
   "cell_type": "code",
   "execution_count": 361,
   "id": "gorgeous-delay",
   "metadata": {},
   "outputs": [
    {
     "data": {
      "text/plain": [
       "['VID_20210223_123630_0',\n",
       " 'VID_20210227_133440_0',\n",
       " 'VID_20210224_114038_0',\n",
       " 'VID_20210224_115729_0',\n",
       " 'VID_20210223_123817_0',\n",
       " 'VID_20210228_153846_0',\n",
       " 'VID_20210224_115455_0',\n",
       " 'VID_20210223_123854_0',\n",
       " 'VID_20210227_133251_0']"
      ]
     },
     "execution_count": 361,
     "metadata": {},
     "output_type": "execute_result"
    }
   ],
   "source": [
    "path = \"/usr/users/agecker/datasets/macaque_videos/\"\n",
    "\n",
    "vids = os.listdir(path)\n",
    "\n",
    "regex = re.compile('VID_.*')\n",
    "vids = [i for i in vids if regex.match(i)]\n",
    "vids"
   ]
  },
  {
   "cell_type": "code",
   "execution_count": 362,
   "id": "affected-insertion",
   "metadata": {},
   "outputs": [],
   "source": [
    "for i, out_vid in enumerate(vids):\n",
    "    temp_vids = [x for x in vids if x != out_vid]\n",
    "    \n",
    "    for vid in temp_vids:\n",
    "        img_ids = os.listdir(path + vid + \"/images\")\n",
    "\n",
    "\n",
    "        label_fpath = \"/usr/users/vogg/FairMOT/src/data/wildmacaques\" + str(i) + \".train\"\n",
    "        regex = re.compile(\"frame.*\")\n",
    "        for img_id in sorted(img_ids):\n",
    "\n",
    "            if regex.match(img_id):\n",
    "                label_str =  \"macaque_videos/\" + vid + \"/images/\" + img_id + \"\\n\"\n",
    "\n",
    "                with open(label_fpath, 'a') as f:\n",
    "                    f.write(label_str)"
   ]
  },
  {
   "cell_type": "markdown",
   "id": "hearing-director",
   "metadata": {},
   "source": [
    "## Make files for training list images"
   ]
  },
  {
   "cell_type": "code",
   "execution_count": 272,
   "id": "following-editor",
   "metadata": {},
   "outputs": [],
   "source": [
    "for img_id in img_list:\n",
    "    label_fpath = \"/usr/users/vogg/FairMOT/src/data/baboons.train\"\n",
    "\n",
    "    label_str =  \"Baboons/images/\" + img_id + \"\\n\"\n",
    "\n",
    "    with open(label_fpath, 'a') as f:\n",
    "        f.write(label_str)"
   ]
  },
  {
   "cell_type": "code",
   "execution_count": null,
   "id": "associate-madagascar",
   "metadata": {},
   "outputs": [],
   "source": []
  }
 ],
 "metadata": {
  "kernelspec": {
   "display_name": "Python 3.8.12 ('mcmot')",
   "language": "python",
   "name": "python3"
  },
  "language_info": {
   "codemirror_mode": {
    "name": "ipython",
    "version": 3
   },
   "file_extension": ".py",
   "mimetype": "text/x-python",
   "name": "python",
   "nbconvert_exporter": "python",
   "pygments_lexer": "ipython3",
   "version": "3.8.12"
  },
  "vscode": {
   "interpreter": {
    "hash": "39eb24884a20efbe92a33a7cb5a30cfdbf07e4ee47e10a659e4e13f995e930ee"
   }
  }
 },
 "nbformat": 4,
 "nbformat_minor": 5
}
