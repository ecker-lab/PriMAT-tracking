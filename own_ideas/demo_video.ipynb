{
 "cells": [
  {
   "cell_type": "code",
   "execution_count": 1,
   "id": "funny-floor",
   "metadata": {},
   "outputs": [],
   "source": [
    "from __future__ import absolute_import\n",
    "from __future__ import division\n",
    "from __future__ import print_function\n",
    "\n",
    "import sys\n",
    "#sys.path.insert(0, '/usr/users/vogg/FairMOT/src')\n",
    "#sys.path.insert(0, '/usr/users/vogg/FairMOT/src/lib')\n",
    "#sys.path.insert(0, '/opt/conda/envs/FairMOT/lib/python3.8/site-packages')\n",
    "#sys.path.insert(0, '/usr/users/vogg/FairMOT/DCNv2')\n",
    "#sys.path"
   ]
  },
  {
   "cell_type": "code",
   "execution_count": 2,
   "id": "missing-brick",
   "metadata": {},
   "outputs": [
    {
     "name": "stderr",
     "output_type": "stream",
     "text": [
      "Traceback (most recent call last):\n",
      "  File \"src/demo.py\", line 11, in <module>\n",
      "    from tracking_utils.utils import mkdir_if_missing\n",
      "  File \"/usr/users/vogg/FairMOT/src/lib/tracking_utils/utils.py\", line 7, in <module>\n",
      "    import cv2\n",
      "ModuleNotFoundError: No module named 'cv2'\n",
      "Traceback (most recent call last):\n",
      "  File \"src/demo.py\", line 11, in <module>\n",
      "    from tracking_utils.utils import mkdir_if_missing\n",
      "  File \"/usr/users/vogg/FairMOT/src/lib/tracking_utils/utils.py\", line 7, in <module>\n",
      "    import cv2\n",
      "ModuleNotFoundError: No module named 'cv2'\n",
      "Traceback (most recent call last):\n",
      "  File \"src/demo.py\", line 11, in <module>\n",
      "    from tracking_utils.utils import mkdir_if_missing\n",
      "  File \"/usr/users/vogg/FairMOT/src/lib/tracking_utils/utils.py\", line 7, in <module>\n",
      "    import cv2\n",
      "ModuleNotFoundError: No module named 'cv2'\n",
      "Traceback (most recent call last):\n",
      "  File \"src/demo.py\", line 11, in <module>\n",
      "    from tracking_utils.utils import mkdir_if_missing\n",
      "  File \"/usr/users/vogg/FairMOT/src/lib/tracking_utils/utils.py\", line 7, in <module>\n",
      "    import cv2\n",
      "ModuleNotFoundError: No module named 'cv2'\n",
      "Traceback (most recent call last):\n",
      "  File \"src/demo.py\", line 11, in <module>\n",
      "    from tracking_utils.utils import mkdir_if_missing\n",
      "  File \"/usr/users/vogg/FairMOT/src/lib/tracking_utils/utils.py\", line 7, in <module>\n",
      "    import cv2\n",
      "ModuleNotFoundError: No module named 'cv2'\n",
      "Traceback (most recent call last):\n",
      "  File \"src/demo.py\", line 11, in <module>\n",
      "    from tracking_utils.utils import mkdir_if_missing\n",
      "  File \"/usr/users/vogg/FairMOT/src/lib/tracking_utils/utils.py\", line 7, in <module>\n",
      "    import cv2\n",
      "ModuleNotFoundError: No module named 'cv2'\n",
      "Traceback (most recent call last):\n",
      "  File \"src/demo.py\", line 11, in <module>\n",
      "    from tracking_utils.utils import mkdir_if_missing\n",
      "  File \"/usr/users/vogg/FairMOT/src/lib/tracking_utils/utils.py\", line 7, in <module>\n",
      "    import cv2\n",
      "ModuleNotFoundError: No module named 'cv2'\n"
     ]
    },
    {
     "ename": "CalledProcessError",
     "evalue": "Command 'b'\\ncd /usr/users/vogg/FairMOT/\\n\\nfor vid in DSCF0002 DSCF0009 DSCF0028 DSCF0030 DSCF0037 DSCF0056 DSCF0060\\ndo\\n    for i in 150\\n    do\\n        python src/demo.py mot \\\\\\n        --load_model models/mcqcp/model_\"$i\".pth \\\\\\n        --input_video /usr/users/agecker/datasets/derek_monkey_imgs/non_baboon_videos/\"$vid\".AVI \\\\\\n        --output_root videos/baboons/non_baboons/\"$vid\" \\\\\\n        --output_format video \\\\\\n        --conf_thres 0.1 \\\\\\n        --det_thres 0.6\\n    done\\ndone\\n'' returned non-zero exit status 1.",
     "output_type": "error",
     "traceback": [
      "\u001b[0;31m---------------------------------------------------------------------------\u001b[0m",
      "\u001b[0;31mCalledProcessError\u001b[0m                        Traceback (most recent call last)",
      "\u001b[0;32m<ipython-input-2-5e08cb53cad2>\u001b[0m in \u001b[0;36m<module>\u001b[0;34m\u001b[0m\n\u001b[0;32m----> 1\u001b[0;31m \u001b[0mget_ipython\u001b[0m\u001b[0;34m(\u001b[0m\u001b[0;34m)\u001b[0m\u001b[0;34m.\u001b[0m\u001b[0mrun_cell_magic\u001b[0m\u001b[0;34m(\u001b[0m\u001b[0;34m'bash'\u001b[0m\u001b[0;34m,\u001b[0m \u001b[0;34m''\u001b[0m\u001b[0;34m,\u001b[0m \u001b[0;34m'\\ncd /usr/users/vogg/FairMOT/\\n\\nfor vid in DSCF0002 DSCF0009 DSCF0028 DSCF0030 DSCF0037 DSCF0056 DSCF0060\\ndo\\n    for i in 150\\n    do\\n        python src/demo.py mot \\\\\\n        --load_model models/mcqcp/model_\"$i\".pth \\\\\\n        --input_video /usr/users/agecker/datasets/derek_monkey_imgs/non_baboon_videos/\"$vid\".AVI \\\\\\n        --output_root videos/baboons/non_baboons/\"$vid\" \\\\\\n        --output_format video \\\\\\n        --conf_thres 0.1 \\\\\\n        --det_thres 0.6\\n    done\\ndone\\n'\u001b[0m\u001b[0;34m)\u001b[0m\u001b[0;34m\u001b[0m\u001b[0;34m\u001b[0m\u001b[0m\n\u001b[0m",
      "\u001b[0;32m/opt/conda/lib/python3.8/site-packages/IPython/core/interactiveshell.py\u001b[0m in \u001b[0;36mrun_cell_magic\u001b[0;34m(self, magic_name, line, cell)\u001b[0m\n\u001b[1;32m   2380\u001b[0m             \u001b[0;32mwith\u001b[0m \u001b[0mself\u001b[0m\u001b[0;34m.\u001b[0m\u001b[0mbuiltin_trap\u001b[0m\u001b[0;34m:\u001b[0m\u001b[0;34m\u001b[0m\u001b[0;34m\u001b[0m\u001b[0m\n\u001b[1;32m   2381\u001b[0m                 \u001b[0margs\u001b[0m \u001b[0;34m=\u001b[0m \u001b[0;34m(\u001b[0m\u001b[0mmagic_arg_s\u001b[0m\u001b[0;34m,\u001b[0m \u001b[0mcell\u001b[0m\u001b[0;34m)\u001b[0m\u001b[0;34m\u001b[0m\u001b[0;34m\u001b[0m\u001b[0m\n\u001b[0;32m-> 2382\u001b[0;31m                 \u001b[0mresult\u001b[0m \u001b[0;34m=\u001b[0m \u001b[0mfn\u001b[0m\u001b[0;34m(\u001b[0m\u001b[0;34m*\u001b[0m\u001b[0margs\u001b[0m\u001b[0;34m,\u001b[0m \u001b[0;34m**\u001b[0m\u001b[0mkwargs\u001b[0m\u001b[0;34m)\u001b[0m\u001b[0;34m\u001b[0m\u001b[0;34m\u001b[0m\u001b[0m\n\u001b[0m\u001b[1;32m   2383\u001b[0m             \u001b[0;32mreturn\u001b[0m \u001b[0mresult\u001b[0m\u001b[0;34m\u001b[0m\u001b[0;34m\u001b[0m\u001b[0m\n\u001b[1;32m   2384\u001b[0m \u001b[0;34m\u001b[0m\u001b[0m\n",
      "\u001b[0;32m/opt/conda/lib/python3.8/site-packages/IPython/core/magics/script.py\u001b[0m in \u001b[0;36mnamed_script_magic\u001b[0;34m(line, cell)\u001b[0m\n\u001b[1;32m    140\u001b[0m             \u001b[0;32melse\u001b[0m\u001b[0;34m:\u001b[0m\u001b[0;34m\u001b[0m\u001b[0;34m\u001b[0m\u001b[0m\n\u001b[1;32m    141\u001b[0m                 \u001b[0mline\u001b[0m \u001b[0;34m=\u001b[0m \u001b[0mscript\u001b[0m\u001b[0;34m\u001b[0m\u001b[0;34m\u001b[0m\u001b[0m\n\u001b[0;32m--> 142\u001b[0;31m             \u001b[0;32mreturn\u001b[0m \u001b[0mself\u001b[0m\u001b[0;34m.\u001b[0m\u001b[0mshebang\u001b[0m\u001b[0;34m(\u001b[0m\u001b[0mline\u001b[0m\u001b[0;34m,\u001b[0m \u001b[0mcell\u001b[0m\u001b[0;34m)\u001b[0m\u001b[0;34m\u001b[0m\u001b[0;34m\u001b[0m\u001b[0m\n\u001b[0m\u001b[1;32m    143\u001b[0m \u001b[0;34m\u001b[0m\u001b[0m\n\u001b[1;32m    144\u001b[0m         \u001b[0;31m# write a basic docstring:\u001b[0m\u001b[0;34m\u001b[0m\u001b[0;34m\u001b[0m\u001b[0;34m\u001b[0m\u001b[0m\n",
      "\u001b[0;32m<decorator-gen-103>\u001b[0m in \u001b[0;36mshebang\u001b[0;34m(self, line, cell)\u001b[0m\n",
      "\u001b[0;32m/opt/conda/lib/python3.8/site-packages/IPython/core/magic.py\u001b[0m in \u001b[0;36m<lambda>\u001b[0;34m(f, *a, **k)\u001b[0m\n\u001b[1;32m    185\u001b[0m     \u001b[0;31m# but it's overkill for just that one bit of state.\u001b[0m\u001b[0;34m\u001b[0m\u001b[0;34m\u001b[0m\u001b[0;34m\u001b[0m\u001b[0m\n\u001b[1;32m    186\u001b[0m     \u001b[0;32mdef\u001b[0m \u001b[0mmagic_deco\u001b[0m\u001b[0;34m(\u001b[0m\u001b[0marg\u001b[0m\u001b[0;34m)\u001b[0m\u001b[0;34m:\u001b[0m\u001b[0;34m\u001b[0m\u001b[0;34m\u001b[0m\u001b[0m\n\u001b[0;32m--> 187\u001b[0;31m         \u001b[0mcall\u001b[0m \u001b[0;34m=\u001b[0m \u001b[0;32mlambda\u001b[0m \u001b[0mf\u001b[0m\u001b[0;34m,\u001b[0m \u001b[0;34m*\u001b[0m\u001b[0ma\u001b[0m\u001b[0;34m,\u001b[0m \u001b[0;34m**\u001b[0m\u001b[0mk\u001b[0m\u001b[0;34m:\u001b[0m \u001b[0mf\u001b[0m\u001b[0;34m(\u001b[0m\u001b[0;34m*\u001b[0m\u001b[0ma\u001b[0m\u001b[0;34m,\u001b[0m \u001b[0;34m**\u001b[0m\u001b[0mk\u001b[0m\u001b[0;34m)\u001b[0m\u001b[0;34m\u001b[0m\u001b[0;34m\u001b[0m\u001b[0m\n\u001b[0m\u001b[1;32m    188\u001b[0m \u001b[0;34m\u001b[0m\u001b[0m\n\u001b[1;32m    189\u001b[0m         \u001b[0;32mif\u001b[0m \u001b[0mcallable\u001b[0m\u001b[0;34m(\u001b[0m\u001b[0marg\u001b[0m\u001b[0;34m)\u001b[0m\u001b[0;34m:\u001b[0m\u001b[0;34m\u001b[0m\u001b[0;34m\u001b[0m\u001b[0m\n",
      "\u001b[0;32m/opt/conda/lib/python3.8/site-packages/IPython/core/magics/script.py\u001b[0m in \u001b[0;36mshebang\u001b[0;34m(self, line, cell)\u001b[0m\n\u001b[1;32m    243\u001b[0m             \u001b[0msys\u001b[0m\u001b[0;34m.\u001b[0m\u001b[0mstderr\u001b[0m\u001b[0;34m.\u001b[0m\u001b[0mflush\u001b[0m\u001b[0;34m(\u001b[0m\u001b[0;34m)\u001b[0m\u001b[0;34m\u001b[0m\u001b[0;34m\u001b[0m\u001b[0m\n\u001b[1;32m    244\u001b[0m         \u001b[0;32mif\u001b[0m \u001b[0margs\u001b[0m\u001b[0;34m.\u001b[0m\u001b[0mraise_error\u001b[0m \u001b[0;32mand\u001b[0m \u001b[0mp\u001b[0m\u001b[0;34m.\u001b[0m\u001b[0mreturncode\u001b[0m\u001b[0;34m!=\u001b[0m\u001b[0;36m0\u001b[0m\u001b[0;34m:\u001b[0m\u001b[0;34m\u001b[0m\u001b[0;34m\u001b[0m\u001b[0m\n\u001b[0;32m--> 245\u001b[0;31m             \u001b[0;32mraise\u001b[0m \u001b[0mCalledProcessError\u001b[0m\u001b[0;34m(\u001b[0m\u001b[0mp\u001b[0m\u001b[0;34m.\u001b[0m\u001b[0mreturncode\u001b[0m\u001b[0;34m,\u001b[0m \u001b[0mcell\u001b[0m\u001b[0;34m,\u001b[0m \u001b[0moutput\u001b[0m\u001b[0;34m=\u001b[0m\u001b[0mout\u001b[0m\u001b[0;34m,\u001b[0m \u001b[0mstderr\u001b[0m\u001b[0;34m=\u001b[0m\u001b[0merr\u001b[0m\u001b[0;34m)\u001b[0m\u001b[0;34m\u001b[0m\u001b[0;34m\u001b[0m\u001b[0m\n\u001b[0m\u001b[1;32m    246\u001b[0m \u001b[0;34m\u001b[0m\u001b[0m\n\u001b[1;32m    247\u001b[0m     \u001b[0;32mdef\u001b[0m \u001b[0m_run_script\u001b[0m\u001b[0;34m(\u001b[0m\u001b[0mself\u001b[0m\u001b[0;34m,\u001b[0m \u001b[0mp\u001b[0m\u001b[0;34m,\u001b[0m \u001b[0mcell\u001b[0m\u001b[0;34m,\u001b[0m \u001b[0mto_close\u001b[0m\u001b[0;34m)\u001b[0m\u001b[0;34m:\u001b[0m\u001b[0;34m\u001b[0m\u001b[0;34m\u001b[0m\u001b[0m\n",
      "\u001b[0;31mCalledProcessError\u001b[0m: Command 'b'\\ncd /usr/users/vogg/FairMOT/\\n\\nfor vid in DSCF0002 DSCF0009 DSCF0028 DSCF0030 DSCF0037 DSCF0056 DSCF0060\\ndo\\n    for i in 150\\n    do\\n        python src/demo.py mot \\\\\\n        --load_model models/mcqcp/model_\"$i\".pth \\\\\\n        --input_video /usr/users/agecker/datasets/derek_monkey_imgs/non_baboon_videos/\"$vid\".AVI \\\\\\n        --output_root videos/baboons/non_baboons/\"$vid\" \\\\\\n        --output_format video \\\\\\n        --conf_thres 0.1 \\\\\\n        --det_thres 0.6\\n    done\\ndone\\n'' returned non-zero exit status 1."
     ]
    }
   ],
   "source": [
    "%%bash\n",
    "\n",
    "cd /usr/users/vogg/FairMOT/\n",
    "\n",
    "for vid in DSCF0002 DSCF0009 DSCF0028 DSCF0030 DSCF0037 DSCF0056 DSCF0060\n",
    "do\n",
    "    for i in 150\n",
    "    do\n",
    "        python src/demo.py mot \\\n",
    "        --load_model models/mcqcp/model_\"$i\".pth \\\n",
    "        --input_video /usr/users/agecker/datasets/derek_monkey_imgs/non_baboon_videos/\"$vid\".AVI \\\n",
    "        --output_root videos/baboons/non_baboons/\"$vid\" \\\n",
    "        --output_format video \\\n",
    "        --conf_thres 0.1 \\\n",
    "        --det_thres 0.6\n",
    "    done\n",
    "done"
   ]
  },
  {
   "cell_type": "code",
   "execution_count": 73,
   "id": "classified-spouse",
   "metadata": {},
   "outputs": [
    {
     "name": "stdout",
     "output_type": "stream",
     "text": [
      "Fix size testing.\n",
      "training chunk_sizes: [12]\n",
      "The output will be saved to  /usr/users/vogg/FairMOT/src/lib/../../exp/mot/default\n",
      "heads {'hm': 1, 'wh': 4, 'id': 128, 'reg': 2}\n",
      "Length of the video: 391 frames\n",
      "Creating model...\n",
      "loaded models/mcqcpz_1e4/model_120.pth, epoch 120\n"
     ]
    },
    {
     "name": "stderr",
     "output_type": "stream",
     "text": [
      "2021-12-03 14:40:20 [INFO]: Starting tracking...\n",
      "2021-12-03 14:40:22 [INFO]: Processing frame 0 (100000.00 fps)\n",
      "2021-12-03 14:40:25 [INFO]: Processing frame 20 (16.07 fps)\n",
      "2021-12-03 14:40:27 [INFO]: Processing frame 40 (15.69 fps)\n",
      "2021-12-03 14:40:30 [INFO]: Processing frame 60 (15.65 fps)\n",
      "2021-12-03 14:40:33 [INFO]: Processing frame 80 (15.55 fps)\n",
      "2021-12-03 14:40:35 [INFO]: Processing frame 100 (15.47 fps)\n",
      "2021-12-03 14:40:38 [INFO]: Processing frame 120 (15.27 fps)\n",
      "2021-12-03 14:40:40 [INFO]: Processing frame 140 (15.25 fps)\n",
      "2021-12-03 14:40:43 [INFO]: Processing frame 160 (15.21 fps)\n",
      "2021-12-03 14:40:45 [INFO]: Processing frame 180 (15.11 fps)\n",
      "2021-12-03 14:40:48 [INFO]: Processing frame 200 (15.13 fps)\n",
      "2021-12-03 14:40:51 [INFO]: Processing frame 220 (14.98 fps)\n",
      "2021-12-03 14:40:54 [INFO]: Processing frame 240 (14.86 fps)\n",
      "2021-12-03 14:40:56 [INFO]: Processing frame 260 (14.74 fps)\n",
      "2021-12-03 14:40:59 [INFO]: Processing frame 280 (14.69 fps)\n",
      "2021-12-03 14:41:02 [INFO]: Processing frame 300 (14.61 fps)\n",
      "2021-12-03 14:41:04 [INFO]: Processing frame 320 (14.57 fps)\n",
      "2021-12-03 14:41:07 [INFO]: Processing frame 340 (14.60 fps)\n",
      "2021-12-03 14:41:09 [INFO]: Processing frame 360 (14.60 fps)\n",
      "2021-12-03 14:41:12 [INFO]: Processing frame 380 (14.61 fps)\n",
      "2021-12-03 14:41:13 [INFO]: save results to videos/test/VID_20210223_123630_0/results.txt\n",
      "ffmpeg version 3.4.8-0ubuntu0.2 Copyright (c) 2000-2020 the FFmpeg developers\n",
      "  built with gcc 7 (Ubuntu 7.5.0-3ubuntu1~18.04)\n",
      "  configuration: --prefix=/usr --extra-version=0ubuntu0.2 --toolchain=hardened --libdir=/usr/lib/x86_64-linux-gnu --incdir=/usr/include/x86_64-linux-gnu --enable-gpl --disable-stripping --enable-avresample --enable-avisynth --enable-gnutls --enable-ladspa --enable-libass --enable-libbluray --enable-libbs2b --enable-libcaca --enable-libcdio --enable-libflite --enable-libfontconfig --enable-libfreetype --enable-libfribidi --enable-libgme --enable-libgsm --enable-libmp3lame --enable-libmysofa --enable-libopenjpeg --enable-libopenmpt --enable-libopus --enable-libpulse --enable-librubberband --enable-librsvg --enable-libshine --enable-libsnappy --enable-libsoxr --enable-libspeex --enable-libssh --enable-libtheora --enable-libtwolame --enable-libvorbis --enable-libvpx --enable-libwavpack --enable-libwebp --enable-libx265 --enable-libxml2 --enable-libxvid --enable-libzmq --enable-libzvbi --enable-omx --enable-openal --enable-opengl --enable-sdl2 --enable-libdc1394 --enable-libdrm --enable-libiec61883 --enable-chromaprint --enable-frei0r --enable-libopencv --enable-libx264 --enable-shared\n",
      "  libavutil      55. 78.100 / 55. 78.100\n",
      "  libavcodec     57.107.100 / 57.107.100\n",
      "  libavformat    57. 83.100 / 57. 83.100\n",
      "  libavdevice    57. 10.100 / 57. 10.100\n",
      "  libavfilter     6.107.100 /  6.107.100\n",
      "  libavresample   3.  7.  0 /  3.  7.  0\n",
      "  libswscale      4.  8.100 /  4.  8.100\n",
      "  libswresample   2.  9.100 /  2.  9.100\n",
      "  libpostproc    54.  7.100 / 54.  7.100\n",
      "Input #0, image2, from 'videos/test/VID_20210223_123630_0/frame/%05d.jpg':\n",
      "  Duration: 00:00:15.64, start: 0.000000, bitrate: N/A\n",
      "    Stream #0:0: Video: mjpeg, yuvj420p(pc, bt470bg/unknown/unknown), 1920x1080 [SAR 1:1 DAR 16:9], 25 fps, 25 tbr, 25 tbn, 25 tbc\n",
      "Please use -b:a or -b:v, -b is ambiguous\n",
      "Stream mapping:\n",
      "  Stream #0:0 -> #0:0 (mjpeg (native) -> mpeg4 (native))\n",
      "Press [q] to stop, [?] for help\n",
      "[swscaler @ 0x55da0508a3a0] deprecated pixel format used, make sure you did set range correctly\n",
      "Output #0, mp4, to 'videos/test/VID_20210223_123630_0/test.mp4':\n",
      "  Metadata:\n",
      "    encoder         : Lavf57.83.100\n",
      "    Stream #0:0: Video: mpeg4 (mp4v / 0x7634706D), yuv420p, 1920x1080 [SAR 1:1 DAR 16:9], q=2-31, 5000 kb/s, 25 fps, 12800 tbn, 25 tbc\n",
      "    Metadata:\n",
      "      encoder         : Lavc57.107.100 mpeg4\n",
      "    Side data:\n",
      "      cpb: bitrate max/min/avg: 0/0/5000000 buffer size: 0 vbv_delay: -1\n",
      "frame=  391 fps= 11 q=19.2 Lsize=    9728kB time=00:00:15.60 bitrate=5108.4kbits/s speed=0.435x    \n",
      "video:9725kB audio:0kB subtitle:0kB other streams:0kB global headers:0kB muxing overhead: 0.027252%\n"
     ]
    }
   ],
   "source": [
    "%%bash\n",
    "\n",
    "cd /usr/users/vogg/FairMOT/\n",
    "\n",
    "for vid in VID_20210223_123630_0\n",
    "do\n",
    "    for i in 120\n",
    "    do\n",
    "        python src/demo.py mot \\\n",
    "        --load_model models/mcqcpz_1e4/model_\"$i\".pth \\\n",
    "        --input_video /usr/users/agecker/datasets/macaque_videos/Videos/\"$vid\".mp4 \\\n",
    "        --output_root videos/test/\"$vid\" \\\n",
    "        --output_format video \\\n",
    "        --det_thres 0.7 --conf_thres 0.02 --emb_sim_thres 0.3\n",
    "    done\n",
    "done"
   ]
  },
  {
   "cell_type": "code",
   "execution_count": null,
   "id": "northern-found",
   "metadata": {
    "collapsed": true,
    "jupyter": {
     "outputs_hidden": true
    }
   },
   "outputs": [],
   "source": []
  }
 ],
 "metadata": {
  "kernelspec": {
   "display_name": "Python 3",
   "language": "python",
   "name": "python3"
  },
  "language_info": {
   "codemirror_mode": {
    "name": "ipython",
    "version": 3
   },
   "file_extension": ".py",
   "mimetype": "text/x-python",
   "name": "python",
   "nbconvert_exporter": "python",
   "pygments_lexer": "ipython3",
   "version": "3.8.6"
  }
 },
 "nbformat": 4,
 "nbformat_minor": 5
}
