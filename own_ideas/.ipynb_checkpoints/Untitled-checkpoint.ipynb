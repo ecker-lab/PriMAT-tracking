{
 "cells": [
  {
   "cell_type": "code",
   "execution_count": 28,
   "id": "neural-webmaster",
   "metadata": {},
   "outputs": [],
   "source": [
    "import pandas as pd\n",
    "import numpy as np\n",
    "import matplotlib.pyplot as plt\n"
   ]
  },
  {
   "cell_type": "code",
   "execution_count": 29,
   "id": "pending-lotus",
   "metadata": {},
   "outputs": [
    {
     "data": {
      "text/html": [
       "<div>\n",
       "<style scoped>\n",
       "    .dataframe tbody tr th:only-of-type {\n",
       "        vertical-align: middle;\n",
       "    }\n",
       "\n",
       "    .dataframe tbody tr th {\n",
       "        vertical-align: top;\n",
       "    }\n",
       "\n",
       "    .dataframe thead th {\n",
       "        text-align: right;\n",
       "    }\n",
       "</style>\n",
       "<table border=\"1\" class=\"dataframe\">\n",
       "  <thead>\n",
       "    <tr style=\"text-align: right;\">\n",
       "      <th></th>\n",
       "      <th>frame</th>\n",
       "      <th>animal_id</th>\n",
       "      <th>x</th>\n",
       "      <th>y</th>\n",
       "      <th>w</th>\n",
       "      <th>h</th>\n",
       "      <th>a</th>\n",
       "      <th>b</th>\n",
       "      <th>c</th>\n",
       "      <th>d</th>\n",
       "    </tr>\n",
       "  </thead>\n",
       "  <tbody>\n",
       "    <tr>\n",
       "      <th>0</th>\n",
       "      <td>1</td>\n",
       "      <td>2</td>\n",
       "      <td>1450.940430</td>\n",
       "      <td>229.493927</td>\n",
       "      <td>165.515991</td>\n",
       "      <td>301.887421</td>\n",
       "      <td>1</td>\n",
       "      <td>-1</td>\n",
       "      <td>-1</td>\n",
       "      <td>-1</td>\n",
       "    </tr>\n",
       "    <tr>\n",
       "      <th>1</th>\n",
       "      <td>1</td>\n",
       "      <td>3</td>\n",
       "      <td>831.503906</td>\n",
       "      <td>527.351257</td>\n",
       "      <td>233.450806</td>\n",
       "      <td>276.859863</td>\n",
       "      <td>1</td>\n",
       "      <td>-1</td>\n",
       "      <td>-1</td>\n",
       "      <td>-1</td>\n",
       "    </tr>\n",
       "    <tr>\n",
       "      <th>2</th>\n",
       "      <td>1</td>\n",
       "      <td>4</td>\n",
       "      <td>1173.264038</td>\n",
       "      <td>340.723480</td>\n",
       "      <td>262.206421</td>\n",
       "      <td>277.090790</td>\n",
       "      <td>1</td>\n",
       "      <td>-1</td>\n",
       "      <td>-1</td>\n",
       "      <td>-1</td>\n",
       "    </tr>\n",
       "    <tr>\n",
       "      <th>3</th>\n",
       "      <td>2</td>\n",
       "      <td>1</td>\n",
       "      <td>356.900843</td>\n",
       "      <td>460.314369</td>\n",
       "      <td>587.765228</td>\n",
       "      <td>467.580752</td>\n",
       "      <td>1</td>\n",
       "      <td>-1</td>\n",
       "      <td>-1</td>\n",
       "      <td>-1</td>\n",
       "    </tr>\n",
       "    <tr>\n",
       "      <th>4</th>\n",
       "      <td>2</td>\n",
       "      <td>2</td>\n",
       "      <td>1451.371228</td>\n",
       "      <td>229.763728</td>\n",
       "      <td>165.358715</td>\n",
       "      <td>301.487857</td>\n",
       "      <td>1</td>\n",
       "      <td>-1</td>\n",
       "      <td>-1</td>\n",
       "      <td>-1</td>\n",
       "    </tr>\n",
       "    <tr>\n",
       "      <th>...</th>\n",
       "      <td>...</td>\n",
       "      <td>...</td>\n",
       "      <td>...</td>\n",
       "      <td>...</td>\n",
       "      <td>...</td>\n",
       "      <td>...</td>\n",
       "      <td>...</td>\n",
       "      <td>...</td>\n",
       "      <td>...</td>\n",
       "      <td>...</td>\n",
       "    </tr>\n",
       "    <tr>\n",
       "      <th>2255</th>\n",
       "      <td>391</td>\n",
       "      <td>3</td>\n",
       "      <td>649.382731</td>\n",
       "      <td>388.627692</td>\n",
       "      <td>159.821581</td>\n",
       "      <td>286.294430</td>\n",
       "      <td>1</td>\n",
       "      <td>-1</td>\n",
       "      <td>-1</td>\n",
       "      <td>-1</td>\n",
       "    </tr>\n",
       "    <tr>\n",
       "      <th>2256</th>\n",
       "      <td>391</td>\n",
       "      <td>5</td>\n",
       "      <td>786.623279</td>\n",
       "      <td>300.202396</td>\n",
       "      <td>185.725634</td>\n",
       "      <td>316.834227</td>\n",
       "      <td>1</td>\n",
       "      <td>-1</td>\n",
       "      <td>-1</td>\n",
       "      <td>-1</td>\n",
       "    </tr>\n",
       "    <tr>\n",
       "      <th>2257</th>\n",
       "      <td>391</td>\n",
       "      <td>2</td>\n",
       "      <td>1215.253343</td>\n",
       "      <td>312.324191</td>\n",
       "      <td>269.361557</td>\n",
       "      <td>210.762278</td>\n",
       "      <td>1</td>\n",
       "      <td>-1</td>\n",
       "      <td>-1</td>\n",
       "      <td>-1</td>\n",
       "    </tr>\n",
       "    <tr>\n",
       "      <th>2258</th>\n",
       "      <td>391</td>\n",
       "      <td>10</td>\n",
       "      <td>974.707705</td>\n",
       "      <td>293.533430</td>\n",
       "      <td>172.005080</td>\n",
       "      <td>225.672864</td>\n",
       "      <td>1</td>\n",
       "      <td>-1</td>\n",
       "      <td>-1</td>\n",
       "      <td>-1</td>\n",
       "    </tr>\n",
       "    <tr>\n",
       "      <th>2259</th>\n",
       "      <td>391</td>\n",
       "      <td>7</td>\n",
       "      <td>1672.944728</td>\n",
       "      <td>541.865405</td>\n",
       "      <td>223.509884</td>\n",
       "      <td>260.181728</td>\n",
       "      <td>1</td>\n",
       "      <td>-1</td>\n",
       "      <td>-1</td>\n",
       "      <td>-1</td>\n",
       "    </tr>\n",
       "  </tbody>\n",
       "</table>\n",
       "<p>2260 rows × 10 columns</p>\n",
       "</div>"
      ],
      "text/plain": [
       "      frame  animal_id            x           y           w           h  a  b  \\\n",
       "0         1          2  1450.940430  229.493927  165.515991  301.887421  1 -1   \n",
       "1         1          3   831.503906  527.351257  233.450806  276.859863  1 -1   \n",
       "2         1          4  1173.264038  340.723480  262.206421  277.090790  1 -1   \n",
       "3         2          1   356.900843  460.314369  587.765228  467.580752  1 -1   \n",
       "4         2          2  1451.371228  229.763728  165.358715  301.487857  1 -1   \n",
       "...     ...        ...          ...         ...         ...         ... .. ..   \n",
       "2255    391          3   649.382731  388.627692  159.821581  286.294430  1 -1   \n",
       "2256    391          5   786.623279  300.202396  185.725634  316.834227  1 -1   \n",
       "2257    391          2  1215.253343  312.324191  269.361557  210.762278  1 -1   \n",
       "2258    391         10   974.707705  293.533430  172.005080  225.672864  1 -1   \n",
       "2259    391          7  1672.944728  541.865405  223.509884  260.181728  1 -1   \n",
       "\n",
       "      c  d  \n",
       "0    -1 -1  \n",
       "1    -1 -1  \n",
       "2    -1 -1  \n",
       "3    -1 -1  \n",
       "4    -1 -1  \n",
       "...  .. ..  \n",
       "2255 -1 -1  \n",
       "2256 -1 -1  \n",
       "2257 -1 -1  \n",
       "2258 -1 -1  \n",
       "2259 -1 -1  \n",
       "\n",
       "[2260 rows x 10 columns]"
      ]
     },
     "execution_count": 29,
     "metadata": {},
     "output_type": "execute_result"
    }
   ],
   "source": [
    "path = \"/usr/users/vogg/FairMOT/videos/new_tracking/VID_20210223_123817_0/mcqcp200/\"\n",
    "\n",
    "header = ['frame', 'animal_id', 'x', 'y', 'w', 'h', 'a', 'b', 'c', 'd']\n",
    "\n",
    "detections = pd.read_csv(path + \"results.txt\", header = 0, names = header)\n",
    "\n",
    "detections"
   ]
  },
  {
   "cell_type": "code",
   "execution_count": 30,
   "id": "straight-sellers",
   "metadata": {},
   "outputs": [
    {
     "data": {
      "text/plain": [
       "<matplotlib.collections.PathCollection at 0x7f15dd9d6040>"
      ]
     },
     "execution_count": 30,
     "metadata": {},
     "output_type": "execute_result"
    },
    {
     "data": {
      "image/png": "[encoded data removed]",
      "text/plain": [
       "<Figure size 720x504 with 1 Axes>"
      ]
     },
     "metadata": {
      "needs_background": "light"
     },
     "output_type": "display_data"
    }
   ],
   "source": [
    "fig, ax = plt.subplots(figsize=(10, 7))\n",
    "\n",
    "ax.scatter(detections.frame, detections.animal_id, c = detections.animal_id)"
   ]
  },
  {
   "cell_type": "code",
   "execution_count": 31,
   "id": "ordered-logistics",
   "metadata": {},
   "outputs": [
    {
     "data": {
      "image/png": "[encoded data removed]",
      "text/plain": [
       "<Figure size 720x504 with 1 Axes>"
      ]
     },
     "metadata": {
      "needs_background": "light"
     },
     "output_type": "display_data"
    }
   ],
   "source": [
    "fig, ax = plt.subplots(figsize=(10, 7))\n",
    "\n",
    "subset = detections.loc[detections.frame == 1]\n",
    "\n",
    "scat = ax.scatter(subset.x, subset.y, c = subset.animal_id, s = 2)"
   ]
  },
  {
   "cell_type": "code",
   "execution_count": 32,
   "id": "nervous-strength",
   "metadata": {},
   "outputs": [],
   "source": [
    "import matplotlib.animation as animation"
   ]
  },
  {
   "cell_type": "code",
   "execution_count": 71,
   "id": "assured-atmosphere",
   "metadata": {},
   "outputs": [
    {
     "data": {
      "image/png": "[encoded data removed]",
      "text/plain": [
       "<Figure size 432x288 with 1 Axes>"
      ]
     },
     "metadata": {
      "needs_background": "light"
     },
     "output_type": "display_data"
    }
   ],
   "source": [
    "\n",
    "\n",
    "# First set up the figure, the axis, and the plot element we want to animate\n",
    "fig = plt.figure()\n",
    "ax = plt.axes(xlim=(0, 1980), ylim=(1088, 0))\n",
    "scat, = ax.plot([], [], 'o', linestyle = '')\n",
    "\n",
    "# animation function.  This is called sequentially\n",
    "def animate(i):\n",
    "    j = max(i-10, 1)\n",
    "    subset = detections.loc[(detections.frame <=i) & (detections.frame >= j)]\n",
    "    x = subset.x\n",
    "    y = subset.y\n",
    "    col = subset.animal_id\n",
    "    scat.set_data(x, y)\n",
    "    return scat,\n",
    "\n",
    "# call the animator.  blit=True means only re-draw the parts that have changed.\n",
    "anim = animation.FuncAnimation(fig, animate, \n",
    "                               frames=390, interval=1, blit=True)\n",
    "\n",
    "\n",
    "anim.save('basic_animation.mp4', fps=30, extra_args=['-vcodec', 'libx264'])\n",
    "\n",
    "plt.show()"
   ]
  },
  {
   "cell_type": "code",
   "execution_count": 43,
   "id": "collected-stretch",
   "metadata": {},
   "outputs": [
    {
     "data": {
      "text/plain": [
       "1"
      ]
     },
     "execution_count": 43,
     "metadata": {},
     "output_type": "execute_result"
    }
   ],
   "source": [
    "max(8-10, 1)"
   ]
  },
  {
   "cell_type": "code",
   "execution_count": 51,
   "id": "right-robinson",
   "metadata": {},
   "outputs": [
    {
     "ename": "ValueError",
     "evalue": "The truth value of a Series is ambiguous. Use a.empty, a.bool(), a.item(), a.any() or a.all().",
     "output_type": "error",
     "traceback": [
      "\u001b[0;31m---------------------------------------------------------------------------\u001b[0m",
      "\u001b[0;31mValueError\u001b[0m                                Traceback (most recent call last)",
      "\u001b[0;32m<ipython-input-51-c13c5fb5efb4>\u001b[0m in \u001b[0;36m<module>\u001b[0;34m\u001b[0m\n\u001b[0;32m----> 1\u001b[0;31m \u001b[0mdetections\u001b[0m\u001b[0;34m.\u001b[0m\u001b[0mframe\u001b[0m \u001b[0;34m<=\u001b[0m \u001b[0;36m12\u001b[0m \u001b[0;32mand\u001b[0m \u001b[0mdetections\u001b[0m\u001b[0;34m.\u001b[0m\u001b[0mframe\u001b[0m \u001b[0;34m>=\u001b[0m \u001b[0;36m2\u001b[0m\u001b[0;34m\u001b[0m\u001b[0;34m\u001b[0m\u001b[0m\n\u001b[0m",
      "\u001b[0;32m/opt/conda/lib/python3.8/site-packages/pandas/core/generic.py\u001b[0m in \u001b[0;36m__nonzero__\u001b[0;34m(self)\u001b[0m\n\u001b[1;32m   1439\u001b[0m     \u001b[0;34m@\u001b[0m\u001b[0mfinal\u001b[0m\u001b[0;34m\u001b[0m\u001b[0;34m\u001b[0m\u001b[0m\n\u001b[1;32m   1440\u001b[0m     \u001b[0;32mdef\u001b[0m \u001b[0m__nonzero__\u001b[0m\u001b[0;34m(\u001b[0m\u001b[0mself\u001b[0m\u001b[0;34m)\u001b[0m\u001b[0;34m:\u001b[0m\u001b[0;34m\u001b[0m\u001b[0;34m\u001b[0m\u001b[0m\n\u001b[0;32m-> 1441\u001b[0;31m         raise ValueError(\n\u001b[0m\u001b[1;32m   1442\u001b[0m             \u001b[0;34mf\"The truth value of a {type(self).__name__} is ambiguous. \"\u001b[0m\u001b[0;34m\u001b[0m\u001b[0;34m\u001b[0m\u001b[0m\n\u001b[1;32m   1443\u001b[0m             \u001b[0;34m\"Use a.empty, a.bool(), a.item(), a.any() or a.all().\"\u001b[0m\u001b[0;34m\u001b[0m\u001b[0;34m\u001b[0m\u001b[0m\n",
      "\u001b[0;31mValueError\u001b[0m: The truth value of a Series is ambiguous. Use a.empty, a.bool(), a.item(), a.any() or a.all()."
     ]
    }
   ],
   "source": [
    "detections.frame <= 12 and detections.frame >= 2"
   ]
  },
  {
   "cell_type": "code",
   "execution_count": null,
   "id": "herbal-maple",
   "metadata": {},
   "outputs": [],
   "source": []
  }
 ],
 "metadata": {
  "kernelspec": {
   "display_name": "Python 3",
   "language": "python",
   "name": "python3"
  },
  "language_info": {
   "codemirror_mode": {
    "name": "ipython",
    "version": 3
   },
   "file_extension": ".py",
   "mimetype": "text/x-python",
   "name": "python",
   "nbconvert_exporter": "python",
   "pygments_lexer": "ipython3",
   "version": "3.8.6"
  }
 },
 "nbformat": 4,
 "nbformat_minor": 5
}
