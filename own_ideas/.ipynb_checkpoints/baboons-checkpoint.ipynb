{
 "cells": [
  {
   "cell_type": "code",
   "execution_count": 1,
   "id": "complimentary-homeless",
   "metadata": {},
   "outputs": [
    {
     "data": {
      "text/plain": [
       "['/usr/users/vogg/FairMOT/DCNv2',\n",
       " '/opt/conda/envs/FairMOT/lib/python3.8/site-packages',\n",
       " '/usr/users/vogg/FairMOT/src/lib',\n",
       " '/usr/users/vogg/FairMOT/src',\n",
       " '/usr/users/vogg/FairMOT/own_ideas',\n",
       " '/opt/conda/lib/python38.zip',\n",
       " '/opt/conda/lib/python3.8',\n",
       " '/opt/conda/lib/python3.8/lib-dynload',\n",
       " '',\n",
       " '/opt/conda/lib/python3.8/site-packages',\n",
       " '/usr/users/vogg/FairMOT/DCNv2',\n",
       " '/opt/conda/lib/python3.8/site-packages/IPython/extensions',\n",
       " '/home/vogg/.ipython']"
      ]
     },
     "execution_count": 1,
     "metadata": {},
     "output_type": "execute_result"
    }
   ],
   "source": [
    "from __future__ import absolute_import\n",
    "from __future__ import division\n",
    "from __future__ import print_function\n",
    "\n",
    "import os.path as osp\n",
    "import sys\n",
    "#sys.path.insert(0, '/usr/users/vogg/FairMOT/src')\n",
    "#sys.path.insert(0, '/usr/users/vogg/FairMOT/src/lib')\n",
    "#sys.path.insert(0, '/opt/conda/envs/FairMOT/lib/python3.8/site-packages')\n",
    "#sys.path.insert(0, '/usr/users/vogg/FairMOT/DCNv2')\n",
    "#sys.path"
   ]
  },
  {
   "cell_type": "code",
   "execution_count": null,
   "id": "residential-banana",
   "metadata": {},
   "outputs": [],
   "source": []
  }
 ],
 "metadata": {
  "kernelspec": {
   "display_name": "Python 3",
   "language": "python",
   "name": "python3"
  },
  "language_info": {
   "codemirror_mode": {
    "name": "ipython",
    "version": 3
   },
   "file_extension": ".py",
   "mimetype": "text/x-python",
   "name": "python",
   "nbconvert_exporter": "python",
   "pygments_lexer": "ipython3",
   "version": "3.8.6"
  }
 },
 "nbformat": 4,
 "nbformat_minor": 5
}
