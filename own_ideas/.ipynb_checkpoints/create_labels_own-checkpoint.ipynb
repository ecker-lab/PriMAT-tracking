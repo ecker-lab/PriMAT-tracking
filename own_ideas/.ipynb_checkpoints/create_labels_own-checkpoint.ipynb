{
 "cells": [
  {
   "cell_type": "code",
   "execution_count": 333,
   "id": "minus-workplace",
   "metadata": {},
   "outputs": [
    {
     "data": {
      "text/plain": [
       "'/usr/users/vogg/FairMOT/own_ideas'"
      ]
     },
     "execution_count": 333,
     "metadata": {},
     "output_type": "execute_result"
    }
   ],
   "source": [
    "import numpy as np\n",
    "import pandas as pd\n",
    "import os\n",
    "import re\n",
    "import matplotlib.pyplot as plt\n",
    "from PIL import Image\n",
    "\n",
    "os.getcwd()"
   ]
  },
  {
   "cell_type": "markdown",
   "id": "confused-palestine",
   "metadata": {},
   "source": [
    "## Converting VoTT output\n",
    "\n",
    "After labeling with VoTT, we obtain a .csv file, which we convert into many .txt files, one file for every frame. These will be saved in a folder called labels_with_ids (if it does not exist you have to create it."
   ]
  },
  {
   "cell_type": "code",
   "execution_count": 327,
   "id": "involved-family",
   "metadata": {},
   "outputs": [],
   "source": [
    "data_root = \"/usr/users/vogg/Labelling/Baboons/\""
   ]
  },
  {
   "cell_type": "code",
   "execution_count": 328,
   "id": "metric-oracle",
   "metadata": {},
   "outputs": [],
   "source": [
    "labels = pd.read_csv(data_root + \"images/Baboon-finder-export.csv\")"
   ]
  },
  {
   "cell_type": "code",
   "execution_count": 329,
   "id": "inappropriate-reviewer",
   "metadata": {},
   "outputs": [
    {
     "data": {
      "text/html": [
       "<div>\n",
       "<style scoped>\n",
       "    .dataframe tbody tr th:only-of-type {\n",
       "        vertical-align: middle;\n",
       "    }\n",
       "\n",
       "    .dataframe tbody tr th {\n",
       "        vertical-align: top;\n",
       "    }\n",
       "\n",
       "    .dataframe thead th {\n",
       "        text-align: right;\n",
       "    }\n",
       "</style>\n",
       "<table border=\"1\" class=\"dataframe\">\n",
       "  <thead>\n",
       "    <tr style=\"text-align: right;\">\n",
       "      <th></th>\n",
       "      <th>image</th>\n",
       "      <th>xmin</th>\n",
       "      <th>ymin</th>\n",
       "      <th>xmax</th>\n",
       "      <th>ymax</th>\n",
       "      <th>label</th>\n",
       "    </tr>\n",
       "  </thead>\n",
       "  <tbody>\n",
       "    <tr>\n",
       "      <th>0</th>\n",
       "      <td>IMAG0043%20-%202015%20-%20jan%20-%20ct3.JPG</td>\n",
       "      <td>352.207792</td>\n",
       "      <td>292.987013</td>\n",
       "      <td>574.545455</td>\n",
       "      <td>610.909091</td>\n",
       "      <td>baboon</td>\n",
       "    </tr>\n",
       "    <tr>\n",
       "      <th>1</th>\n",
       "      <td>IMAG0043%20-%202015%20-%20jan%20-%20ct3.JPG</td>\n",
       "      <td>1.038961</td>\n",
       "      <td>280.519481</td>\n",
       "      <td>437.402597</td>\n",
       "      <td>718.961039</td>\n",
       "      <td>baboon</td>\n",
       "    </tr>\n",
       "    <tr>\n",
       "      <th>2</th>\n",
       "      <td>IMAG0043%20-%202015%20-%20jan%20-%20ct3.JPG</td>\n",
       "      <td>929.870130</td>\n",
       "      <td>480.000000</td>\n",
       "      <td>1220.779221</td>\n",
       "      <td>700.259740</td>\n",
       "      <td>baboon</td>\n",
       "    </tr>\n",
       "    <tr>\n",
       "      <th>3</th>\n",
       "      <td>IMAG0043%20-%202015%20-%20jan%20-%20ct3.JPG</td>\n",
       "      <td>545.454545</td>\n",
       "      <td>309.610390</td>\n",
       "      <td>1204.155844</td>\n",
       "      <td>775.064935</td>\n",
       "      <td>baboon</td>\n",
       "    </tr>\n",
       "    <tr>\n",
       "      <th>4</th>\n",
       "      <td>IMAG0043%20-%202015%20-%20jan%20-%20ct3.JPG</td>\n",
       "      <td>1285.194805</td>\n",
       "      <td>658.701299</td>\n",
       "      <td>1628.051948</td>\n",
       "      <td>955.844156</td>\n",
       "      <td>baboon</td>\n",
       "    </tr>\n",
       "  </tbody>\n",
       "</table>\n",
       "</div>"
      ],
      "text/plain": [
       "                                         image         xmin        ymin  \\\n",
       "0  IMAG0043%20-%202015%20-%20jan%20-%20ct3.JPG   352.207792  292.987013   \n",
       "1  IMAG0043%20-%202015%20-%20jan%20-%20ct3.JPG     1.038961  280.519481   \n",
       "2  IMAG0043%20-%202015%20-%20jan%20-%20ct3.JPG   929.870130  480.000000   \n",
       "3  IMAG0043%20-%202015%20-%20jan%20-%20ct3.JPG   545.454545  309.610390   \n",
       "4  IMAG0043%20-%202015%20-%20jan%20-%20ct3.JPG  1285.194805  658.701299   \n",
       "\n",
       "          xmax        ymax   label  \n",
       "0   574.545455  610.909091  baboon  \n",
       "1   437.402597  718.961039  baboon  \n",
       "2  1220.779221  700.259740  baboon  \n",
       "3  1204.155844  775.064935  baboon  \n",
       "4  1628.051948  955.844156  baboon  "
      ]
     },
     "execution_count": 329,
     "metadata": {},
     "output_type": "execute_result"
    }
   ],
   "source": [
    "labels.head()"
   ]
  },
  {
   "cell_type": "code",
   "execution_count": 330,
   "id": "dated-speaker",
   "metadata": {},
   "outputs": [],
   "source": [
    "img_list = os.listdir(data_root + \"images\")\n",
    "regex = re.compile('.*JPG')\n",
    "img_list = sorted([i for i in img_list if regex.match(i)])"
   ]
  },
  {
   "cell_type": "code",
   "execution_count": 331,
   "id": "nervous-program",
   "metadata": {},
   "outputs": [
    {
     "data": {
      "text/plain": [
       "1920"
      ]
     },
     "execution_count": 331,
     "metadata": {},
     "output_type": "execute_result"
    }
   ],
   "source": [
    "img_id = img_list[1]\n",
    "\n",
    "img = np.asarray(Image.open(data_root + \"images/\" + img_id))\n",
    "#fig, ax = plt.subplots(figsize=(640/96, 640/96), dpi=96)\n",
    "#ax.imshow(img)\n",
    "img_h, img_w, _ = img.shape\n",
    "img_h"
   ]
  },
  {
   "cell_type": "code",
   "execution_count": 332,
   "id": "extra-toyota",
   "metadata": {},
   "outputs": [],
   "source": [
    "i_monkey = 0\n",
    "\n",
    "for img_id in img_list:\n",
    "    idx = np.where(labels.image == img_id)\n",
    "    image_labels = labels.iloc[idx]\n",
    "    \n",
    "    label_fpath = data_root + \"labels_with_ids/\" + re.sub(\".JPG\", \".txt\", img_id)\n",
    "\n",
    "    img = np.asarray(Image.open(data_root + \"images/\" + img_id))\n",
    "    img_h, img_w, _ = img.shape\n",
    "\n",
    "    for index, row in image_labels.iterrows():\n",
    "\n",
    "        #if row.label == \"baboon\":\n",
    "        x_center = row.xmin + (row.xmax - row.xmin)/2\n",
    "        y_center = row.ymin + (row.ymax - row.ymin)/2\n",
    "        w = row.xmax - row.xmin\n",
    "        h = row.ymax - row.ymin\n",
    "\n",
    "        #i_monkey = row.label\n",
    "\n",
    "        img_id = re.sub(\"[.]jpg\",\"\", img_id)\n",
    "        #Label-String schreiben.\n",
    "\n",
    "        label_str = '0 {:d} {:.6f} {:.6f} {:.6f} {:.6f}\\n'.format(\n",
    "                i_monkey, x_center / img_w, y_center / img_h, w / img_w, h / img_h)\n",
    "\n",
    "        i_monkey += 1\n",
    "        with open(label_fpath, 'a') as f:\n",
    "            f.write(label_str)\n",
    "\n",
    "\n",
    "            "
   ]
  },
  {
   "cell_type": "markdown",
   "id": "racial-craps",
   "metadata": {},
   "source": [
    "### Converting CVAT output\n",
    "\n",
    "Data comes in separate files."
   ]
  },
  {
   "cell_type": "code",
   "execution_count": 341,
   "id": "useful-madrid",
   "metadata": {},
   "outputs": [],
   "source": [
    "video_id = 'VID_20210228_153846_0'\n",
    "\n",
    "data_root = \"/usr/users/agecker/datasets/macaque_videos/\"\n",
    "\n",
    "path_o = data_root + video_id + \"/obj_train_data/\"\n",
    "\n",
    "frame_list = os.listdir(path_o)\n",
    "frame_list.sort()"
   ]
  },
  {
   "cell_type": "code",
   "execution_count": 342,
   "id": "impaired-harmony",
   "metadata": {},
   "outputs": [
    {
     "name": "stdout",
     "output_type": "stream",
     "text": [
      "361\n"
     ]
    }
   ],
   "source": [
    "regex = re.compile('.*txt')\n",
    "frame_list = [i for i in frame_list if regex.match(i)]\n",
    "print(len(frame_list))"
   ]
  },
  {
   "cell_type": "code",
   "execution_count": 343,
   "id": "stainless-genius",
   "metadata": {},
   "outputs": [
    {
     "name": "stdout",
     "output_type": "stream",
     "text": [
      "mkdir: cannot create directory ‘/usr/users/agecker/datasets/macaque_videos/VID_20210228_153846_0/labels_with_ids/’: File exists\n"
     ]
    }
   ],
   "source": [
    "\n",
    "!mkdir /usr/users/agecker/datasets/macaque_videos/VID_20210228_153846_0/labels_with_ids/"
   ]
  },
  {
   "cell_type": "code",
   "execution_count": 234,
   "id": "restricted-reviewer",
   "metadata": {},
   "outputs": [],
   "source": [
    "!mkdir /usr/users/agecker/datasets/macaque_videos/VID_20210228_153846_0/images/"
   ]
  },
  {
   "cell_type": "code",
   "execution_count": 235,
   "id": "angry-choir",
   "metadata": {},
   "outputs": [],
   "source": [
    "for frame_id in frame_list:\n",
    "    text = pd.read_csv(path_o + frame_id, names = [1,2,3,4,5], sep = \" \")\n",
    "    text.insert(0, \"z\", np.zeros(len(text)))\n",
    "    text.z = text.z.astype(int)\n",
    "    text.to_csv(data_root + video_id + \"/labels_with_ids/\" + frame_id,\n",
    "                 sep=' ', index=False, header = False)"
   ]
  },
  {
   "cell_type": "markdown",
   "id": "anonymous-humanitarian",
   "metadata": {},
   "source": [
    "## Videos to frames"
   ]
  },
  {
   "cell_type": "code",
   "execution_count": 348,
   "id": "elegant-combat",
   "metadata": {},
   "outputs": [],
   "source": [
    "import cv2\n",
    "import sys\n",
    "#sys.path"
   ]
  },
  {
   "cell_type": "code",
   "execution_count": 349,
   "id": "italian-symphony",
   "metadata": {},
   "outputs": [
    {
     "name": "stdout",
     "output_type": "stream",
     "text": [
      "Frame count: 361\n"
     ]
    }
   ],
   "source": [
    "path = \"/usr/users/agecker/datasets/macaque_videos/\"\n",
    "cap = cv2.VideoCapture(path + \"Videos/\" + video_id + \".mp4\")\n",
    "\n",
    "#Total number of frames\n",
    "frame_count = int(cap.get(cv2.CAP_PROP_FRAME_COUNT))\n",
    "print('Frame count:', frame_count)\n",
    "\n",
    "count = 0"
   ]
  },
  {
   "cell_type": "code",
   "execution_count": 248,
   "id": "alleged-cotton",
   "metadata": {},
   "outputs": [
    {
     "data": {
      "text/plain": [
       "'/usr/users/agecker/datasets/macaque_videos/frame_000000.jpg'"
      ]
     },
     "execution_count": 248,
     "metadata": {},
     "output_type": "execute_result"
    }
   ],
   "source": []
  },
  {
   "cell_type": "code",
   "execution_count": 347,
   "id": "decreased-recognition",
   "metadata": {},
   "outputs": [
    {
     "name": "stdout",
     "output_type": "stream",
     "text": [
      "50\n",
      "100\n",
      "150\n",
      "200\n",
      "250\n",
      "300\n",
      "350\n"
     ]
    }
   ],
   "source": [
    "#%%\n",
    "\n",
    "while count < frame_count:\n",
    "    cap.set(cv2.CAP_PROP_POS_FRAMES, count)\n",
    "    success, image = cap.read()\n",
    "    cv2.imwrite(path + video_id + \"/images/frame_%s.jpg\" % str(count).zfill(6), image)     # save frame as JPEG file\n",
    "    count += 1\n",
    "    if count % 50 == 0:\n",
    "        print(count)"
   ]
  },
  {
   "cell_type": "code",
   "execution_count": null,
   "id": "infectious-electric",
   "metadata": {},
   "outputs": [],
   "source": []
  },
  {
   "cell_type": "markdown",
   "id": "stock-jordan",
   "metadata": {},
   "source": [
    "### All files for training list videos"
   ]
  },
  {
   "cell_type": "code",
   "execution_count": 199,
   "id": "seeing-anime",
   "metadata": {},
   "outputs": [
    {
     "data": {
      "text/plain": [
       "['VID_20210223_123630_0',\n",
       " 'VID_20210224_114038_0',\n",
       " 'VID_20210224_115729_0',\n",
       " 'VID_20210223_123817_0',\n",
       " 'VID_20210224_115455_0',\n",
       " 'VID_20210223_123854_0']"
      ]
     },
     "execution_count": 199,
     "metadata": {},
     "output_type": "execute_result"
    }
   ],
   "source": [
    "path = \"/usr/users/agecker/datasets/macaque_videos/\"\n",
    "\n",
    "vids = os.listdir(path)\n",
    "\n",
    "regex = re.compile('VID_.*')\n",
    "vids = [i for i in vids if regex.match(i)]\n",
    "vids\n"
   ]
  },
  {
   "cell_type": "code",
   "execution_count": 269,
   "id": "specified-florence",
   "metadata": {},
   "outputs": [
    {
     "ename": "KeyboardInterrupt",
     "evalue": "",
     "output_type": "error",
     "traceback": [
      "\u001b[0;31m---------------------------------------------------------------------------\u001b[0m",
      "\u001b[0;31mKeyboardInterrupt\u001b[0m                         Traceback (most recent call last)",
      "\u001b[0;32m<ipython-input-269-fc52f6f3adc6>\u001b[0m in \u001b[0;36m<module>\u001b[0;34m\u001b[0m\n\u001b[1;32m     13\u001b[0m                 \u001b[0mlabel_str\u001b[0m \u001b[0;34m=\u001b[0m  \u001b[0;34m\"macaque_videos/\"\u001b[0m \u001b[0;34m+\u001b[0m \u001b[0mvid\u001b[0m \u001b[0;34m+\u001b[0m \u001b[0;34m\"/images/\"\u001b[0m \u001b[0;34m+\u001b[0m \u001b[0mimg_id\u001b[0m \u001b[0;34m+\u001b[0m \u001b[0;34m\"\\n\"\u001b[0m\u001b[0;34m\u001b[0m\u001b[0;34m\u001b[0m\u001b[0m\n\u001b[1;32m     14\u001b[0m \u001b[0;34m\u001b[0m\u001b[0m\n\u001b[0;32m---> 15\u001b[0;31m                 \u001b[0;32mwith\u001b[0m \u001b[0mopen\u001b[0m\u001b[0;34m(\u001b[0m\u001b[0mlabel_fpath\u001b[0m\u001b[0;34m,\u001b[0m \u001b[0;34m'a'\u001b[0m\u001b[0;34m)\u001b[0m \u001b[0;32mas\u001b[0m \u001b[0mf\u001b[0m\u001b[0;34m:\u001b[0m\u001b[0;34m\u001b[0m\u001b[0;34m\u001b[0m\u001b[0m\n\u001b[0m\u001b[1;32m     16\u001b[0m                     \u001b[0mf\u001b[0m\u001b[0;34m.\u001b[0m\u001b[0mwrite\u001b[0m\u001b[0;34m(\u001b[0m\u001b[0mlabel_str\u001b[0m\u001b[0;34m)\u001b[0m\u001b[0;34m\u001b[0m\u001b[0;34m\u001b[0m\u001b[0m\n",
      "\u001b[0;32m/opt/conda/lib/python3.8/_bootlocale.py\u001b[0m in \u001b[0;36mgetpreferredencoding\u001b[0;34m(do_setlocale)\u001b[0m\n\u001b[1;32m     31\u001b[0m                 \u001b[0;32mreturn\u001b[0m \u001b[0mlocale\u001b[0m\u001b[0;34m.\u001b[0m\u001b[0mgetpreferredencoding\u001b[0m\u001b[0;34m(\u001b[0m\u001b[0mdo_setlocale\u001b[0m\u001b[0;34m)\u001b[0m\u001b[0;34m\u001b[0m\u001b[0;34m\u001b[0m\u001b[0m\n\u001b[1;32m     32\u001b[0m     \u001b[0;32melse\u001b[0m\u001b[0;34m:\u001b[0m\u001b[0;34m\u001b[0m\u001b[0;34m\u001b[0m\u001b[0m\n\u001b[0;32m---> 33\u001b[0;31m         \u001b[0;32mdef\u001b[0m \u001b[0mgetpreferredencoding\u001b[0m\u001b[0;34m(\u001b[0m\u001b[0mdo_setlocale\u001b[0m\u001b[0;34m=\u001b[0m\u001b[0;32mTrue\u001b[0m\u001b[0;34m)\u001b[0m\u001b[0;34m:\u001b[0m\u001b[0;34m\u001b[0m\u001b[0;34m\u001b[0m\u001b[0m\n\u001b[0m\u001b[1;32m     34\u001b[0m             \u001b[0;32massert\u001b[0m \u001b[0;32mnot\u001b[0m \u001b[0mdo_setlocale\u001b[0m\u001b[0;34m\u001b[0m\u001b[0;34m\u001b[0m\u001b[0m\n\u001b[1;32m     35\u001b[0m             \u001b[0;32mif\u001b[0m \u001b[0msys\u001b[0m\u001b[0;34m.\u001b[0m\u001b[0mflags\u001b[0m\u001b[0;34m.\u001b[0m\u001b[0mutf8_mode\u001b[0m\u001b[0;34m:\u001b[0m\u001b[0;34m\u001b[0m\u001b[0;34m\u001b[0m\u001b[0m\n",
      "\u001b[0;31mKeyboardInterrupt\u001b[0m: "
     ]
    }
   ],
   "source": [
    "for i, out_vid in enumerate(vids):\n",
    "    temp_vids = [x for x in vids if x != out_vid]\n",
    "    \n",
    "    for vid in temp_vids:\n",
    "        img_ids = os.listdir(path + vid + \"/images\")\n",
    "\n",
    "\n",
    "        label_fpath = \"/usr/users/vogg/FairMOT/src/data/wildmacaques\" + str(i) + \".train\"\n",
    "        regex = re.compile(\"frame.*\")\n",
    "        for img_id in sorted(img_ids):\n",
    "\n",
    "            if regex.match(img_id):\n",
    "                label_str =  \"macaque_videos/\" + vid + \"/images/\" + img_id + \"\\n\"\n",
    "\n",
    "                with open(label_fpath, 'a') as f:\n",
    "                    f.write(label_str)"
   ]
  },
  {
   "cell_type": "markdown",
   "id": "metric-handbook",
   "metadata": {},
   "source": [
    "### Make files for training list images"
   ]
  },
  {
   "cell_type": "code",
   "execution_count": 272,
   "id": "promising-weapon",
   "metadata": {},
   "outputs": [],
   "source": [
    "for img_id in img_list:\n",
    "    label_fpath = \"/usr/users/vogg/FairMOT/src/data/baboons.train\"\n",
    "\n",
    "    label_str =  \"Baboons/images/\" + img_id + \"\\n\"\n",
    "\n",
    "    with open(label_fpath, 'a') as f:\n",
    "        f.write(label_str)"
   ]
  },
  {
   "cell_type": "code",
   "execution_count": null,
   "id": "concerned-knitting",
   "metadata": {},
   "outputs": [],
   "source": []
  }
 ],
 "metadata": {
  "interpreter": {
   "hash": "916dbcbb3f70747c44a77c7bcd40155683ae19c65e1c03b4aa3499c5328201f1"
  },
  "kernelspec": {
   "display_name": "Python 3",
   "language": "python",
   "name": "python3"
  },
  "language_info": {
   "codemirror_mode": {
    "name": "ipython",
    "version": 3
   },
   "file_extension": ".py",
   "mimetype": "text/x-python",
   "name": "python",
   "nbconvert_exporter": "python",
   "pygments_lexer": "ipython3",
   "version": "3.8.6"
  }
 },
 "nbformat": 4,
 "nbformat_minor": 5
}
