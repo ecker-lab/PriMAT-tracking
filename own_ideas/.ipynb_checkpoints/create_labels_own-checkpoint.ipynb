{
 "cells": [
  {
   "cell_type": "code",
   "execution_count": 182,
   "id": "sharp-trunk",
   "metadata": {},
   "outputs": [
    {
     "data": {
      "text/plain": [
       "'/usr/users/vogg/FairMOT/own_ideas'"
      ]
     },
     "execution_count": 182,
     "metadata": {},
     "output_type": "execute_result"
    }
   ],
   "source": [
    "import numpy as np\n",
    "import pandas as pd\n",
    "import os\n",
    "import re\n",
    "import matplotlib.pyplot as plt\n",
    "from PIL import Image\n",
    "\n",
    "os.getcwd()"
   ]
  },
  {
   "cell_type": "markdown",
   "id": "liquid-sheet",
   "metadata": {},
   "source": [
    "## Converting VoTT output\n",
    "\n",
    "After labeling with VoTT, we obtain a .csv file, which we convert into "
   ]
  },
  {
   "cell_type": "code",
   "execution_count": 2,
   "id": "union-spencer",
   "metadata": {},
   "outputs": [],
   "source": [
    "data_root = \"/usr/users/vogg/test/\""
   ]
  },
  {
   "cell_type": "code",
   "execution_count": 3,
   "id": "curious-setting",
   "metadata": {},
   "outputs": [],
   "source": [
    "labels = pd.read_csv(data_root + \"Validation-export.csv\")"
   ]
  },
  {
   "cell_type": "code",
   "execution_count": 4,
   "id": "handy-fighter",
   "metadata": {},
   "outputs": [
    {
     "data": {
      "text/html": [
       "<div>\n",
       "<style scoped>\n",
       "    .dataframe tbody tr th:only-of-type {\n",
       "        vertical-align: middle;\n",
       "    }\n",
       "\n",
       "    .dataframe tbody tr th {\n",
       "        vertical-align: top;\n",
       "    }\n",
       "\n",
       "    .dataframe thead th {\n",
       "        text-align: right;\n",
       "    }\n",
       "</style>\n",
       "<table border=\"1\" class=\"dataframe\">\n",
       "  <thead>\n",
       "    <tr style=\"text-align: right;\">\n",
       "      <th></th>\n",
       "      <th>image</th>\n",
       "      <th>xmin</th>\n",
       "      <th>ymin</th>\n",
       "      <th>xmax</th>\n",
       "      <th>ymax</th>\n",
       "      <th>label</th>\n",
       "    </tr>\n",
       "  </thead>\n",
       "  <tbody>\n",
       "    <tr>\n",
       "      <th>0</th>\n",
       "      <td>VID_20210223_123551.mp4#t=0.jpg</td>\n",
       "      <td>61.029412</td>\n",
       "      <td>10.690080</td>\n",
       "      <td>324.535604</td>\n",
       "      <td>360.552179</td>\n",
       "      <td>1</td>\n",
       "    </tr>\n",
       "    <tr>\n",
       "      <th>1</th>\n",
       "      <td>VID_20210223_123551.mp4#t=0.jpg</td>\n",
       "      <td>675.526316</td>\n",
       "      <td>662.877867</td>\n",
       "      <td>948.885449</td>\n",
       "      <td>999.061927</td>\n",
       "      <td>2</td>\n",
       "    </tr>\n",
       "    <tr>\n",
       "      <th>2</th>\n",
       "      <td>VID_20210223_123551.mp4#t=0.jpg</td>\n",
       "      <td>939.047988</td>\n",
       "      <td>774.368979</td>\n",
       "      <td>1139.520124</td>\n",
       "      <td>1075.262615</td>\n",
       "      <td>3</td>\n",
       "    </tr>\n",
       "    <tr>\n",
       "      <th>3</th>\n",
       "      <td>VID_20210223_123551.mp4#t=0.jpg</td>\n",
       "      <td>919.032508</td>\n",
       "      <td>628.144782</td>\n",
       "      <td>1068.119195</td>\n",
       "      <td>794.471904</td>\n",
       "      <td>4</td>\n",
       "    </tr>\n",
       "    <tr>\n",
       "      <th>4</th>\n",
       "      <td>VID_20210223_123551.mp4#t=0.jpg</td>\n",
       "      <td>1335.394737</td>\n",
       "      <td>204.613245</td>\n",
       "      <td>1559.976780</td>\n",
       "      <td>540.263188</td>\n",
       "      <td>5</td>\n",
       "    </tr>\n",
       "    <tr>\n",
       "      <th>...</th>\n",
       "      <td>...</td>\n",
       "      <td>...</td>\n",
       "      <td>...</td>\n",
       "      <td>...</td>\n",
       "      <td>...</td>\n",
       "      <td>...</td>\n",
       "    </tr>\n",
       "    <tr>\n",
       "      <th>908</th>\n",
       "      <td>VID_20210223_123551.mp4#t=10.333333.jpg</td>\n",
       "      <td>782.662539</td>\n",
       "      <td>642.055046</td>\n",
       "      <td>921.362229</td>\n",
       "      <td>943.266055</td>\n",
       "      <td>1</td>\n",
       "    </tr>\n",
       "    <tr>\n",
       "      <th>909</th>\n",
       "      <td>VID_20210223_123551.mp4#t=10.333333.jpg</td>\n",
       "      <td>671.702786</td>\n",
       "      <td>672.786124</td>\n",
       "      <td>899.566563</td>\n",
       "      <td>1070.091743</td>\n",
       "      <td>2</td>\n",
       "    </tr>\n",
       "    <tr>\n",
       "      <th>910</th>\n",
       "      <td>VID_20210223_123551.mp4#t=10.333333.jpg</td>\n",
       "      <td>1523.715170</td>\n",
       "      <td>430.018349</td>\n",
       "      <td>1719.876161</td>\n",
       "      <td>725.284404</td>\n",
       "      <td>3</td>\n",
       "    </tr>\n",
       "    <tr>\n",
       "      <th>911</th>\n",
       "      <td>VID_20210223_123551.mp4#t=10.333333.jpg</td>\n",
       "      <td>1278.018576</td>\n",
       "      <td>231.853211</td>\n",
       "      <td>1501.919505</td>\n",
       "      <td>529.100917</td>\n",
       "      <td>5</td>\n",
       "    </tr>\n",
       "    <tr>\n",
       "      <th>912</th>\n",
       "      <td>VID_20210223_123551.mp4#t=10.333333.jpg</td>\n",
       "      <td>885.696594</td>\n",
       "      <td>530.254300</td>\n",
       "      <td>1054.117647</td>\n",
       "      <td>854.091743</td>\n",
       "      <td>6</td>\n",
       "    </tr>\n",
       "  </tbody>\n",
       "</table>\n",
       "<p>913 rows × 6 columns</p>\n",
       "</div>"
      ],
      "text/plain": [
       "                                       image         xmin        ymin  \\\n",
       "0            VID_20210223_123551.mp4#t=0.jpg    61.029412   10.690080   \n",
       "1            VID_20210223_123551.mp4#t=0.jpg   675.526316  662.877867   \n",
       "2            VID_20210223_123551.mp4#t=0.jpg   939.047988  774.368979   \n",
       "3            VID_20210223_123551.mp4#t=0.jpg   919.032508  628.144782   \n",
       "4            VID_20210223_123551.mp4#t=0.jpg  1335.394737  204.613245   \n",
       "..                                       ...          ...         ...   \n",
       "908  VID_20210223_123551.mp4#t=10.333333.jpg   782.662539  642.055046   \n",
       "909  VID_20210223_123551.mp4#t=10.333333.jpg   671.702786  672.786124   \n",
       "910  VID_20210223_123551.mp4#t=10.333333.jpg  1523.715170  430.018349   \n",
       "911  VID_20210223_123551.mp4#t=10.333333.jpg  1278.018576  231.853211   \n",
       "912  VID_20210223_123551.mp4#t=10.333333.jpg   885.696594  530.254300   \n",
       "\n",
       "            xmax         ymax  label  \n",
       "0     324.535604   360.552179      1  \n",
       "1     948.885449   999.061927      2  \n",
       "2    1139.520124  1075.262615      3  \n",
       "3    1068.119195   794.471904      4  \n",
       "4    1559.976780   540.263188      5  \n",
       "..           ...          ...    ...  \n",
       "908   921.362229   943.266055      1  \n",
       "909   899.566563  1070.091743      2  \n",
       "910  1719.876161   725.284404      3  \n",
       "911  1501.919505   529.100917      5  \n",
       "912  1054.117647   854.091743      6  \n",
       "\n",
       "[913 rows x 6 columns]"
      ]
     },
     "execution_count": 4,
     "metadata": {},
     "output_type": "execute_result"
    }
   ],
   "source": [
    "labels.head"
   ]
  },
  {
   "cell_type": "code",
   "execution_count": 5,
   "id": "another-offering",
   "metadata": {},
   "outputs": [],
   "source": [
    "img_list = labels['image'].unique()"
   ]
  },
  {
   "cell_type": "code",
   "execution_count": 8,
   "id": "standard-decision",
   "metadata": {},
   "outputs": [],
   "source": [
    "img_id = img_list[0]\n",
    "\n",
    "img = np.asarray(Image.open(data_root + \"images/\" + img_id))\n",
    "#fig, ax = plt.subplots(figsize=(640/96, 640/96), dpi=96)\n",
    "#ax.imshow(img)\n",
    "img_h, img_w, _ = img.shape"
   ]
  },
  {
   "cell_type": "code",
   "execution_count": 9,
   "id": "annoying-bicycle",
   "metadata": {},
   "outputs": [
    {
     "data": {
      "text/plain": [
       "1920"
      ]
     },
     "execution_count": 9,
     "metadata": {},
     "output_type": "execute_result"
    }
   ],
   "source": [
    "img_w"
   ]
  },
  {
   "cell_type": "code",
   "execution_count": null,
   "id": "selected-banner",
   "metadata": {},
   "outputs": [],
   "source": [
    "for img_id in img_list:\n",
    "    idx = np.where(labels.image == img_id)\n",
    "    image_labels = labels.iloc[idx]\n",
    "    \n",
    "    for index, row in image_labels.iterrows():\n",
    "        x_center = row.xmin + (row.xmax - row.xmin)/2\n",
    "        y_center = row.ymin + (row.ymax - row.ymin)/2\n",
    "        w = row.xmax - row.xmin\n",
    "        h = row.ymax - row.ymin\n",
    "        \n",
    "        i_monkey = row.label\n",
    "\n",
    "        img_id = re.sub(\"[.]jpg\",\"\", img_id)\n",
    "        #Label-String schreiben.\n",
    "        label_fpath = data_root + \"labels_with_ids/\" + img_id +'.txt'\n",
    "\n",
    "        label_str = '0 {:d} {:.6f} {:.6f} {:.6f} {:.6f}\\n'.format(\n",
    "                i_monkey, x_center / img_w, y_center / img_h, w / img_w, h / img_h)\n",
    "\n",
    "        with open(label_fpath, 'a') as f:\n",
    "            f.write(label_str)"
   ]
  },
  {
   "cell_type": "markdown",
   "id": "young-inflation",
   "metadata": {},
   "source": [
    "### Converting CVAT output\n",
    "\n",
    "Data comes in separate files."
   ]
  },
  {
   "cell_type": "code",
   "execution_count": 193,
   "id": "lesser-major",
   "metadata": {},
   "outputs": [],
   "source": [
    "video_id = 'VID_20210224_115729_0'\n",
    "\n",
    "data_root = \"/usr/users/agecker/datasets/macaque_videos/\"\n",
    "\n",
    "path_o = data_root + video_id + \"/obj_train_data/\"\n",
    "\n",
    "frame_list = os.listdir(path_o)\n",
    "frame_list.sort()"
   ]
  },
  {
   "cell_type": "code",
   "execution_count": 194,
   "id": "aging-gambling",
   "metadata": {},
   "outputs": [
    {
     "name": "stdout",
     "output_type": "stream",
     "text": [
      "361\n"
     ]
    }
   ],
   "source": [
    "regex = re.compile('.*txt')\n",
    "frame_list = [i for i in frame_list if regex.match(i)]\n",
    "print(len(frame_list))"
   ]
  },
  {
   "cell_type": "code",
   "execution_count": 195,
   "id": "quarterly-british",
   "metadata": {},
   "outputs": [],
   "source": [
    "\n",
    "!mkdir /usr/users/agecker/datasets/macaque_videos/VID_20210224_115729_0/labels_with_ids/"
   ]
  },
  {
   "cell_type": "code",
   "execution_count": 196,
   "id": "optional-azerbaijan",
   "metadata": {},
   "outputs": [],
   "source": [
    "!mkdir /usr/users/agecker/datasets/macaque_videos/VID_20210224_115729_0/images/"
   ]
  },
  {
   "cell_type": "code",
   "execution_count": 197,
   "id": "casual-addition",
   "metadata": {},
   "outputs": [],
   "source": [
    "for frame_id in frame_list:\n",
    "    text = pd.read_csv(path_o + frame_id, names = [1,2,3,4,5], sep = \" \")\n",
    "    text.insert(0, \"z\", np.zeros(len(text)))\n",
    "    text.z = text.z.astype(int)\n",
    "    text.to_csv(data_root + video_id + \"/labels_with_ids/\" + frame_id,\n",
    "                 sep=' ', index=False, header = False)"
   ]
  },
  {
   "cell_type": "markdown",
   "id": "incomplete-alabama",
   "metadata": {},
   "source": [
    "## Videos to frames"
   ]
  },
  {
   "cell_type": "code",
   "execution_count": 234,
   "id": "mysterious-journalism",
   "metadata": {},
   "outputs": [],
   "source": [
    "import cv2\n",
    "import sys"
   ]
  },
  {
   "cell_type": "code",
   "execution_count": 235,
   "id": "elder-cincinnati",
   "metadata": {},
   "outputs": [
    {
     "data": {
      "text/plain": [
       "['/usr/users/vogg/FairMOT/DCNv2',\n",
       " '/opt/conda/envs/FairMOT/lib/python3.8/site-packages',\n",
       " '/usr/users/vogg/FairMOT/src/lib',\n",
       " '/usr/users/vogg/FairMOT/src',\n",
       " '/usr/users/vogg/FairMOT/own_ideas',\n",
       " '/opt/conda/lib/python38.zip',\n",
       " '/opt/conda/lib/python3.8',\n",
       " '/opt/conda/lib/python3.8/lib-dynload',\n",
       " '',\n",
       " '/opt/conda/lib/python3.8/site-packages',\n",
       " '/opt/conda/lib/python3.8/site-packages/IPython/extensions',\n",
       " '/home/vogg/.ipython']"
      ]
     },
     "execution_count": 235,
     "metadata": {},
     "output_type": "execute_result"
    }
   ],
   "source": [
    "sys.path"
   ]
  },
  {
   "cell_type": "code",
   "execution_count": 247,
   "id": "solved-destruction",
   "metadata": {},
   "outputs": [
    {
     "name": "stdout",
     "output_type": "stream",
     "text": [
      "Frame count: 361\n"
     ]
    }
   ],
   "source": [
    "path = \"/usr/users/agecker/datasets/macaque_videos/\"\n",
    "cap = cv2.VideoCapture(path + \"Videos/\" + video_id + \".mp4\")\n",
    "\n",
    "#Total number of frames\n",
    "frame_count = int(cap.get(cv2.CAP_PROP_FRAME_COUNT))\n",
    "print('Frame count:', frame_count)\n",
    "\n",
    "count = 0"
   ]
  },
  {
   "cell_type": "code",
   "execution_count": 248,
   "id": "periodic-sport",
   "metadata": {},
   "outputs": [
    {
     "data": {
      "text/plain": [
       "'/usr/users/agecker/datasets/macaque_videos/frame_000000.jpg'"
      ]
     },
     "execution_count": 248,
     "metadata": {},
     "output_type": "execute_result"
    }
   ],
   "source": []
  },
  {
   "cell_type": "code",
   "execution_count": 249,
   "id": "mineral-brown",
   "metadata": {},
   "outputs": [
    {
     "name": "stdout",
     "output_type": "stream",
     "text": [
      "50\n",
      "100\n",
      "150\n",
      "200\n",
      "250\n",
      "300\n",
      "350\n"
     ]
    }
   ],
   "source": [
    "#%%\n",
    "\n",
    "while count < frame_count:\n",
    "    cap.set(cv2.CAP_PROP_POS_FRAMES, count)\n",
    "    success, image = cap.read()\n",
    "    cv2.imwrite(path + vid_id + \"/images/frame_%s.jpg\" % str(count).zfill(6), image)     # save frame as JPEG file\n",
    "    count += 1\n",
    "    if count % 50 == 0:\n",
    "        print(count)"
   ]
  },
  {
   "cell_type": "code",
   "execution_count": null,
   "id": "cultural-outreach",
   "metadata": {},
   "outputs": [],
   "source": []
  },
  {
   "cell_type": "markdown",
   "id": "wireless-concentration",
   "metadata": {},
   "source": [
    "### Create list of all files"
   ]
  },
  {
   "cell_type": "code",
   "execution_count": null,
   "id": "opponent-present",
   "metadata": {},
   "outputs": [],
   "source": [
    "path = \"/usr/users/agecker/datasets/macaque_videos/\"\n",
    "\n",
    "vids = os.listdir(path)\n",
    "\n",
    "regex = re.compile('VID_.*')\n",
    "vids = [i for i in vids if regex.match(i)]\n",
    "vids\n"
   ]
  },
  {
   "cell_type": "code",
   "execution_count": 181,
   "id": "minimal-happening",
   "metadata": {},
   "outputs": [],
   "source": [
    "for vid in vids[1:]:\n",
    "    img_ids = os.listdir(path + vid + \"/images\")\n",
    "    \n",
    "    \n",
    "    label_fpath = \"/usr/users/vogg/FairMOT/src/data/wildmacaques.train\"\n",
    "    regex = re.compile(\"frame.*\")\n",
    "    for img_id in sorted(img_ids):\n",
    "        \n",
    "        if regex.match(img_id):\n",
    "            label_str =  \"macaque_videos/\" + vid + \"/images/\" + img_id + \"\\n\"\n",
    "\n",
    "            with open(label_fpath, 'a') as f:\n",
    "                f.write(label_str)"
   ]
  },
  {
   "cell_type": "code",
   "execution_count": null,
   "id": "efficient-defendant",
   "metadata": {},
   "outputs": [],
   "source": []
  }
 ],
 "metadata": {
  "interpreter": {
   "hash": "916dbcbb3f70747c44a77c7bcd40155683ae19c65e1c03b4aa3499c5328201f1"
  },
  "kernelspec": {
   "display_name": "Python 3",
   "language": "python",
   "name": "python3"
  },
  "language_info": {
   "codemirror_mode": {
    "name": "ipython",
    "version": 3
   },
   "file_extension": ".py",
   "mimetype": "text/x-python",
   "name": "python",
   "nbconvert_exporter": "python",
   "pygments_lexer": "ipython3",
   "version": "3.8.6"
  }
 },
 "nbformat": 4,
 "nbformat_minor": 5
}
