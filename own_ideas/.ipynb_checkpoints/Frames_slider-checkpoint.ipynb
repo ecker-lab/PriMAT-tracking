{
 "cells": [
  {
   "cell_type": "code",
   "execution_count": 16,
   "id": "wrapped-concrete",
   "metadata": {},
   "outputs": [],
   "source": [
    "import numpy as np\n",
    "import pandas as pd\n",
    "import cv2\n",
    "import matplotlib.pyplot as plt\n",
    "%matplotlib inline\n",
    "import os\n",
    "import re\n",
    "from random import sample\n",
    "from PIL import Image\n",
    "import json\n",
    "import csv\n",
    "\n",
    "\n",
    "#os.getcwd()"
   ]
  },
  {
   "cell_type": "code",
   "execution_count": 17,
   "id": "objective-shape",
   "metadata": {},
   "outputs": [],
   "source": [
    "import ipywidgets as widgets\n",
    "from IPython.display import display"
   ]
  },
  {
   "cell_type": "code",
   "execution_count": 23,
   "id": "innocent-photograph",
   "metadata": {},
   "outputs": [],
   "source": [
    "def plotBBox(img_id, img_path, label_path):\n",
    "    coords = pd.read_csv(label_path + img_id + \".txt\", header = None, \n",
    "                       sep = \" \")\n",
    "    im = cv2.imread(img_path + img_id + \".jpg\")\n",
    "    \n",
    "    im_h, im_w = im.shape[:2]\n",
    "\n",
    "    for i in range(len(coords)):\n",
    "        center = tuple(map(int, (im_w * coords.iloc[i, 2], im_h * coords.iloc[i, 3])))\n",
    "        low_left = tuple(map(int, (im_w * (coords.iloc[i, 2] - coords.iloc[i, 4]/2),\n",
    "                                   im_h * (coords.iloc[i, 3] - coords.iloc[i, 5]/2))))\n",
    "        up_right = tuple(map(int, (im_w * (coords.iloc[i, 2] + coords.iloc[i, 4]/2), \n",
    "                                 im_h * (coords.iloc[i, 3] + coords.iloc[i, 5]/2))))\n",
    "\n",
    "        color = (i * 100 % 255, i * 75 % 255, i * 50 % 255)\n",
    "        im = cv2.circle(im, center, radius = 2, color = color, thickness = 5)\n",
    "        im = cv2.rectangle(im, low_left, up_right, color = color, thickness = 5)\n",
    "        \n",
    "    fig, ax = plt.subplots(figsize=(10, 7))\n",
    "    ax.imshow(cv2.cvtColor(im, cv2.COLOR_BGR2RGB))\n",
    "    #ax.imshow(im)\n",
    "    plt.show()"
   ]
  },
  {
   "cell_type": "markdown",
   "id": "roman-yahoo",
   "metadata": {},
   "source": [
    "**Task: Slider**"
   ]
  },
  {
   "cell_type": "code",
   "execution_count": 19,
   "id": "saved-digit",
   "metadata": {},
   "outputs": [],
   "source": [
    "path_img = '/usr/users/agecker/datasets/macaque_videos/VID_20210223_123630_0/images/'\n",
    "path_lbl = '/usr/users/agecker/datasets/macaque_videos/VID_20210223_123630_0/labels_with_ids/'"
   ]
  },
  {
   "cell_type": "code",
   "execution_count": 20,
   "id": "introductory-stranger",
   "metadata": {},
   "outputs": [],
   "source": [
    "from os import listdir;\n",
    "\n",
    "#frames from 'data/image/' save in list (without ending)\n",
    "def order_frames():\n",
    "    \n",
    "    #sort frames in list\n",
    "    img_dir = sorted(os.listdir(path_img)) \n",
    "    \n",
    "    #remove ending\n",
    "    image = []\n",
    "    for i in img_dir:\n",
    "        image.append(os.path.splitext(i) [0])\n",
    "    \n",
    "    return (image)"
   ]
  },
  {
   "cell_type": "code",
   "execution_count": 21,
   "id": "micro-colon",
   "metadata": {},
   "outputs": [],
   "source": [
    "frames = order_frames()\n",
    "frames.remove(frames[0]) #first element is .ipynb_checkpoint"
   ]
  },
  {
   "cell_type": "code",
   "execution_count": 24,
   "id": "optional-rebate",
   "metadata": {},
   "outputs": [
    {
     "data": {
      "application/vnd.jupyter.widget-view+json": {
       "model_id": "dc8f2ee1040148b49e14f148f3a773e5",
       "version_major": 2,
       "version_minor": 0
      },
      "text/plain": [
       "IntSlider(value=0, description='Frame', max=390)"
      ]
     },
     "metadata": {},
     "output_type": "display_data"
    },
    {
     "data": {
      "application/vnd.jupyter.widget-view+json": {
       "model_id": "834f041fb661435eac51c4a3ba37b649",
       "version_major": 2,
       "version_minor": 0
      },
      "text/plain": [
       "Output()"
      ]
     },
     "metadata": {},
     "output_type": "display_data"
    }
   ],
   "source": [
    "#Changes during slide, possibility that changes occur by release \n",
    "from IPython.display import display, clear_output\n",
    "\n",
    "frame_slider = widgets.IntSlider(description = \"Frame\", min = 0, max = 390)\n",
    "output = widgets.Output()\n",
    "display(frame_slider, output)\n",
    "#with output:\n",
    "#    clear_output()\n",
    "#    plotBBox(frames[0][:-6]+str(frame_slider.value).zfill(6),path_img,path_lbl)\n",
    "    \n",
    "def frame_event_handler(btn):\n",
    "    with output:\n",
    "        clear_output()\n",
    "        plotBBox(frames[0][:-6]+str(frame_slider.value).zfill(6),path_img,path_lbl)\n",
    "        \n",
    "        print(frames[0][:-1]+str(frame_slider.value))\n",
    "        \n",
    "        \n",
    "frame_slider.observe(frame_event_handler)"
   ]
  },
  {
   "cell_type": "code",
   "execution_count": null,
   "id": "aware-flood",
   "metadata": {},
   "outputs": [],
   "source": []
  },
  {
   "cell_type": "code",
   "execution_count": null,
   "id": "unable-monitoring",
   "metadata": {},
   "outputs": [],
   "source": []
  }
 ],
 "metadata": {
  "kernelspec": {
   "display_name": "Python 3",
   "language": "python",
   "name": "python3"
  },
  "language_info": {
   "codemirror_mode": {
    "name": "ipython",
    "version": 3
   },
   "file_extension": ".py",
   "mimetype": "text/x-python",
   "name": "python",
   "nbconvert_exporter": "python",
   "pygments_lexer": "ipython3",
   "version": "3.8.6"
  }
 },
 "nbformat": 4,
 "nbformat_minor": 5
}
