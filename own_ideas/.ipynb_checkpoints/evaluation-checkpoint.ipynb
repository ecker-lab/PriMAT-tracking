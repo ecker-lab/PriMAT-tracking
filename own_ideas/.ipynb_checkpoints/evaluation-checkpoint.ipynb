{
 "cells": [
  {
   "cell_type": "code",
   "execution_count": 108,
   "id": "behavioral-branch",
   "metadata": {},
   "outputs": [],
   "source": [
    "from __future__ import absolute_import\n",
    "from __future__ import division\n",
    "from __future__ import print_function\n",
    "\n",
    "import _init_paths\n",
    "import os.path as osp\n",
    "import sys\n",
    "\n",
    "sys.path.insert(0, \"/usr/users/vogg/FairMOT/own_ideas/\")"
   ]
  },
  {
   "cell_type": "code",
   "execution_count": 47,
   "id": "differential-insight",
   "metadata": {},
   "outputs": [
    {
     "data": {
      "text/plain": [
       "['/usr/users/vogg/FairMOT/DCNv2',\n",
       " '/usr/users/vogg/FairMOT/src/',\n",
       " '/usr/users/vogg/FairMOT/src/lib/',\n",
       " '/opt/conda/envs/FairMOT/src/lib/',\n",
       " '/opt/conda/envs/FairMOT/src/',\n",
       " '/opt/conda/envs/FairMOT',\n",
       " '/opt/conda/envs/FairMOT/lib/python3.8/site-packages',\n",
       " '/usr/users/vogg/FairMOT/own_ideas',\n",
       " '/opt/conda/lib/python38.zip',\n",
       " '/opt/conda/lib/python3.8',\n",
       " '/opt/conda/lib/python3.8/lib-dynload',\n",
       " '',\n",
       " '/opt/conda/lib/python3.8/site-packages',\n",
       " '/opt/conda/lib/python3.8/site-packages/IPython/extensions',\n",
       " '/home/vogg/.ipython']"
      ]
     },
     "execution_count": 47,
     "metadata": {},
     "output_type": "execute_result"
    }
   ],
   "source": [
    "sys.path"
   ]
  },
  {
   "cell_type": "code",
   "execution_count": 102,
   "id": "paperback-shape",
   "metadata": {},
   "outputs": [],
   "source": [
    "import logging\n",
    "import os\n",
    "import re\n",
    "import motmetrics as mm\n",
    "import matplotlib.pyplot as plt\n",
    "\n",
    "from lib.opts import opts\n",
    "from lib.tracking_utils.utils import mkdir_if_missing\n",
    "from lib.tracking_utils.log import logger\n",
    "import lib.datasets.dataset.jde as datasets\n",
    "from track import eval_seq"
   ]
  },
  {
   "cell_type": "code",
   "execution_count": 80,
   "id": "driving-liverpool",
   "metadata": {},
   "outputs": [
    {
     "data": {
      "text/plain": [
       "'/usr/users/vogg/FairMOT/own_ideas'"
      ]
     },
     "execution_count": 80,
     "metadata": {},
     "output_type": "execute_result"
    }
   ],
   "source": [
    "os.getcwd()"
   ]
  },
  {
   "cell_type": "code",
   "execution_count": 50,
   "id": "satisfactory-following",
   "metadata": {},
   "outputs": [],
   "source": [
    "def read_gt_results(filename):\n",
    "    \"\"\"\n",
    "    Input: .txt or .csv file containing labeled from VoTT\n",
    "    \"\"\"\n",
    "    results_dict = dict()\n",
    "    if os.path.isfile(filename):\n",
    "        fid = 0\n",
    "        frid_prior = \"\"\n",
    "        with open(filename, 'r') as f:\n",
    "            next(f)\n",
    "            for line in f.readlines():\n",
    "                linelist = line.split(',')\n",
    "                frid = linelist[0]\n",
    "                if frid != frid_prior:\n",
    "                    fid = fid + 2\n",
    "                frid_prior = frid    \n",
    "                    \n",
    "                results_dict.setdefault(fid, list())\n",
    "                \n",
    "                #convert xmin, ymin, xmax, ymax to tlwh\n",
    "                linelist[3] = float(linelist[3]) - float(linelist[1])\n",
    "                linelist[4] = float(linelist[4]) - float(linelist[2])\n",
    "                box_size = float(linelist[3]) * float(linelist[4])\n",
    "                \n",
    "                score = float(1)\n",
    "                \n",
    "                tlwh = tuple(map(float, linelist[1:5]))\n",
    "                target_id = int(linelist[5].split('\"')[1])\n",
    "                results_dict[fid].append((tlwh, target_id, score))\n",
    "\n",
    "    return results_dict\n",
    "\n",
    "gt_results = read_gt_results(\"/usr/users/vogg/test/Validation-export.csv\")\n",
    "#gt_results[4]"
   ]
  },
  {
   "cell_type": "code",
   "execution_count": null,
   "id": "portuguese-watch",
   "metadata": {},
   "outputs": [],
   "source": [
    "#Models\n",
    "# Train mcqpose only\n",
    "# Train OMS only\n",
    "# Train OMS + Mcqpose\n",
    "# Train Mcqpose + OMS\n",
    "#mcqpose_ft_dla34.pth\n",
    "#oms_ft_dla34.pth\n",
    "\n",
    "#conf_thres"
   ]
  },
  {
   "cell_type": "code",
   "execution_count": 109,
   "id": "divided-integration",
   "metadata": {},
   "outputs": [
    {
     "name": "stdout",
     "output_type": "stream",
     "text": [
      "Traceback (most recent call last):\n",
      "  File \"../src/demo.py\", line 11, in <module>\n",
      "    from tracking_utils.utils import mkdir_if_missing\n",
      "  File \"/usr/users/vogg/FairMOT/src/lib/tracking_utils/utils.py\", line 7, in <module>\n",
      "    import cv2\n",
      "ModuleNotFoundError: No module named 'cv2'\n"
     ]
    }
   ],
   "source": [
    "!python ../src/demo.py mot --load_model ../models/mcqpose/model_45.pth \\\n",
    "    --input-video ../../test/VID_20210223_123551.mp4 --output-root ../videos/mcq45 \\\n",
    "    --conf_thres 0.4"
   ]
  },
  {
   "cell_type": "code",
   "execution_count": 77,
   "id": "quantitative-norwegian",
   "metadata": {},
   "outputs": [
    {
     "name": "stdout",
     "output_type": "stream",
     "text": [
      "331\n",
      "164\n"
     ]
    }
   ],
   "source": [
    "def read_mot_results(filename):\n",
    "    results_dict = dict()\n",
    "    if os.path.isfile(filename):\n",
    "        with open(filename, 'r') as f:\n",
    "            for line in f.readlines():\n",
    "                linelist = line.split(',')\n",
    "                fid = int(linelist[0])\n",
    "                if fid < 1:\n",
    "                    continue\n",
    "                results_dict.setdefault(fid, list())\n",
    "\n",
    "                box_size = float(linelist[4]) * float(linelist[5])\n",
    "                \n",
    "                score = float(linelist[6])\n",
    "\n",
    "                tlwh = tuple(map(float, linelist[2:6]))\n",
    "                target_id = int(linelist[1])\n",
    "\n",
    "                results_dict[fid].append((tlwh, target_id, score))\n",
    "\n",
    "    return results_dict\n",
    "\n",
    "\n"
   ]
  },
  {
   "cell_type": "code",
   "execution_count": 87,
   "id": "floral-metadata",
   "metadata": {},
   "outputs": [
    {
     "data": {
      "text/plain": [
       "[10, 20, 30, 40, 50, 60]"
      ]
     },
     "execution_count": 87,
     "metadata": {},
     "output_type": "execute_result"
    }
   ],
   "source": [
    "list(range(10,61,10))"
   ]
  },
  {
   "cell_type": "code",
   "execution_count": 100,
   "id": "sized-willow",
   "metadata": {},
   "outputs": [
    {
     "name": "stdout",
     "output_type": "stream",
     "text": [
      "164\n"
     ]
    },
    {
     "ename": "ValueError",
     "evalue": "not enough values to unpack (expected 3, got 0)",
     "output_type": "error",
     "traceback": [
      "\u001b[0;31m---------------------------------------------------------------------------\u001b[0m",
      "\u001b[0;31mValueError\u001b[0m                                Traceback (most recent call last)",
      "\u001b[0;32m<ipython-input-100-e3b0e78ebe42>\u001b[0m in \u001b[0;36m<module>\u001b[0;34m\u001b[0m\n\u001b[1;32m     16\u001b[0m \u001b[0;34m\u001b[0m\u001b[0m\n\u001b[1;32m     17\u001b[0m         \u001b[0mtrk_objs\u001b[0m \u001b[0;34m=\u001b[0m \u001b[0mmot_results\u001b[0m\u001b[0;34m.\u001b[0m\u001b[0mget\u001b[0m\u001b[0;34m(\u001b[0m\u001b[0mframe_id\u001b[0m\u001b[0;34m,\u001b[0m \u001b[0;34m[\u001b[0m\u001b[0;34m]\u001b[0m\u001b[0;34m)\u001b[0m\u001b[0;34m\u001b[0m\u001b[0;34m\u001b[0m\u001b[0m\n\u001b[0;32m---> 18\u001b[0;31m         \u001b[0mtrk_tlwhs\u001b[0m\u001b[0;34m,\u001b[0m \u001b[0mtrk_ids\u001b[0m\u001b[0;34m,\u001b[0m \u001b[0m_\u001b[0m \u001b[0;34m=\u001b[0m \u001b[0mzip\u001b[0m\u001b[0;34m(\u001b[0m\u001b[0;34m*\u001b[0m\u001b[0mtrk_objs\u001b[0m\u001b[0;34m)\u001b[0m\u001b[0;34m\u001b[0m\u001b[0;34m\u001b[0m\u001b[0m\n\u001b[0m\u001b[1;32m     19\u001b[0m \u001b[0;34m\u001b[0m\u001b[0m\n\u001b[1;32m     20\u001b[0m         \u001b[0miou_distance\u001b[0m \u001b[0;34m=\u001b[0m \u001b[0mmm\u001b[0m\u001b[0;34m.\u001b[0m\u001b[0mdistances\u001b[0m\u001b[0;34m.\u001b[0m\u001b[0miou_matrix\u001b[0m\u001b[0;34m(\u001b[0m\u001b[0mgt_tlwhs\u001b[0m\u001b[0;34m,\u001b[0m \u001b[0mtrk_tlwhs\u001b[0m\u001b[0;34m,\u001b[0m \u001b[0mmax_iou\u001b[0m\u001b[0;34m=\u001b[0m\u001b[0;36m0.5\u001b[0m\u001b[0;34m)\u001b[0m\u001b[0;34m\u001b[0m\u001b[0;34m\u001b[0m\u001b[0m\n",
      "\u001b[0;31mValueError\u001b[0m: not enough values to unpack (expected 3, got 0)"
     ]
    }
   ],
   "source": [
    "accs = []\n",
    "\n",
    "for i in list(range(20,61,10)):\n",
    "\n",
    "    results = read_mot_results(\"/usr/users/vogg/FairMOT/videos/mcq\" + str(i) + \"/results.txt\")\n",
    "    #get every second frame to compare to labeled video\n",
    "    mot_results = { your_key: results[your_key] for your_key in range(2, 330, 2)}\n",
    "    print(len(mot_results))\n",
    "\n",
    "    acc = mm.MOTAccumulator(auto_id = True)\n",
    "\n",
    "    for frame_id in range(2, 330, 2):\n",
    "\n",
    "        gt_objs = gt_results.get(frame_id, [])\n",
    "        gt_tlwhs, gt_ids, _ = zip(*gt_objs)\n",
    "\n",
    "        trk_objs = mot_results.get(frame_id, [])\n",
    "        trk_tlwhs, trk_ids, _ = zip(*trk_objs)\n",
    "\n",
    "        iou_distance = mm.distances.iou_matrix(gt_tlwhs, trk_tlwhs, max_iou=0.5)\n",
    "        acc.update(gt_ids, trk_ids, iou_distance)\n",
    "\n",
    "        metrics=('mota', 'num_switches', 'idp', 'idr', 'idf1', 'precision', 'recall')\n",
    "        mh = mm.metrics.create()\n",
    "\n",
    "    accs.append(acc)"
   ]
  },
  {
   "cell_type": "code",
   "execution_count": 93,
   "id": "architectural-particular",
   "metadata": {},
   "outputs": [
    {
     "data": {
      "text/html": [
       "<div>\n",
       "<style scoped>\n",
       "    .dataframe tbody tr th:only-of-type {\n",
       "        vertical-align: middle;\n",
       "    }\n",
       "\n",
       "    .dataframe tbody tr th {\n",
       "        vertical-align: top;\n",
       "    }\n",
       "\n",
       "    .dataframe thead th {\n",
       "        text-align: right;\n",
       "    }\n",
       "</style>\n",
       "<table border=\"1\" class=\"dataframe\">\n",
       "  <thead>\n",
       "    <tr style=\"text-align: right;\">\n",
       "      <th></th>\n",
       "      <th>mota</th>\n",
       "      <th>num_switches</th>\n",
       "      <th>idp</th>\n",
       "      <th>idr</th>\n",
       "      <th>idf1</th>\n",
       "      <th>precision</th>\n",
       "      <th>recall</th>\n",
       "    </tr>\n",
       "  </thead>\n",
       "  <tbody>\n",
       "    <tr>\n",
       "      <th>m20</th>\n",
       "      <td>0.484118</td>\n",
       "      <td>17</td>\n",
       "      <td>0.679466</td>\n",
       "      <td>0.445783</td>\n",
       "      <td>0.538360</td>\n",
       "      <td>0.883139</td>\n",
       "      <td>0.579409</td>\n",
       "    </tr>\n",
       "    <tr>\n",
       "      <th>m30</th>\n",
       "      <td>0.534502</td>\n",
       "      <td>28</td>\n",
       "      <td>0.645533</td>\n",
       "      <td>0.490690</td>\n",
       "      <td>0.557561</td>\n",
       "      <td>0.871758</td>\n",
       "      <td>0.662651</td>\n",
       "    </tr>\n",
       "    <tr>\n",
       "      <th>m40</th>\n",
       "      <td>0.568456</td>\n",
       "      <td>30</td>\n",
       "      <td>0.670922</td>\n",
       "      <td>0.518072</td>\n",
       "      <td>0.584672</td>\n",
       "      <td>0.889362</td>\n",
       "      <td>0.686747</td>\n",
       "    </tr>\n",
       "    <tr>\n",
       "      <th>m50</th>\n",
       "      <td>0.542169</td>\n",
       "      <td>31</td>\n",
       "      <td>0.631054</td>\n",
       "      <td>0.485214</td>\n",
       "      <td>0.548607</td>\n",
       "      <td>0.874644</td>\n",
       "      <td>0.672508</td>\n",
       "    </tr>\n",
       "    <tr>\n",
       "      <th>m60</th>\n",
       "      <td>0.570646</td>\n",
       "      <td>27</td>\n",
       "      <td>0.663488</td>\n",
       "      <td>0.533406</td>\n",
       "      <td>0.591378</td>\n",
       "      <td>0.873297</td>\n",
       "      <td>0.702081</td>\n",
       "    </tr>\n",
       "    <tr>\n",
       "      <th>OVERALL</th>\n",
       "      <td>0.539978</td>\n",
       "      <td>133</td>\n",
       "      <td>0.657542</td>\n",
       "      <td>0.494633</td>\n",
       "      <td>0.564571</td>\n",
       "      <td>0.878276</td>\n",
       "      <td>0.660679</td>\n",
       "    </tr>\n",
       "  </tbody>\n",
       "</table>\n",
       "</div>"
      ],
      "text/plain": [
       "             mota  num_switches       idp       idr      idf1  precision  \\\n",
       "m20      0.484118            17  0.679466  0.445783  0.538360   0.883139   \n",
       "m30      0.534502            28  0.645533  0.490690  0.557561   0.871758   \n",
       "m40      0.568456            30  0.670922  0.518072  0.584672   0.889362   \n",
       "m50      0.542169            31  0.631054  0.485214  0.548607   0.874644   \n",
       "m60      0.570646            27  0.663488  0.533406  0.591378   0.873297   \n",
       "OVERALL  0.539978           133  0.657542  0.494633  0.564571   0.878276   \n",
       "\n",
       "           recall  \n",
       "m20      0.579409  \n",
       "m30      0.662651  \n",
       "m40      0.686747  \n",
       "m50      0.672508  \n",
       "m60      0.702081  \n",
       "OVERALL  0.660679  "
      ]
     },
     "execution_count": 93,
     "metadata": {},
     "output_type": "execute_result"
    }
   ],
   "source": [
    "summary = mh.compute_many(\n",
    "            accs,\n",
    "            metrics=metrics,\n",
    "            names=('m20', 'm30', 'm40', 'm50', 'm60'),\n",
    "            generate_overall=True\n",
    "        )\n",
    "\n",
    "summary"
   ]
  },
  {
   "cell_type": "code",
   "execution_count": 106,
   "id": "upper-dryer",
   "metadata": {},
   "outputs": [
    {
     "data": {
      "text/plain": [
       "[<matplotlib.lines.Line2D at 0x7f90febb9d00>]"
      ]
     },
     "execution_count": 106,
     "metadata": {},
     "output_type": "execute_result"
    },
    {
     "data": {
      "image/png": "[encoded data removed]",
      "text/plain": [
       "<Figure size 432x288 with 1 Axes>"
      ]
     },
     "metadata": {
      "needs_background": "light"
     },
     "output_type": "display_data"
    }
   ],
   "source": [
    "plt.plot(summary.idf1[:5])"
   ]
  },
  {
   "cell_type": "code",
   "execution_count": null,
   "id": "sought-feeding",
   "metadata": {},
   "outputs": [],
   "source": []
  }
 ],
 "metadata": {
  "kernelspec": {
   "display_name": "Python 3",
   "language": "python",
   "name": "python3"
  },
  "language_info": {
   "codemirror_mode": {
    "name": "ipython",
    "version": 3
   },
   "file_extension": ".py",
   "mimetype": "text/x-python",
   "name": "python",
   "nbconvert_exporter": "python",
   "pygments_lexer": "ipython3",
   "version": "3.8.6"
  }
 },
 "nbformat": 4,
 "nbformat_minor": 5
}
