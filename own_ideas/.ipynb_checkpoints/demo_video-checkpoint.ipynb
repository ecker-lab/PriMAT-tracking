{
 "cells": [
  {
   "cell_type": "code",
   "execution_count": 56,
   "id": "whole-helen",
   "metadata": {},
   "outputs": [],
   "source": [
    "from __future__ import absolute_import\n",
    "from __future__ import division\n",
    "from __future__ import print_function\n",
    "\n",
    "import sys"
   ]
  },
  {
   "cell_type": "code",
   "execution_count": 57,
   "id": "manufactured-series",
   "metadata": {},
   "outputs": [
    {
     "data": {
      "text/plain": [
       "['/usr/users/vogg/FairMOT/DCNv2',\n",
       " '/opt/conda/envs/FairMOT/lib/python3.8/site-packages',\n",
       " '/usr/users/vogg/FairMOT/src/lib',\n",
       " '/usr/users/vogg/FairMOT/src',\n",
       " '/usr/users/vogg/FairMOT/own_ideas',\n",
       " '/opt/conda/lib/python38.zip',\n",
       " '/opt/conda/lib/python3.8',\n",
       " '/opt/conda/lib/python3.8/lib-dynload',\n",
       " '',\n",
       " '/opt/conda/lib/python3.8/site-packages',\n",
       " '/opt/conda/lib/python3.8/site-packages/IPython/extensions',\n",
       " '/home/vogg/.ipython']"
      ]
     },
     "execution_count": 57,
     "metadata": {},
     "output_type": "execute_result"
    }
   ],
   "source": [
    "#sys.path.insert(0, '/usr/users/vogg/FairMOT/src')\n",
    "#sys.path.insert(0, '/usr/users/vogg/FairMOT/src/lib')\n",
    "#sys.path.insert(0, '/opt/conda/envs/FairMOT/lib/python3.8/site-packages')\n",
    "#sys.path.insert(0, '/usr/users/vogg/FairMOT/DCNv2')\n",
    "sys.path"
   ]
  },
  {
   "cell_type": "code",
   "execution_count": 68,
   "id": "interracial-karaoke",
   "metadata": {},
   "outputs": [
    {
     "name": "stdout",
     "output_type": "stream",
     "text": [
      "Fix size testing.\n",
      "training chunk_sizes: [12]\n",
      "The output will be saved to  /usr/users/vogg/FairMOT/src/lib/../../exp/mot/default\n",
      "heads {'hm': 1, 'wh': 4, 'id': 128, 'reg': 2}\n",
      "Length of the video: 391 frames\n",
      "Creating model...\n",
      "loaded models/mcqcpz/mcqcpz200.pth, epoch 40\n"
     ]
    },
    {
     "name": "stderr",
     "output_type": "stream",
     "text": [
      "2021-10-01 15:12:01 [INFO]: Starting tracking...\n",
      "2021-10-01 15:12:04 [INFO]: Processing frame 0 (100000.00 fps)\n",
      "2021-10-01 15:12:06 [INFO]: Processing frame 20 (23.74 fps)\n",
      "2021-10-01 15:12:08 [INFO]: Processing frame 40 (24.51 fps)\n",
      "2021-10-01 15:12:10 [INFO]: Processing frame 60 (24.93 fps)\n",
      "2021-10-01 15:12:11 [INFO]: Processing frame 80 (25.25 fps)\n",
      "2021-10-01 15:12:13 [INFO]: Processing frame 100 (25.55 fps)\n",
      "2021-10-01 15:12:15 [INFO]: Processing frame 120 (25.81 fps)\n",
      "2021-10-01 15:12:17 [INFO]: Processing frame 140 (25.96 fps)\n",
      "2021-10-01 15:12:19 [INFO]: Processing frame 160 (26.07 fps)\n",
      "2021-10-01 15:12:21 [INFO]: Processing frame 180 (26.13 fps)\n",
      "2021-10-01 15:12:23 [INFO]: Processing frame 200 (26.21 fps)\n",
      "2021-10-01 15:12:25 [INFO]: Processing frame 220 (26.29 fps)\n",
      "2021-10-01 15:12:27 [INFO]: Processing frame 240 (26.31 fps)\n",
      "2021-10-01 15:12:28 [INFO]: Processing frame 260 (26.37 fps)\n",
      "2021-10-01 15:12:30 [INFO]: Processing frame 280 (26.46 fps)\n",
      "2021-10-01 15:12:32 [INFO]: Processing frame 300 (26.57 fps)\n",
      "2021-10-01 15:12:34 [INFO]: Processing frame 320 (26.64 fps)\n",
      "2021-10-01 15:12:36 [INFO]: Processing frame 340 (26.63 fps)\n",
      "2021-10-01 15:12:38 [INFO]: Processing frame 360 (26.62 fps)\n",
      "2021-10-01 15:12:40 [INFO]: Processing frame 380 (26.61 fps)\n",
      "2021-10-01 15:12:41 [INFO]: save results to videos/temp/results.txt\n"
     ]
    }
   ],
   "source": [
    "%%bash\n",
    "\n",
    "cd /usr/users/vogg/FairMOT/\n",
    "\n",
    "for vid in VID_20210224_115455_0\n",
    "do\n",
    "    for i in 10 20 30 40 50 60 70 80 90 100 110 120 130 140 150 160\n",
    "    do\n",
    "        python src/demo.py mot \\\n",
    "        --load_model models/mcqcp2/mcqcp\"$i\".pth \\\n",
    "        --input_video /usr/users/agecker/datasets/macaque_videos/Videos/\"$vid\".mp4 \\\n",
    "        --output_root videos/temp \\\n",
    "        --output_format novideo\n",
    "    done\n",
    "done"
   ]
  },
  {
   "cell_type": "code",
   "execution_count": null,
   "id": "northern-pixel",
   "metadata": {},
   "outputs": [],
   "source": []
  }
 ],
 "metadata": {
  "kernelspec": {
   "display_name": "Python 3",
   "language": "python",
   "name": "python3"
  },
  "language_info": {
   "codemirror_mode": {
    "name": "ipython",
    "version": 3
   },
   "file_extension": ".py",
   "mimetype": "text/x-python",
   "name": "python",
   "nbconvert_exporter": "python",
   "pygments_lexer": "ipython3",
   "version": "3.8.6"
  }
 },
 "nbformat": 4,
 "nbformat_minor": 5
}
