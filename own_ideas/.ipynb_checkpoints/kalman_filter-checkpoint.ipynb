{
 "cells": [
  {
   "cell_type": "markdown",
   "id": "confirmed-singapore",
   "metadata": {},
   "source": [
    "## Kalman filter"
   ]
  },
  {
   "cell_type": "code",
   "execution_count": 42,
   "id": "imperial-robinson",
   "metadata": {},
   "outputs": [],
   "source": [
    "from __future__ import absolute_import\n",
    "from __future__ import division\n",
    "from __future__ import print_function\n",
    "\n",
    "import os.path as osp\n",
    "import sys\n",
    "#sys.path.insert(0, '/usr/users/vogg/FairMOT/src')\n",
    "#sys.path.insert(0, '/usr/users/vogg/FairMOT/src/lib')\n",
    "#sys.path.insert(0, '/opt/conda/envs/FairMOT/lib/python3.8/site-packages')\n",
    "#sys.path.insert(0, '/usr/users/vogg/FairMOT/DCNv2')\n",
    "#sys.path"
   ]
  },
  {
   "cell_type": "code",
   "execution_count": 43,
   "id": "blond-seven",
   "metadata": {},
   "outputs": [],
   "source": [
    "import matplotlib.pyplot as plt\n",
    "import numpy as np\n",
    "from tracking_utils.kalman_filter import KalmanFilter\n",
    "from tracker import matching\n",
    "from tracker.basetrack import BaseTrack, TrackState\n",
    "from tracker.multitracker import STrack"
   ]
  },
  {
   "cell_type": "code",
   "execution_count": 44,
   "id": "finite-sacramento",
   "metadata": {},
   "outputs": [],
   "source": [
    "kf = KalmanFilter()"
   ]
  },
  {
   "cell_type": "code",
   "execution_count": null,
   "id": "noble-bearing",
   "metadata": {},
   "outputs": [],
   "source": []
  },
  {
   "cell_type": "code",
   "execution_count": 45,
   "id": "certified-playlist",
   "metadata": {},
   "outputs": [
    {
     "data": {
      "text/plain": [
       "array([     205.37,      310.74,     0.81961,      44.628,      1.0331,      2.0661, -1.9608e-10,     -1.0331])"
      ]
     },
     "execution_count": 45,
     "metadata": {},
     "output_type": "execute_result"
    }
   ],
   "source": [
    "mean, cov = kf.initiate([200, 300, 0.82, 50])\n",
    "plot_list = []\n",
    "\n",
    "new_mean, new_cov = kf.predict(mean, cov)\n",
    "final_mean, final_cov = kf.update(new_mean, new_cov, [205, 310, 0.8, 45])\n",
    "new_mean, new_cov = kf.predict(final_mean, final_cov)\n",
    "    \n",
    "new_mean"
   ]
  },
  {
   "cell_type": "code",
   "execution_count": 16,
   "id": "satisfied-movement",
   "metadata": {},
   "outputs": [
    {
     "data": {
      "text/plain": [
       "array([[         25,           0,           0,           0,           0,           0,           0,           0],\n",
       "       [          0,          25,           0,           0,           0,           0,           0,           0],\n",
       "       [          0,           0,      0.0001,           0,           0,           0,           0,           0],\n",
       "       [          0,           0,           0,          25,           0,           0,           0,           0],\n",
       "       [          0,           0,           0,           0,      9.7656,           0,           0,           0],\n",
       "       [          0,           0,           0,           0,           0,      9.7656,           0,           0],\n",
       "       [          0,           0,           0,           0,           0,           0,       1e-10,           0],\n",
       "       [          0,           0,           0,           0,           0,           0,           0,      9.7656]])"
      ]
     },
     "execution_count": 16,
     "metadata": {},
     "output_type": "execute_result"
    }
   ],
   "source": [
    "cov"
   ]
  },
  {
   "cell_type": "code",
   "execution_count": 18,
   "id": "needed-debut",
   "metadata": {},
   "outputs": [
    {
     "data": {
      "image/png": "[encoded data removed]",
      "text/plain": [
       "<Figure size 432x288 with 1 Axes>"
      ]
     },
     "metadata": {
      "needs_background": "light"
     },
     "output_type": "display_data"
    }
   ],
   "source": [
    "surf = plt.pcolormesh(new_cov)"
   ]
  },
  {
   "cell_type": "code",
   "execution_count": null,
   "id": "civic-courtesy",
   "metadata": {},
   "outputs": [],
   "source": []
  }
 ],
 "metadata": {
  "kernelspec": {
   "display_name": "Python 3",
   "language": "python",
   "name": "python3"
  },
  "language_info": {
   "codemirror_mode": {
    "name": "ipython",
    "version": 3
   },
   "file_extension": ".py",
   "mimetype": "text/x-python",
   "name": "python",
   "nbconvert_exporter": "python",
   "pygments_lexer": "ipython3",
   "version": "3.8.6"
  }
 },
 "nbformat": 4,
 "nbformat_minor": 5
}
