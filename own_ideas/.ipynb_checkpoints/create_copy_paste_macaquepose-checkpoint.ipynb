{
 "cells": [
  {
   "cell_type": "markdown",
   "id": "optical-warren",
   "metadata": {},
   "source": [
    "## Copy and paste monkey segmentations on other images"
   ]
  },
  {
   "cell_type": "code",
   "execution_count": 28,
   "id": "extended-intro",
   "metadata": {},
   "outputs": [],
   "source": [
    "import matplotlib.pyplot as plt\n",
    "import numpy as np\n",
    "from PIL import Image, ImageDraw\n",
    "from random import sample\n",
    "import pandas as pd\n",
    "import os\n",
    "import re\n",
    "import json\n",
    "import csv"
   ]
  },
  {
   "cell_type": "code",
   "execution_count": 77,
   "id": "chronic-inside",
   "metadata": {},
   "outputs": [],
   "source": [
    "!rm -r /local_datasets/MacaqueCopyPaste"
   ]
  },
  {
   "cell_type": "code",
   "execution_count": 78,
   "id": "mounted-performer",
   "metadata": {},
   "outputs": [],
   "source": [
    "!mkdir /local_datasets/MacaqueCopyPaste/\n",
    "!mkdir /local_datasets/MacaqueCopyPaste/images/"
   ]
  },
  {
   "cell_type": "code",
   "execution_count": 72,
   "id": "composite-poker",
   "metadata": {},
   "outputs": [],
   "source": [
    "data_root = \"/local_datasets/MacaquePose/\"\n",
    "imagenet_root = \"/usr/users/agecker/datasets/imagenet-raw/train/\"\n",
    "\n",
    "img_name_list = []\n",
    "\n",
    "for i, image_path in enumerate(sorted(os.listdir(imagenet_root))):\n",
    "    # remove all monkey classes or monkey-similar classes\n",
    "    if i < 356 | i > 389:\n",
    "        for image_name in sample(os.listdir(os.path.join(imagenet_root, image_path)), 20):\n",
    "            img_name_list.append(image_path+\"/\"+image_name)\n",
    "\n",
    "with open(data_root + 'annotations.csv', 'r') as fp:\n",
    "    data_annotation = list(csv.reader(fp, delimiter=','))"
   ]
  },
  {
   "cell_type": "code",
   "execution_count": 63,
   "id": "affected-saver",
   "metadata": {},
   "outputs": [
    {
     "name": "stdout",
     "output_type": "stream",
     "text": [
      "14160\n",
      "13084\n"
     ]
    }
   ],
   "source": [
    "print(len(img_name_list))\n",
    "print(len(data_annotation))"
   ]
  },
  {
   "cell_type": "code",
   "execution_count": 79,
   "id": "genuine-passage",
   "metadata": {},
   "outputs": [
    {
     "name": "stdout",
     "output_type": "stream",
     "text": [
      "0\n",
      "500\n",
      "1000\n",
      "1500\n",
      "2000\n",
      "2500\n",
      "3000\n",
      "3500\n",
      "4000\n",
      "4500\n",
      "5000\n",
      "5500\n",
      "6000\n",
      "6500\n",
      "7000\n",
      "7500\n",
      "8000\n",
      "8500\n",
      "9000\n",
      "9500\n",
      "10000\n",
      "10500\n",
      "11000\n",
      "11500\n",
      "12000\n",
      "12500\n",
      "13000\n"
     ]
    },
    {
     "ename": "IndexError",
     "evalue": "list index out of range",
     "output_type": "error",
     "traceback": [
      "\u001b[0;31m---------------------------------------------------------------------------\u001b[0m",
      "\u001b[0;31mIndexError\u001b[0m                                Traceback (most recent call last)",
      "\u001b[0;32m<ipython-input-79-e40a6afdde0f>\u001b[0m in \u001b[0;36m<module>\u001b[0;34m\u001b[0m\n\u001b[1;32m      1\u001b[0m \u001b[0;32mfor\u001b[0m \u001b[0mi\u001b[0m \u001b[0;32min\u001b[0m \u001b[0mrange\u001b[0m\u001b[0;34m(\u001b[0m\u001b[0mlen\u001b[0m\u001b[0;34m(\u001b[0m\u001b[0mdata_annotation\u001b[0m\u001b[0;34m)\u001b[0m\u001b[0;34m)\u001b[0m\u001b[0;34m:\u001b[0m\u001b[0;34m\u001b[0m\u001b[0;34m\u001b[0m\u001b[0m\n\u001b[1;32m      2\u001b[0m \u001b[0;34m\u001b[0m\u001b[0m\n\u001b[0;32m----> 3\u001b[0;31m     \u001b[0mrow\u001b[0m \u001b[0;34m=\u001b[0m \u001b[0mdata_annotation\u001b[0m\u001b[0;34m[\u001b[0m\u001b[0mi\u001b[0m\u001b[0;34m+\u001b[0m\u001b[0;36m1\u001b[0m\u001b[0;34m]\u001b[0m\u001b[0;34m\u001b[0m\u001b[0;34m\u001b[0m\u001b[0m\n\u001b[0m\u001b[1;32m      4\u001b[0m \u001b[0;34m\u001b[0m\u001b[0m\n\u001b[1;32m      5\u001b[0m     \u001b[0;31m# load monkey image\u001b[0m\u001b[0;34m\u001b[0m\u001b[0;34m\u001b[0m\u001b[0;34m\u001b[0m\u001b[0m\n",
      "\u001b[0;31mIndexError\u001b[0m: list index out of range"
     ]
    }
   ],
   "source": [
    "for i in range(len(data_annotation)-1):\n",
    "\n",
    "    row = data_annotation[i+1]\n",
    "    \n",
    "    # load monkey image\n",
    "    img1 = Image.open(data_root + 'images/' + row[0])\n",
    "\n",
    "    nx, ny = img1.size\n",
    "\n",
    "    # load segmentation\n",
    "    seg_string= row[2]\n",
    "    Seg = json.loads(seg_string)\n",
    "    \n",
    "    mask = Image.new('L', (nx, ny), 0)\n",
    "\n",
    "    for i_monkey, seg in enumerate(Seg):\n",
    "        for s in seg:\n",
    "            points = s['segment']\n",
    "            path = [tuple(x) for x in points]\n",
    "            if len(path) < 3:\n",
    "                continue\n",
    "            ImageDraw.Draw(mask).polygon(path, outline=1, fill=255)\n",
    "            \n",
    "    img2 = Image.open(imagenet_root + img_name_list[i]).resize(img1.size)\n",
    "    \n",
    "    im = Image.composite(img1, img2, mask)\n",
    "    \n",
    "    im.save(\"/local_datasets/MacaqueCopyPaste/images/\"+row[0])\n",
    "    \n",
    "    if i % 500 == 0:\n",
    "        print(i)"
   ]
  },
  {
   "cell_type": "code",
   "execution_count": 76,
   "id": "noted-hierarchy",
   "metadata": {},
   "outputs": [
    {
     "data": {
      "text/plain": [
       "0"
      ]
     },
     "execution_count": 76,
     "metadata": {},
     "output_type": "execute_result"
    }
   ],
   "source": [
    "len([])"
   ]
  },
  {
   "cell_type": "code",
   "execution_count": null,
   "id": "minimal-subdivision",
   "metadata": {},
   "outputs": [],
   "source": []
  }
 ],
 "metadata": {
  "kernelspec": {
   "display_name": "Python 3",
   "language": "python",
   "name": "python3"
  },
  "language_info": {
   "codemirror_mode": {
    "name": "ipython",
    "version": 3
   },
   "file_extension": ".py",
   "mimetype": "text/x-python",
   "name": "python",
   "nbconvert_exporter": "python",
   "pygments_lexer": "ipython3",
   "version": "3.8.6"
  }
 },
 "nbformat": 4,
 "nbformat_minor": 5
}
