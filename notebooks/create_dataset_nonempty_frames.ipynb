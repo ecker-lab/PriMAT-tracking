{
 "cells": [
  {
   "cell_type": "markdown",
   "id": "peaceful-criterion",
   "metadata": {},
   "source": [
    "## Dataset for second round of lemur experiments\n",
    "\n",
    "This notebook takes random image pairs from videos, and saves them as a new dataset. An image pair are two frames which are either directly consecutive or within a few frames from each other.\n",
    "The number of image pairs taken from a video depends on the estimated number of monkeys in the video."
   ]
  },
  {
   "cell_type": "code",
   "execution_count": 1,
   "id": "confident-corps",
   "metadata": {},
   "outputs": [],
   "source": [
    "\n",
    "import os\n",
    "import sys\n",
    "if '../../.conda/envs/mktrack/lib/python3.8/site-packages' not in sys.path:\n",
    "    sys.path.insert(0, '../../.conda/envs/mktrack/lib/python3.8/site-packages')\n",
    "    sys.path.insert(0, '../src')\n",
    "    sys.path.insert(0, '../src/lib')\n",
    "    \n",
    "import re\n",
    "import numpy as np\n",
    "import cv2\n",
    "import torch\n",
    "from random import randrange\n",
    "import matplotlib.pyplot as plt\n",
    "\n",
    "from models.model import create_model, load_model\n",
    "from models.decode import mot_decode, map2orig\n",
    "from utils.post_process import ctdet_post_process\n",
    "from utils.image import get_affine_transform\n",
    "from models.utils import _tranpose_and_gather_feat\n",
    "from datasets.dataset import letterbox\n"
   ]
  },
  {
   "cell_type": "code",
   "execution_count": 2,
   "id": "wrapped-linux",
   "metadata": {},
   "outputs": [],
   "source": [
    "#This function estimates the number of monkeys for a given frame\n",
    "\n",
    "def estimate_monkeys(frame_num):\n",
    "\n",
    "    cap.set(cv2.CAP_PROP_POS_FRAMES, frame_num)\n",
    "    ret, img0 = cap.read()\n",
    "\n",
    "\n",
    "    # Scale and fill grey borders\n",
    "    img_box, _, _, _ = letterbox(img0, height=608, width=1088)\n",
    "\n",
    "    # Normalize RGB\n",
    "    img = img_box[:, :, ::-1].transpose(2, 0, 1)\n",
    "    img = np.ascontiguousarray(img, dtype=np.float32)\n",
    "    img /= 255.0\n",
    "\n",
    "    im_blob = torch.from_numpy(img).cuda().unsqueeze(0)\n",
    "\n",
    "    width = img0.shape[1]\n",
    "    height = img0.shape[0]\n",
    "    inp_height = im_blob.shape[2]\n",
    "    inp_width = im_blob.shape[3]\n",
    "    \n",
    "    with torch.no_grad():\n",
    "        output = model(im_blob)[-1]\n",
    "        hm = output['hm'].sigmoid_()\n",
    "        wh = output['wh']\n",
    "        reg = output['reg']\n",
    "\n",
    "            \n",
    "\n",
    "    dets, inds, cls_inds_mask = mot_decode(heatmap=hm,\n",
    "                                                   wh=wh,\n",
    "                                                   reg=reg,\n",
    "                                                   num_classes=2,\n",
    "                                                   cat_spec_wh=False,\n",
    "                                                   K=50)\n",
    "\n",
    "    \n",
    "\n",
    "    dets = map2orig(dets, inp_height, inp_width, height, width, 1)\n",
    "\n",
    "    lemur_dets = dets[0]\n",
    "\n",
    "    # remove detections below the threshold\n",
    "\n",
    "    remain_inds = lemur_dets[:, 4] > 0.4\n",
    "\n",
    "    total = remain_inds.sum()\n",
    "    \n",
    "    return(total)"
   ]
  },
  {
   "cell_type": "code",
   "execution_count": 3,
   "id": "professional-return",
   "metadata": {},
   "outputs": [],
   "source": [
    "#!mkdir /usr/users/agecker/datasets/macaque_images"
   ]
  },
  {
   "cell_type": "code",
   "execution_count": 4,
   "id": "blind-desktop",
   "metadata": {},
   "outputs": [],
   "source": [
    "path = \"/usr/users/vogg/sfb1528s3/B06/2023april-july/NewBoxesHalfOpen/\"\n",
    "\n",
    "output_path = \"/usr/users/vogg/Labelling/Lemurs/LemurBoxApr23/images/\""
   ]
  },
  {
   "cell_type": "code",
   "execution_count": 5,
   "id": "roman-doubt",
   "metadata": {},
   "outputs": [
    {
     "data": {
      "text/plain": [
       "['R1/2023-05-08/GX010032_cam3.MP4',\n",
       " 'R1/2023-05-08/GX010032_cam6.MP4',\n",
       " 'R1/2023-05-08/GX010032_cam7.MP4',\n",
       " 'R1/2023-05-08/GX010033_cam1.MP4',\n",
       " 'R1/2023-05-08/GX010033_cam2.MP4',\n",
       " 'R1/2023-05-08/GX010034_cam8.MP4',\n",
       " 'R1/2023-05-17/GX010039_cam9.MP4',\n",
       " 'R1/2023-05-17/GX010040_cam3.MP4',\n",
       " 'R1/2023-05-17/GX010040_cam4.MP4',\n",
       " 'R1/2023-05-17/GX010041_cam1.MP4']"
      ]
     },
     "execution_count": 5,
     "metadata": {},
     "output_type": "execute_result"
    }
   ],
   "source": [
    "mp4_list = []\n",
    "for item in sorted(os.listdir(path)):\n",
    "  if not item.startswith(\".\"):\n",
    "    for subitem in os.listdir(path + item):\n",
    "      if not subitem.startswith(\".\"):\n",
    "        for subsubitem in os.listdir(path+item+\"/\"+subitem):\n",
    "          if subsubitem.endswith(\".MP4\"):\n",
    "              mp4_list.append(item+\"/\"+subitem+\"/\"+subsubitem)\n",
    "\n",
    "mp4_list = [elem for elem in mp4_list if (\"GX01\" in elem) and not (\"._\" in elem)]\n",
    "mp4_list[:20]\n",
    "\n",
    "mp4_list[50:60]\n",
    "#mp4_list = list(set(mp4_list) - set(rm_list))"
   ]
  },
  {
   "cell_type": "code",
   "execution_count": 6,
   "id": "rental-bread",
   "metadata": {},
   "outputs": [
    {
     "name": "stdout",
     "output_type": "stream",
     "text": [
      "{'hm': 2, 'wh': 2, 'id': 128, 'reg': 2}\n",
      "loaded ../models/hrnet32_lemur_sep22.pth, epoch 300\n"
     ]
    }
   ],
   "source": [
    "model = create_model('hrnet_32', heads =  {'hm': 2, 'wh': 2, 'id': 128, 'reg': 2}, \n",
    "                     head_conv = 256, num_gc_cls=None, clsID4GC=None, gc_with_roi=False)\n",
    "\n",
    "model = load_model(model, '../models/hrnet32_lemur_sep22.pth')\n",
    "model = model.to(torch.device('cuda'))\n",
    "model.eval();"
   ]
  },
  {
   "cell_type": "code",
   "execution_count": 7,
   "id": "oriental-parade",
   "metadata": {},
   "outputs": [
    {
     "name": "stdout",
     "output_type": "stream",
     "text": [
      "Video R1/2023-05-08/GX010033_cam1.MP4 loaded\n",
      "Video R1/2023-05-08/GX010033_cam2.MP4 loaded\n",
      "Video R1/2023-05-08/GX010034_cam8.MP4 loaded\n",
      "Video R1/2023-05-17/GX010039_cam9.MP4 loaded\n",
      "Video R1/2023-05-17/GX010040_cam3.MP4 loaded\n",
      "Video R1/2023-05-17/GX010040_cam4.MP4 loaded\n",
      "Video R1/2023-05-17/GX010041_cam1.MP4 loaded\n",
      "Video R1/2023-05-17/GX010041_cam6.MP4 loaded\n",
      "Video R1/2023-05-17/GX010042_cam2.MP4 loaded\n",
      "Video R1/2023-05-17/GX010042_cam8.MP4 loaded\n",
      "Video R1/2023-05-17/GX010043_cam7.MP4 loaded\n",
      "Video R1/2023-05-18/GX010043_cam9.MP4 loaded\n",
      "Video R1/2023-05-18/GX010045_cam1.MP4 loaded\n",
      "Video R1/2023-05-18/GX010045_cam3.MP4 loaded\n",
      "Video R1/2023-05-18/GX010045_cam4.MP4 loaded\n",
      "Video R1/2023-05-18/GX010045_cam6.MP4 loaded\n",
      "Video R1/2023-05-18/GX010046_cam2.MP4 loaded\n",
      "Video R1/2023-05-18/GX010046_cam8.MP4 loaded\n",
      "Video R1/2023-05-18/GX010047_cam7.MP4 loaded\n",
      "Video alpha/2023-05-07/GX010028_cam4.MP4 loaded\n",
      "Video alpha/2023-05-07/GX010028_cam9.MP4 loaded\n",
      "Video alpha/2023-05-07/GX010029_cam3.MP4 loaded\n",
      "Video alpha/2023-05-07/GX010029_cam6.MP4 loaded\n",
      "Video alpha/2023-05-07/GX010029_cam7.MP4 loaded\n",
      "Video alpha/2023-05-07/GX010030_cam1.MP4 loaded\n",
      "Video alpha/2023-05-07/GX010030_cam2.MP4 loaded\n",
      "Video alpha/2023-05-07/GX010031_cam8.MP4 loaded\n",
      "Video alpha/2023-05-09/GX010034_cam4.MP4 loaded\n",
      "Video alpha/2023-05-09/GX010034_cam9.MP4 loaded\n",
      "Video alpha/2023-05-09/GX010035_cam3.MP4 loaded\n",
      "Video alpha/2023-05-09/GX010035_cam6.MP4 loaded\n",
      "Video alpha/2023-05-09/GX010035_cam7.MP4 loaded\n",
      "Video alpha/2023-05-09/GX010036_cam1.MP4 loaded\n",
      "Video alpha/2023-05-09/GX010036_cam2.MP4 loaded\n",
      "Video alpha/2023-05-09/GX010037_cam8.MP4 loaded\n",
      "Video alpha/2023-05-16/GX010035_cam4.MP4 loaded\n",
      "Video alpha/2023-05-16/GX010035_cam9.MP4 loaded\n",
      "Video alpha/2023-05-16/GX010036_cam3.MP4 loaded\n",
      "Video alpha/2023-05-16/GX010036_cam6.MP4 loaded\n",
      "Video alpha/2023-05-16/GX010036_cam7.MP4 loaded\n",
      "Video alpha/2023-05-16/GX010037_cam1.MP4 loaded\n",
      "Video alpha/2023-05-16/GX010037_cam2.MP4 loaded\n",
      "Video alpha/2023-05-16/GX010038_cam8.MP4 loaded\n"
     ]
    }
   ],
   "source": [
    "\n",
    "for n, video in enumerate(mp4_list[53:]):\n",
    "\n",
    "    cap = cv2.VideoCapture(path + video)\n",
    "    print(f\"Video {video} loaded\")\n",
    "    #Total number of frames\n",
    "    frame_count = int(cap.get(cv2.CAP_PROP_FRAME_COUNT))\n",
    "    #width  = cap.get(cv2.CAP_PROP_FRAME_WIDTH)   # float `width`\n",
    "    #height = cap.get(cv2.CAP_PROP_FRAME_HEIGHT)  # float `height`\n",
    "    \n",
    "\n",
    "    #we will pull max_monkeys frames out of the video\n",
    "    samples = 1\n",
    "    output_name = video.replace('/', '-').split('.')[0]\n",
    "\n",
    "    while samples < 21:\n",
    "\n",
    "        try:\n",
    "            frame = randrange(frame_count)\n",
    "            n_monkeys = estimate_monkeys(frame)\n",
    "            if n_monkeys > 0:\n",
    "                cap.set(cv2.CAP_PROP_POS_FRAMES, frame)\n",
    "                ret, img0 = cap.read()\n",
    "                cv2.imwrite(f\"{output_path}{output_name}_{str(samples).zfill(5)}.jpg\", img0)\n",
    "                samples = samples + 1\n",
    "        \n",
    "        except:\n",
    "            print(\"Something went wrong\")\n",
    "\n",
    "    cap.release()\n",
    "\n",
    "        "
   ]
  },
  {
   "cell_type": "code",
   "execution_count": null,
   "id": "d12f0c1a",
   "metadata": {},
   "outputs": [],
   "source": []
  }
 ],
 "metadata": {
  "kernelspec": {
   "display_name": "Python 3",
   "language": "python",
   "name": "python3"
  },
  "language_info": {
   "codemirror_mode": {
    "name": "ipython",
    "version": 3
   },
   "file_extension": ".py",
   "mimetype": "text/x-python",
   "name": "python",
   "nbconvert_exporter": "python",
   "pygments_lexer": "ipython3",
   "version": "3.8.17"
  }
 },
 "nbformat": 4,
 "nbformat_minor": 5
}
