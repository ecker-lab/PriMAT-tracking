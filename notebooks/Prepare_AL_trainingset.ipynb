{
 "cells": [
  {
   "cell_type": "code",
   "execution_count": 11,
   "id": "surface-bacteria",
   "metadata": {},
   "outputs": [],
   "source": [
    "import os\n",
    "import sys\n",
    "import numpy as np\n",
    "from pathlib import Path"
   ]
  },
  {
   "cell_type": "code",
   "execution_count": 12,
   "id": "nonprofit-nurse",
   "metadata": {},
   "outputs": [],
   "source": [
    "path = Path(\"/usr/users/vogg/Labelling/ActiveLearning/\")\n",
    "output_path = Path(\"/usr/users/vogg/monkey-tracking-in-the-wild/src/data/\")"
   ]
  },
  {
   "cell_type": "code",
   "execution_count": 15,
   "id": "failing-shell",
   "metadata": {},
   "outputs": [
    {
     "data": {
      "text/plain": [
       "['ZooC_0555.jpg\\n',\n",
       " 'ZooA_3711.jpg\\n',\n",
       " 'ZooC_0546.jpg\\n',\n",
       " 'ZooC_1074.jpg\\n',\n",
       " 'ZooA_0010.jpg\\n']"
      ]
     },
     "execution_count": 15,
     "metadata": {},
     "output_type": "execute_result"
    }
   ],
   "source": [
    "with open(path / \"MacaqueCopyPasteWild_selected_images.txt\") as f:\n",
    "    lines = f.readlines()\n",
    "    \n",
    "lines[:5]"
   ]
  },
  {
   "cell_type": "code",
   "execution_count": 16,
   "id": "conscious-component",
   "metadata": {},
   "outputs": [],
   "source": [
    "\n",
    "label_fpath = \"/usr/users/vogg/FairMOT/src/data/al_sharmita.train\"\n",
    "\n",
    "for line in lines:\n",
    "\n",
    "    label_str =  \"images/\" + line\n",
    "\n",
    "    with open(label_fpath, 'a') as f:\n",
    "        f.write(label_str)"
   ]
  },
  {
   "cell_type": "code",
   "execution_count": null,
   "id": "presidential-effect",
   "metadata": {},
   "outputs": [],
   "source": []
  }
 ],
 "metadata": {
  "kernelspec": {
   "display_name": "Python 3",
   "language": "python",
   "name": "python3"
  },
  "language_info": {
   "codemirror_mode": {
    "name": "ipython",
    "version": 3
   },
   "file_extension": ".py",
   "mimetype": "text/x-python",
   "name": "python",
   "nbconvert_exporter": "python",
   "pygments_lexer": "ipython3",
   "version": "3.8.6"
  }
 },
 "nbformat": 4,
 "nbformat_minor": 5
}
