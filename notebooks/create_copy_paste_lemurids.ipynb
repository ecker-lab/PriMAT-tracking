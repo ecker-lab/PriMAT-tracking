{
 "cells": [
  {
   "cell_type": "markdown",
   "id": "unsigned-delicious",
   "metadata": {},
   "source": [
    "## Copy and paste for lemur identification"
   ]
  },
  {
   "cell_type": "code",
   "execution_count": 46,
   "id": "accepted-prisoner",
   "metadata": {},
   "outputs": [],
   "source": [
    "import matplotlib.pyplot as plt\n",
    "import numpy as np\n",
    "from PIL import Image, ImageDraw\n",
    "from random import sample, randrange\n",
    "import pandas as pd\n",
    "import os\n",
    "import re\n",
    "import json\n",
    "import csv\n",
    "\n",
    "import sys\n",
    "if '/usr/users/vogg/.conda/envs/fairmot/lib/python3.8/site-packages' not in sys.path:\n",
    "    sys.path.insert(0, '/usr/users/vogg/.conda/envs/fairmot/lib/python3.8/site-packages')\n",
    "    sys.path.insert(0, '/usr/users/vogg/FairMOT/src')\n",
    "    sys.path.insert(0, '/usr/users/vogg/FairMOT/src/lib')\n",
    "\n",
    "\n",
    "from pathlib import Path\n",
    "import matplotlib.pyplot as plt\n",
    "import shutil\n",
    "\n",
    "import _init_paths\n",
    "from models.model import create_model, load_model\n",
    "from models.decode import mot_decode, map2orig\n",
    "from tracking_utils.utils import *\n",
    "from tracking_utils.log import logger\n",
    "from models import *\n",
    "from utils.post_process import ctdet_post_process\n",
    "from utils.image import get_affine_transform\n",
    "from models.utils import _tranpose_and_gather_feat\n",
    "import datasets.dataset as datasets\n",
    "\n",
    "# MC Mot imports\n",
    "from collections import defaultdict"
   ]
  },
  {
   "cell_type": "code",
   "execution_count": 50,
   "id": "comic-allergy",
   "metadata": {},
   "outputs": [
    {
     "name": "stdout",
     "output_type": "stream",
     "text": [
      "226\n"
     ]
    }
   ],
   "source": [
    "img_path = Path(\"/usr/users/vogg/Labelling/Lemurs/Individual_imgs/images/\")\n",
    "background_root = Path(\"/usr/users/vogg/background_imgs/\")\n",
    "\n",
    "img_name_list = os.listdir(img_path)\n",
    "bg_list = os.listdir(background_root)\n",
    "regex = re.compile('.*jpg')\n",
    "img_name_list = sorted([i for i in img_name_list if regex.match(i)])\n",
    "bg_list = sorted([i for i in bg_list if regex.match(i)])\n",
    "bg_list = sorted([i for i in bg_list if not i.startswith(\".\")])\n",
    "print(len(img_name_list))"
   ]
  },
  {
   "cell_type": "code",
   "execution_count": 51,
   "id": "simple-rings",
   "metadata": {},
   "outputs": [
    {
     "name": "stdout",
     "output_type": "stream",
     "text": [
      "=> loading pretrained model /usr/users/vogg/FairMOT/models/hrnetv2_w32_imagenet_pretrained.pth\n",
      "ok\n"
     ]
    }
   ],
   "source": [
    "model = create_model('hrnet_32', heads =  {'hm': 2, 'wh': 2, 'id': 128, 'reg': 2}, \n",
    "                     head_conv = 256, num_classes = 2, num_poses = None, \n",
    "                     clsID4Pose = None, cat_spec_wh = False, conf_thres = 0.1)\n",
    "\n",
    "model = load_model(model, '../models/hrnet/hrnet32_lemur_sep22.pth')\n",
    "model = model.to(torch.device('cuda'))\n",
    "model.eval()\n",
    "print('ok')"
   ]
  },
  {
   "cell_type": "code",
   "execution_count": 133,
   "id": "sophisticated-keeping",
   "metadata": {},
   "outputs": [
    {
     "data": {
      "text/plain": [
       "'GX010011_small_4396.jpg'"
      ]
     },
     "execution_count": 133,
     "metadata": {},
     "output_type": "execute_result"
    }
   ],
   "source": [
    "img_name_list[0]"
   ]
  },
  {
   "cell_type": "code",
   "execution_count": 155,
   "id": "indirect-drove",
   "metadata": {},
   "outputs": [
    {
     "name": "stdout",
     "output_type": "stream",
     "text": [
      "0\n",
      "100\n",
      "200\n",
      "0\n",
      "100\n",
      "200\n",
      "0\n",
      "100\n",
      "200\n",
      "0\n",
      "100\n",
      "200\n",
      "0\n",
      "100\n",
      "200\n",
      "0\n",
      "100\n",
      "200\n",
      "0\n",
      "100\n",
      "200\n",
      "0\n",
      "100\n",
      "200\n",
      "0\n",
      "100\n",
      "200\n",
      "0\n",
      "100\n",
      "200\n"
     ]
    }
   ],
   "source": [
    "for rep in range(10):\n",
    "    print(rep)\n",
    "    for i in range(len(img_name_list)):\n",
    "\n",
    "        img0 = cv2.imread(str(img_path / img_name_list[i]))  # BGR\n",
    "        img_box, _, _, _ = datasets.letterbox(img0, height=608, width=1088)\n",
    "        img1 = Image.fromarray(cv2.cvtColor(img0, cv2.COLOR_BGR2RGB))\n",
    "        # Normalize RGB\n",
    "        img = img_box[:, :, ::-1].transpose(2, 0, 1)\n",
    "\n",
    "        img = np.ascontiguousarray(img, dtype=np.float32)\n",
    "        img /= 255.0\n",
    "\n",
    "        im_blob = torch.from_numpy(img).cuda().unsqueeze(0)\n",
    "\n",
    "        width = img0.shape[1]\n",
    "        height = img0.shape[0]\n",
    "        inp_height = im_blob.shape[2]\n",
    "        inp_width = im_blob.shape[3]\n",
    "\n",
    "        with torch.no_grad():\n",
    "            output = model(im_blob)[-1]\n",
    "            hm = output['hm'].sigmoid_()\n",
    "            #hm = hm * self.prediction_hm\n",
    "            wh = output['wh']\n",
    "\n",
    "\n",
    "            reg = output['reg']\n",
    "\n",
    "\n",
    "        dets, inds, cls_inds_mask = mot_decode(heatmap=hm,\n",
    "                                                   wh=wh,\n",
    "                                                   reg=reg,\n",
    "                                                   num_classes=2,\n",
    "                                                   cat_spec_wh=False,\n",
    "                                                   K=5)\n",
    "        h_out = inp_height // 4\n",
    "        w_out = inp_width // 4\n",
    "        dets = map2orig(dets, h_out, w_out, height, width, 2)\n",
    "\n",
    "        coords = dets[0][0]\n",
    "\n",
    "        center = tuple(map(int, ((coords[0] + coords[2]) / 2, (coords[1] + coords[3]) / 2)))\n",
    "        low_left = tuple(map(int, (coords[0], coords[1])))\n",
    "        up_right = tuple(map(int, (coords[2], coords[3])))\n",
    "        w = coords[2] - coords[0]\n",
    "        h = coords[3] - coords[1]\n",
    "\n",
    "        mask = Image.new('L', (width, height), 0)\n",
    "        path = [low_left, tuple([coords[0] + w, coords[1]]), \n",
    "                tuple([coords[0] + w, coords[1] + h]), tuple([coords[0], coords[1] + h])]\n",
    "        ImageDraw.Draw(mask).polygon(path, outline=1, fill=255)\n",
    "\n",
    "        img2 = Image.open(background_root / bg_list[(i + rep) % len(bg_list)])\n",
    "\n",
    "        x, y = img2.size\n",
    "\n",
    "        x0, y0 = img1.size\n",
    "\n",
    "        scale_factor = randrange(50, 95)/100\n",
    "        width = int(min(x * scale_factor, x0))\n",
    "        height = int(min(y * scale_factor, y0))\n",
    "        x1 = randrange(0, x - width)\n",
    "        y1 = randrange(0, y - height)\n",
    "\n",
    "        img3 = img2.crop((x1, y1, x1 + width, y1 + height)).resize(img1.size)\n",
    "        im = Image.composite(img1, img3, mask)\n",
    "        out_name = str(rep) + \"_\" + img_name_list[i].split(\".\")[0] + \".jpg\"\n",
    "        im.save(img_path / out_name)"
   ]
  },
  {
   "cell_type": "code",
   "execution_count": 164,
   "id": "japanese-cocktail",
   "metadata": {},
   "outputs": [],
   "source": [
    "label_path = Path(\"/usr/users/vogg/Labelling/Lemurs/Individual_imgs/labels_with_ids/\")\n",
    "file_list = os.listdir(label_path)\n",
    "file_list = sorted([i for i in file_list if not i.startswith(\".\")])"
   ]
  },
  {
   "cell_type": "code",
   "execution_count": 165,
   "id": "brief-modem",
   "metadata": {},
   "outputs": [
    {
     "name": "stdout",
     "output_type": "stream",
     "text": [
      "0\n",
      "1\n",
      "2\n",
      "3\n",
      "4\n",
      "5\n",
      "6\n",
      "7\n",
      "8\n",
      "9\n"
     ]
    }
   ],
   "source": [
    "import shutil\n",
    "\n",
    "for rep in range(10):\n",
    "    print(rep)\n",
    "    for file in file_list:\n",
    "        out_file = str(rep) + \"_\" + file\n",
    "        shutil.copyfile(str(label_path / file), str(label_path / out_file))"
   ]
  },
  {
   "cell_type": "code",
   "execution_count": null,
   "id": "higher-tiger",
   "metadata": {},
   "outputs": [],
   "source": []
  }
 ],
 "metadata": {
  "kernelspec": {
   "display_name": "Python 3",
   "language": "python",
   "name": "python3"
  },
  "language_info": {
   "codemirror_mode": {
    "name": "ipython",
    "version": 3
   },
   "file_extension": ".py",
   "mimetype": "text/x-python",
   "name": "python",
   "nbconvert_exporter": "python",
   "pygments_lexer": "ipython3",
   "version": "3.8.6"
  }
 },
 "nbformat": 4,
 "nbformat_minor": 5
}
