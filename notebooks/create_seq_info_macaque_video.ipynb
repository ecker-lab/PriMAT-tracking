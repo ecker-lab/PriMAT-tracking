{
 "cells": [
  {
   "cell_type": "code",
   "execution_count": 1,
   "metadata": {},
   "outputs": [],
   "source": [
    "import os\n",
    "import re\n",
    "import sys\n",
    "import numpy as np"
   ]
  },
  {
   "cell_type": "code",
   "execution_count": 2,
   "metadata": {},
   "outputs": [],
   "source": [
    "def read_agecker_Macaque_wild(folder_path, scale_size = (1920, 1080)):\n",
    "    width, height = scale_size\n",
    "    data_names = os.listdir(folder_path)\n",
    "    data_names = [name for name in data_names if re.search(\".txt\",name)]\n",
    "    frame_nr = []\n",
    "    class_name = []\n",
    "    id_nr = []\n",
    "    bbox_xywh = []\n",
    "    for data_name in data_names:\n",
    "        maca_data = open(os.path.join(folder_path,data_name)).read().strip().split(\"\\n\")\n",
    "        if maca_data == [\"\"]:\n",
    "            continue\n",
    "        maca_data = [[float(nr) for nr in row.strip().split(\" \")] for row in maca_data]\n",
    "        frame_name = data_name.split(\".\")[0]\n",
    "        #-1 that mot also starts at 0\n",
    "        frame_nr_to_append = int(re.findall(\"[0-9]+\",frame_name)[0])\n",
    "        for row in maca_data:\n",
    "            frame_nr.append(frame_nr_to_append)\n",
    "            class_name.append(row[0])\n",
    "            id_nr.append(row[1])\n",
    "            #to upper left corner from middle \n",
    "            row[2] = (float(row[2]) - float(row[4])/2) * width\n",
    "            row[3] = (float(row[3]) - float(row[5])/2) * height\n",
    "            row[4] = float(row[4]) * width\n",
    "            row[5] = float(row[5]) * height\n",
    "            row[2:6] = [round(x,2) for x in row[2:6]]\n",
    "            bbox_xywh.append(row[2:6])\n",
    "    #now bring them in the right order of the frames for sure:\n",
    "    order_to_follow = np.argsort(frame_nr)\n",
    "    frame_nr = [frame_nr[i] for i in order_to_follow]\n",
    "    id_nr = [id_nr[i] for i in order_to_follow]\n",
    "    bbox_xywh = [bbox_xywh[i] for i in order_to_follow]\n",
    "    class_name = [class_name[i] for i in order_to_follow]\n",
    "    return {\"frame_name\":frame_nr,\"id_nr\":id_nr,\"bbox_xywh\":bbox_xywh,\"class_name\":class_name}\n",
    "\n",
    "def write_MOT(path, dict_to_write):\n",
    "    \"\"\"\n",
    "    Write the MOT file for the given dictionary\n",
    "\n",
    "    path: path to write the file\n",
    "    mot_dict: dictionary with MOT data\n",
    "    \"\"\"\n",
    "    frame_nr = dict_to_write[\"frame_name\"]\n",
    "    id_nr = dict_to_write[\"id_nr\"]\n",
    "    bbox_xywh = dict_to_write[\"bbox_xywh\"]\n",
    "    confidence_score = dict_to_write[\"confidence_score\"]\n",
    "    with open(path, \"w\") as f:\n",
    "        for i in range(len(frame_nr)):\n",
    "            row = [str(frame_nr[i]+1), str(int(id_nr[i])), *[str(round(x, 2)) for x in bbox_xywh[i]], str(round(confidence_score[i], 2)),str(1),str(1)]\n",
    "            f.write(\",\".join(row) + \"\\n\")\n",
    "\n"
   ]
  },
  {
   "cell_type": "code",
   "execution_count": 3,
   "metadata": {},
   "outputs": [
    {
     "name": "stdout",
     "output_type": "stream",
     "text": [
      "VID_20210301_105722_0\n",
      "VID_20210223_123630_0\n",
      "VID_20210227_133440_0\n",
      "VID_20210228_154053_0\n",
      "VID_20210302_103130_0\n",
      "VID_20210301_151229_0\n",
      "VID_20210228_160721_0\n",
      "VID_20210224_114038_0\n",
      "VID_20210224_115729_0\n",
      "VID_20210223_123817_0\n",
      "VID_20210301_145312_0\n",
      "VID_20210228_153846_0\n",
      "VID_20210224_115455_0\n",
      "VID_20210223_123854_0\n",
      "VID_20210228_153942_0\n",
      "VID_20210301_143635_0\n",
      "VID_20210302_103307_0\n",
      "VID_20210227_133251_0\n"
     ]
    }
   ],
   "source": [
    "base_path = \"/usr/users/vogg/macaque_videos_eval/\"\n",
    "videos = os.listdir(base_path)\n",
    "videos = [vid for vid in videos if re.search(\"VID\", vid)]\n",
    "for video in videos:\n",
    "    seqLength = len(os.listdir(os.path.join(base_path, video, \"images\")))\n",
    "    with open(os.path.join(base_path, video, \"seqinfo.ini\"), \"w\") as to_write:\n",
    "        to_write.write(\"[Sequence]\\n\")\n",
    "        to_write.write(\"; name=MOT16-01\\n\")\n",
    "        to_write.write(f\"; imDir={video}/images\\n\")\n",
    "        to_write.write(\"frameRate=30\\n\")\n",
    "        to_write.write(f\"seqLength={seqLength}\\n\")\n",
    "        to_write.write(\"imWidth=1920\\n\")\n",
    "        to_write.write(\"imHeight=1080\\n\")\n",
    "        to_write.write(\"imExt=.jpg\\n\")\n",
    "\n",
    "for video in videos:\n",
    "    infos = read_agecker_Macaque_wild(os.path.join(base_path, video, \"labels_with_ids\"), scale_size = (1920, 1080))\n",
    "    print(video)\n",
    "    infos[\"confidence_score\"] = [1 for _ in infos[\"id_nr\"]]\n",
    "    write_MOT(os.path.join(base_path, video, \"gt.txt\"), infos)\n",
    "\n"
   ]
  },
  {
   "cell_type": "code",
   "execution_count": null,
   "metadata": {},
   "outputs": [],
   "source": []
  }
 ],
 "metadata": {
  "kernelspec": {
   "display_name": "mktrack",
   "language": "python",
   "name": "python3"
  },
  "language_info": {
   "codemirror_mode": {
    "name": "ipython",
    "version": 3
   },
   "file_extension": ".py",
   "mimetype": "text/x-python",
   "name": "python",
   "nbconvert_exporter": "python",
   "pygments_lexer": "ipython3",
   "version": "3.8.12"
  },
  "orig_nbformat": 4,
  "vscode": {
   "interpreter": {
    "hash": "60ced420ad4e86a519f02723719197983a7bc8a476883984e4cadb85097aad83"
   }
  }
 },
 "nbformat": 4,
 "nbformat_minor": 2
}
