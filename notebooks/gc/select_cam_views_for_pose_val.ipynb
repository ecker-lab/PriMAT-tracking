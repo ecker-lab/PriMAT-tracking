{
 "cells": [
  {
   "cell_type": "code",
   "execution_count": 1,
   "metadata": {},
   "outputs": [],
   "source": [
    "import numpy as np\n",
    "import pandas as pd\n",
    "from pathlib import Path"
   ]
  },
  {
   "cell_type": "code",
   "execution_count": 2,
   "metadata": {},
   "outputs": [],
   "source": [
    "p_in = Path('/home/matthias/monkey/MC-FairMOT_mt/src/data/explorationroom_largest_sampled.val')\n",
    "p_pose_in = Path('/home/matthias/monkey/MC-FairMOT_mt/src/data/explorationroom_largest_sampled-pose.val')"
   ]
  },
  {
   "cell_type": "code",
   "execution_count": 3,
   "metadata": {},
   "outputs": [
    {
     "data": {
      "text/html": [
       "<div>\n",
       "<style scoped>\n",
       "    .dataframe tbody tr th:only-of-type {\n",
       "        vertical-align: middle;\n",
       "    }\n",
       "\n",
       "    .dataframe tbody tr th {\n",
       "        vertical-align: top;\n",
       "    }\n",
       "\n",
       "    .dataframe thead th {\n",
       "        text-align: right;\n",
       "    }\n",
       "</style>\n",
       "<table border=\"1\" class=\"dataframe\">\n",
       "  <thead>\n",
       "    <tr style=\"text-align: right;\">\n",
       "      <th></th>\n",
       "      <th>file_position</th>\n",
       "      <th>monkey</th>\n",
       "      <th>recording</th>\n",
       "      <th>camera</th>\n",
       "      <th>frame</th>\n",
       "      <th>pose</th>\n",
       "    </tr>\n",
       "  </thead>\n",
       "  <tbody>\n",
       "    <tr>\n",
       "      <th>0</th>\n",
       "      <td>0</td>\n",
       "      <td>hum</td>\n",
       "      <td>20092021_M1-1</td>\n",
       "      <td>cam19415032</td>\n",
       "      <td>8225</td>\n",
       "      <td>0</td>\n",
       "    </tr>\n",
       "    <tr>\n",
       "      <th>1</th>\n",
       "      <td>1</td>\n",
       "      <td>hum</td>\n",
       "      <td>21092021_M1-1</td>\n",
       "      <td>cam19415032</td>\n",
       "      <td>64715</td>\n",
       "      <td>0</td>\n",
       "    </tr>\n",
       "    <tr>\n",
       "      <th>2</th>\n",
       "      <td>2</td>\n",
       "      <td>hum</td>\n",
       "      <td>21092021_M1-2</td>\n",
       "      <td>cam19415032</td>\n",
       "      <td>21805</td>\n",
       "      <td>0</td>\n",
       "    </tr>\n",
       "    <tr>\n",
       "      <th>3</th>\n",
       "      <td>3</td>\n",
       "      <td>hum</td>\n",
       "      <td>23092021_SMA-2</td>\n",
       "      <td>cam19415032</td>\n",
       "      <td>32200</td>\n",
       "      <td>0</td>\n",
       "    </tr>\n",
       "    <tr>\n",
       "      <th>4</th>\n",
       "      <td>4</td>\n",
       "      <td>hum</td>\n",
       "      <td>22092021_PMd-1_2</td>\n",
       "      <td>cam19415032</td>\n",
       "      <td>23240</td>\n",
       "      <td>0</td>\n",
       "    </tr>\n",
       "    <tr>\n",
       "      <th>...</th>\n",
       "      <td>...</td>\n",
       "      <td>...</td>\n",
       "      <td>...</td>\n",
       "      <td>...</td>\n",
       "      <td>...</td>\n",
       "      <td>...</td>\n",
       "    </tr>\n",
       "    <tr>\n",
       "      <th>345</th>\n",
       "      <td>345</td>\n",
       "      <td>luk</td>\n",
       "      <td>27082021_PMd-2</td>\n",
       "      <td>cam21013369</td>\n",
       "      <td>3920</td>\n",
       "      <td>4</td>\n",
       "    </tr>\n",
       "    <tr>\n",
       "      <th>346</th>\n",
       "      <td>346</td>\n",
       "      <td>luk</td>\n",
       "      <td>27082021_PRR-1</td>\n",
       "      <td>cam21013369</td>\n",
       "      <td>46270</td>\n",
       "      <td>4</td>\n",
       "    </tr>\n",
       "    <tr>\n",
       "      <th>347</th>\n",
       "      <td>347</td>\n",
       "      <td>luk</td>\n",
       "      <td>27082021_PRR-1</td>\n",
       "      <td>cam21013369</td>\n",
       "      <td>45850</td>\n",
       "      <td>4</td>\n",
       "    </tr>\n",
       "    <tr>\n",
       "      <th>348</th>\n",
       "      <td>348</td>\n",
       "      <td>luk</td>\n",
       "      <td>27082021_PMd-2</td>\n",
       "      <td>cam21013369</td>\n",
       "      <td>5285</td>\n",
       "      <td>4</td>\n",
       "    </tr>\n",
       "    <tr>\n",
       "      <th>349</th>\n",
       "      <td>349</td>\n",
       "      <td>luk</td>\n",
       "      <td>27082021_M1-1</td>\n",
       "      <td>cam21013369</td>\n",
       "      <td>2135</td>\n",
       "      <td>4</td>\n",
       "    </tr>\n",
       "  </tbody>\n",
       "</table>\n",
       "<p>350 rows × 6 columns</p>\n",
       "</div>"
      ],
      "text/plain": [
       "     file_position monkey         recording       camera  frame pose\n",
       "0                0    hum     20092021_M1-1  cam19415032   8225    0\n",
       "1                1    hum     21092021_M1-1  cam19415032  64715    0\n",
       "2                2    hum     21092021_M1-2  cam19415032  21805    0\n",
       "3                3    hum    23092021_SMA-2  cam19415032  32200    0\n",
       "4                4    hum  22092021_PMd-1_2  cam19415032  23240    0\n",
       "..             ...    ...               ...          ...    ...  ...\n",
       "345            345    luk    27082021_PMd-2  cam21013369   3920    4\n",
       "346            346    luk    27082021_PRR-1  cam21013369  46270    4\n",
       "347            347    luk    27082021_PRR-1  cam21013369  45850    4\n",
       "348            348    luk    27082021_PMd-2  cam21013369   5285    4\n",
       "349            349    luk     27082021_M1-1  cam21013369   2135    4\n",
       "\n",
       "[350 rows x 6 columns]"
      ]
     },
     "execution_count": 3,
     "metadata": {},
     "output_type": "execute_result"
    }
   ],
   "source": [
    "df = pd.DataFrame({'file_position':pd.Series(dtype='int'), 'monkey':pd.Series(dtype='str'), 'recording':pd.Series(dtype='str'), 'camera':pd.Series(dtype='str'), 'frame':pd.Series(dtype='int'), 'pose':pd.Series(dtype='int')})\n",
    "\n",
    "with p_in.open('r') as img_f:\n",
    "    with p_pose_in.open('r') as pose_f:\n",
    "        for i, (img_path, pose) in enumerate(zip([x.rstrip() for x in img_f.readlines()], [x.rstrip() for x in pose_f.readlines()])):\n",
    "            # print(i, img, pose)\n",
    "            p_img = Path(img_path)\n",
    "            img_n = p_img.stem\n",
    "            # following does not work! border case: recordings including \"M1-2\" in name. M1-2 is appended to recording name by \"_\", in that case it's part of the name...\n",
    "            # vals = img_n.split(sep='_')\n",
    "            vals = [i, img_n[0:3], img_n[4:img_n.find('cam')-1], *img_n.split(sep='_')[-2:], pose]\n",
    "            # contains: [name, recording, camera, frame]\n",
    "            df.loc[len(df.index)] = vals\n",
    "            \n",
    "df"
   ]
  },
  {
   "cell_type": "code",
   "execution_count": 9,
   "metadata": {},
   "outputs": [
    {
     "data": {
      "text/plain": [
       "['cam19415032', 'cam19415034', 'cam19415037', 'cam19415039', 'cam21013369']"
      ]
     },
     "execution_count": 9,
     "metadata": {},
     "output_type": "execute_result"
    }
   ],
   "source": [
    "cam_names = df['camera'].unique().tolist()\n",
    "cam_names"
   ]
  },
  {
   "cell_type": "code",
   "execution_count": 15,
   "metadata": {},
   "outputs": [],
   "source": [
    "for i, cam in enumerate(cam_names):\n",
    "    df_cam = df.loc[df.camera==cam]\n",
    "    p_out = Path(f'/home/matthias/monkey/MC-FairMOT_mt/src/data/explorationroom_largest_sampled_{cam}.val')\n",
    "    p_pose_out = Path(f'/home/matthias/monkey/MC-FairMOT_mt/src/data/explorationroom_largest_sampled_{cam}-pose.val')\n",
    "    with p_out.open('a') as img_p:\n",
    "        with p_pose_out.open('a') as pose_p:\n",
    "            for index, row in df_cam.iterrows():\n",
    "                p_img = Path('/media/hdd2/matthias/datasets/explorationroom_largest/validation/images/')\n",
    "                p_img = p_img / (row.monkey + '_' + row.recording + '_' + row.camera + '_' + row.frame + '.png')\n",
    "                pose = row.pose\n",
    "                \n",
    "                img_p.write(str(p_img)+'\\n')\n",
    "                pose_p.write(str(pose)+'\\n')"
   ]
  },
  {
   "cell_type": "markdown",
   "metadata": {},
   "source": [
    "# ignore everything below"
   ]
  },
  {
   "cell_type": "code",
   "execution_count": 17,
   "metadata": {},
   "outputs": [
    {
     "data": {
      "text/plain": [
       "camera\n",
       "cam19415032    75\n",
       "cam19415034    75\n",
       "cam19415037    50\n",
       "cam19415039    75\n",
       "cam21013369    75\n",
       "Name: pose, dtype: int64"
      ]
     },
     "execution_count": 17,
     "metadata": {},
     "output_type": "execute_result"
    }
   ],
   "source": [
    "cam = df.groupby('camera')\n",
    "cam.pose.count()"
   ]
  },
  {
   "cell_type": "code",
   "execution_count": 7,
   "metadata": {},
   "outputs": [
    {
     "data": {
      "text/html": [
       "<div>\n",
       "<style scoped>\n",
       "    .dataframe tbody tr th:only-of-type {\n",
       "        vertical-align: middle;\n",
       "    }\n",
       "\n",
       "    .dataframe tbody tr th {\n",
       "        vertical-align: top;\n",
       "    }\n",
       "\n",
       "    .dataframe thead th {\n",
       "        text-align: right;\n",
       "    }\n",
       "</style>\n",
       "<table border=\"1\" class=\"dataframe\">\n",
       "  <thead>\n",
       "    <tr style=\"text-align: right;\">\n",
       "      <th></th>\n",
       "    </tr>\n",
       "  </thead>\n",
       "  <tbody>\n",
       "    <tr>\n",
       "      <th>0</th>\n",
       "    </tr>\n",
       "    <tr>\n",
       "      <th>1</th>\n",
       "    </tr>\n",
       "    <tr>\n",
       "      <th>2</th>\n",
       "    </tr>\n",
       "    <tr>\n",
       "      <th>3</th>\n",
       "    </tr>\n",
       "    <tr>\n",
       "      <th>4</th>\n",
       "    </tr>\n",
       "    <tr>\n",
       "      <th>...</th>\n",
       "    </tr>\n",
       "    <tr>\n",
       "      <th>345</th>\n",
       "    </tr>\n",
       "    <tr>\n",
       "      <th>346</th>\n",
       "    </tr>\n",
       "    <tr>\n",
       "      <th>347</th>\n",
       "    </tr>\n",
       "    <tr>\n",
       "      <th>348</th>\n",
       "    </tr>\n",
       "    <tr>\n",
       "      <th>349</th>\n",
       "    </tr>\n",
       "  </tbody>\n",
       "</table>\n",
       "<p>350 rows × 0 columns</p>\n",
       "</div>"
      ],
      "text/plain": [
       "Empty DataFrame\n",
       "Columns: []\n",
       "Index: [0, 1, 2, 3, 4, 5, 6, 7, 8, 9, 10, 11, 12, 13, 14, 15, 16, 17, 18, 19, 20, 21, 22, 23, 24, 25, 26, 27, 28, 29, 30, 31, 32, 33, 34, 35, 36, 37, 38, 39, 40, 41, 42, 43, 44, 45, 46, 47, 48, 49, 50, 51, 52, 53, 54, 55, 56, 57, 58, 59, 60, 61, 62, 63, 64, 65, 66, 67, 68, 69, 70, 71, 72, 73, 74, 75, 76, 77, 78, 79, 80, 81, 82, 83, 84, 85, 86, 87, 88, 89, 90, 91, 92, 93, 94, 95, 96, 97, 98, 99, ...]\n",
       "\n",
       "[350 rows x 0 columns]"
      ]
     },
     "execution_count": 7,
     "metadata": {},
     "output_type": "execute_result"
    }
   ],
   "source": [
    "df.filter('camera')"
   ]
  }
 ],
 "metadata": {
  "kernelspec": {
   "display_name": "Python 3.8.10 ('mcmot')",
   "language": "python",
   "name": "python3"
  },
  "language_info": {
   "codemirror_mode": {
    "name": "ipython",
    "version": 3
   },
   "file_extension": ".py",
   "mimetype": "text/x-python",
   "name": "python",
   "nbconvert_exporter": "python",
   "pygments_lexer": "ipython3",
   "version": "3.8.10 | packaged by conda-forge | (default, May 11 2021, 07:01:05) \n[GCC 9.3.0]"
  },
  "orig_nbformat": 4,
  "vscode": {
   "interpreter": {
    "hash": "39eb24884a20efbe92a33a7cb5a30cfdbf07e4ee47e10a659e4e13f995e930ee"
   }
  }
 },
 "nbformat": 4,
 "nbformat_minor": 2
}
