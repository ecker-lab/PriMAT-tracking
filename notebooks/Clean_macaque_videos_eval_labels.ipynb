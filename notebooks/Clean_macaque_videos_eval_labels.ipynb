{
 "cells": [
  {
   "cell_type": "markdown",
   "id": "molecular-welding",
   "metadata": {},
   "source": [
    "Some of the labelled videos of macaque_videos_eval are not labelled until the end. This causes trouble when evaluating because the images are still in the dataset. In this script we remove empty labels and corresponding images at the end of each video."
   ]
  },
  {
   "cell_type": "code",
   "execution_count": 21,
   "id": "handled-premises",
   "metadata": {},
   "outputs": [
    {
     "name": "stdout",
     "output_type": "stream",
     "text": [
      "VID_20210301_105722_0\n",
      "The last non-empty file is: /usr/users/vogg/macaque_videos_eval/VID_20210301_105722_0/labels_with_ids/frame_000390.txt\n",
      "VID_20210223_123630_0\n",
      "The last non-empty file is: /usr/users/vogg/macaque_videos_eval/VID_20210223_123630_0/labels_with_ids/frame_000390.txt\n",
      "VID_20210227_133440_0\n",
      "The last non-empty file is: /usr/users/vogg/macaque_videos_eval/VID_20210227_133440_0/labels_with_ids/frame_000279.txt\n",
      "VID_20210228_154053_0\n",
      "The last non-empty file is: /usr/users/vogg/macaque_videos_eval/VID_20210228_154053_0/labels_with_ids/frame_000390.txt\n",
      "VID_20210302_103130_0\n",
      "The last non-empty file is: /usr/users/vogg/macaque_videos_eval/VID_20210302_103130_0/labels_with_ids/frame_000390.txt\n",
      "VID_20210301_151229_0\n",
      "The last non-empty file is: /usr/users/vogg/macaque_videos_eval/VID_20210301_151229_0/labels_with_ids/frame_000390.txt\n",
      "VID_20210228_160721_0\n",
      "The last non-empty file is: /usr/users/vogg/macaque_videos_eval/VID_20210228_160721_0/labels_with_ids/frame_000390.txt\n",
      "VID_20210224_114038_0\n",
      "The last non-empty file is: /usr/users/vogg/macaque_videos_eval/VID_20210224_114038_0/labels_with_ids/frame_000390.txt\n",
      "VID_20210224_115729_0\n",
      "The last non-empty file is: /usr/users/vogg/macaque_videos_eval/VID_20210224_115729_0/labels_with_ids/frame_000360.txt\n",
      "VID_20210223_123817_0\n",
      "The last non-empty file is: /usr/users/vogg/macaque_videos_eval/VID_20210223_123817_0/labels_with_ids/frame_000390.txt\n",
      "VID_20210301_145312_0\n",
      "The last non-empty file is: /usr/users/vogg/macaque_videos_eval/VID_20210301_145312_0/labels_with_ids/frame_000390.txt\n",
      "VID_20210228_153846_0\n",
      "The last non-empty file is: /usr/users/vogg/macaque_videos_eval/VID_20210228_153846_0/labels_with_ids/frame_000360.txt\n",
      "VID_20210224_115455_0\n",
      "The last non-empty file is: /usr/users/vogg/macaque_videos_eval/VID_20210224_115455_0/labels_with_ids/frame_000390.txt\n",
      "VID_20210223_123854_0\n",
      "The last non-empty file is: /usr/users/vogg/macaque_videos_eval/VID_20210223_123854_0/labels_with_ids/frame_000390.txt\n",
      "VID_20210228_153942_0\n",
      "The last non-empty file is: /usr/users/vogg/macaque_videos_eval/VID_20210228_153942_0/labels_with_ids/frame_000380.txt\n",
      "VID_20210301_143635_0\n",
      "The last non-empty file is: /usr/users/vogg/macaque_videos_eval/VID_20210301_143635_0/labels_with_ids/frame_000390.txt\n",
      "VID_20210302_103307_0\n",
      "The last non-empty file is: /usr/users/vogg/macaque_videos_eval/VID_20210302_103307_0/labels_with_ids/frame_000390.txt\n",
      ".ipynb_checkpoints\n",
      "Videos\n",
      "VID_20210227_133251_0\n",
      "The last non-empty file is: /usr/users/vogg/macaque_videos_eval/VID_20210227_133251_0/labels_with_ids/frame_000379.txt\n"
     ]
    }
   ],
   "source": [
    "import os\n",
    "\n",
    "base_path = '/usr/users/vogg/macaque_videos_eval/'\n",
    "for video in os.listdir(base_path):\n",
    "    print(video)\n",
    "    \n",
    "    if \"VID_\" in video:\n",
    "\n",
    "        folder_path = os.path.join(base_path, \n",
    "                                   video, \"labels_with_ids/\")  \n",
    "\n",
    "        last_non_empty_file = None\n",
    "        for filename in sorted(os.listdir(folder_path)):\n",
    "            if filename.endswith('.txt'):\n",
    "                filepath = os.path.join(folder_path, filename)\n",
    "                if os.path.getsize(filepath) > 0:\n",
    "                    last_non_empty_file = filepath\n",
    "                \n",
    "                \n",
    "        if last_non_empty_file is not None:\n",
    "            for filename_to_delete in sorted(os.listdir(folder_path)):\n",
    "                filepath_to_delete = os.path.join(folder_path, filename_to_delete)\n",
    "                if filepath_to_delete.endswith('.txt') and filepath_to_delete > last_non_empty_file:\n",
    "                    os.remove(filepath_to_delete)\n",
    "    \n",
    "\n",
    "        print(f\"The last non-empty file is: {last_non_empty_file}\")"
   ]
  },
  {
   "cell_type": "code",
   "execution_count": 20,
   "id": "advance-commons",
   "metadata": {},
   "outputs": [],
   "source": [
    "import os\n",
    "import glob\n",
    "\n",
    "base_path = '/usr/users/vogg/macaque_videos_eval/'\n",
    "for video in os.listdir(base_path):\n",
    "    \n",
    "    if \"VID_\" in video:\n",
    "        # define the directories where your files are located\n",
    "        text_files_dir = os.path.join(base_path, video, \"labels_with_ids\")\n",
    "        image_files_dir = os.path.join(base_path, video, \"images\")\n",
    "\n",
    "        # get a list of all text files in the text files directory\n",
    "        text_files = os.listdir(text_files_dir)\n",
    "\n",
    "        # get a list of all image files in the image files directory\n",
    "        image_files = os.listdir(image_files_dir)\n",
    "\n",
    "        # loop through the image files and delete any that do not have a corresponding text file\n",
    "        for image_file in image_files:\n",
    "            if image_file[:-4] + \".txt\" not in text_files and not image_file.startswith(\".\"):\n",
    "                os.remove(os.path.join(image_files_dir, image_file))\n"
   ]
  },
  {
   "cell_type": "code",
   "execution_count": 32,
   "id": "legal-assembly",
   "metadata": {},
   "outputs": [
    {
     "name": "stdout",
     "output_type": "stream",
     "text": [
      "a\n",
      "a\n",
      "a\n",
      "a\n",
      "a\n",
      "a\n",
      "a\n",
      "a\n",
      "a\n",
      "a\n",
      "a\n",
      "a\n",
      "a\n",
      "a\n",
      "a\n",
      "a\n",
      "a\n",
      "a\n"
     ]
    }
   ],
   "source": [
    "for i, file in enumerate(os.listdir(base_path)):\n",
    "    if \"VID_2\" in file:\n",
    "        print(\"a\")\n",
    "        cmd_str = \"ffmpeg -f image2 -i {}/frame_%06d.jpg -c:v copy {}\".format(\n",
    "            os.path.join(base_path, file, \"images\"), os.path.join(base_path, \"Videos\", \"{}.mp4\".format(file))\n",
    "        )\n",
    "        os.system(cmd_str)\n",
    "        \n",
    "        "
   ]
  },
  {
   "cell_type": "code",
   "execution_count": null,
   "id": "talented-location",
   "metadata": {},
   "outputs": [],
   "source": []
  }
 ],
 "metadata": {
  "kernelspec": {
   "display_name": "Python 3",
   "language": "python",
   "name": "python3"
  },
  "language_info": {
   "codemirror_mode": {
    "name": "ipython",
    "version": 3
   },
   "file_extension": ".py",
   "mimetype": "text/x-python",
   "name": "python",
   "nbconvert_exporter": "python",
   "pygments_lexer": "ipython3",
   "version": "3.8.6"
  }
 },
 "nbformat": 4,
 "nbformat_minor": 5
}
