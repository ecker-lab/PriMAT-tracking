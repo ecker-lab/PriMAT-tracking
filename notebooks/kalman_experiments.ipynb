{
 "cells": [
  {
   "cell_type": "code",
   "execution_count": 64,
   "id": "instrumental-study",
   "metadata": {},
   "outputs": [],
   "source": [
    "import sys\n",
    "sys.path.insert(0, '/usr/users/vogg/FairMOT/src')\n",
    "sys.path.insert(0, '/usr/users/vogg/FairMOT/src/lib')\n",
    "sys.path.insert(0, '/opt/conda/envs/mktrack/lib/python3.8/site-packages')\n",
    "sys.path.insert(0, '/usr/users/vogg/.conda/envs/fairmot/lib/python3.8/site-packages')\n",
    "sys.path.insert(0, '/usr/users/vogg/FairMOT/DCNv2')\n"
   ]
  },
  {
   "cell_type": "code",
   "execution_count": 65,
   "id": "second-diary",
   "metadata": {},
   "outputs": [],
   "source": [
    "from __future__ import absolute_import\n",
    "from __future__ import division\n",
    "from __future__ import print_function\n",
    "\n",
    "\n",
    "import numpy as np\n",
    "import math\n",
    "import matplotlib.pyplot as plt\n",
    "from tracking_utils.kalman_filter import KalmanFilterGeneral\n",
    "from tracker.jipda import JIPDATracker\n",
    "from tracker.single_target_tracker import MonkeyTracker"
   ]
  },
  {
   "cell_type": "markdown",
   "id": "willing-therapist",
   "metadata": {},
   "source": [
    "## Kalman Filter (general implementation)"
   ]
  },
  {
   "cell_type": "code",
   "execution_count": 32,
   "id": "demanding-departure",
   "metadata": {},
   "outputs": [],
   "source": [
    "kf = KalmanFilterGeneral(2)"
   ]
  },
  {
   "cell_type": "code",
   "execution_count": 33,
   "id": "foreign-rebate",
   "metadata": {},
   "outputs": [
    {
     "data": {
      "text/plain": [
       "array([[0.04, 0.  , 0.  , 0.  ],\n",
       "       [0.  , 0.04, 0.  , 0.  ],\n",
       "       [0.  , 0.  , 1.  , 0.  ],\n",
       "       [0.  , 0.  , 0.  , 1.  ]])"
      ]
     },
     "execution_count": 33,
     "metadata": {},
     "output_type": "execute_result"
    }
   ],
   "source": [
    "mn, cv = kf.initiate(np.array([0.9, 2.5]), 2)\n",
    "cv"
   ]
  },
  {
   "cell_type": "code",
   "execution_count": 34,
   "id": "social-basin",
   "metadata": {},
   "outputs": [
    {
     "data": {
      "text/plain": [
       "array([0.9, 2.5, 0. , 0. ])"
      ]
     },
     "execution_count": 34,
     "metadata": {},
     "output_type": "execute_result"
    }
   ],
   "source": [
    "mn"
   ]
  },
  {
   "cell_type": "code",
   "execution_count": 35,
   "id": "adapted-warren",
   "metadata": {},
   "outputs": [],
   "source": [
    "mn, cv = kf.predict(mn, cv, 2)"
   ]
  },
  {
   "cell_type": "code",
   "execution_count": 36,
   "id": "silver-bread",
   "metadata": {},
   "outputs": [
    {
     "data": {
      "text/plain": [
       "array([[1.05      , 0.        , 1.        , 0.        ],\n",
       "       [0.        , 1.05      , 0.        , 1.        ],\n",
       "       [1.        , 0.        , 1.00015625, 0.        ],\n",
       "       [0.        , 1.        , 0.        , 1.00015625]])"
      ]
     },
     "execution_count": 36,
     "metadata": {},
     "output_type": "execute_result"
    }
   ],
   "source": [
    "cv"
   ]
  },
  {
   "cell_type": "code",
   "execution_count": 37,
   "id": "adequate-depth",
   "metadata": {},
   "outputs": [
    {
     "data": {
      "text/plain": [
       "(array([0.9, 2.5]),\n",
       " array([[1.06, 0.  ],\n",
       "        [0.  , 1.06]]))"
      ]
     },
     "execution_count": 37,
     "metadata": {},
     "output_type": "execute_result"
    }
   ],
   "source": [
    "kf.project(mn, cv, 2)"
   ]
  },
  {
   "cell_type": "code",
   "execution_count": 38,
   "id": "matched-frequency",
   "metadata": {},
   "outputs": [
    {
     "data": {
      "text/plain": [
       "(array([ 1.69245283,  2.30188679,  0.75471698, -0.18867925]),\n",
       " array([[0.00990566, 0.        , 0.00943396, 0.        ],\n",
       "        [0.        , 0.00990566, 0.        , 0.00943396],\n",
       "        [0.00943396, 0.        , 0.05676002, 0.        ],\n",
       "        [0.        , 0.00943396, 0.        , 0.05676002]]))"
      ]
     },
     "execution_count": 38,
     "metadata": {},
     "output_type": "execute_result"
    }
   ],
   "source": [
    "meas = np.array([1.7, 2.3])\n",
    "kf.update(mn, cv, meas, 2)"
   ]
  },
  {
   "cell_type": "code",
   "execution_count": 11,
   "id": "eleven-newton",
   "metadata": {},
   "outputs": [],
   "source": [
    "meas = np.zeros((25,2))\n",
    "meas[0] = [1, 1]\n",
    "\n"
   ]
  },
  {
   "cell_type": "code",
   "execution_count": 12,
   "id": "congressional-hungary",
   "metadata": {},
   "outputs": [],
   "source": [
    "prior = meas[0]\n",
    "\n",
    "for i, row in enumerate(meas):\n",
    "    meas[i] = prior + [1, 1] + 2 * (np.random.rand(2) - 0.5)\n",
    "    prior = meas[i]"
   ]
  },
  {
   "cell_type": "code",
   "execution_count": 13,
   "id": "aerial-associate",
   "metadata": {},
   "outputs": [],
   "source": [
    "def euclidean_d(row1, row2):\n",
    "    distance = 0.0\n",
    "    for i in range(len(row1)):\n",
    "        distance += (row1[i] - row2[i])**2\n",
    "    return math.sqrt(distance)\n",
    "\n",
    "def find_nn(point, meas, clutter):\n",
    "    distance = 10000\n",
    "    for row in clutter:\n",
    "        dist = euclidean_d(point, row)\n",
    "        if dist < distance:\n",
    "            distance = dist\n",
    "            nn = row\n",
    "            \n",
    "    dist = euclidean_d(point, meas)\n",
    "    if dist < distance:\n",
    "        nn = meas\n",
    "            \n",
    "    return nn"
   ]
  },
  {
   "cell_type": "code",
   "execution_count": 61,
   "id": "funny-witness",
   "metadata": {},
   "outputs": [
    {
     "data": {
      "image/png": "[encoded data removed]",
      "text/plain": [
       "<Figure size 432x288 with 1 Axes>"
      ]
     },
     "metadata": {
      "needs_background": "light"
     },
     "output_type": "display_data"
    }
   ],
   "source": [
    "np.random.seed(122)\n",
    "\n",
    "plt.plot(meas[:,0], meas[:,1], 'o')\n",
    "\n",
    "mn, cv = kf.initiate(meas[0], 5)\n",
    "\n",
    "for i, line in enumerate(meas[1:]):\n",
    "    mn, cv = kf.predict(mn, cv, 5)\n",
    "    plt.plot(mn[0], mn[1], 'ro')\n",
    "    clutter = 25 * np.random.rand(60,2) + 1\n",
    "    #print(\"mean: \", mn[:2], \", Det:\", line)\n",
    "    nn = find_nn(mn[:2], line, clutter)\n",
    "    if any(nn != line):\n",
    "        plt.plot(nn[0], nn[1], 'gx', markersize = 5)\n",
    "    mn, cv = kf.update(mn, cv, nn, 5)"
   ]
  },
  {
   "cell_type": "markdown",
   "id": "failing-strap",
   "metadata": {},
   "source": [
    "## Structured arrays"
   ]
  },
  {
   "cell_type": "code",
   "execution_count": 3,
   "id": "charitable-broadway",
   "metadata": {},
   "outputs": [],
   "source": [
    "_track_dtype = np.dtype([\n",
    "            ('target', 'O'),  # current estimate, uses specified Tracker, e.g. splines\n",
    "            ('ex', 'f4'),  # the existence probability of the track, used for trimming\n",
    "        ])\n",
    "_tracks = np.zeros(0, dtype=_track_dtype)"
   ]
  },
  {
   "cell_type": "code",
   "execution_count": 4,
   "id": "front-champagne",
   "metadata": {},
   "outputs": [
    {
     "data": {
      "text/plain": [
       "array([], dtype=[('target', 'O'), ('ex', '<f4')])"
      ]
     },
     "execution_count": 4,
     "metadata": {},
     "output_type": "execute_result"
    }
   ],
   "source": [
    "_tracks\n"
   ]
  },
  {
   "cell_type": "code",
   "execution_count": 5,
   "id": "empty-wrist",
   "metadata": {},
   "outputs": [],
   "source": [
    "candidate_dtype = np.dtype([\n",
    "    ('time_s', 'f8'),       # time stamp of the candidate\n",
    "    ('center', 'f4', 2),    # center of the candidate\n",
    "    ('box', 'f4', 2),       # box of the candidate\n",
    "    ('birth_prob', 'f4'),   # birth probability\n",
    "])"
   ]
  },
  {
   "cell_type": "code",
   "execution_count": 6,
   "id": "requested-intent",
   "metadata": {},
   "outputs": [
    {
     "data": {
      "text/plain": [
       "dtype([('time_s', '<f8'), ('center', '<f4', (2,)), ('box', '<f4', (2,)), ('birth_prob', '<f4')])"
      ]
     },
     "execution_count": 6,
     "metadata": {},
     "output_type": "execute_result"
    }
   ],
   "source": [
    "candidate_dtype"
   ]
  },
  {
   "cell_type": "code",
   "execution_count": 73,
   "id": "pleased-gardening",
   "metadata": {},
   "outputs": [],
   "source": [
    "_candidates = np.zeros(1, dtype=candidate_dtype)"
   ]
  },
  {
   "cell_type": "code",
   "execution_count": 74,
   "id": "public-arrest",
   "metadata": {},
   "outputs": [
    {
     "data": {
      "text/plain": [
       "array([(0., [0., 0.], [0., 0.], 0.)],\n",
       "      dtype=[('time_s', '<f8'), ('center', '<f4', (2,)), ('box', '<f4', (2,)), ('birth_prob', '<f4')])"
      ]
     },
     "execution_count": 74,
     "metadata": {},
     "output_type": "execute_result"
    }
   ],
   "source": [
    "_candidates"
   ]
  },
  {
   "cell_type": "code",
   "execution_count": 75,
   "id": "sharing-waterproof",
   "metadata": {},
   "outputs": [],
   "source": [
    "_candidates[0] = (0.1, (5,2), (3,3), 0.9)"
   ]
  },
  {
   "cell_type": "code",
   "execution_count": 76,
   "id": "decimal-symposium",
   "metadata": {},
   "outputs": [
    {
     "data": {
      "text/plain": [
       "array([(0.1, [5., 2.], [3., 3.], 0.9)],\n",
       "      dtype=[('time_s', '<f8'), ('center', '<f4', (2,)), ('box', '<f4', (2,)), ('birth_prob', '<f4')])"
      ]
     },
     "execution_count": 76,
     "metadata": {},
     "output_type": "execute_result"
    }
   ],
   "source": [
    "_candidates"
   ]
  },
  {
   "cell_type": "markdown",
   "id": "unlike-behalf",
   "metadata": {},
   "source": [
    "## Monkey tracker"
   ]
  },
  {
   "cell_type": "code",
   "execution_count": 19,
   "id": "foreign-companion",
   "metadata": {},
   "outputs": [],
   "source": [
    "init_mean = np.array([0.9, 2.5, 0, 0])\n",
    "init_box = np.array([0.3, 0.5, 0, 0])\n",
    "std_pos = [1/5]*2\n",
    "std_vel = [1]*2\n",
    "std = np.r_[std_pos, std_vel]\n",
    "covariance = np.diag(np.square(std))\n",
    "mt = MonkeyTracker(init_mean, init_box, covariance)"
   ]
  },
  {
   "cell_type": "code",
   "execution_count": 20,
   "id": "religious-boundary",
   "metadata": {},
   "outputs": [
    {
     "data": {
      "text/plain": [
       "array([[0.04, 0.  , 0.  , 0.  ],\n",
       "       [0.  , 0.04, 0.  , 0.  ],\n",
       "       [0.  , 0.  , 1.  , 0.  ],\n",
       "       [0.  , 0.  , 0.  , 1.  ]])"
      ]
     },
     "execution_count": 20,
     "metadata": {},
     "output_type": "execute_result"
    }
   ],
   "source": [
    "covariance"
   ]
  },
  {
   "cell_type": "code",
   "execution_count": 21,
   "id": "fitting-london",
   "metadata": {},
   "outputs": [
    {
     "data": {
      "text/plain": [
       "(array([0.9, 2.5, 0. , 0. ]),\n",
       " array([[1.0425    , 0.        , 1.        , 0.        ],\n",
       "        [0.        , 1.0425    , 0.        , 1.        ],\n",
       "        [1.        , 0.        , 1.00003906, 0.        ],\n",
       "        [0.        , 1.        , 0.        , 1.00003906]]))"
      ]
     },
     "execution_count": 21,
     "metadata": {},
     "output_type": "execute_result"
    }
   ],
   "source": [
    "mt.predict()"
   ]
  },
  {
   "cell_type": "code",
   "execution_count": 28,
   "id": "tropical-craps",
   "metadata": {},
   "outputs": [],
   "source": [
    "meas = np.array([1.7, 2.3])\n",
    "R = covariance[:2,:2]"
   ]
  },
  {
   "cell_type": "code",
   "execution_count": 29,
   "id": "herbal-semiconductor",
   "metadata": {},
   "outputs": [
    {
     "name": "stdout",
     "output_type": "stream",
     "text": [
      "H:  (2, 4)\n",
      "cov:  (4, 4)\n",
      "R:  (2, 2)\n"
     ]
    }
   ],
   "source": [
    "mt.correct(meas, R)"
   ]
  },
  {
   "cell_type": "code",
   "execution_count": 30,
   "id": "fifty-mongolia",
   "metadata": {},
   "outputs": [
    {
     "data": {
      "text/plain": [
       "array([ 1.6704388 ,  2.3073903 ,  0.73903002, -0.18475751])"
      ]
     },
     "execution_count": 30,
     "metadata": {},
     "output_type": "execute_result"
    }
   ],
   "source": [
    "mt.get_position()"
   ]
  },
  {
   "cell_type": "code",
   "execution_count": 31,
   "id": "robust-testament",
   "metadata": {},
   "outputs": [
    {
     "data": {
      "text/plain": [
       "array([[0.03852194, 0.        , 0.0369515 , 0.        ],\n",
       "       [0.        , 0.03852194, 0.        , 0.0369515 ],\n",
       "       [0.0369515 , 0.        , 0.07625153, 0.        ],\n",
       "       [0.        , 0.0369515 , 0.        , 0.07625153]])"
      ]
     },
     "execution_count": 31,
     "metadata": {},
     "output_type": "execute_result"
    }
   ],
   "source": [
    "mt.get_cov()"
   ]
  },
  {
   "cell_type": "markdown",
   "id": "comparative-filter",
   "metadata": {},
   "source": [
    "## JIPDA"
   ]
  },
  {
   "cell_type": "code",
   "execution_count": 6,
   "id": "italian-madonna",
   "metadata": {},
   "outputs": [],
   "source": [
    "tracker = JIPDATracker()"
   ]
  },
  {
   "cell_type": "code",
   "execution_count": 7,
   "id": "announced-mountain",
   "metadata": {},
   "outputs": [],
   "source": [
    "tracker.predict()"
   ]
  },
  {
   "cell_type": "code",
   "execution_count": 8,
   "id": "owned-arizona",
   "metadata": {},
   "outputs": [
    {
     "data": {
      "text/plain": [
       "array([], dtype=[('target', 'O'), ('ex', '<f4')])"
      ]
     },
     "execution_count": 8,
     "metadata": {},
     "output_type": "execute_result"
    }
   ],
   "source": [
    "tracker._tracks"
   ]
  },
  {
   "cell_type": "code",
   "execution_count": 79,
   "id": "purple-princeton",
   "metadata": {},
   "outputs": [],
   "source": [
    "standard_cov = np.array([[50, 0.5],[0.5,50]])"
   ]
  },
  {
   "cell_type": "code",
   "execution_count": 68,
   "id": "integrated-burlington",
   "metadata": {},
   "outputs": [
    {
     "data": {
      "text/plain": [
       "array([[0., 1.],\n",
       "       [0., 2.]], dtype=float32)"
      ]
     },
     "execution_count": 68,
     "metadata": {},
     "output_type": "execute_result"
    }
   ],
   "source": [
    "meas = np.dtype([\n",
    "    ('center', 'f4', 2), \n",
    "    ('center_cov', 'f4', (2,2)),\n",
    "    ('box', 'f4', 2)])\n",
    "ex = np.array([([0, 1], standard_cov, None), ([0, 2], standard_cov, None)], \n",
    "              dtype = meas)\n",
    "\n",
    "ex['center']"
   ]
  },
  {
   "cell_type": "code",
   "execution_count": 69,
   "id": "liable-pride",
   "metadata": {},
   "outputs": [],
   "source": [
    "test = np.arange(36).reshape(9,4)\n"
   ]
  },
  {
   "cell_type": "code",
   "execution_count": 70,
   "id": "filled-phone",
   "metadata": {},
   "outputs": [],
   "source": [
    "meas2 = np.dtype([\n",
    "    ('time_s', 'f8'),\n",
    "    ('data_points', 'O'),\n",
    "    ('gt_box', 'O'),\n",
    "    ('sample_id', 'i4')\n",
    "])\n",
    "ex = np.array([(1, np.array((line[:2], standard_cov, line[2:4]), dtype = meas), 0,5) \n",
    "               for line in test], dtype = meas2)"
   ]
  },
  {
   "cell_type": "code",
   "execution_count": 71,
   "id": "operating-necklace",
   "metadata": {},
   "outputs": [
    {
     "data": {
      "text/plain": [
       "9"
      ]
     },
     "execution_count": 71,
     "metadata": {},
     "output_type": "execute_result"
    }
   ],
   "source": [
    "len(ex['data_points'])"
   ]
  },
  {
   "cell_type": "code",
   "execution_count": 72,
   "id": "ancient-bulletin",
   "metadata": {},
   "outputs": [
    {
     "data": {
      "text/plain": [
       "array([4., 5.], dtype=float32)"
      ]
     },
     "execution_count": 72,
     "metadata": {},
     "output_type": "execute_result"
    }
   ],
   "source": [
    "ex['data_points'][1]['center']"
   ]
  },
  {
   "cell_type": "code",
   "execution_count": 73,
   "id": "abroad-dryer",
   "metadata": {},
   "outputs": [
    {
     "ename": "NameError",
     "evalue": "name 'ex2' is not defined",
     "output_type": "error",
     "traceback": [
      "\u001b[0;31m---------------------------------------------------------------------------\u001b[0m",
      "\u001b[0;31mNameError\u001b[0m                                 Traceback (most recent call last)",
      "\u001b[0;32m<ipython-input-73-9d65d1343874>\u001b[0m in \u001b[0;36m<module>\u001b[0;34m\u001b[0m\n\u001b[0;32m----> 1\u001b[0;31m \u001b[0mex2\u001b[0m\u001b[0;34m[\u001b[0m\u001b[0;34m'data_points'\u001b[0m\u001b[0;34m]\u001b[0m\u001b[0;34m[\u001b[0m\u001b[0;36m0\u001b[0m\u001b[0;34m]\u001b[0m\u001b[0;34m[\u001b[0m\u001b[0;36m0\u001b[0m\u001b[0;34m]\u001b[0m\u001b[0;34m\u001b[0m\u001b[0;34m\u001b[0m\u001b[0m\n\u001b[0m",
      "\u001b[0;31mNameError\u001b[0m: name 'ex2' is not defined"
     ]
    }
   ],
   "source": [
    "ex2['data_points'][0][0]"
   ]
  },
  {
   "cell_type": "code",
   "execution_count": 83,
   "id": "statewide-michigan",
   "metadata": {},
   "outputs": [],
   "source": [
    "tester_dtype = np.dtype([\n",
    "    ('center', 'f4', 2), \n",
    "    ('center_cov', 'f4', (2,2))])\n",
    "\n",
    "class Tester:\n",
    "    def __init__(self, avg, cov):\n",
    "        self.avg = avg\n",
    "        self.cov = cov\n",
    "        \n",
    "    def get_avg(self):\n",
    "        return self.avg\n",
    "    \n",
    "    def get_dtype(self):\n",
    "        return tester_dtype\n",
    "    \n",
    "\n",
    "tester1 = Tester(np.array([5,1]), np.array([[500,1],[2,500]]))\n",
    "tester2 = Tester(np.array([5,8]), np.array([[3,4],[5,6]]))\n",
    "\n"
   ]
  },
  {
   "cell_type": "code",
   "execution_count": 49,
   "id": "central-median",
   "metadata": {},
   "outputs": [],
   "source": [
    "components = np.zeros((1, 2), \n",
    "                      dtype=np.object)"
   ]
  },
  {
   "cell_type": "code",
   "execution_count": 50,
   "id": "lovely-salvation",
   "metadata": {},
   "outputs": [
    {
     "data": {
      "text/plain": [
       "(2,)"
      ]
     },
     "execution_count": 50,
     "metadata": {},
     "output_type": "execute_result"
    }
   ],
   "source": [
    "components[0].shape"
   ]
  },
  {
   "cell_type": "code",
   "execution_count": 51,
   "id": "pharmaceutical-store",
   "metadata": {},
   "outputs": [],
   "source": [
    "components[0][0] = tester1"
   ]
  },
  {
   "cell_type": "code",
   "execution_count": 22,
   "id": "individual-ceramic",
   "metadata": {},
   "outputs": [],
   "source": [
    "components[0][1] = tester2"
   ]
  },
  {
   "cell_type": "code",
   "execution_count": 30,
   "id": "economic-seven",
   "metadata": {},
   "outputs": [
    {
     "name": "stdout",
     "output_type": "stream",
     "text": [
      "[array([2, 1]), array([5, 8])]\n"
     ]
    }
   ],
   "source": [
    "print([elem.get_avg() for elem in components[0]])"
   ]
  },
  {
   "cell_type": "code",
   "execution_count": 26,
   "id": "changing-memory",
   "metadata": {},
   "outputs": [
    {
     "name": "stdout",
     "output_type": "stream",
     "text": [
      "5\n",
      "6\n",
      "7\n",
      "8\n",
      "9\n",
      "10\n",
      "11\n",
      "12\n",
      "13\n",
      "14\n"
     ]
    }
   ],
   "source": [
    "import numpy\n",
    "\n",
    "class Atom(object):\n",
    "    def atoms_method(self, foo, bar):\n",
    "        #...with foo and bar being arrays of Paramsof length m & n\n",
    "        atom_out = foo + bar\n",
    "        return atom_out\n",
    "\n",
    "\n",
    "array = numpy.ndarray((10,),dtype=numpy.object)\n",
    "\n",
    "for i in range(10):\n",
    "    array[i] = Atom()\n",
    "\n",
    "for i in range(10):\n",
    "    print(array[i].atoms_method(i, 5))"
   ]
  },
  {
   "cell_type": "code",
   "execution_count": 75,
   "id": "enabling-dinner",
   "metadata": {},
   "outputs": [
    {
     "data": {
      "text/plain": [
       "<__main__.Tester at 0x7f1fe60f2850>"
      ]
     },
     "execution_count": 75,
     "metadata": {},
     "output_type": "execute_result"
    }
   ],
   "source": [
    "tester1"
   ]
  },
  {
   "cell_type": "code",
   "execution_count": 76,
   "id": "moving-technician",
   "metadata": {},
   "outputs": [],
   "source": [
    "import scipy.stats"
   ]
  },
  {
   "cell_type": "code",
   "execution_count": 77,
   "id": "iraqi-artist",
   "metadata": {},
   "outputs": [
    {
     "data": {
      "text/plain": [
       "0.0004795818293479214"
      ]
     },
     "execution_count": 77,
     "metadata": {},
     "output_type": "execute_result"
    }
   ],
   "source": [
    "scipy.stats.multivariate_normal(np.zeros(2), tester1.cov).pdf(5*np.ones(2))"
   ]
  },
  {
   "cell_type": "code",
   "execution_count": 84,
   "id": "honey-airplane",
   "metadata": {},
   "outputs": [
    {
     "data": {
      "text/plain": [
       "0.0003015232230417489"
      ]
     },
     "execution_count": 84,
     "metadata": {},
     "output_type": "execute_result"
    }
   ],
   "source": [
    "scipy.stats.multivariate_normal(np.zeros(2), tester1.cov).pdf(np.array([1148.7,706.25]) - \n",
    "                                                              np.array([1148.8,698.89]))"
   ]
  },
  {
   "cell_type": "code",
   "execution_count": null,
   "id": "conventional-officer",
   "metadata": {},
   "outputs": [],
   "source": [
    "scipy.stats.multivariate_normal(np.zeros(2), np.linalg.multi_dot((self.H, self.cov, self.H.T))).pdf(z_in - np.dot(self.H, self.mean))"
   ]
  },
  {
   "cell_type": "code",
   "execution_count": 98,
   "id": "revolutionary-minority",
   "metadata": {},
   "outputs": [
    {
     "name": "stdout",
     "output_type": "stream",
     "text": [
      "[[-6. -6.]\n",
      " [-4. -4.]]\n",
      "5.656854249492381\n",
      "[[-8. -6.]\n",
      " [-6. -4.]]\n",
      "7.211102550927978\n",
      "[[-0.1 -0.1]\n",
      " [ 1.9  1.9]]\n",
      "0.14142135623730964\n"
     ]
    }
   ],
   "source": [
    "new_candidates = np.array([[7,8],[9, 8], [1.1,2.1]])\n",
    "for i in range(len(new_candidates)):\n",
    "    print(np.array([[1,2],[3,4]]) - new_candidates[i])\n",
    "    dists = min(np.linalg.norm(np.array([[1,2],[3,4]]) - new_candidates[i], axis = 1))\n",
    "    print(dists)"
   ]
  },
  {
   "cell_type": "code",
   "execution_count": null,
   "id": "changed-scanner",
   "metadata": {},
   "outputs": [],
   "source": []
  }
 ],
 "metadata": {
  "kernelspec": {
   "display_name": "Python 3",
   "language": "python",
   "name": "python3"
  },
  "language_info": {
   "codemirror_mode": {
    "name": "ipython",
    "version": 3
   },
   "file_extension": ".py",
   "mimetype": "text/x-python",
   "name": "python",
   "nbconvert_exporter": "python",
   "pygments_lexer": "ipython3",
   "version": "3.8.6"
  }
 },
 "nbformat": 4,
 "nbformat_minor": 5
}
