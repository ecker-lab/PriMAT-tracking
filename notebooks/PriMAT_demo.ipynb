{
  "nbformat": 4,
  "nbformat_minor": 0,
  "metadata": {
    "colab": {
      "provenance": [],
      "gpuType": "T4"
    },
    "kernelspec": {
      "name": "python3",
      "display_name": "Python 3"
    },
    "language_info": {
      "name": "python"
    },
    "accelerator": "GPU"
  },
  "cells": [
    {
      "cell_type": "markdown",
      "source": [
        "# PriMAT: Multi-animal tracking\n",
        "\n",
        "In this notebook, we want to demonstrate how to train a tracking model from a few hundred frames. We will train a model that is able to track lemurs and feeding boxes with labelled images which can be downloaded [here](https://owncloud.gwdg.de/index.php/s/Mq4m9k1B74cN6ys) (-> Training Images / LemurBoxSep22 )."
      ],
      "metadata": {
        "id": "A0Atdc4Fr6C9"
      }
    },
    {
      "cell_type": "code",
      "source": [
        "!nvidia-smi"
      ],
      "metadata": {
        "colab": {
          "base_uri": "https://localhost:8080/"
        },
        "id": "mY2JvaUBk8ai",
        "outputId": "9feac4e6-2a5b-4016-ace6-9a8337b2dd43"
      },
      "execution_count": 5,
      "outputs": [
        {
          "output_type": "stream",
          "name": "stdout",
          "text": [
            "Sat Aug 24 13:29:41 2024       \n",
            "+---------------------------------------------------------------------------------------+\n",
            "| NVIDIA-SMI 535.104.05             Driver Version: 535.104.05   CUDA Version: 12.2     |\n",
            "|-----------------------------------------+----------------------+----------------------+\n",
            "| GPU  Name                 Persistence-M | Bus-Id        Disp.A | Volatile Uncorr. ECC |\n",
            "| Fan  Temp   Perf          Pwr:Usage/Cap |         Memory-Usage | GPU-Util  Compute M. |\n",
            "|                                         |                      |               MIG M. |\n",
            "|=========================================+======================+======================|\n",
            "|   0  Tesla T4                       Off | 00000000:00:04.0 Off |                    0 |\n",
            "| N/A   47C    P8               9W /  70W |      0MiB / 15360MiB |      0%      Default |\n",
            "|                                         |                      |                  N/A |\n",
            "+-----------------------------------------+----------------------+----------------------+\n",
            "                                                                                         \n",
            "+---------------------------------------------------------------------------------------+\n",
            "| Processes:                                                                            |\n",
            "|  GPU   GI   CI        PID   Type   Process name                            GPU Memory |\n",
            "|        ID   ID                                                             Usage      |\n",
            "|=======================================================================================|\n",
            "|  No running processes found                                                           |\n",
            "+---------------------------------------------------------------------------------------+\n"
          ]
        }
      ]
    },
    {
      "cell_type": "code",
      "source": [
        "!pip install torch-scatter -f https://data.pyg.org/whl/torch-2.1.0+cu118.html\n",
        "!pip install yacs==0.1.8\n",
        "!pip install opencv-python\n",
        "!pip install progress==1.6\n",
        "!pip install scikit-learn==1.2.2"
      ],
      "metadata": {
        "colab": {
          "base_uri": "https://localhost:8080/"
        },
        "collapsed": true,
        "id": "SrxawMA3lDGn",
        "outputId": "5b9aa991-1ab1-4545-915a-8b0429e59266"
      },
      "execution_count": 7,
      "outputs": [
        {
          "output_type": "stream",
          "name": "stdout",
          "text": [
            "Looking in links: https://data.pyg.org/whl/torch-2.1.0+cu118.html\n",
            "Requirement already satisfied: torch-scatter in /usr/local/lib/python3.10/dist-packages (2.1.2+pt21cu118)\n",
            "Collecting yacs==0.1.8\n",
            "  Downloading yacs-0.1.8-py3-none-any.whl.metadata (639 bytes)\n",
            "Requirement already satisfied: PyYAML in /usr/local/lib/python3.10/dist-packages (from yacs==0.1.8) (6.0.2)\n",
            "Downloading yacs-0.1.8-py3-none-any.whl (14 kB)\n",
            "Installing collected packages: yacs\n",
            "Successfully installed yacs-0.1.8\n",
            "Requirement already satisfied: opencv-python in /usr/local/lib/python3.10/dist-packages (4.10.0.84)\n",
            "Requirement already satisfied: numpy>=1.21.2 in /usr/local/lib/python3.10/dist-packages (from opencv-python) (1.26.4)\n",
            "Collecting progress==1.6\n",
            "  Downloading progress-1.6.tar.gz (7.8 kB)\n",
            "  Preparing metadata (setup.py) ... \u001b[?25l\u001b[?25hdone\n",
            "Building wheels for collected packages: progress\n",
            "  Building wheel for progress (setup.py) ... \u001b[?25l\u001b[?25hdone\n",
            "  Created wheel for progress: filename=progress-1.6-py3-none-any.whl size=9613 sha256=d1e1b2e7d400352c9889bd1a41dc43410620531057aa591f06d62c11ffb3815d\n",
            "  Stored in directory: /root/.cache/pip/wheels/a2/68/5f/c339b20a41659d856c93ccdce6a33095493eb82c3964aac5a1\n",
            "Successfully built progress\n",
            "Installing collected packages: progress\n",
            "Successfully installed progress-1.6\n",
            "Collecting scikit-learn==1.2.2\n",
            "  Downloading scikit_learn-1.2.2-cp310-cp310-manylinux_2_17_x86_64.manylinux2014_x86_64.whl.metadata (11 kB)\n",
            "Requirement already satisfied: numpy>=1.17.3 in /usr/local/lib/python3.10/dist-packages (from scikit-learn==1.2.2) (1.26.4)\n",
            "Requirement already satisfied: scipy>=1.3.2 in /usr/local/lib/python3.10/dist-packages (from scikit-learn==1.2.2) (1.13.1)\n",
            "Requirement already satisfied: joblib>=1.1.1 in /usr/local/lib/python3.10/dist-packages (from scikit-learn==1.2.2) (1.4.2)\n",
            "Requirement already satisfied: threadpoolctl>=2.0.0 in /usr/local/lib/python3.10/dist-packages (from scikit-learn==1.2.2) (3.5.0)\n",
            "Downloading scikit_learn-1.2.2-cp310-cp310-manylinux_2_17_x86_64.manylinux2014_x86_64.whl (9.6 MB)\n",
            "\u001b[2K   \u001b[90m━━━━━━━━━━━━━━━━━━━━━━━━━━━━━━━━━━━━━━━━\u001b[0m \u001b[32m9.6/9.6 MB\u001b[0m \u001b[31m95.7 MB/s\u001b[0m eta \u001b[36m0:00:00\u001b[0m\n",
            "\u001b[?25hInstalling collected packages: scikit-learn\n",
            "  Attempting uninstall: scikit-learn\n",
            "    Found existing installation: scikit-learn 1.3.2\n",
            "    Uninstalling scikit-learn-1.3.2:\n",
            "      Successfully uninstalled scikit-learn-1.3.2\n",
            "Successfully installed scikit-learn-1.2.2\n"
          ]
        }
      ]
    },
    {
      "cell_type": "code",
      "execution_count": 11,
      "metadata": {
        "colab": {
          "base_uri": "https://localhost:8080/"
        },
        "id": "hj9s06hC5_Yq",
        "outputId": "2c0237f0-17fd-4d41-ea3d-c7de7b83eadb"
      },
      "outputs": [
        {
          "output_type": "stream",
          "name": "stdout",
          "text": [
            "mkdir: cannot create directory ‘data’: File exists\n",
            "mkdir: cannot create directory ‘models’: File exists\n",
            "mkdir: cannot create directory ‘exp’: File exists\n"
          ]
        }
      ],
      "source": [
        "!git clone https://github.com/ecker-lab/PriMAT-tracking.git\n",
        "!cd PriMAT-tracking/\n",
        "!mkdir data\n",
        "!mkdir models\n",
        "!mkdir exp\n",
        "!mkdir videos"
      ]
    },
    {
      "cell_type": "markdown",
      "source": [
        "## Training\n",
        "\n",
        "### Extract data"
      ],
      "metadata": {
        "id": "AE-cGOn0x53f"
      }
    },
    {
      "cell_type": "markdown",
      "source": [
        "You have to upload the folder with the data to the colab space on the left. I uploaded it as a tar file and extracted it into the folder \"data\". The only important thing is that after this step you have training material in the folder data."
      ],
      "metadata": {
        "id": "dRfHHdpsslRG"
      }
    },
    {
      "cell_type": "markdown",
      "source": [],
      "metadata": {
        "id": "WbTCdH-fx_WR"
      }
    },
    {
      "cell_type": "code",
      "source": [
        "%cd data\n",
        "!tar -xvf ../../LemurBoxSep22.tar >/dev/null!tar\n",
        "%cd .."
      ],
      "metadata": {
        "colab": {
          "base_uri": "https://localhost:8080/"
        },
        "id": "ix7jA_T4CL62",
        "outputId": "f60d0c71-e5fe-468d-a912-7c4746562aeb"
      },
      "execution_count": 12,
      "outputs": [
        {
          "output_type": "stream",
          "name": "stdout",
          "text": [
            "/content/PriMAT-tracking/data\n",
            "/content/PriMAT-tracking\n"
          ]
        }
      ]
    },
    {
      "cell_type": "markdown",
      "source": [
        "### Run training script"
      ],
      "metadata": {
        "id": "2Z6s9wDSyA_f"
      }
    },
    {
      "cell_type": "markdown",
      "source": [
        "In the following cell you start the training. Before this you have to make sure a few things:\n",
        "- The data_cfg file has to point to the correct location of your data. Open it (it is in src/lib/cfg/....json) and adapt the path (for me it is /content/PriMAT-tracking/ in colab).\n",
        "- Give your experiment a name (--exp_id) so that you can find the model afterwards in exp/mot/exp_id/.\n",
        "-"
      ],
      "metadata": {
        "id": "eZF9kulKs868"
      }
    },
    {
      "cell_type": "code",
      "source": [
        "%%shell\n",
        "cd src\n",
        "python train.py mot --exp_id colab_test\\\n",
        "                    --load_model ''\\\n",
        "                    --num_epochs 10\\\n",
        "                    --lr_step 5\\\n",
        "                    --lr '1e-4'\\\n",
        "                    --data_cfg '../src/lib/cfg/lemur_box.json'\\\n",
        "                    --store_opt\\\n",
        "                    --arch hrnet_32\\\n",
        "                    --gpus 0\\\n",
        "                    --batch_size 2\\\n",
        "                    --seed 13\\\n",
        "                    --reid_cls_names lemur,box\\\n",
        "                    --val_intervals 10\\\n",
        "                    --save_all\n",
        "cd .."
      ],
      "metadata": {
        "colab": {
          "base_uri": "https://localhost:8080/"
        },
        "id": "06vNX0r2EQFb",
        "outputId": "faf5e2ad-081a-453c-c1c6-81a1b341b07a"
      },
      "execution_count": 18,
      "outputs": [
        {
          "output_type": "stream",
          "name": "stdout",
          "text": [
            "/content/PriMAT-tracking/src/lib\n",
            "training chunk_sizes: [2]\n",
            "The output will be saved to  /content/PriMAT-tracking/src/lib/../../exp/mot/colab_test\n",
            "Setting up data...\n",
            "================================================================================\n",
            "dataset summary\n",
            "OrderedDict([('lemur_box_train', defaultdict(<class 'int'>, {0: 1361.0, 1: 1343.0}))])\n",
            "start index\n",
            "OrderedDict()\n",
            "================================================================================\n",
            "heads {'hm': 2, 'wh': 2, 'id': 128, 'reg': 2}\n",
            "Namespace(task='mot', dataset='jde', exp_id='colab_test', test=False, load_model='', load_tracking_model='', load_id_model='', resume=False, store_opt=True, gpus=[0], num_workers=8, not_cuda_benchmark=False, seed=13, print_iter=0, hide_data_time=False, metric='loss', vis_thresh=0.5, arch='hrnet_32', head_conv=256, down_ratio=4, reid_dim=128, no_aug_hsv=True, squared_bboxes=False, move_px=0, zoom_min=1, zoom_max=1, gc_dim=128, input_h=608, input_w=1088, ltrb=False, lr=0.0001, lr_step=[5], num_epochs=10, batch_size=2, master_batch_size=2, num_iters=-1, val_intervals=10, trainval=False, save_all=True, K=50, not_prefetch_test=False, line_thickness=1, id_inline=False, debug_info=False, conf_thres=0.02, proportion_iou=0.5, sim_thres=0.8, det_thres=0.7, new_overlap_thres=0.7, track_buffer=3, min_box_area=100, buffered_iou=0, double_kalman=False, use_buffered_iou=False, input_video='../videos/MOT16-03.mp4', output_format='video', output_root='../demos', output_name='test', data_cfg='../src/lib/cfg/lemur_box.json', data_dir='../local_datasets/', reid_cls_names='lemur,box', use_gc=False, gc_cls_names='walking,sitting,standing2legs,standing4legs,NiS', clsID4GC=0, train_only_gc=False, gc_with_roi=False, mse_loss=False, reg_loss='l1', hm_weight=1, off_weight=1, wh_weight=0.1, id_loss='ce', id_weight=1, multi_loss='uncertainty', gc_loss='CrEn', norm_wh=False, dense_wh=False, cat_spec_wh=False, not_reg_offset=False, f=None, gpus_str='0', reg_offset=True, pad=31, num_stacks=1, chunk_sizes=[2], root_dir='/content/PriMAT-tracking/src/lib/../..', exp_dir='/content/PriMAT-tracking/src/lib/../../exp/mot', save_dir='/content/PriMAT-tracking/src/lib/../../exp/mot/colab_test', debug_dir='/content/PriMAT-tracking/src/lib/../../exp/mot/colab_test/debug', tb_dir='/content/PriMAT-tracking/src/lib/../../exp/mot/colab_test/tensor_board', gc_lbl_cnts=False, mean=None, std=None, num_classes=2, class_names=['lemur', 'box'], reid_cls_ids=[0, 1], output_h=152, output_w=272, heads={'hm': 2, 'wh': 2, 'id': 128, 'reg': 2}, nID_dict=defaultdict(<class 'int'>, {0: 1361, 1: 1343}))\n",
            "Creating model...\n",
            "/usr/local/lib/python3.10/dist-packages/torch/utils/data/dataloader.py:558: UserWarning: This DataLoader will create 8 worker processes in total. Our suggested max number of worker in current system is 2, which is smaller than what this DataLoader is going to create. Please be aware that excessive worker creation might get DataLoader running slow or even freeze, lower the worker number to avoid potential slowness/freeze if necessary.\n",
            "  warnings.warn(_create_warning_msg(\n",
            "Starting training...\n",
            "mot/colab_test |################################| train: [1][249/250]|Tot: 0:03:57 |ETA: 0:00:01 |loss 192.8877 |hm_loss 57.3822 |wh_loss 12.7256 |off_loss 1.0581 |id_loss 3.1784 |Data 0.187s(0.208s) |Net 0.951s  \n",
            "mot/colab_test |################################| train: [2][249/250]|Tot: 0:03:46 |ETA: 0:00:01 |loss 27.6759 |hm_loss 6.4080 |wh_loss 10.6951 |off_loss 0.3549 |id_loss 3.0640 |Data 0.203s(0.204s) |Net 0.907s\n",
            "mot/colab_test |################################| train: [3][249/250]|Tot: 0:03:47 |ETA: 0:00:01 |loss 27.1471 |hm_loss 6.2884 |wh_loss 10.2819 |off_loss 0.3653 |id_loss 3.0946 |Data 0.200s(0.204s) |Net 0.909s\n",
            "mot/colab_test |################################| train: [4][249/250]|Tot: 0:03:49 |ETA: 0:00:01 |loss 26.7747 |hm_loss 6.2910 |wh_loss 10.1681 |off_loss 0.2828 |id_loss 3.1034 |Data 0.199s(0.204s) |Net 0.916s\n",
            "mot/colab_test |################################| train: [5][249/250]|Tot: 0:03:47 |ETA: 0:00:01 |loss 25.8237 |hm_loss 6.1329 |wh_loss 9.5014 |off_loss 0.2609 |id_loss 3.0451 |Data 0.200s(0.204s) |Net 0.910s\n",
            "Drop LR to 1e-05\n",
            "mot/colab_test |################################| train: [6][249/250]|Tot: 0:03:49 |ETA: 0:00:01 |loss 25.3944 |hm_loss 6.0715 |wh_loss 8.8998 |off_loss 0.2504 |id_loss 3.0761 |Data 0.202s(0.207s) |Net 0.919s\n",
            "mot/colab_test |################################| train: [7][249/250]|Tot: 0:03:48 |ETA: 0:00:01 |loss 24.9588 |hm_loss 5.9975 |wh_loss 8.4747 |off_loss 0.2552 |id_loss 3.0197 |Data 0.200s(0.204s) |Net 0.915s\n",
            "mot/colab_test |################################| train: [8][249/250]|Tot: 0:03:48 |ETA: 0:00:01 |loss 24.8066 |hm_loss 5.9807 |wh_loss 8.1857 |off_loss 0.2508 |id_loss 3.0323 |Data 0.202s(0.206s) |Net 0.914s\n",
            "mot/colab_test |################################| train: [9][249/250]|Tot: 0:03:50 |ETA: 0:00:01 |loss 24.6857 |hm_loss 5.9767 |wh_loss 8.0351 |off_loss 0.2535 |id_loss 2.9856 |Data 0.193s(0.208s) |Net 0.922s\n",
            "mot/colab_test |################################| train: [10][249/250]|Tot: 0:03:48 |ETA: 0:00:01 |loss 24.7350 |hm_loss 5.9508 |wh_loss 8.0826 |off_loss 0.2529 |id_loss 3.0872 |Data 0.201s(0.204s) |Net 0.914s\n",
            "\u001b[?25h"
          ]
        },
        {
          "output_type": "execute_result",
          "data": {
            "text/plain": []
          },
          "metadata": {},
          "execution_count": 18
        }
      ]
    },
    {
      "cell_type": "markdown",
      "source": [
        "Your models will be in exp/mot/exp_id and end with .pth."
      ],
      "metadata": {
        "id": "76ahWFSUyEfh"
      }
    },
    {
      "cell_type": "markdown",
      "source": [
        "## Inference\n",
        "\n",
        "### Apply to videos\n",
        "\n",
        "If you want to have video output, you will need to activate ffmpeg."
      ],
      "metadata": {
        "id": "tdb8Vxcyya4S"
      }
    },
    {
      "cell_type": "code",
      "source": [
        "!apt-get update && apt-get install -y ffmpeg"
      ],
      "metadata": {
        "colab": {
          "base_uri": "https://localhost:8080/"
        },
        "id": "UURjc1qhyRh8",
        "outputId": "c11a2d2f-f8c3-4100-c2bc-7ee47508cd39"
      },
      "execution_count": 20,
      "outputs": [
        {
          "output_type": "stream",
          "name": "stdout",
          "text": [
            "\r0% [Working]\r            \rGet:1 https://cloud.r-project.org/bin/linux/ubuntu jammy-cran40/ InRelease [3,626 B]\n",
            "Get:2 https://developer.download.nvidia.com/compute/cuda/repos/ubuntu2204/x86_64  InRelease [1,581 B]\n",
            "Get:3 https://developer.download.nvidia.com/compute/cuda/repos/ubuntu2204/x86_64  Packages [945 kB]\n",
            "Get:4 http://security.ubuntu.com/ubuntu jammy-security InRelease [129 kB]\n",
            "Hit:5 http://archive.ubuntu.com/ubuntu jammy InRelease\n",
            "Get:6 http://archive.ubuntu.com/ubuntu jammy-updates InRelease [128 kB]\n",
            "Hit:7 https://ppa.launchpadcontent.net/deadsnakes/ppa/ubuntu jammy InRelease\n",
            "Ign:8 https://r2u.stat.illinois.edu/ubuntu jammy InRelease\n",
            "Get:9 https://ppa.launchpadcontent.net/graphics-drivers/ppa/ubuntu jammy InRelease [24.3 kB]\n",
            "Get:10 https://r2u.stat.illinois.edu/ubuntu jammy Release [5,713 B]\n",
            "Hit:11 https://ppa.launchpadcontent.net/ubuntugis/ppa/ubuntu jammy InRelease\n",
            "Get:12 https://r2u.stat.illinois.edu/ubuntu jammy Release.gpg [793 B]\n",
            "Get:13 https://ppa.launchpadcontent.net/graphics-drivers/ppa/ubuntu jammy/main amd64 Packages [53.3 kB]\n",
            "Get:14 http://archive.ubuntu.com/ubuntu jammy-backports InRelease [127 kB]\n",
            "Get:15 https://r2u.stat.illinois.edu/ubuntu jammy/main all Packages [8,239 kB]\n",
            "Get:16 http://archive.ubuntu.com/ubuntu jammy-updates/universe amd64 Packages [1,425 kB]\n",
            "Get:17 http://archive.ubuntu.com/ubuntu jammy-updates/main amd64 Packages [2,498 kB]\n",
            "Get:18 https://r2u.stat.illinois.edu/ubuntu jammy/main amd64 Packages [2,560 kB]\n",
            "Fetched 16.1 MB in 5s (3,386 kB/s)\n",
            "Reading package lists... Done\n",
            "W: Skipping acquire of configured file 'main/source/Sources' as repository 'https://r2u.stat.illinois.edu/ubuntu jammy InRelease' does not seem to provide it (sources.list entry misspelt?)\n",
            "Reading package lists... Done\n",
            "Building dependency tree... Done\n",
            "Reading state information... Done\n",
            "ffmpeg is already the newest version (7:4.4.2-0ubuntu0.22.04.1).\n",
            "0 upgraded, 0 newly installed, 0 to remove and 59 not upgraded.\n"
          ]
        }
      ]
    },
    {
      "cell_type": "markdown",
      "source": [
        "- If you want the model you just trained, you can directly change the path to ../exp/mot/exp_id/model_last.pth (or any other model you want). We use the pretrained lemur model from [here](https://owncloud.gwdg.de/index.php/s/Mq4m9k1B74cN6ys) (-> Models).\n",
        "- I uploaded one validation video (Eval8.mp4) into data/Videos.\n",
        "- If you set output_format to video, a video will be saved to output_root/output_name. If you set it to text, only the tracking output as a .txt file will be saved."
      ],
      "metadata": {
        "id": "gg8AQ_g30V7B"
      }
    },
    {
      "cell_type": "code",
      "source": [
        "!pip install motmetrics==1.2.0\n",
        "!pip install lap==0.4.0\n",
        "!pip install cython_bbox==0.1.3"
      ],
      "metadata": {
        "colab": {
          "base_uri": "https://localhost:8080/"
        },
        "id": "cNU0lI5x2HEV",
        "outputId": "c58405aa-37d2-497e-d154-3d600ba57055"
      },
      "execution_count": 31,
      "outputs": [
        {
          "output_type": "stream",
          "name": "stdout",
          "text": [
            "Requirement already satisfied: motmetrics==1.2.0 in /usr/local/lib/python3.10/dist-packages (1.2.0)\n",
            "Requirement already satisfied: numpy>=1.12.1 in /usr/local/lib/python3.10/dist-packages (from motmetrics==1.2.0) (1.26.4)\n",
            "Requirement already satisfied: pandas>=0.23.1 in /usr/local/lib/python3.10/dist-packages (from motmetrics==1.2.0) (2.1.4)\n",
            "Requirement already satisfied: scipy>=0.19.0 in /usr/local/lib/python3.10/dist-packages (from motmetrics==1.2.0) (1.13.1)\n",
            "Requirement already satisfied: xmltodict>=0.12.0 in /usr/local/lib/python3.10/dist-packages (from motmetrics==1.2.0) (0.13.0)\n",
            "Requirement already satisfied: flake8 in /usr/local/lib/python3.10/dist-packages (from motmetrics==1.2.0) (7.1.1)\n",
            "Requirement already satisfied: flake8-import-order in /usr/local/lib/python3.10/dist-packages (from motmetrics==1.2.0) (0.18.2)\n",
            "Requirement already satisfied: pytest in /usr/local/lib/python3.10/dist-packages (from motmetrics==1.2.0) (7.4.4)\n",
            "Requirement already satisfied: pytest-benchmark in /usr/local/lib/python3.10/dist-packages (from motmetrics==1.2.0) (4.0.0)\n",
            "Requirement already satisfied: python-dateutil>=2.8.2 in /usr/local/lib/python3.10/dist-packages (from pandas>=0.23.1->motmetrics==1.2.0) (2.8.2)\n",
            "Requirement already satisfied: pytz>=2020.1 in /usr/local/lib/python3.10/dist-packages (from pandas>=0.23.1->motmetrics==1.2.0) (2024.1)\n",
            "Requirement already satisfied: tzdata>=2022.1 in /usr/local/lib/python3.10/dist-packages (from pandas>=0.23.1->motmetrics==1.2.0) (2024.1)\n",
            "Requirement already satisfied: mccabe<0.8.0,>=0.7.0 in /usr/local/lib/python3.10/dist-packages (from flake8->motmetrics==1.2.0) (0.7.0)\n",
            "Requirement already satisfied: pycodestyle<2.13.0,>=2.12.0 in /usr/local/lib/python3.10/dist-packages (from flake8->motmetrics==1.2.0) (2.12.1)\n",
            "Requirement already satisfied: pyflakes<3.3.0,>=3.2.0 in /usr/local/lib/python3.10/dist-packages (from flake8->motmetrics==1.2.0) (3.2.0)\n",
            "Requirement already satisfied: setuptools in /usr/local/lib/python3.10/dist-packages (from flake8-import-order->motmetrics==1.2.0) (71.0.4)\n",
            "Requirement already satisfied: iniconfig in /usr/local/lib/python3.10/dist-packages (from pytest->motmetrics==1.2.0) (2.0.0)\n",
            "Requirement already satisfied: packaging in /usr/local/lib/python3.10/dist-packages (from pytest->motmetrics==1.2.0) (24.1)\n",
            "Requirement already satisfied: pluggy<2.0,>=0.12 in /usr/local/lib/python3.10/dist-packages (from pytest->motmetrics==1.2.0) (1.5.0)\n",
            "Requirement already satisfied: exceptiongroup>=1.0.0rc8 in /usr/local/lib/python3.10/dist-packages (from pytest->motmetrics==1.2.0) (1.2.2)\n",
            "Requirement already satisfied: tomli>=1.0.0 in /usr/local/lib/python3.10/dist-packages (from pytest->motmetrics==1.2.0) (2.0.1)\n",
            "Requirement already satisfied: py-cpuinfo in /usr/local/lib/python3.10/dist-packages (from pytest-benchmark->motmetrics==1.2.0) (9.0.0)\n",
            "Requirement already satisfied: six>=1.5 in /usr/local/lib/python3.10/dist-packages (from python-dateutil>=2.8.2->pandas>=0.23.1->motmetrics==1.2.0) (1.16.0)\n",
            "Requirement already satisfied: lap==0.4.0 in /usr/local/lib/python3.10/dist-packages (0.4.0)\n",
            "Requirement already satisfied: cython_bbox==0.1.3 in /usr/local/lib/python3.10/dist-packages (0.1.3)\n"
          ]
        }
      ]
    },
    {
      "cell_type": "code",
      "source": [
        "%%shell\n",
        "\n",
        "cd src\n",
        "\n",
        "python demo.py mot  --load_tracking_model ../models/lemur_tracking.pth\\\n",
        "                    --conf_thres 0.02\\\n",
        "                    --det_thres 0.5\\\n",
        "                    --new_overlap_thres 0.8\\\n",
        "                    --sim_thres 0.8\\\n",
        "                    --input_video ../data/Videos/Eval8.mp4\\\n",
        "                    --output_root ../videos/test/\\\n",
        "                    --output_name test_video\\\n",
        "                    --store_opt\\\n",
        "                    --line_thickness 2\\\n",
        "                    --debug_info\\\n",
        "                    --arch hrnet_32\\\n",
        "                    --output_format video\\\n",
        "                    --reid_cls_names \"lemur,box\"\\\n",
        "                    --proportion_iou 0.2\\\n",
        "                    --double_kalman\n",
        "\n",
        "\n",
        "cd .."
      ],
      "metadata": {
        "colab": {
          "base_uri": "https://localhost:8080/"
        },
        "id": "5T2o99sFyq7V",
        "outputId": "bae92df0-a396-410f-dc2d-01e27ce85f96"
      },
      "execution_count": 34,
      "outputs": [
        {
          "output_type": "stream",
          "name": "stdout",
          "text": [
            "/content/PriMAT-tracking/src/lib\n",
            "2024-08-24 14:55:03 [DEBUG]: matplotlib data path: /usr/local/lib/python3.10/dist-packages/matplotlib/mpl-data\n",
            "2024-08-24 14:55:03 [DEBUG]: CONFIGDIR=/root/.config/matplotlib\n",
            "2024-08-24 14:55:03 [DEBUG]: interactive is False\n",
            "2024-08-24 14:55:03 [DEBUG]: platform is linux\n",
            "2024-08-24 14:55:03 [DEBUG]: CACHEDIR=/root/.cache/matplotlib\n",
            "2024-08-24 14:55:03 [DEBUG]: Using fontManager instance from /root/.cache/matplotlib/fontlist-v330.json\n",
            "2024-08-24 14:55:03 [INFO]: NumExpr defaulting to 2 threads.\n",
            "training chunk_sizes: [12]\n",
            "The output will be saved to  /content/PriMAT-tracking/src/lib/../../exp/mot/default\n",
            "Net input image size: 1088×608\n",
            "heads {'hm': 2, 'wh': 2, 'id': 128, 'reg': 2}\n",
            "2024-08-24 14:55:04 [INFO]: Starting tracking...\n",
            "Length of the video: 346 frames\n",
            "Creating model...\n",
            "2024-08-24 14:55:04 [INFO]: => init weights from normal distribution\n",
            "2024-08-24 14:55:06 [INFO]: Processing frame 0 (100000.00 fps)\n",
            "2024-08-24 14:55:42 [INFO]: Processing frame 200 (7.99 fps)\n",
            "2024-08-24 14:56:06 [INFO]: save results to ../videos/test/Eval8.txt\n",
            "ffmpeg version 4.4.2-0ubuntu0.22.04.1 Copyright (c) 2000-2021 the FFmpeg developers\n",
            "  built with gcc 11 (Ubuntu 11.2.0-19ubuntu1)\n",
            "  configuration: --prefix=/usr --extra-version=0ubuntu0.22.04.1 --toolchain=hardened --libdir=/usr/lib/x86_64-linux-gnu --incdir=/usr/include/x86_64-linux-gnu --arch=amd64 --enable-gpl --disable-stripping --enable-gnutls --enable-ladspa --enable-libaom --enable-libass --enable-libbluray --enable-libbs2b --enable-libcaca --enable-libcdio --enable-libcodec2 --enable-libdav1d --enable-libflite --enable-libfontconfig --enable-libfreetype --enable-libfribidi --enable-libgme --enable-libgsm --enable-libjack --enable-libmp3lame --enable-libmysofa --enable-libopenjpeg --enable-libopenmpt --enable-libopus --enable-libpulse --enable-librabbitmq --enable-librubberband --enable-libshine --enable-libsnappy --enable-libsoxr --enable-libspeex --enable-libsrt --enable-libssh --enable-libtheora --enable-libtwolame --enable-libvidstab --enable-libvorbis --enable-libvpx --enable-libwebp --enable-libx265 --enable-libxml2 --enable-libxvid --enable-libzimg --enable-libzmq --enable-libzvbi --enable-lv2 --enable-omx --enable-openal --enable-opencl --enable-opengl --enable-sdl2 --enable-pocketsphinx --enable-librsvg --enable-libmfx --enable-libdc1394 --enable-libdrm --enable-libiec61883 --enable-chromaprint --enable-frei0r --enable-libx264 --enable-shared\n",
            "  libavutil      56. 70.100 / 56. 70.100\n",
            "  libavcodec     58.134.100 / 58.134.100\n",
            "  libavformat    58. 76.100 / 58. 76.100\n",
            "  libavdevice    58. 13.100 / 58. 13.100\n",
            "  libavfilter     7.110.100 /  7.110.100\n",
            "  libswscale      5.  9.100 /  5.  9.100\n",
            "  libswresample   3.  9.100 /  3.  9.100\n",
            "  libpostproc    55.  9.100 / 55.  9.100\n",
            "Input #0, image2, from '../videos/test/frame/%05d.jpg':\n",
            "  Duration: 00:00:11.07, start: 0.000000, bitrate: N/A\n",
            "  Stream #0:0: Video: mjpeg (Baseline), yuvj420p(pc, bt470bg/unknown/unknown), 1920x1080 [SAR 1:1 DAR 16:9], 30 fps, 30 tbr, 30 tbn, 30 tbc\n",
            "Stream mapping:\n",
            "  Stream #0:0 -> #0:0 (mjpeg (native) -> h264 (libx264))\n",
            "Press [q] to stop, [?] for help\n",
            "\u001b[1;34m[swscaler @ 0x58539bb37b80] \u001b[0m\u001b[0;33mdeprecated pixel format used, make sure you did set range correctly\n",
            "\u001b[0m\u001b[1;36m[libx264 @ 0x58539b8b0640] \u001b[0musing SAR=1/1\n",
            "\u001b[1;36m[libx264 @ 0x58539b8b0640] \u001b[0musing cpu capabilities: MMX2 SSE2Fast SSSE3 SSE4.2 AVX FMA3 BMI2 AVX2 AVX512\n",
            "\u001b[1;36m[libx264 @ 0x58539b8b0640] \u001b[0mprofile High, level 4.0, 4:2:0, 8-bit\n",
            "\u001b[1;36m[libx264 @ 0x58539b8b0640] \u001b[0m264 - core 163 r3060 5db6aa6 - H.264/MPEG-4 AVC codec - Copyleft 2003-2021 - http://www.videolan.org/x264.html - options: cabac=1 ref=3 deblock=1:0:0 analyse=0x3:0x113 me=hex subme=7 psy=1 psy_rd=1.00:0.00 mixed_ref=1 me_range=16 chroma_me=1 trellis=1 8x8dct=1 cqm=0 deadzone=21,11 fast_pskip=1 chroma_qp_offset=-2 threads=3 lookahead_threads=1 sliced_threads=0 nr=0 decimate=1 interlaced=0 bluray_compat=0 constrained_intra=0 bframes=3 b_pyramid=2 b_adapt=1 b_bias=0 direct=1 weightb=1 open_gop=0 weightp=2 keyint=250 keyint_min=25 scenecut=40 intra_refresh=0 rc_lookahead=40 rc=abr mbtree=1 bitrate=5000 ratetol=1.0 qcomp=0.60 qpmin=0 qpmax=69 qpstep=4 ip_ratio=1.40 aq=1:1.00\n",
            "Output #0, mp4, to '../videos/test/test_video.mp4':\n",
            "  Metadata:\n",
            "    encoder         : Lavf58.76.100\n",
            "  Stream #0:0: Video: h264 (avc1 / 0x31637661), yuv420p(tv, bt470bg/unknown/unknown, progressive), 1920x1080 [SAR 1:1 DAR 16:9], q=2-31, 5000 kb/s, 30 fps, 15360 tbn\n",
            "    Metadata:\n",
            "      encoder         : Lavc58.134.100 libx264\n",
            "    Side data:\n",
            "      cpb: bitrate max/min/avg: 0/0/5000000 buffer size: 0 vbv_delay: N/A\n",
            "frame=  332 fps=9.3 q=-1.0 Lsize=    6284kB time=00:00:10.96 bitrate=4693.7kbits/s speed=0.307x    \n",
            "video:6279kB audio:0kB subtitle:0kB other streams:0kB global headers:0kB muxing overhead: 0.075340%\n",
            "\u001b[1;36m[libx264 @ 0x58539b8b0640] \u001b[0mframe I:2     Avg QP:22.32  size:623650\n",
            "\u001b[1;36m[libx264 @ 0x58539b8b0640] \u001b[0mframe P:106   Avg QP:29.09  size: 37395\n",
            "\u001b[1;36m[libx264 @ 0x58539b8b0640] \u001b[0mframe B:224   Avg QP:35.63  size:  5436\n",
            "\u001b[1;36m[libx264 @ 0x58539b8b0640] \u001b[0mconsecutive B-frames:  8.1%  4.8%  2.7% 84.3%\n",
            "\u001b[1;36m[libx264 @ 0x58539b8b0640] \u001b[0mmb I  I16..4:  0.4% 66.3% 33.3%\n",
            "\u001b[1;36m[libx264 @ 0x58539b8b0640] \u001b[0mmb P  I16..4:  0.3%  2.0%  1.0%  P16..4: 31.0%  8.0%  8.6%  0.0%  0.0%    skip:49.2%\n",
            "\u001b[1;36m[libx264 @ 0x58539b8b0640] \u001b[0mmb B  I16..4:  0.1%  0.2%  0.1%  B16..8: 17.1%  2.3%  0.7%  direct: 0.9%  skip:78.7%  L0:29.2% L1:67.2% BI: 3.6%\n",
            "\u001b[1;36m[libx264 @ 0x58539b8b0640] \u001b[0mfinal ratefactor: 25.55\n",
            "\u001b[1;36m[libx264 @ 0x58539b8b0640] \u001b[0m8x8 transform intra:61.6% inter:55.4%\n",
            "\u001b[1;36m[libx264 @ 0x58539b8b0640] \u001b[0mcoded y,uvDC,uvAC intra: 81.6% 68.9% 39.9% inter: 9.4% 4.4% 1.3%\n",
            "\u001b[1;36m[libx264 @ 0x58539b8b0640] \u001b[0mi16 v,h,dc,p: 58% 21%  5% 17%\n",
            "\u001b[1;36m[libx264 @ 0x58539b8b0640] \u001b[0mi8 v,h,dc,ddl,ddr,vr,hd,vl,hu: 20% 10% 14%  7%  9% 11%  9% 10% 11%\n",
            "\u001b[1;36m[libx264 @ 0x58539b8b0640] \u001b[0mi4 v,h,dc,ddl,ddr,vr,hd,vl,hu: 25% 16% 11%  6%  9%  9%  9%  7%  8%\n",
            "\u001b[1;36m[libx264 @ 0x58539b8b0640] \u001b[0mi8c dc,h,v,p: 44% 19% 31%  6%\n",
            "\u001b[1;36m[libx264 @ 0x58539b8b0640] \u001b[0mWeighted P-Frames: Y:1.9% UV:0.0%\n",
            "\u001b[1;36m[libx264 @ 0x58539b8b0640] \u001b[0mref P L0: 69.2% 16.0% 10.4%  4.2%  0.2%\n",
            "\u001b[1;36m[libx264 @ 0x58539b8b0640] \u001b[0mref B L0: 88.6%  8.6%  2.8%\n",
            "\u001b[1;36m[libx264 @ 0x58539b8b0640] \u001b[0mref B L1: 93.6%  6.4%\n",
            "\u001b[1;36m[libx264 @ 0x58539b8b0640] \u001b[0mkb/s:4647.34\n"
          ]
        },
        {
          "output_type": "execute_result",
          "data": {
            "text/plain": []
          },
          "metadata": {},
          "execution_count": 34
        }
      ]
    },
    {
      "cell_type": "code",
      "source": [],
      "metadata": {
        "id": "fzKBEKfL2CDL"
      },
      "execution_count": null,
      "outputs": []
    }
  ]
}