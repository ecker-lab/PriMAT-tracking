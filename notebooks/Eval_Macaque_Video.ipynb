{
 "cells": [
  {
   "cell_type": "code",
   "execution_count": 2,
   "metadata": {},
   "outputs": [],
   "source": [
    "import os\n",
    "import re\n",
    "import shutil"
   ]
  },
  {
   "cell_type": "code",
   "execution_count": 3,
   "metadata": {},
   "outputs": [],
   "source": [
    "#where are the both datasets/ where is the github repo located\n",
    "base_path_macaque_video = \"/usr/users/vogg/macaque_videos_eval\"\n",
    "\n",
    "base_path_macaque_results = \"/usr/users/vogg/monkey-tracking-in-the-wild/videos/methods_paper/\"\n",
    "base_path_TrackEval = \"/usr/users/vogg/tracking/third_party/TrackEval\"\n"
   ]
  },
  {
   "cell_type": "code",
   "execution_count": 9,
   "metadata": {},
   "outputs": [],
   "source": [
    "#create file infrastructure\n",
    "tracker_name = \"macaquepose_1_150\"\n",
    "dataset_name = \"macaque_videos_eval\" #  macaque_video-all das ist jetzt etwas handcrafted\n",
    "base_path_gt = os.path.join(base_path_TrackEval,\"data\",\"gt\")\n",
    "base_path_trackers = os.path.join(base_path_TrackEval,\"data\",\"trackers\")\n",
    "\n",
    "base_path_tracker = os.path.join(base_path_trackers, dataset_name, tracker_name, \"data\")\n",
    "base_path_gt = os.path.join(base_path_gt, dataset_name)\n",
    "#create the folder structure and assume that mot annotation for macaque video is already created with: \n",
    "# /usr/users/vhassle/masterarbeit/fairmot-monkey-tracking/own_ideas_valentin/evaluation/create_seq_info_macaque_video.ipynb\n",
    "if not os.path.exists(base_path_gt):\n",
    "    os.makedirs(base_path_gt)\n",
    "\n",
    "if not os.path.exists(os.path.join(base_path_trackers, dataset_name, tracker_name, \"data\")):\n",
    "    os.makedirs(base_path_tracker)\n"
   ]
  },
  {
   "cell_type": "code",
   "execution_count": 10,
   "metadata": {},
   "outputs": [],
   "source": [
    "#copy groundtruth\n",
    "seq_names = [seq_name for seq_name in os.listdir(base_path_macaque_video) if re.search(\"VID_\",seq_name )]\n",
    "\n",
    "# Copy the ground truth files for each sequence to the base_path_gt directory\n",
    "for seq_name in seq_names:\n",
    "    # Get the full path to the ground truth file\n",
    "    gt_file = os.path.join(base_path_macaque_video, seq_name, \"gt.txt\")\n",
    "    info_file = os.path.join(base_path_macaque_video, seq_name, \"seqinfo.ini\")\n",
    "    \n",
    "    # Create the directory for the sequence in base_path_gt if it doesn't exist\n",
    "    seq_dir = os.path.join(base_path_gt, seq_name,\"gt\")\n",
    "    if not os.path.exists(seq_dir):\n",
    "        os.makedirs(seq_dir)\n",
    "    \n",
    "    # Copy the ground truth file to the sequence directory in base_path_gt\n",
    "    shutil.copy(gt_file, seq_dir)\n",
    "    shutil.copy(info_file, os.path.dirname(seq_dir))\n",
    "\n",
    "# create seqnames\n",
    "\n",
    "seqnames_path = os.path.join(os.path.dirname(base_path_gt),\"seqmaps\")\n",
    "if not os.path.exists(seqnames_path):\n",
    "    os.makedirs(seqnames_path)\n"
   ]
  },
  {
   "cell_type": "code",
   "execution_count": 11,
   "metadata": {},
   "outputs": [],
   "source": [
    "\n",
    "#does not work sometimes then do it several times\n",
    "#'SPLIT_TO_EVAL': 'all'\n",
    "seqnames = open(os.path.join(seqnames_path,\"macaque_videos_eval\"+\".txt\"), \"w\")\n",
    "seqnames.write(\"name\\n\")\n",
    "for seq_name in seq_names:\n",
    "    seqnames.write(seq_name+\"\\n\")\n",
    "\n"
   ]
  },
  {
   "cell_type": "code",
   "execution_count": 12,
   "metadata": {},
   "outputs": [
    {
     "data": {
      "text/plain": [
       "['VID_20210301_105722_0',\n",
       " 'VID_20210223_123630_0',\n",
       " 'VID_20210227_133440_0',\n",
       " 'VID_20210228_154053_0',\n",
       " 'VID_20210302_103130_0',\n",
       " 'VID_20210301_151229_0',\n",
       " 'VID_20210228_160721_0',\n",
       " 'VID_20210224_114038_0',\n",
       " 'VID_20210224_115729_0',\n",
       " 'VID_20210223_123817_0',\n",
       " 'VID_20210301_145312_0',\n",
       " 'VID_20210228_153846_0',\n",
       " 'VID_20210224_115455_0',\n",
       " 'VID_20210223_123854_0',\n",
       " 'VID_20210228_153942_0',\n",
       " 'VID_20210301_143635_0',\n",
       " 'VID_20210302_103307_0',\n",
       " 'VID_20210227_133251_0']"
      ]
     },
     "execution_count": 12,
     "metadata": {},
     "output_type": "execute_result"
    }
   ],
   "source": [
    "seq_names"
   ]
  },
  {
   "cell_type": "code",
   "execution_count": 13,
   "metadata": {},
   "outputs": [
    {
     "name": "stdout",
     "output_type": "stream",
     "text": [
      "/usr/users/vogg/monkey-tracking-in-the-wild/videos/methods_paper/VID_20210301_105722_0/macaquepose_1_150/results.txt\n",
      "/usr/users/vogg/monkey-tracking-in-the-wild/videos/methods_paper/VID_20210223_123630_0/macaquepose_1_150/results.txt\n",
      "/usr/users/vogg/monkey-tracking-in-the-wild/videos/methods_paper/VID_20210227_133440_0/macaquepose_1_150/results.txt\n",
      "/usr/users/vogg/monkey-tracking-in-the-wild/videos/methods_paper/VID_20210228_154053_0/macaquepose_1_150/results.txt\n",
      "/usr/users/vogg/monkey-tracking-in-the-wild/videos/methods_paper/VID_20210302_103130_0/macaquepose_1_150/results.txt\n",
      "/usr/users/vogg/monkey-tracking-in-the-wild/videos/methods_paper/VID_20210301_151229_0/macaquepose_1_150/results.txt\n",
      "/usr/users/vogg/monkey-tracking-in-the-wild/videos/methods_paper/VID_20210224_114038_0/macaquepose_1_150/results.txt\n",
      "/usr/users/vogg/monkey-tracking-in-the-wild/videos/methods_paper/VID_20210223_123817_0/macaquepose_1_150/results.txt\n",
      "/usr/users/vogg/monkey-tracking-in-the-wild/videos/methods_paper/VID_20210301_145312_0/macaquepose_1_150/results.txt\n",
      "/usr/users/vogg/monkey-tracking-in-the-wild/videos/methods_paper/VID_20210228_153846_0/macaquepose_1_150/results.txt\n",
      "/usr/users/vogg/monkey-tracking-in-the-wild/videos/methods_paper/VID_20210223_123854_0/macaquepose_1_150/results.txt\n",
      "/usr/users/vogg/monkey-tracking-in-the-wild/videos/methods_paper/VID_20210228_153942_0/macaquepose_1_150/results.txt\n",
      "/usr/users/vogg/monkey-tracking-in-the-wild/videos/methods_paper/VID_20210301_143635_0/macaquepose_1_150/results.txt\n",
      "/usr/users/vogg/monkey-tracking-in-the-wild/videos/methods_paper/VID_20210302_103307_0/macaquepose_1_150/results.txt\n",
      "/usr/users/vogg/monkey-tracking-in-the-wild/videos/methods_paper/VID_20210227_133251_0/macaquepose_1_150/results.txt\n"
     ]
    }
   ],
   "source": [
    "#copy tracker results\n",
    "seq_names = [seq_name for seq_name in os.listdir(base_path_macaque_results) if re.search(\"VID\",seq_name )]\n",
    "seq_dir = os.path.join(base_path_tracker)\n",
    "\n",
    "for seq_name in seq_names:\n",
    "    # Get the full path to the ground truth file\n",
    "    print(os.path.join(base_path_macaque_results, seq_name, tracker_name, \"results.txt\"))\n",
    "    det_file = os.path.join(base_path_macaque_results, seq_name, tracker_name, \"results.txt\")\n",
    "    \n",
    "    # Copy the images.txt file to the sequence directory in base_path_tracker\n",
    "    shutil.copy(det_file, seq_dir)\n",
    "    # Rename the images.txt file to seq_name.txt\n",
    "    new_name = os.path.join(seq_dir, seq_name + \".txt\")\n",
    "    os.rename(os.path.join(seq_dir, \"results.txt\"), new_name)"
   ]
  },
  {
   "cell_type": "code",
   "execution_count": 14,
   "metadata": {},
   "outputs": [
    {
     "data": {
      "text/plain": [
       "['VID_20210301_105722_0',\n",
       " 'VID_20210223_123630_0',\n",
       " 'VID_20210227_133440_0',\n",
       " 'VID_20210228_154053_0',\n",
       " 'VID_20210302_103130_0',\n",
       " 'VID_20210301_151229_0',\n",
       " 'VID_20210224_114038_0',\n",
       " 'VID_20210223_123817_0',\n",
       " 'VID_20210301_145312_0',\n",
       " 'VID_20210228_153846_0',\n",
       " 'VID_20210223_123854_0',\n",
       " 'VID_20210228_153942_0',\n",
       " 'VID_20210301_143635_0',\n",
       " 'VID_20210302_103307_0',\n",
       " 'VID_20210227_133251_0']"
      ]
     },
     "execution_count": 14,
     "metadata": {},
     "output_type": "execute_result"
    }
   ],
   "source": [
    "os.listdir(base_path_macaque_results)"
   ]
  },
  {
   "cell_type": "code",
   "execution_count": null,
   "metadata": {},
   "outputs": [],
   "source": []
  }
 ],
 "metadata": {
  "kernelspec": {
   "display_name": "Python 3",
   "language": "python",
   "name": "python3"
  },
  "language_info": {
   "codemirror_mode": {
    "name": "ipython",
    "version": 3
   },
   "file_extension": ".py",
   "mimetype": "text/x-python",
   "name": "python",
   "nbconvert_exporter": "python",
   "pygments_lexer": "ipython3",
   "version": "3.8.10"
  },
  "orig_nbformat": 4,
  "vscode": {
   "interpreter": {
    "hash": "31f2aee4e71d21fbe5cf8b01ff0e069b9275f58929596ceb00d14d90e3e16cd6"
   }
  }
 },
 "nbformat": 4,
 "nbformat_minor": 2
}
