{
 "cells": [
  {
   "cell_type": "code",
   "execution_count": 14,
   "id": "acting-authority",
   "metadata": {},
   "outputs": [
    {
     "name": "stdout",
     "output_type": "stream",
     "text": [
      "/usr/users/vogg/FairMOT/own_ideas\n"
     ]
    }
   ],
   "source": [
    "import numpy as np\n",
    "import pandas as pd\n",
    "import os\n",
    "import re\n",
    "# import matplotlib.pyplot as plt\n",
    "from PIL import Image\n",
    "\n",
    "\n",
    "from pathlib import Path\n",
    "import json\n",
    "import shutil\n",
    "\n",
    "os.getcwd()\n",
    "!pwd\n",
    "\n"
   ]
  },
  {
   "cell_type": "markdown",
   "id": "personalized-review",
   "metadata": {},
   "source": [
    "## Converting VoTT output\n",
    "\n",
    "After labeling with VoTT, we obtain a .csv file, which we convert into many .txt files, one file for every frame. These will be saved in a folder called labels_with_ids (if it does not exist you have to create it."
   ]
  },
  {
   "cell_type": "markdown",
   "id": "latin-oliver",
   "metadata": {},
   "source": [
    "### Paths to everything"
   ]
  },
  {
   "cell_type": "markdown",
   "id": "legitimate-course",
   "metadata": {},
   "source": [
    "#### Paths for Lemur & Box"
   ]
  },
  {
   "cell_type": "code",
   "execution_count": 10,
   "id": "manual-athens",
   "metadata": {},
   "outputs": [],
   "source": [
    "data_root = Path(\"/home/matthias/storage/sfb1528_storage/Z02/LemursAndBoxes/vott-csv-export/\")\n",
    "data_out = Path(\"/home/matthias/storage/datasets/lemur_box/train/\")"
   ]
  },
  {
   "cell_type": "markdown",
   "id": "concrete-intervention",
   "metadata": {},
   "source": [
    "#### Paths Richards things"
   ]
  },
  {
   "cell_type": "code",
   "execution_count": 15,
   "id": "worst-location",
   "metadata": {},
   "outputs": [],
   "source": [
    "data_root = Path(\"/usr/users/vogg/Labelling/Lemurs/Individual_imgs/\")\n",
    "#data_root = Path(\"/media/kiwi/gwdg_home/Data/Monkey/02_VoTT/\")"
   ]
  },
  {
   "cell_type": "markdown",
   "id": "sonic-ethernet",
   "metadata": {},
   "source": [
    "#### Paths Branch Interaction"
   ]
  },
  {
   "cell_type": "code",
   "execution_count": null,
   "id": "motivated-bradley",
   "metadata": {},
   "outputs": [],
   "source": [
    "data_root = Path(\"/home/matthias/storage/sfb1528_storage/Z01/MonkeyBranchInteraction/\")\n",
    "data_out = data_root / \"train\""
   ]
  },
  {
   "cell_type": "markdown",
   "id": "interstate-philip",
   "metadata": {},
   "source": [
    "#### Paths Exploration Room"
   ]
  },
  {
   "cell_type": "code",
   "execution_count": 6,
   "id": "derived-corporation",
   "metadata": {},
   "outputs": [],
   "source": [
    "data_root = Path(\"/home/matthias/storage/datasets/explorationroom_largest/validation\")\n",
    "data_out = data_root\n"
   ]
  },
  {
   "cell_type": "code",
   "execution_count": 16,
   "id": "municipal-diving",
   "metadata": {},
   "outputs": [],
   "source": [
    "labels = pd.read_csv(data_root / \"Individuals_alpha-export.csv\")"
   ]
  },
  {
   "cell_type": "markdown",
   "id": "narrow-smooth",
   "metadata": {},
   "source": [
    "### Test output of labels"
   ]
  },
  {
   "cell_type": "code",
   "execution_count": 17,
   "id": "closed-means",
   "metadata": {},
   "outputs": [],
   "source": [
    "# labels = pd.read_csv(data_root + \"images/Baboon-finder-export.csv\")\n",
    "# labels = data_root\n",
    "# labels = pd.read_csv(data_root / 'Lemur_new-export.csv')"
   ]
  },
  {
   "cell_type": "code",
   "execution_count": 18,
   "id": "dried-circuit",
   "metadata": {},
   "outputs": [
    {
     "data": {
      "text/html": [
       "<div>\n",
       "<style scoped>\n",
       "    .dataframe tbody tr th:only-of-type {\n",
       "        vertical-align: middle;\n",
       "    }\n",
       "\n",
       "    .dataframe tbody tr th {\n",
       "        vertical-align: top;\n",
       "    }\n",
       "\n",
       "    .dataframe thead th {\n",
       "        text-align: right;\n",
       "    }\n",
       "</style>\n",
       "<table border=\"1\" class=\"dataframe\">\n",
       "  <thead>\n",
       "    <tr style=\"text-align: right;\">\n",
       "      <th></th>\n",
       "      <th>image</th>\n",
       "      <th>xmin</th>\n",
       "      <th>ymin</th>\n",
       "      <th>xmax</th>\n",
       "      <th>ymax</th>\n",
       "      <th>label</th>\n",
       "    </tr>\n",
       "  </thead>\n",
       "  <tbody>\n",
       "    <tr>\n",
       "      <th>0</th>\n",
       "      <td>a_e_1_220918_c1_23961.jpg</td>\n",
       "      <td>672.893898</td>\n",
       "      <td>606.628333</td>\n",
       "      <td>1016.134122</td>\n",
       "      <td>899.873366</td>\n",
       "      <td>Box-Unsure</td>\n",
       "    </tr>\n",
       "    <tr>\n",
       "      <th>1</th>\n",
       "      <td>a_e_1_220918_c1_23961.jpg</td>\n",
       "      <td>1256.402213</td>\n",
       "      <td>619.502473</td>\n",
       "      <td>1553.877226</td>\n",
       "      <td>948.509150</td>\n",
       "      <td>Lemur-Floreana</td>\n",
       "    </tr>\n",
       "    <tr>\n",
       "      <th>2</th>\n",
       "      <td>a_e_1_220918_c1_23961.jpg</td>\n",
       "      <td>1778.413495</td>\n",
       "      <td>648.111744</td>\n",
       "      <td>1920.000000</td>\n",
       "      <td>928.482638</td>\n",
       "      <td>Lemur-Unsure</td>\n",
       "    </tr>\n",
       "    <tr>\n",
       "      <th>3</th>\n",
       "      <td>a_e_1_220918_c1_23961.jpg</td>\n",
       "      <td>1532.424712</td>\n",
       "      <td>668.138311</td>\n",
       "      <td>1794.145208</td>\n",
       "      <td>902.980132</td>\n",
       "      <td>Box-Unsure</td>\n",
       "    </tr>\n",
       "    <tr>\n",
       "      <th>4</th>\n",
       "      <td>a_e_1_220918_c1_3002.jpg</td>\n",
       "      <td>1839.910745</td>\n",
       "      <td>656.694558</td>\n",
       "      <td>1920.000000</td>\n",
       "      <td>776.853520</td>\n",
       "      <td>Lemur-Unsure</td>\n",
       "    </tr>\n",
       "  </tbody>\n",
       "</table>\n",
       "</div>"
      ],
      "text/plain": [
       "                       image         xmin        ymin         xmax  \\\n",
       "0  a_e_1_220918_c1_23961.jpg   672.893898  606.628333  1016.134122   \n",
       "1  a_e_1_220918_c1_23961.jpg  1256.402213  619.502473  1553.877226   \n",
       "2  a_e_1_220918_c1_23961.jpg  1778.413495  648.111744  1920.000000   \n",
       "3  a_e_1_220918_c1_23961.jpg  1532.424712  668.138311  1794.145208   \n",
       "4   a_e_1_220918_c1_3002.jpg  1839.910745  656.694558  1920.000000   \n",
       "\n",
       "         ymax           label  \n",
       "0  899.873366      Box-Unsure  \n",
       "1  948.509150  Lemur-Floreana  \n",
       "2  928.482638    Lemur-Unsure  \n",
       "3  902.980132      Box-Unsure  \n",
       "4  776.853520    Lemur-Unsure  "
      ]
     },
     "execution_count": 18,
     "metadata": {},
     "output_type": "execute_result"
    }
   ],
   "source": [
    "labels.head()"
   ]
  },
  {
   "cell_type": "markdown",
   "id": "blocked-impossible",
   "metadata": {},
   "source": [
    "### Fixing paths to image and label files"
   ]
  },
  {
   "cell_type": "code",
   "execution_count": 36,
   "id": "stable-shift",
   "metadata": {},
   "outputs": [],
   "source": [
    "# img_list = os.listdir(data_root + \"images\")\n",
    "imgs = data_root\n",
    "# lbls = data_root / 'labels_with_ids'\n",
    "# imgs = data_root\n",
    "#lbls = data_root / 'VoTT_output'\n",
    "# img_list = imgs.glob('**/*.png')\n",
    "img_list = os.listdir(data_root / \"images\")\n",
    "#labels_list = lbls.glob('**/*.json')\n",
    "# regex = re.compile('.*JPG')\n",
    "# img_list = sorted([i for i in img_list if regex.match(i)])"
   ]
  },
  {
   "cell_type": "code",
   "execution_count": 37,
   "id": "velvet-cooking",
   "metadata": {},
   "outputs": [
    {
     "data": {
      "text/plain": [
       "['GX010120_small_7060.jpg',\n",
       " 'GX010099_small_11425.jpg',\n",
       " 'GX020105_small_1203.jpg',\n",
       " 'a_e_1_220918_c2_15197.jpg',\n",
       " 'GX010185_small_5236.jpg']"
      ]
     },
     "execution_count": 37,
     "metadata": {},
     "output_type": "execute_result"
    }
   ],
   "source": [
    "img_list[:5]"
   ]
  },
  {
   "cell_type": "markdown",
   "id": "exotic-workshop",
   "metadata": {},
   "source": [
    "### Get all resolutions of images"
   ]
  },
  {
   "cell_type": "code",
   "execution_count": 5,
   "id": "prepared-louis",
   "metadata": {},
   "outputs": [
    {
     "ename": "FileNotFoundError",
     "evalue": "[Errno 2] No such file or directory: 'img10340.png'",
     "output_type": "error",
     "traceback": [
      "\u001b[0;31m---------------------------------------------------------------------------\u001b[0m",
      "\u001b[0;31mFileNotFoundError\u001b[0m                         Traceback (most recent call last)",
      "\u001b[0;32m<ipython-input-5-0e53427b7ed5>\u001b[0m in \u001b[0;36m<module>\u001b[0;34m\u001b[0m\n\u001b[1;32m      1\u001b[0m \u001b[0msh\u001b[0m \u001b[0;34m=\u001b[0m \u001b[0;34m[\u001b[0m\u001b[0;34m]\u001b[0m\u001b[0;34m\u001b[0m\u001b[0;34m\u001b[0m\u001b[0m\n\u001b[1;32m      2\u001b[0m \u001b[0;32mfor\u001b[0m \u001b[0mimg\u001b[0m \u001b[0;32min\u001b[0m \u001b[0mimg_list\u001b[0m\u001b[0;34m:\u001b[0m\u001b[0;34m\u001b[0m\u001b[0;34m\u001b[0m\u001b[0m\n\u001b[0;32m----> 3\u001b[0;31m     \u001b[0mimg\u001b[0m\u001b[0;34m=\u001b[0m\u001b[0mnp\u001b[0m\u001b[0;34m.\u001b[0m\u001b[0masarray\u001b[0m\u001b[0;34m(\u001b[0m\u001b[0mImage\u001b[0m\u001b[0;34m.\u001b[0m\u001b[0mopen\u001b[0m\u001b[0;34m(\u001b[0m\u001b[0mimg\u001b[0m\u001b[0;34m)\u001b[0m\u001b[0;34m)\u001b[0m\u001b[0;34m\u001b[0m\u001b[0;34m\u001b[0m\u001b[0m\n\u001b[0m\u001b[1;32m      4\u001b[0m     \u001b[0msh\u001b[0m\u001b[0;34m.\u001b[0m\u001b[0mappend\u001b[0m\u001b[0;34m(\u001b[0m\u001b[0;34m(\u001b[0m\u001b[0mimg\u001b[0m\u001b[0;34m.\u001b[0m\u001b[0mshape\u001b[0m\u001b[0;34m)\u001b[0m\u001b[0;34m)\u001b[0m\u001b[0;34m\u001b[0m\u001b[0;34m\u001b[0m\u001b[0m\n\u001b[1;32m      5\u001b[0m \u001b[0;31m# print(sh)\u001b[0m\u001b[0;34m\u001b[0m\u001b[0;34m\u001b[0m\u001b[0;34m\u001b[0m\u001b[0m\n",
      "\u001b[0;32m/opt/conda/lib/python3.8/site-packages/PIL/Image.py\u001b[0m in \u001b[0;36mopen\u001b[0;34m(fp, mode, formats)\u001b[0m\n\u001b[1;32m   2902\u001b[0m \u001b[0;34m\u001b[0m\u001b[0m\n\u001b[1;32m   2903\u001b[0m     \u001b[0;32mif\u001b[0m \u001b[0mfilename\u001b[0m\u001b[0;34m:\u001b[0m\u001b[0;34m\u001b[0m\u001b[0;34m\u001b[0m\u001b[0m\n\u001b[0;32m-> 2904\u001b[0;31m         \u001b[0mfp\u001b[0m \u001b[0;34m=\u001b[0m \u001b[0mbuiltins\u001b[0m\u001b[0;34m.\u001b[0m\u001b[0mopen\u001b[0m\u001b[0;34m(\u001b[0m\u001b[0mfilename\u001b[0m\u001b[0;34m,\u001b[0m \u001b[0;34m\"rb\"\u001b[0m\u001b[0;34m)\u001b[0m\u001b[0;34m\u001b[0m\u001b[0;34m\u001b[0m\u001b[0m\n\u001b[0m\u001b[1;32m   2905\u001b[0m         \u001b[0mexclusive_fp\u001b[0m \u001b[0;34m=\u001b[0m \u001b[0;32mTrue\u001b[0m\u001b[0;34m\u001b[0m\u001b[0;34m\u001b[0m\u001b[0m\n\u001b[1;32m   2906\u001b[0m \u001b[0;34m\u001b[0m\u001b[0m\n",
      "\u001b[0;31mFileNotFoundError\u001b[0m: [Errno 2] No such file or directory: 'img10340.png'"
     ]
    }
   ],
   "source": [
    "sh = []\n",
    "for img in img_list:\n",
    "    img=np.asarray(Image.open(img))\n",
    "    sh.append((img.shape))\n",
    "# print(sh)\n",
    "print(np.unique(sh))\n",
    "\n",
    "# ken front left camera has other resolution than the rest: 768x768 instead of 768x1024"
   ]
  },
  {
   "cell_type": "markdown",
   "id": "expressed-disease",
   "metadata": {},
   "source": [
    "### Copy images to train location"
   ]
  },
  {
   "cell_type": "code",
   "execution_count": 12,
   "id": "confused-bridge",
   "metadata": {},
   "outputs": [],
   "source": [
    "# save all pngs to images\n",
    "for img in img_list:\n",
    "    shutil.copy(img, (data_root.parent.parent / 'train' / 'images' / img.name))\n",
    "\n",
    "    # sort out imgs without corresponding labeling\n",
    "    # tmp = (lbls / img.name).with_suffix('.txt')\n",
    "    # if not tmp.is_file():\n",
    "    #     img.rename((data_root / 'sorted_out' / img.name))\n"
   ]
  },
  {
   "cell_type": "markdown",
   "id": "together-marina",
   "metadata": {},
   "source": [
    "### Get image shapes"
   ]
  },
  {
   "cell_type": "code",
   "execution_count": 27,
   "id": "analyzed-legislature",
   "metadata": {},
   "outputs": [],
   "source": [
    "# img_id = img_list[1]\n",
    "img_path = next(img_list)\n",
    "# img = np.asarray(Image.open(data_root + \"images/\" + img_id))\n",
    "img = np.asarray(Image.open(img_path))\n",
    "#fig, ax = plt.subplots(figsize=(640/96, 640/96), dpi=96)\n",
    "#ax.imshow(img)\n",
    "img_h, img_w, _ = img.shape"
   ]
  },
  {
   "cell_type": "markdown",
   "id": "introductory-contractor",
   "metadata": {},
   "source": [
    "### Plot BBox of images"
   ]
  },
  {
   "cell_type": "code",
   "execution_count": 60,
   "id": "controlling-chambers",
   "metadata": {},
   "outputs": [],
   "source": [
    "import numpy as np\n",
    "import pandas as pd\n",
    "import cv2\n",
    "import matplotlib.pyplot as plt\n",
    "%matplotlib inline\n",
    "import os\n",
    "import re\n",
    "from random import sample\n",
    "from PIL import Image\n",
    "import json\n",
    "import csv\n",
    "def plotBBox(img_id, img_path, label_path, ending = \".jpg\"):\n",
    "    coords = pd.read_csv(label_path + img_id + \".txt\", header = None, \n",
    "                       sep = \" \")\n",
    "    im = cv2.imread(img_path + img_id + ending)\n",
    "    \n",
    "    im_h, im_w = im.shape[:2]\n",
    "    print(im_w)\n",
    "    for i in range(len(coords)):\n",
    "        center = tuple(map(int, (im_w * coords.iloc[i, 2], im_h * coords.iloc[i, 3])))\n",
    "        low_left = tuple(map(int, (im_w * (coords.iloc[i, 2] - coords.iloc[i, 4]/2),\n",
    "                                   im_h * (coords.iloc[i, 3] - coords.iloc[i, 5]/2))))\n",
    "        up_right = tuple(map(int, (im_w * (coords.iloc[i, 2] + coords.iloc[i, 4]/2), \n",
    "                                 im_h * (coords.iloc[i, 3] + coords.iloc[i, 5]/2))))\n",
    "\n",
    "        color = (i * 100 % 255, i * 75 % 255, i * 50 % 255)\n",
    "        im = cv2.circle(im, center, radius = 2, color = color, thickness = 5)\n",
    "        im = cv2.rectangle(im, low_left, up_right, color = color, thickness = 5)\n",
    "        \n",
    "    fig, ax = plt.subplots(figsize=(10, 7))\n",
    "    ax.imshow(cv2.cvtColor(im, cv2.COLOR_BGR2RGB))\n",
    "    \n",
    "    plt.show()"
   ]
  },
  {
   "cell_type": "markdown",
   "id": "thirty-candle",
   "metadata": {},
   "source": [
    "# Extracting multiple json VoTT output for single-class FairMOT\n",
    "\n",
    "- used for testing Zurnas Explorationroom labeling with single class FairMOT \n",
    "- all classes labeled in VoTT but only monkey class BB's are extracted"
   ]
  },
  {
   "cell_type": "code",
   "execution_count": null,
   "id": "educated-ranch",
   "metadata": {},
   "outputs": [],
   "source": [
    "# cell to extract monkey class\n",
    "i_monkey = 0\n",
    "for label in labels_list:\n",
    "    # print(label)\n",
    "    with open(label) as f:\n",
    "        content = json.load(f)\n",
    "        \n",
    "    origin_path = Path(content[\"asset\"][\"path\"])\n",
    "    image_path_end = Path(origin_path.parent.name, origin_path.name)\n",
    "    image_path = data_root / label.parent.parent.name  / image_path_end\n",
    "    # print(image_path)\n",
    "    # img = np.asarray(Image.open(image_path))\n",
    "    # img_h, img_w, _ = img.shape\n",
    "    img_h, img_w = content[\"asset\"][\"size\"].values()\n",
    "\n",
    "    all_boxes = content[\"regions\"]\n",
    "    # print(all_boxes[0])\n",
    "    monkey_boxes = [box for box in all_boxes if \"monkey\" in box[\"tags\"]]\n",
    "    # if monkey_boxes:\n",
    "    #     shutil.copy(image_path, (data_root / 'images' /image_path.name))\n",
    "    # print(monkey_boxes)\n",
    "\n",
    "    label_fpath = (data_root / \"labels_with_ids\" / image_path.name).with_suffix('.txt')\n",
    "    # print(label_fpath)\n",
    "\n",
    "    for monkey_box in monkey_boxes:\n",
    "        id = monkey_box[\"id\"]\n",
    "        h, w, left, top = monkey_box[\"boundingBox\"].values()\n",
    "        # print(h,w,left,top)\n",
    "\n",
    "        x_center = left + w/2\n",
    "        y_center = top + h/2\n",
    "\n",
    "        #  img_id = re.sub(\"[.]jpg\",\"\", img_id)\n",
    "        #Label-String schreiben.\n",
    "\n",
    "        label_str = '0 {:d} {:.6f} {:.6f} {:.6f} {:.6f}\\n'.format(\n",
    "                i_monkey, x_center / img_w, y_center / img_h, w / img_w, h / img_h)\n",
    "\n",
    "        i_monkey += 1\n",
    "        with label_fpath.open(mode='a') as f:\n",
    "            f.write(label_str)\n",
    "    # plotBBox(str(image_path.stem),str(image_path.parent)+'/',str(label_fpath.parent)+'/', ending='.png')\n",
    "        \n"
   ]
  },
  {
   "cell_type": "markdown",
   "id": "absent-jacket",
   "metadata": {},
   "source": [
    "# Extracting multiple json VoTT output for multi-class FairMOT\n",
    "\n",
    "- used for Zurnas Explorationroom labeling"
   ]
  },
  {
   "cell_type": "code",
   "execution_count": 68,
   "id": "earlier-effects",
   "metadata": {},
   "outputs": [],
   "source": [
    "# cell for all classes\n",
    "i_obj = [0,0,0,0,0]\n",
    "\n",
    "for label in labels_list:\n",
    "    # print(label)\n",
    "    with open(label) as f:\n",
    "        content = json.load(f)\n",
    "        \n",
    "    origin_path = Path(content[\"asset\"][\"path\"])\n",
    "    image_path_end = Path(origin_path.parent.name, origin_path.name)\n",
    "    image_path = data_root / label.parent.parent.name  / image_path_end\n",
    "    # print(image_path)\n",
    "    # img = np.asarray(Image.open(image_path))\n",
    "    # img_h, img_w, _ = img.shape\n",
    "    img_h, img_w = content[\"asset\"][\"size\"].values()\n",
    "\n",
    "    all_boxes = content[\"regions\"]\n",
    "\n",
    "    # monkey_boxes = [box for box in all_boxes if \"monkey\" in box[\"tags\"]]\n",
    "\n",
    "    label_fpath = (data_root / \"labels_with_ids\" / image_path.name).with_suffix('.txt')\n",
    "\n",
    "    for box in all_boxes:\n",
    "        if \"monkey\" in box[\"tags\"]:\n",
    "            obj_class = 0\n",
    "        elif \"patch\" in box[\"tags\"]:\n",
    "            obj_class = 1\n",
    "        elif \"kong\" in box[\"tags\"]:\n",
    "            obj_class = 2\n",
    "        elif \"branch\" in box[\"tags\"]:\n",
    "            obj_class = 3\n",
    "        elif \"XBI\" in box[\"tags\"]:\n",
    "            obj_class = 4\n",
    "        h, w, left, top = box[\"boundingBox\"].values()\n",
    "        # print(h,w,left,top)\n",
    "\n",
    "        x_center = left + w/2\n",
    "        y_center = top + h/2\n",
    "\n",
    "        #  img_id = re.sub(\"[.]jpg\",\"\", img_id)\n",
    "        #Label-String schreiben.\n",
    "\n",
    "        label_str = '{:d} {:d} {:.6f} {:.6f} {:.6f} {:.6f}\\n'.format(\n",
    "                obj_class, i_obj[obj_class], x_center / img_w, y_center / img_h, w / img_w, h / img_h)\n",
    "\n",
    "        i_obj[obj_class] += 1\n",
    "        with label_fpath.open(mode='a') as f:\n",
    "            f.write(label_str)"
   ]
  },
  {
   "cell_type": "markdown",
   "id": "sustained-malta",
   "metadata": {},
   "source": [
    "# Extracting one csv VoTT output for multi-class FairMOT\n",
    "\n",
    "- used for lemurs and boxes"
   ]
  },
  {
   "cell_type": "code",
   "execution_count": 9,
   "id": "serious-minutes",
   "metadata": {},
   "outputs": [],
   "source": [
    "i_obj = [0,0]\n",
    "img_paths = []\n",
    "for _, row in labels.iterrows():\n",
    "    # print(label)\n",
    "    image, xmin, ymin, xmax, ymax, label = row\n",
    "\n",
    "    image_path = data_root / 'images' / image\n",
    "    img_paths.append(str(image_path))\n",
    "    # print(image_path)\n",
    "    img = np.asarray(Image.open(image_path))\n",
    "    img_h, img_w, _ = img.shape\n",
    "\n",
    "    # for lemur and box ---\n",
    "    # img_h, img_w = [2160, 3840]\n",
    "\n",
    "\n",
    "    # label_fpath = (data_out / 'labels' / image_path.name).with_suffix('.txt')\n",
    "    # for exp room\n",
    "    label_fpath = (data_root / 'labels_with_ids' / image_path.name).with_suffix('.txt')\n",
    "    \n",
    "    obj_class = 0\n",
    "\n",
    "    # for lemur and box ---\n",
    "    # if \"Lemur\" in label:\n",
    "    #     obj_class = 0\n",
    "    # elif \"Box\" in label:\n",
    "    #     obj_class = 1\n",
    "\n",
    "    w = (xmax - xmin)\n",
    "    h = (ymax - ymin)\n",
    "\n",
    "    x_center = xmin + w / 2\n",
    "    y_center = ymin + h / 2\n",
    "\n",
    "    #  img_id = re.sub(\"[.]jpg\",\"\", img_id)\n",
    "    #Label-String schreiben.\n",
    "\n",
    "    label_str = '{:d} {:d} {:.6f} {:.6f} {:.6f} {:.6f}\\n'.format(\n",
    "            obj_class, i_obj[obj_class], x_center / img_w, y_center / img_h, w / img_w, h / img_h)\n",
    "\n",
    "    i_obj[obj_class] += 1\n",
    "\n",
    "    # not for lemur box\n",
    "    with label_fpath.open(mode='a') as f:\n",
    "        f.write(label_str)\n",
    "\n",
    "# for lemur box\n",
    "# img_paths = list(set(img_paths))\n",
    "# with (data_out / 'lemur_box.train').open('w') as f:\n",
    "#     for ip in img_paths:\n",
    "#         f.write(f'{ip}\\n')"
   ]
  },
  {
   "cell_type": "markdown",
   "id": "deadly-savannah",
   "metadata": {},
   "source": [
    "# Extracting one csv VoTT output for multi-class FairMOT + classification"
   ]
  },
  {
   "cell_type": "code",
   "execution_count": 33,
   "id": "ancient-metabolism",
   "metadata": {},
   "outputs": [],
   "source": [
    "dict_indivs = {'Cha': 0, 'Flo': 1, 'Gen': 2, 'Geo': 3, 'Her': 4, 'Rab': 5, 'Red': 6,\n",
    "              'Uns': 7}"
   ]
  },
  {
   "cell_type": "code",
   "execution_count": 39,
   "id": "incorrect-crisis",
   "metadata": {},
   "outputs": [],
   "source": [
    "i_obj = [0,0]\n",
    "img_paths = []\n",
    "for _, row in labels.iterrows():\n",
    "    # print(label)\n",
    "    image, xmin, ymin, xmax, ymax, label = row\n",
    "    indiv = label.split(\"-\")[1][:3]\n",
    "\n",
    "    image_path = data_root / 'images' / image\n",
    "    img_paths.append(str(image_path))\n",
    "    # print(image_path)\n",
    "    img = np.asarray(Image.open(image_path))\n",
    "    img_h, img_w, _ = img.shape\n",
    "\n",
    "    # for lemur and box ---\n",
    "    # img_h, img_w = [2160, 3840]\n",
    "\n",
    "\n",
    "    # label_fpath = (data_out / 'labels' / image_path.name).with_suffix('.txt')\n",
    "    # for exp room\n",
    "    label_fpath = (data_root / 'labels_with_ids' / image_path.name).with_suffix('.txt')\n",
    "    \n",
    "    obj_class = 0\n",
    "\n",
    "    # for lemur and box ---\n",
    "    if \"Lemur\" in label:\n",
    "        obj_class = 0\n",
    "    elif \"Box\" in label:\n",
    "        obj_class = 1\n",
    "\n",
    "    w = (xmax - xmin)\n",
    "    h = (ymax - ymin)\n",
    "\n",
    "    x_center = xmin + w / 2\n",
    "    y_center = ymin + h / 2\n",
    "\n",
    "    #  img_id = re.sub(\"[.]jpg\",\"\", img_id)\n",
    "    #Label-String schreiben.\n",
    "\n",
    "    label_str = '{:d} {:d} {:.6f} {:.6f} {:.6f} {:.6f} {:d}\\n'.format(\n",
    "            obj_class, i_obj[obj_class], x_center / img_w, y_center / img_h, \n",
    "        w / img_w, h / img_h, dict_indivs[indiv])\n",
    "\n",
    "    i_obj[obj_class] += 1\n",
    "\n",
    "    # not for lemur box\n",
    "    with label_fpath.open(mode='a') as f:\n",
    "        f.write(label_str)\n",
    "    \n",
    "\n"
   ]
  },
  {
   "cell_type": "markdown",
   "id": "eastern-remark",
   "metadata": {},
   "source": [
    "# Original VoTT output transform for FairMOT (from Richard)\n",
    "\n",
    "- I at least think that that is in this cell ^^"
   ]
  },
  {
   "cell_type": "code",
   "execution_count": 332,
   "id": "negative-input",
   "metadata": {},
   "outputs": [],
   "source": [
    "i_monkey = 0\n",
    "\n",
    "# for img_id in img_list:\n",
    "for img_path in img_list:\n",
    "    idx = np.where(labels.image == img_id)\n",
    "    image_labels = labels.iloc[idx]\n",
    "    \n",
    "    label_fpath = data_root + \"labels_with_ids/\" + re.sub(\".JPG\", \".txt\", img_id)\n",
    "\n",
    "    img = np.asarray(Image.open(data_root + \"images/\" + img_id))\n",
    "    img_h, img_w, _ = img.shape\n",
    "\n",
    "    for index, row in image_labels.iterrows():\n",
    "\n",
    "        #if row.label == \"baboon\":\n",
    "        x_center = row.xmin + (row.xmax - row.xmin)/2\n",
    "        y_center = row.ymin + (row.ymax - row.ymin)/2\n",
    "        w = row.xmax - row.xmin\n",
    "        h = row.ymax - row.ymin\n",
    "\n",
    "        #i_monkey = row.label\n",
    "\n",
    "        img_id = re.sub(\"[.]jpg\",\"\", img_id)\n",
    "        #Label-String schreiben.\n",
    "\n",
    "        label_str = '0 {:d} {:.6f} {:.6f} {:.6f} {:.6f}\\n'.format(\n",
    "                i_monkey, x_center / img_w, y_center / img_h, w / img_w, h / img_h)\n",
    "\n",
    "        i_monkey += 1\n",
    "        with open(label_fpath, 'a') as f:\n",
    "            f.write(label_str)\n",
    "\n",
    "\n",
    "            "
   ]
  },
  {
   "cell_type": "markdown",
   "id": "general-rolling",
   "metadata": {},
   "source": [
    "### Converting CVAT output\n",
    "\n",
    "Data comes in separate files."
   ]
  },
  {
   "cell_type": "code",
   "execution_count": 353,
   "id": "partial-glucose",
   "metadata": {},
   "outputs": [],
   "source": [
    "video_id = 'VID_20210227_133440_0'\n",
    "\n",
    "data_root = \"/usr/users/agecker/datasets/macaque_videos/\"\n",
    "\n",
    "path_o = data_root + video_id + \"/obj_train_data/\"\n",
    "\n",
    "frame_list = os.listdir(path_o)\n",
    "frame_list.sort()"
   ]
  },
  {
   "cell_type": "code",
   "execution_count": 354,
   "id": "front-europe",
   "metadata": {},
   "outputs": [
    {
     "name": "stdout",
     "output_type": "stream",
     "text": [
      "361\n"
     ]
    }
   ],
   "source": [
    "regex = re.compile('.*txt')\n",
    "frame_list = [i for i in frame_list if regex.match(i)]\n",
    "print(len(frame_list))"
   ]
  },
  {
   "cell_type": "code",
   "execution_count": 343,
   "id": "promising-fundamental",
   "metadata": {},
   "outputs": [
    {
     "name": "stdout",
     "output_type": "stream",
     "text": [
      "mkdir: cannot create directory ‘/usr/users/agecker/datasets/macaque_videos/VID_20210228_153846_0/labels_with_ids/’: File exists\n"
     ]
    }
   ],
   "source": [
    "\n",
    "!mkdir /usr/users/agecker/datasets/macaque_videos/VID_20210228_153846_0/labels_with_ids/"
   ]
  },
  {
   "cell_type": "code",
   "execution_count": 356,
   "id": "sixth-league",
   "metadata": {},
   "outputs": [],
   "source": [
    "!mkdir /usr/users/agecker/datasets/macaque_videos/VID_20210227_133440_0/images/"
   ]
  },
  {
   "cell_type": "code",
   "execution_count": 357,
   "id": "sustained-expense",
   "metadata": {},
   "outputs": [],
   "source": [
    "for frame_id in frame_list:\n",
    "    text = pd.read_csv(path_o + frame_id, names = [1,2,3,4,5], sep = \" \")\n",
    "    text.insert(0, \"z\", np.zeros(len(text)))\n",
    "    text.z = text.z.astype(int)\n",
    "    text.to_csv(data_root + video_id + \"/labels_with_ids/\" + frame_id,\n",
    "                 sep=' ', index=False, header = False)"
   ]
  },
  {
   "cell_type": "markdown",
   "id": "continental-obligation",
   "metadata": {},
   "source": [
    "## Videos to frames"
   ]
  },
  {
   "cell_type": "code",
   "execution_count": 358,
   "id": "korean-spare",
   "metadata": {},
   "outputs": [],
   "source": [
    "import cv2\n",
    "import sys\n",
    "#sys.path"
   ]
  },
  {
   "cell_type": "code",
   "execution_count": 359,
   "id": "animated-course",
   "metadata": {},
   "outputs": [
    {
     "name": "stdout",
     "output_type": "stream",
     "text": [
      "Frame count: 361\n"
     ]
    }
   ],
   "source": [
    "path = \"/usr/users/agecker/datasets/macaque_videos/\"\n",
    "cap = cv2.VideoCapture(path + \"Videos/\" + video_id + \".mp4\")\n",
    "\n",
    "#Total number of frames\n",
    "frame_count = int(cap.get(cv2.CAP_PROP_FRAME_COUNT))\n",
    "print('Frame count:', frame_count)\n",
    "\n",
    "count = 0"
   ]
  },
  {
   "cell_type": "code",
   "execution_count": 360,
   "id": "matched-chassis",
   "metadata": {},
   "outputs": [
    {
     "name": "stdout",
     "output_type": "stream",
     "text": [
      "50\n",
      "100\n",
      "150\n",
      "200\n",
      "250\n",
      "300\n",
      "350\n"
     ]
    }
   ],
   "source": [
    "#%%\n",
    "\n",
    "while count < frame_count:\n",
    "    cap.set(cv2.CAP_PROP_POS_FRAMES, count)\n",
    "    success, image = cap.read()\n",
    "    cv2.imwrite(path + video_id + \"/images/frame_%s.jpg\" % str(count).zfill(6), image)     # save frame as JPEG file\n",
    "    count += 1\n",
    "    if count % 50 == 0:\n",
    "        print(count)"
   ]
  },
  {
   "cell_type": "code",
   "execution_count": null,
   "id": "continuing-railway",
   "metadata": {},
   "outputs": [],
   "source": []
  },
  {
   "cell_type": "markdown",
   "id": "naughty-calibration",
   "metadata": {},
   "source": [
    "## All files for training list - Wildmacaques"
   ]
  },
  {
   "cell_type": "code",
   "execution_count": 361,
   "id": "antique-module",
   "metadata": {},
   "outputs": [
    {
     "data": {
      "text/plain": [
       "['VID_20210223_123630_0',\n",
       " 'VID_20210227_133440_0',\n",
       " 'VID_20210224_114038_0',\n",
       " 'VID_20210224_115729_0',\n",
       " 'VID_20210223_123817_0',\n",
       " 'VID_20210228_153846_0',\n",
       " 'VID_20210224_115455_0',\n",
       " 'VID_20210223_123854_0',\n",
       " 'VID_20210227_133251_0']"
      ]
     },
     "execution_count": 361,
     "metadata": {},
     "output_type": "execute_result"
    }
   ],
   "source": [
    "path = \"/usr/users/agecker/datasets/macaque_videos/\"\n",
    "\n",
    "vids = os.listdir(path)\n",
    "\n",
    "regex = re.compile('VID_.*')\n",
    "vids = [i for i in vids if regex.match(i)]\n",
    "vids"
   ]
  },
  {
   "cell_type": "code",
   "execution_count": 362,
   "id": "pediatric-knife",
   "metadata": {},
   "outputs": [],
   "source": [
    "for i, out_vid in enumerate(vids):\n",
    "    temp_vids = [x for x in vids if x != out_vid]\n",
    "    \n",
    "    for vid in temp_vids:\n",
    "        img_ids = os.listdir(path + vid + \"/images\")\n",
    "\n",
    "\n",
    "        label_fpath = \"/usr/users/vogg/FairMOT/src/data/wildmacaques\" + str(i) + \".train\"\n",
    "        regex = re.compile(\"frame.*\")\n",
    "        for img_id in sorted(img_ids):\n",
    "\n",
    "            if regex.match(img_id):\n",
    "                label_str =  \"macaque_videos/\" + vid + \"/images/\" + img_id + \"\\n\"\n",
    "\n",
    "                with open(label_fpath, 'a') as f:\n",
    "                    f.write(label_str)"
   ]
  },
  {
   "cell_type": "markdown",
   "id": "saving-genesis",
   "metadata": {},
   "source": [
    "## Make files for training list images"
   ]
  },
  {
   "cell_type": "code",
   "execution_count": 12,
   "id": "employed-asthma",
   "metadata": {},
   "outputs": [
    {
     "data": {
      "text/plain": [
       "90"
      ]
     },
     "execution_count": 12,
     "metadata": {},
     "output_type": "execute_result"
    }
   ],
   "source": [
    "len(img_list)"
   ]
  },
  {
   "cell_type": "code",
   "execution_count": 38,
   "id": "strange-cardiff",
   "metadata": {},
   "outputs": [],
   "source": [
    "for img_id in img_list:\n",
    "    if not img_id.startswith(\".\"):\n",
    "        label_fpath = \"/usr/users/vogg/FairMOT/src/data/lemur_ids.train\"\n",
    "\n",
    "        label_str =  \"images/\" + img_id + \"\\n\"\n",
    "\n",
    "        with open(label_fpath, 'a') as f:\n",
    "            f.write(label_str)"
   ]
  },
  {
   "cell_type": "code",
   "execution_count": null,
   "id": "fiscal-paragraph",
   "metadata": {},
   "outputs": [],
   "source": [
    "# my verion\n",
    "for i, img in enumerate(img_list):\n",
    "    train_labl_fpath = '/media/gwdg_home/Data/Monkey/02_VoTT/lab.train'\n",
    "    val_labl_fpath = '/media/gwdg_home/Data/Monkey/02_VoTT/lab.val'\n",
    "    if i % 10 == 0:\n",
    "        with open(val_labl_fpath, 'a') as f:\n",
    "            f.write(str(img) + '\\n')\n",
    "    else:\n",
    "        with open(train_labl_fpath, 'a') as f:\n",
    "            f.write(str(img) + '\\n')\n"
   ]
  }
 ],
 "metadata": {
  "kernelspec": {
   "display_name": "Python 3",
   "language": "python",
   "name": "python3"
  },
  "language_info": {
   "codemirror_mode": {
    "name": "ipython",
    "version": 3
   },
   "file_extension": ".py",
   "mimetype": "text/x-python",
   "name": "python",
   "nbconvert_exporter": "python",
   "pygments_lexer": "ipython3",
   "version": "3.8.6"
  },
  "vscode": {
   "interpreter": {
    "hash": "39eb24884a20efbe92a33a7cb5a30cfdbf07e4ee47e10a659e4e13f995e930ee"
   }
  }
 },
 "nbformat": 4,
 "nbformat_minor": 5
}
