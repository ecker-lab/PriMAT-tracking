{
 "cells": [
  {
   "cell_type": "code",
   "execution_count": 1,
   "id": "deluxe-stability",
   "metadata": {},
   "outputs": [],
   "source": [
    "import numpy as np\n",
    "import pandas as pd\n",
    "import os\n",
    "import re\n",
    "from PIL import Image\n",
    "\n",
    "from pathlib import Path\n",
    "import json\n",
    "import shutil"
   ]
  },
  {
   "cell_type": "markdown",
   "id": "middle-wright",
   "metadata": {},
   "source": [
    "## Converting VoTT output\n",
    "\n",
    "After labeling with VoTT, we obtain a .csv file, which we convert into many .txt files, one file for every frame. These will be saved in a folder called labels_with_ids (if it does not exist you have to create it."
   ]
  },
  {
   "cell_type": "markdown",
   "id": "necessary-stanford",
   "metadata": {},
   "source": [
    "### Paths to everything"
   ]
  },
  {
   "cell_type": "markdown",
   "id": "light-madness",
   "metadata": {},
   "source": [
    "#### Paths Richards things"
   ]
  },
  {
   "cell_type": "code",
   "execution_count": 3,
   "id": "generous-question",
   "metadata": {},
   "outputs": [
    {
     "data": {
      "text/html": [
       "<div>\n",
       "<style scoped>\n",
       "    .dataframe tbody tr th:only-of-type {\n",
       "        vertical-align: middle;\n",
       "    }\n",
       "\n",
       "    .dataframe tbody tr th {\n",
       "        vertical-align: top;\n",
       "    }\n",
       "\n",
       "    .dataframe thead th {\n",
       "        text-align: right;\n",
       "    }\n",
       "</style>\n",
       "<table border=\"1\" class=\"dataframe\">\n",
       "  <thead>\n",
       "    <tr style=\"text-align: right;\">\n",
       "      <th></th>\n",
       "      <th>image</th>\n",
       "      <th>xmin</th>\n",
       "      <th>ymin</th>\n",
       "      <th>xmax</th>\n",
       "      <th>ymax</th>\n",
       "      <th>label</th>\n",
       "    </tr>\n",
       "  </thead>\n",
       "  <tbody>\n",
       "    <tr>\n",
       "      <th>0</th>\n",
       "      <td>B-2023-05-08-GX010030_cam4_00001.jpg</td>\n",
       "      <td>777.345201</td>\n",
       "      <td>549.056766</td>\n",
       "      <td>1216.764706</td>\n",
       "      <td>871.655677</td>\n",
       "      <td>box</td>\n",
       "    </tr>\n",
       "    <tr>\n",
       "      <th>1</th>\n",
       "      <td>B-2023-05-08-GX010030_cam4_00001.jpg</td>\n",
       "      <td>195.487616</td>\n",
       "      <td>455.601778</td>\n",
       "      <td>497.515480</td>\n",
       "      <td>702.526376</td>\n",
       "      <td>box</td>\n",
       "    </tr>\n",
       "    <tr>\n",
       "      <th>2</th>\n",
       "      <td>B-2023-05-08-GX010030_cam4_00001.jpg</td>\n",
       "      <td>168.769350</td>\n",
       "      <td>264.821388</td>\n",
       "      <td>289.334365</td>\n",
       "      <td>527.622420</td>\n",
       "      <td>lemur</td>\n",
       "    </tr>\n",
       "    <tr>\n",
       "      <th>3</th>\n",
       "      <td>B-2023-05-08-GX010030_cam4_00002.jpg</td>\n",
       "      <td>422.809598</td>\n",
       "      <td>419.521789</td>\n",
       "      <td>897.786378</td>\n",
       "      <td>774.407683</td>\n",
       "      <td>lemur</td>\n",
       "    </tr>\n",
       "    <tr>\n",
       "      <th>4</th>\n",
       "      <td>B-2023-05-08-GX010030_cam4_00002.jpg</td>\n",
       "      <td>180.835913</td>\n",
       "      <td>453.039564</td>\n",
       "      <td>487.770898</td>\n",
       "      <td>704.763475</td>\n",
       "      <td>box</td>\n",
       "    </tr>\n",
       "  </tbody>\n",
       "</table>\n",
       "</div>"
      ],
      "text/plain": [
       "                                  image        xmin        ymin         xmax  \\\n",
       "0  B-2023-05-08-GX010030_cam4_00001.jpg  777.345201  549.056766  1216.764706   \n",
       "1  B-2023-05-08-GX010030_cam4_00001.jpg  195.487616  455.601778   497.515480   \n",
       "2  B-2023-05-08-GX010030_cam4_00001.jpg  168.769350  264.821388   289.334365   \n",
       "3  B-2023-05-08-GX010030_cam4_00002.jpg  422.809598  419.521789   897.786378   \n",
       "4  B-2023-05-08-GX010030_cam4_00002.jpg  180.835913  453.039564   487.770898   \n",
       "\n",
       "         ymax  label  \n",
       "0  871.655677    box  \n",
       "1  702.526376    box  \n",
       "2  527.622420  lemur  \n",
       "3  774.407683  lemur  \n",
       "4  704.763475    box  "
      ]
     },
     "execution_count": 3,
     "metadata": {},
     "output_type": "execute_result"
    }
   ],
   "source": [
    "#path to image and label folder\n",
    "data_root = Path(\"/usr/users/vogg/Labelling/Lemurs/LemurBoxTracking/LemurBoxApr23/\")\n",
    "#data_root = Path(\"/usr/users/agecker/datasets/MacaqueImagePairs/\")\n",
    "labels = pd.read_csv(data_root / \"LemurBoxApr23-export.csv\")\n",
    "labels.head()"
   ]
  },
  {
   "cell_type": "markdown",
   "id": "rubber-tennis",
   "metadata": {},
   "source": [
    "### Get all images in a list"
   ]
  },
  {
   "cell_type": "code",
   "execution_count": 5,
   "id": "elegant-accordance",
   "metadata": {},
   "outputs": [
    {
     "name": "stdout",
     "output_type": "stream",
     "text": [
      "1919\n"
     ]
    }
   ],
   "source": [
    "img_list = os.listdir(data_root / \"images\")\n",
    "img_list = [img for img in img_list if not img.startswith(\".\")]\n",
    "print(len(img_list))"
   ]
  },
  {
   "cell_type": "markdown",
   "id": "early-guarantee",
   "metadata": {},
   "source": [
    "### Extracting multiple json VoTT output for single-class tracking\n",
    "\n",
    "- used for testing Zurnas Explorationroom labeling with single class FairMOT \n",
    "- all classes labeled in VoTT but only monkey class BB's are extracted"
   ]
  },
  {
   "cell_type": "code",
   "execution_count": null,
   "id": "written-router",
   "metadata": {},
   "outputs": [],
   "source": [
    "# cell to extract monkey class\n",
    "i_monkey = 0\n",
    "for label in labels_list:\n",
    "    # print(label)\n",
    "    with open(label) as f:\n",
    "        content = json.load(f)\n",
    "        \n",
    "    origin_path = Path(content[\"asset\"][\"path\"])\n",
    "    image_path_end = Path(origin_path.parent.name, origin_path.name)\n",
    "    image_path = data_root / label.parent.parent.name  / image_path_end\n",
    "    # print(image_path)\n",
    "    # img = np.asarray(Image.open(image_path))\n",
    "    # img_h, img_w, _ = img.shape\n",
    "    img_h, img_w = content[\"asset\"][\"size\"].values()\n",
    "\n",
    "    all_boxes = content[\"regions\"]\n",
    "    # print(all_boxes[0])\n",
    "    monkey_boxes = [box for box in all_boxes if \"monkey\" in box[\"tags\"]]\n",
    "    # if monkey_boxes:\n",
    "    #     shutil.copy(image_path, (data_root / 'images' /image_path.name))\n",
    "    # print(monkey_boxes)\n",
    "\n",
    "    label_fpath = (data_root / \"labels_with_ids\" / image_path.name).with_suffix('.txt')\n",
    "    # print(label_fpath)\n",
    "\n",
    "    for monkey_box in monkey_boxes:\n",
    "        id = monkey_box[\"id\"]\n",
    "        h, w, left, top = monkey_box[\"boundingBox\"].values()\n",
    "        # print(h,w,left,top)\n",
    "\n",
    "        x_center = left + w/2\n",
    "        y_center = top + h/2\n",
    "\n",
    "        #  img_id = re.sub(\"[.]jpg\",\"\", img_id)\n",
    "        #Label-String schreiben.\n",
    "\n",
    "        label_str = '0 {:d} {:.6f} {:.6f} {:.6f} {:.6f}\\n'.format(\n",
    "                i_monkey, x_center / img_w, y_center / img_h, w / img_w, h / img_h)\n",
    "\n",
    "        i_monkey += 1\n",
    "        with label_fpath.open(mode='a') as f:\n",
    "            f.write(label_str)\n",
    "    # plotBBox(str(image_path.stem),str(image_path.parent)+'/',str(label_fpath.parent)+'/', ending='.png')\n",
    "        \n"
   ]
  },
  {
   "cell_type": "markdown",
   "id": "graduate-allah",
   "metadata": {},
   "source": [
    "### Extracting multiple json VoTT output for multi-class FairMOT\n",
    "\n",
    "- used for Zurnas Explorationroom labeling"
   ]
  },
  {
   "cell_type": "code",
   "execution_count": 68,
   "id": "split-haven",
   "metadata": {},
   "outputs": [],
   "source": [
    "# cell for all classes\n",
    "i_obj = [0,0,0,0,0]\n",
    "\n",
    "for label in labels_list:\n",
    "    # print(label)\n",
    "    with open(label) as f:\n",
    "        content = json.load(f)\n",
    "        \n",
    "    origin_path = Path(content[\"asset\"][\"path\"])\n",
    "    image_path_end = Path(origin_path.parent.name, origin_path.name)\n",
    "    image_path = data_root / label.parent.parent.name  / image_path_end\n",
    "    # print(image_path)\n",
    "    # img = np.asarray(Image.open(image_path))\n",
    "    # img_h, img_w, _ = img.shape\n",
    "    img_h, img_w = content[\"asset\"][\"size\"].values()\n",
    "\n",
    "    all_boxes = content[\"regions\"]\n",
    "\n",
    "    # monkey_boxes = [box for box in all_boxes if \"monkey\" in box[\"tags\"]]\n",
    "\n",
    "    label_fpath = (data_root / \"labels_with_ids\" / image_path.name).with_suffix('.txt')\n",
    "\n",
    "    for box in all_boxes:\n",
    "        if \"monkey\" in box[\"tags\"]:\n",
    "            obj_class = 0\n",
    "        elif \"patch\" in box[\"tags\"]:\n",
    "            obj_class = 1\n",
    "        elif \"kong\" in box[\"tags\"]:\n",
    "            obj_class = 2\n",
    "        elif \"branch\" in box[\"tags\"]:\n",
    "            obj_class = 3\n",
    "        elif \"XBI\" in box[\"tags\"]:\n",
    "            obj_class = 4\n",
    "        h, w, left, top = box[\"boundingBox\"].values()\n",
    "        # print(h,w,left,top)\n",
    "\n",
    "        x_center = left + w/2\n",
    "        y_center = top + h/2\n",
    "\n",
    "        #  img_id = re.sub(\"[.]jpg\",\"\", img_id)\n",
    "        #Label-String schreiben.\n",
    "\n",
    "        label_str = '{:d} {:d} {:.6f} {:.6f} {:.6f} {:.6f}\\n'.format(\n",
    "                obj_class, i_obj[obj_class], x_center / img_w, y_center / img_h, w / img_w, h / img_h)\n",
    "\n",
    "        i_obj[obj_class] += 1\n",
    "        with label_fpath.open(mode='a') as f:\n",
    "            f.write(label_str)"
   ]
  },
  {
   "cell_type": "markdown",
   "id": "legal-position",
   "metadata": {},
   "source": [
    "### Extracting one csv VoTT output for multi-class tracking\n",
    "\n",
    "- used for lemurs and boxes"
   ]
  },
  {
   "cell_type": "code",
   "execution_count": 12,
   "id": "martial-inspiration",
   "metadata": {},
   "outputs": [],
   "source": [
    "i_obj = [0,0]\n",
    "img_paths = []\n",
    "for _, row in labels.iterrows():\n",
    "    # print(label)\n",
    "    image, xmin, ymin, xmax, ymax, label = row\n",
    "\n",
    "    image_path = data_root / \"images\" / image\n",
    "    img_paths.append(str(image_path))\n",
    "    # print(image_path)\n",
    "    img = np.asarray(Image.open(image_path))\n",
    "    img_h, img_w, _ = img.shape\n",
    "\n",
    "    # for lemur and box ---\n",
    "    # img_h, img_w = [2160, 3840]\n",
    "\n",
    "\n",
    "    # label_fpath = (data_out / 'labels' / image_path.name).with_suffix('.txt')\n",
    "    # for exp room\n",
    "    if not os.path.exists(data_root / 'labels_with_ids' ):\n",
    "        os.makedirs(data_root / 'labels_with_ids' )\n",
    "\n",
    "    label_fpath = (data_root / 'labels_with_ids' / image_path.name).with_suffix('.txt')\n",
    "    \n",
    "    #obj_class = 0\n",
    "\n",
    "    #for lemur and box ---\n",
    "    if \"lemur\" in label:\n",
    "        obj_class = 0\n",
    "    elif \"box\" in label:\n",
    "        obj_class = 1\n",
    "\n",
    "    w = (xmax - xmin)\n",
    "    h = (ymax - ymin)\n",
    "\n",
    "    x_center = xmin + w / 2\n",
    "    y_center = ymin + h / 2\n",
    "\n",
    "    #  img_id = re.sub(\"[.]jpg\",\"\", img_id)\n",
    "    #Label-String schreiben.\n",
    "\n",
    "    label_str = '{:d} {:d} {:.6f} {:.6f} {:.6f} {:.6f}\\n'.format(\n",
    "            obj_class, i_obj[obj_class], x_center / img_w, y_center / img_h, w / img_w, h / img_h)\n",
    "\n",
    "    i_obj[obj_class] += 1\n",
    "\n",
    "    # not for lemur box\n",
    "    with label_fpath.open(mode='a') as f:\n",
    "        f.write(label_str)\n",
    "\n",
    "# for lemur box\n",
    "# img_paths = list(set(img_paths))\n",
    "# with (data_out / 'lemur_box.train').open('w') as f:\n",
    "#     for ip in img_paths:\n",
    "#         f.write(f'{ip}\\n')"
   ]
  },
  {
   "cell_type": "markdown",
   "id": "sitting-thomas",
   "metadata": {},
   "source": [
    "### Extracting one csv VoTT output for multi-class FairMOT + classification"
   ]
  },
  {
   "cell_type": "code",
   "execution_count": 11,
   "id": "grave-velvet",
   "metadata": {},
   "outputs": [],
   "source": [
    "dict_indivs = {'Cha': 0, 'Flo': 1, 'Gen': 2, 'Geo': 3, 'Her': 4, 'Rab': 5, 'Red': 6, 'Uns': 7}"
   ]
  },
  {
   "cell_type": "code",
   "execution_count": 14,
   "id": "accurate-bangkok",
   "metadata": {},
   "outputs": [],
   "source": [
    "i_obj = [0,0]\n",
    "img_paths = []\n",
    "for _, row in labels.iterrows():\n",
    "    # print(label)\n",
    "    image, xmin, ymin, xmax, ymax, label = row\n",
    "    #indiv = label.split(\"-\")[1][:3]\n",
    "    indiv = label[:3]\n",
    "\n",
    "    image_path = data_root / 'eval' / image\n",
    "    img_paths.append(str(image_path))\n",
    "    # print(image_path)\n",
    "    img = np.asarray(Image.open(image_path))\n",
    "    img_h, img_w, _ = img.shape\n",
    "\n",
    "    # for lemur and box ---\n",
    "    # img_h, img_w = [2160, 3840]\n",
    "\n",
    "\n",
    "    # label_fpath = (data_out / 'labels' / image_path.name).with_suffix('.txt')\n",
    "    # for exp room\n",
    "    label_fpath = (data_root / 'labels_with_ids' / image_path.name).with_suffix('.txt')\n",
    "    \n",
    "    obj_class = 0\n",
    "\n",
    "    # for lemur and box ---\n",
    "    if \"Lemur\" in label:\n",
    "        obj_class = 0\n",
    "    elif \"Box\" in label:\n",
    "        obj_class = 1\n",
    "\n",
    "    w = (xmax - xmin)\n",
    "    h = (ymax - ymin)\n",
    "\n",
    "    x_center = xmin + w / 2\n",
    "    y_center = ymin + h / 2\n",
    "\n",
    "    #  img_id = re.sub(\"[.]jpg\",\"\", img_id)\n",
    "    #Label-String schreiben.\n",
    "\n",
    "    label_str = '{:d} {:d} {:.6f} {:.6f} {:.6f} {:.6f} {:d}\\n'.format(\n",
    "            obj_class, i_obj[obj_class], x_center / img_w, y_center / img_h, \n",
    "        w / img_w, h / img_h, dict_indivs[indiv])\n",
    "\n",
    "    i_obj[obj_class] += 1\n",
    "\n",
    "    # not for lemur box\n",
    "    with label_fpath.open(mode='a') as f:\n",
    "        f.write(label_str)\n",
    "    \n",
    "\n"
   ]
  },
  {
   "cell_type": "markdown",
   "id": "unavailable-necessity",
   "metadata": {},
   "source": [
    "# Original VoTT output transform for FairMOT (from Richard)\n",
    "\n",
    "- I at least think that that is in this cell ^^"
   ]
  },
  {
   "cell_type": "code",
   "execution_count": 332,
   "id": "associate-prisoner",
   "metadata": {},
   "outputs": [],
   "source": [
    "i_monkey = 0\n",
    "\n",
    "# for img_id in img_list:\n",
    "for img_path in img_list:\n",
    "    idx = np.where(labels.image == img_id)\n",
    "    image_labels = labels.iloc[idx]\n",
    "    \n",
    "    label_fpath = data_root + \"labels_with_ids/\" + re.sub(\".JPG\", \".txt\", img_id)\n",
    "\n",
    "    img = np.asarray(Image.open(data_root + \"images/\" + img_id))\n",
    "    img_h, img_w, _ = img.shape\n",
    "\n",
    "    for index, row in image_labels.iterrows():\n",
    "\n",
    "        #if row.label == \"baboon\":\n",
    "        x_center = row.xmin + (row.xmax - row.xmin)/2\n",
    "        y_center = row.ymin + (row.ymax - row.ymin)/2\n",
    "        w = row.xmax - row.xmin\n",
    "        h = row.ymax - row.ymin\n",
    "\n",
    "        #i_monkey = row.label\n",
    "\n",
    "        img_id = re.sub(\"[.]jpg\",\"\", img_id)\n",
    "        #Label-String schreiben.\n",
    "\n",
    "        label_str = '0 {:d} {:.6f} {:.6f} {:.6f} {:.6f}\\n'.format(\n",
    "                i_monkey, x_center / img_w, y_center / img_h, w / img_w, h / img_h)\n",
    "\n",
    "        i_monkey += 1\n",
    "        with open(label_fpath, 'a') as f:\n",
    "            f.write(label_str)\n",
    "\n",
    "\n",
    "            "
   ]
  },
  {
   "cell_type": "markdown",
   "id": "sporting-marsh",
   "metadata": {},
   "source": [
    "# Converting CVAT output\n",
    "\n",
    "Data comes in separate files."
   ]
  },
  {
   "cell_type": "code",
   "execution_count": 353,
   "id": "indirect-friday",
   "metadata": {},
   "outputs": [],
   "source": [
    "video_id = 'VID_20210227_133440_0'\n",
    "\n",
    "data_root = \"/usr/users/agecker/datasets/macaque_videos/\"\n",
    "\n",
    "path_o = data_root + video_id + \"/obj_train_data/\"\n",
    "\n",
    "frame_list = os.listdir(path_o)\n",
    "frame_list.sort()"
   ]
  },
  {
   "cell_type": "code",
   "execution_count": 354,
   "id": "preceding-immune",
   "metadata": {},
   "outputs": [
    {
     "name": "stdout",
     "output_type": "stream",
     "text": [
      "361\n"
     ]
    }
   ],
   "source": [
    "regex = re.compile('.*txt')\n",
    "frame_list = [i for i in frame_list if regex.match(i)]\n",
    "print(len(frame_list))"
   ]
  },
  {
   "cell_type": "code",
   "execution_count": 343,
   "id": "alien-apparel",
   "metadata": {},
   "outputs": [
    {
     "name": "stdout",
     "output_type": "stream",
     "text": [
      "mkdir: cannot create directory ‘/usr/users/agecker/datasets/macaque_videos/VID_20210228_153846_0/labels_with_ids/’: File exists\n"
     ]
    }
   ],
   "source": [
    "\n",
    "!mkdir /usr/users/agecker/datasets/macaque_videos/VID_20210228_153846_0/labels_with_ids/"
   ]
  },
  {
   "cell_type": "code",
   "execution_count": 356,
   "id": "large-repair",
   "metadata": {},
   "outputs": [],
   "source": [
    "!mkdir /usr/users/agecker/datasets/macaque_videos/VID_20210227_133440_0/images/"
   ]
  },
  {
   "cell_type": "code",
   "execution_count": 357,
   "id": "approximate-sewing",
   "metadata": {},
   "outputs": [],
   "source": [
    "for frame_id in frame_list:\n",
    "    text = pd.read_csv(path_o + frame_id, names = [1,2,3,4,5], sep = \" \")\n",
    "    text.insert(0, \"z\", np.zeros(len(text)))\n",
    "    text.z = text.z.astype(int)\n",
    "    text.to_csv(data_root + video_id + \"/labels_with_ids/\" + frame_id,\n",
    "                 sep=' ', index=False, header = False)"
   ]
  },
  {
   "cell_type": "markdown",
   "id": "ready-visitor",
   "metadata": {},
   "source": [
    "## Make files for training list"
   ]
  },
  {
   "cell_type": "code",
   "execution_count": 2,
   "id": "b2ff4e27",
   "metadata": {},
   "outputs": [
    {
     "name": "stdout",
     "output_type": "stream",
     "text": [
      "467\n",
      "['a_e_3_220920_c2_6966.txt', 'a_e_1_220918_c2_13859.txt', 'a_e_3_220920_c2_15752.txt', 'a_e_3_220920_c2_21930.txt', 'a_e_1_220918_c1_26158.txt']\n"
     ]
    }
   ],
   "source": [
    "data_root = Path(\"/usr/users/vogg/Labelling/Lemurs/Individual_imgs/cleaned_data1/\")\n",
    "label_list = [item for item in os.listdir(data_root / \"labels_with_ids\") if not item.startswith(\".\")]\n",
    "print(len(label_list))\n",
    "print(label_list[:5])"
   ]
  },
  {
   "cell_type": "code",
   "execution_count": 3,
   "id": "sustainable-border",
   "metadata": {},
   "outputs": [],
   "source": [
    "#/usr/users/vogg/monkey-tracking-in-the-wild/src/data/\n",
    "\n",
    "for img_id in label_list:\n",
    "    if not img_id.startswith(\".\"):\n",
    "        label_fpath = data_root / \"lemur_ids_cleaned1.train\"\n",
    "\n",
    "        label_str = data_root.name + \"/images/\" + img_id.replace(\"txt\", \"jpg\") + \"\\n\"\n",
    "\n",
    "        with open(label_fpath, 'a') as f:\n",
    "            f.write(label_str)"
   ]
  },
  {
   "cell_type": "markdown",
   "id": "aerial-disco",
   "metadata": {},
   "source": [
    "## Videos to frames"
   ]
  },
  {
   "cell_type": "code",
   "execution_count": 358,
   "id": "surprising-improvement",
   "metadata": {},
   "outputs": [],
   "source": [
    "import cv2\n",
    "import sys\n",
    "#sys.path"
   ]
  },
  {
   "cell_type": "code",
   "execution_count": 359,
   "id": "blocked-place",
   "metadata": {},
   "outputs": [
    {
     "name": "stdout",
     "output_type": "stream",
     "text": [
      "Frame count: 361\n"
     ]
    }
   ],
   "source": [
    "path = \"/usr/users/agecker/datasets/macaque_videos/\"\n",
    "cap = cv2.VideoCapture(path + \"Videos/\" + video_id + \".mp4\")\n",
    "\n",
    "#Total number of frames\n",
    "frame_count = int(cap.get(cv2.CAP_PROP_FRAME_COUNT))\n",
    "print('Frame count:', frame_count)\n",
    "\n",
    "count = 0"
   ]
  },
  {
   "cell_type": "code",
   "execution_count": 360,
   "id": "whole-defeat",
   "metadata": {},
   "outputs": [
    {
     "name": "stdout",
     "output_type": "stream",
     "text": [
      "50\n",
      "100\n",
      "150\n",
      "200\n",
      "250\n",
      "300\n",
      "350\n"
     ]
    }
   ],
   "source": [
    "#%%\n",
    "\n",
    "while count < frame_count:\n",
    "    cap.set(cv2.CAP_PROP_POS_FRAMES, count)\n",
    "    success, image = cap.read()\n",
    "    cv2.imwrite(path + video_id + \"/images/frame_%s.jpg\" % str(count).zfill(6), image)     # save frame as JPEG file\n",
    "    count += 1\n",
    "    if count % 50 == 0:\n",
    "        print(count)"
   ]
  }
 ],
 "metadata": {
  "kernelspec": {
   "display_name": "Python 3",
   "language": "python",
   "name": "python3"
  },
  "language_info": {
   "codemirror_mode": {
    "name": "ipython",
    "version": 3
   },
   "file_extension": ".py",
   "mimetype": "text/x-python",
   "name": "python",
   "nbconvert_exporter": "python",
   "pygments_lexer": "ipython3",
   "version": "3.8.17"
  },
  "vscode": {
   "interpreter": {
    "hash": "60ced420ad4e86a519f02723719197983a7bc8a476883984e4cadb85097aad83"
   }
  }
 },
 "nbformat": 4,
 "nbformat_minor": 5
}
