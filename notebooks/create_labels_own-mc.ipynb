{
 "cells": [
  {
   "cell_type": "code",
   "execution_count": 1,
   "id": "deluxe-stability",
   "metadata": {},
   "outputs": [
    {
     "name": "stdout",
     "output_type": "stream",
     "text": [
      "/usr/users/vogg/monkey-tracking-in-the-wild/notebooks\n"
     ]
    }
   ],
   "source": [
    "import numpy as np\n",
    "import pandas as pd\n",
    "import os\n",
    "import re\n",
    "# import matplotlib.pyplot as plt\n",
    "from PIL import Image\n",
    "\n",
    "\n",
    "from pathlib import Path\n",
    "import json\n",
    "import shutil\n",
    "\n",
    "os.getcwd()\n",
    "!pwd\n",
    "\n"
   ]
  },
  {
   "cell_type": "markdown",
   "id": "middle-wright",
   "metadata": {},
   "source": [
    "## Converting VoTT output\n",
    "\n",
    "After labeling with VoTT, we obtain a .csv file, which we convert into many .txt files, one file for every frame. These will be saved in a folder called labels_with_ids (if it does not exist you have to create it."
   ]
  },
  {
   "cell_type": "markdown",
   "id": "necessary-stanford",
   "metadata": {},
   "source": [
    "### Paths to everything"
   ]
  },
  {
   "cell_type": "markdown",
   "id": "stainless-immune",
   "metadata": {},
   "source": [
    "#### Paths for Lemur & Box"
   ]
  },
  {
   "cell_type": "code",
   "execution_count": 10,
   "id": "front-patch",
   "metadata": {},
   "outputs": [],
   "source": [
    "data_root = Path(\"/home/matthias/storage/sfb1528_storage/Z02/LemursAndBoxes/vott-csv-export/\")\n",
    "data_out = Path(\"/home/matthias/storage/datasets/lemur_box/train/\")"
   ]
  },
  {
   "cell_type": "markdown",
   "id": "light-madness",
   "metadata": {},
   "source": [
    "#### Paths Richards things"
   ]
  },
  {
   "cell_type": "code",
   "execution_count": 2,
   "id": "generous-question",
   "metadata": {},
   "outputs": [],
   "source": [
    "data_root = Path(\"/usr/users/vogg/Labelling/Lemurs/Individual_imgs/cleaned_labels1\")\n",
    "#data_root = Path(\"/usr/users/agecker/datasets/MacaqueImagePairs/\")"
   ]
  },
  {
   "cell_type": "code",
   "execution_count": 10,
   "id": "stopped-nutrition",
   "metadata": {},
   "outputs": [],
   "source": [
    "labels = pd.read_csv(data_root / \"Images_hard-export.csv\")"
   ]
  },
  {
   "cell_type": "markdown",
   "id": "prepared-vertex",
   "metadata": {},
   "source": [
    "### Test output of labels"
   ]
  },
  {
   "cell_type": "code",
   "execution_count": 37,
   "id": "together-joint",
   "metadata": {},
   "outputs": [],
   "source": [
    "# labels = pd.read_csv(data_root + \"images/Baboon-finder-export.csv\")\n",
    "# labels = data_root\n",
    "# labels = pd.read_csv(data_root / 'Lemur_new-export.csv')"
   ]
  },
  {
   "cell_type": "code",
   "execution_count": 11,
   "id": "blind-zealand",
   "metadata": {},
   "outputs": [
    {
     "data": {
      "text/html": [
       "<div>\n",
       "<style scoped>\n",
       "    .dataframe tbody tr th:only-of-type {\n",
       "        vertical-align: middle;\n",
       "    }\n",
       "\n",
       "    .dataframe tbody tr th {\n",
       "        vertical-align: top;\n",
       "    }\n",
       "\n",
       "    .dataframe thead th {\n",
       "        text-align: right;\n",
       "    }\n",
       "</style>\n",
       "<table border=\"1\" class=\"dataframe\">\n",
       "  <thead>\n",
       "    <tr style=\"text-align: right;\">\n",
       "      <th></th>\n",
       "      <th>image</th>\n",
       "      <th>xmin</th>\n",
       "      <th>ymin</th>\n",
       "      <th>xmax</th>\n",
       "      <th>ymax</th>\n",
       "      <th>label</th>\n",
       "    </tr>\n",
       "  </thead>\n",
       "  <tbody>\n",
       "    <tr>\n",
       "      <th>0</th>\n",
       "      <td>GX010011_small_9754.jpg</td>\n",
       "      <td>195.698764</td>\n",
       "      <td>386.221952</td>\n",
       "      <td>767.327537</td>\n",
       "      <td>978.371536</td>\n",
       "      <td>Lemur</td>\n",
       "    </tr>\n",
       "    <tr>\n",
       "      <th>1</th>\n",
       "      <td>GX010011_small_9754.jpg</td>\n",
       "      <td>125.758324</td>\n",
       "      <td>472.710280</td>\n",
       "      <td>304.644504</td>\n",
       "      <td>551.775701</td>\n",
       "      <td>Box</td>\n",
       "    </tr>\n",
       "    <tr>\n",
       "      <th>2</th>\n",
       "      <td>GX010011_small_9754.jpg</td>\n",
       "      <td>932.763552</td>\n",
       "      <td>584.053738</td>\n",
       "      <td>1121.064778</td>\n",
       "      <td>687.679968</td>\n",
       "      <td>Box</td>\n",
       "    </tr>\n",
       "    <tr>\n",
       "      <th>3</th>\n",
       "      <td>GX010011_small_9754.jpg</td>\n",
       "      <td>1846.024518</td>\n",
       "      <td>607.289720</td>\n",
       "      <td>1920.000000</td>\n",
       "      <td>646.317778</td>\n",
       "      <td>Box</td>\n",
       "    </tr>\n",
       "    <tr>\n",
       "      <th>4</th>\n",
       "      <td>GX010011_small_4436.jpg</td>\n",
       "      <td>1414.276728</td>\n",
       "      <td>394.296750</td>\n",
       "      <td>1835.936953</td>\n",
       "      <td>763.044434</td>\n",
       "      <td>Lemur</td>\n",
       "    </tr>\n",
       "  </tbody>\n",
       "</table>\n",
       "</div>"
      ],
      "text/plain": [
       "                     image         xmin        ymin         xmax        ymax  \\\n",
       "0  GX010011_small_9754.jpg   195.698764  386.221952   767.327537  978.371536   \n",
       "1  GX010011_small_9754.jpg   125.758324  472.710280   304.644504  551.775701   \n",
       "2  GX010011_small_9754.jpg   932.763552  584.053738  1121.064778  687.679968   \n",
       "3  GX010011_small_9754.jpg  1846.024518  607.289720  1920.000000  646.317778   \n",
       "4  GX010011_small_4436.jpg  1414.276728  394.296750  1835.936953  763.044434   \n",
       "\n",
       "   label  \n",
       "0  Lemur  \n",
       "1    Box  \n",
       "2    Box  \n",
       "3    Box  \n",
       "4  Lemur  "
      ]
     },
     "execution_count": 11,
     "metadata": {},
     "output_type": "execute_result"
    }
   ],
   "source": [
    "labels.head()"
   ]
  },
  {
   "cell_type": "markdown",
   "id": "rubber-tennis",
   "metadata": {},
   "source": [
    "### Fixing paths to image and label files"
   ]
  },
  {
   "cell_type": "code",
   "execution_count": 3,
   "id": "elegant-accordance",
   "metadata": {},
   "outputs": [],
   "source": [
    "# img_list = os.listdir(data_root + \"images\")\n",
    "imgs = data_root\n",
    "# lbls = data_root / 'labels_with_ids'\n",
    "# imgs = data_root\n",
    "#lbls = data_root / 'VoTT_output'\n",
    "# img_list = imgs.glob('**/*.png')\n",
    "img_list = os.listdir(data_root / \"images\")\n",
    "img_list = [img for img in img_list if not img.startswith(\".\")]\n",
    "#labels_list = lbls.glob('**/*.json')\n",
    "#regex = re.compile('.*jpg')\n",
    "#img_list = sorted([i for i in img_list if regex.match(i)])"
   ]
  },
  {
   "cell_type": "code",
   "execution_count": 4,
   "id": "suitable-coral",
   "metadata": {},
   "outputs": [
    {
     "data": {
      "text/plain": [
       "1613"
      ]
     },
     "execution_count": 4,
     "metadata": {},
     "output_type": "execute_result"
    }
   ],
   "source": [
    "len(img_list)"
   ]
  },
  {
   "cell_type": "markdown",
   "id": "interested-software",
   "metadata": {},
   "source": [
    "### Get all resolutions of images"
   ]
  },
  {
   "cell_type": "code",
   "execution_count": 8,
   "id": "younger-jonathan",
   "metadata": {},
   "outputs": [
    {
     "ename": "FileNotFoundError",
     "evalue": "[Errno 2] No such file or directory: 'a_e_9_221007_c2_5151.jpg'",
     "output_type": "error",
     "traceback": [
      "\u001b[0;31m---------------------------------------------------------------------------\u001b[0m",
      "\u001b[0;31mFileNotFoundError\u001b[0m                         Traceback (most recent call last)",
      "\u001b[0;32m<ipython-input-8-0e53427b7ed5>\u001b[0m in \u001b[0;36m<module>\u001b[0;34m\u001b[0m\n\u001b[1;32m      1\u001b[0m \u001b[0msh\u001b[0m \u001b[0;34m=\u001b[0m \u001b[0;34m[\u001b[0m\u001b[0;34m]\u001b[0m\u001b[0;34m\u001b[0m\u001b[0;34m\u001b[0m\u001b[0m\n\u001b[1;32m      2\u001b[0m \u001b[0;32mfor\u001b[0m \u001b[0mimg\u001b[0m \u001b[0;32min\u001b[0m \u001b[0mimg_list\u001b[0m\u001b[0;34m:\u001b[0m\u001b[0;34m\u001b[0m\u001b[0;34m\u001b[0m\u001b[0m\n\u001b[0;32m----> 3\u001b[0;31m     \u001b[0mimg\u001b[0m\u001b[0;34m=\u001b[0m\u001b[0mnp\u001b[0m\u001b[0;34m.\u001b[0m\u001b[0masarray\u001b[0m\u001b[0;34m(\u001b[0m\u001b[0mImage\u001b[0m\u001b[0;34m.\u001b[0m\u001b[0mopen\u001b[0m\u001b[0;34m(\u001b[0m\u001b[0mimg\u001b[0m\u001b[0;34m)\u001b[0m\u001b[0;34m)\u001b[0m\u001b[0;34m\u001b[0m\u001b[0;34m\u001b[0m\u001b[0m\n\u001b[0m\u001b[1;32m      4\u001b[0m     \u001b[0msh\u001b[0m\u001b[0;34m.\u001b[0m\u001b[0mappend\u001b[0m\u001b[0;34m(\u001b[0m\u001b[0;34m(\u001b[0m\u001b[0mimg\u001b[0m\u001b[0;34m.\u001b[0m\u001b[0mshape\u001b[0m\u001b[0;34m)\u001b[0m\u001b[0;34m)\u001b[0m\u001b[0;34m\u001b[0m\u001b[0;34m\u001b[0m\u001b[0m\n\u001b[1;32m      5\u001b[0m \u001b[0;31m# print(sh)\u001b[0m\u001b[0;34m\u001b[0m\u001b[0;34m\u001b[0m\u001b[0;34m\u001b[0m\u001b[0m\n",
      "\u001b[0;32m/opt/conda/lib/python3.8/site-packages/PIL/Image.py\u001b[0m in \u001b[0;36mopen\u001b[0;34m(fp, mode, formats)\u001b[0m\n\u001b[1;32m   2902\u001b[0m \u001b[0;34m\u001b[0m\u001b[0m\n\u001b[1;32m   2903\u001b[0m     \u001b[0;32mif\u001b[0m \u001b[0mfilename\u001b[0m\u001b[0;34m:\u001b[0m\u001b[0;34m\u001b[0m\u001b[0;34m\u001b[0m\u001b[0m\n\u001b[0;32m-> 2904\u001b[0;31m         \u001b[0mfp\u001b[0m \u001b[0;34m=\u001b[0m \u001b[0mbuiltins\u001b[0m\u001b[0;34m.\u001b[0m\u001b[0mopen\u001b[0m\u001b[0;34m(\u001b[0m\u001b[0mfilename\u001b[0m\u001b[0;34m,\u001b[0m \u001b[0;34m\"rb\"\u001b[0m\u001b[0;34m)\u001b[0m\u001b[0;34m\u001b[0m\u001b[0;34m\u001b[0m\u001b[0m\n\u001b[0m\u001b[1;32m   2905\u001b[0m         \u001b[0mexclusive_fp\u001b[0m \u001b[0;34m=\u001b[0m \u001b[0;32mTrue\u001b[0m\u001b[0;34m\u001b[0m\u001b[0;34m\u001b[0m\u001b[0m\n\u001b[1;32m   2906\u001b[0m \u001b[0;34m\u001b[0m\u001b[0m\n",
      "\u001b[0;31mFileNotFoundError\u001b[0m: [Errno 2] No such file or directory: 'a_e_9_221007_c2_5151.jpg'"
     ]
    }
   ],
   "source": [
    "sh = []\n",
    "for img in img_list:\n",
    "    img=np.asarray(Image.open(img))\n",
    "    sh.append((img.shape))\n",
    "# print(sh)\n",
    "print(np.unique(sh))\n",
    "\n",
    "# ken front left camera has other resolution than the rest: 768x768 instead of 768x1024"
   ]
  },
  {
   "cell_type": "markdown",
   "id": "plain-grounds",
   "metadata": {},
   "source": [
    "### Copy images to train location"
   ]
  },
  {
   "cell_type": "code",
   "execution_count": 12,
   "id": "american-underwear",
   "metadata": {},
   "outputs": [],
   "source": [
    "# save all pngs to images\n",
    "for img in img_list:\n",
    "    shutil.copy(img, (data_root.parent.parent / 'train' / 'images' / img.name))\n",
    "\n",
    "    # sort out imgs without corresponding labeling\n",
    "    # tmp = (lbls / img.name).with_suffix('.txt')\n",
    "    # if not tmp.is_file():\n",
    "    #     img.rename((data_root / 'sorted_out' / img.name))\n"
   ]
  },
  {
   "cell_type": "markdown",
   "id": "junior-stereo",
   "metadata": {},
   "source": [
    "### Get image shapes"
   ]
  },
  {
   "cell_type": "code",
   "execution_count": 17,
   "id": "surface-princeton",
   "metadata": {},
   "outputs": [
    {
     "ename": "TypeError",
     "evalue": "'list' object is not an iterator",
     "output_type": "error",
     "traceback": [
      "\u001b[0;31m---------------------------------------------------------------------------\u001b[0m",
      "\u001b[0;31mTypeError\u001b[0m                                 Traceback (most recent call last)",
      "\u001b[0;32m/tmp/ipykernel_3247848/1836401992.py\u001b[0m in \u001b[0;36m<module>\u001b[0;34m\u001b[0m\n\u001b[1;32m      1\u001b[0m \u001b[0;31m# img_id = img_list[1]\u001b[0m\u001b[0;34m\u001b[0m\u001b[0;34m\u001b[0m\u001b[0;34m\u001b[0m\u001b[0m\n\u001b[0;32m----> 2\u001b[0;31m \u001b[0mimg_path\u001b[0m \u001b[0;34m=\u001b[0m \u001b[0mnext\u001b[0m\u001b[0;34m(\u001b[0m\u001b[0mimg_list\u001b[0m\u001b[0;34m)\u001b[0m\u001b[0;34m\u001b[0m\u001b[0;34m\u001b[0m\u001b[0m\n\u001b[0m\u001b[1;32m      3\u001b[0m \u001b[0;31m# img = np.asarray(Image.open(data_root + \"images/\" + img_id))\u001b[0m\u001b[0;34m\u001b[0m\u001b[0;34m\u001b[0m\u001b[0;34m\u001b[0m\u001b[0m\n\u001b[1;32m      4\u001b[0m \u001b[0mimg\u001b[0m \u001b[0;34m=\u001b[0m \u001b[0mnp\u001b[0m\u001b[0;34m.\u001b[0m\u001b[0masarray\u001b[0m\u001b[0;34m(\u001b[0m\u001b[0mImage\u001b[0m\u001b[0;34m.\u001b[0m\u001b[0mopen\u001b[0m\u001b[0;34m(\u001b[0m\u001b[0mimg_path\u001b[0m\u001b[0;34m)\u001b[0m\u001b[0;34m)\u001b[0m\u001b[0;34m\u001b[0m\u001b[0;34m\u001b[0m\u001b[0m\n\u001b[1;32m      5\u001b[0m \u001b[0;31m#fig, ax = plt.subplots(figsize=(640/96, 640/96), dpi=96)\u001b[0m\u001b[0;34m\u001b[0m\u001b[0;34m\u001b[0m\u001b[0;34m\u001b[0m\u001b[0m\n",
      "\u001b[0;31mTypeError\u001b[0m: 'list' object is not an iterator"
     ]
    }
   ],
   "source": [
    "# img_id = img_list[1]\n",
    "img_path = next(img_list)\n",
    "# img = np.asarray(Image.open(data_root + \"images/\" + img_id))\n",
    "img = np.asarray(Image.open(img_path))\n",
    "#fig, ax = plt.subplots(figsize=(640/96, 640/96), dpi=96)\n",
    "#ax.imshow(img)\n",
    "img_h, img_w, _ = img.shape"
   ]
  },
  {
   "cell_type": "markdown",
   "id": "early-guarantee",
   "metadata": {},
   "source": [
    "# Extracting multiple json VoTT output for single-class FairMOT\n",
    "\n",
    "- used for testing Zurnas Explorationroom labeling with single class FairMOT \n",
    "- all classes labeled in VoTT but only monkey class BB's are extracted"
   ]
  },
  {
   "cell_type": "code",
   "execution_count": null,
   "id": "written-router",
   "metadata": {},
   "outputs": [],
   "source": [
    "# cell to extract monkey class\n",
    "i_monkey = 0\n",
    "for label in labels_list:\n",
    "    # print(label)\n",
    "    with open(label) as f:\n",
    "        content = json.load(f)\n",
    "        \n",
    "    origin_path = Path(content[\"asset\"][\"path\"])\n",
    "    image_path_end = Path(origin_path.parent.name, origin_path.name)\n",
    "    image_path = data_root / label.parent.parent.name  / image_path_end\n",
    "    # print(image_path)\n",
    "    # img = np.asarray(Image.open(image_path))\n",
    "    # img_h, img_w, _ = img.shape\n",
    "    img_h, img_w = content[\"asset\"][\"size\"].values()\n",
    "\n",
    "    all_boxes = content[\"regions\"]\n",
    "    # print(all_boxes[0])\n",
    "    monkey_boxes = [box for box in all_boxes if \"monkey\" in box[\"tags\"]]\n",
    "    # if monkey_boxes:\n",
    "    #     shutil.copy(image_path, (data_root / 'images' /image_path.name))\n",
    "    # print(monkey_boxes)\n",
    "\n",
    "    label_fpath = (data_root / \"labels_with_ids\" / image_path.name).with_suffix('.txt')\n",
    "    # print(label_fpath)\n",
    "\n",
    "    for monkey_box in monkey_boxes:\n",
    "        id = monkey_box[\"id\"]\n",
    "        h, w, left, top = monkey_box[\"boundingBox\"].values()\n",
    "        # print(h,w,left,top)\n",
    "\n",
    "        x_center = left + w/2\n",
    "        y_center = top + h/2\n",
    "\n",
    "        #  img_id = re.sub(\"[.]jpg\",\"\", img_id)\n",
    "        #Label-String schreiben.\n",
    "\n",
    "        label_str = '0 {:d} {:.6f} {:.6f} {:.6f} {:.6f}\\n'.format(\n",
    "                i_monkey, x_center / img_w, y_center / img_h, w / img_w, h / img_h)\n",
    "\n",
    "        i_monkey += 1\n",
    "        with label_fpath.open(mode='a') as f:\n",
    "            f.write(label_str)\n",
    "    # plotBBox(str(image_path.stem),str(image_path.parent)+'/',str(label_fpath.parent)+'/', ending='.png')\n",
    "        \n"
   ]
  },
  {
   "cell_type": "markdown",
   "id": "graduate-allah",
   "metadata": {},
   "source": [
    "# Extracting multiple json VoTT output for multi-class FairMOT\n",
    "\n",
    "- used for Zurnas Explorationroom labeling"
   ]
  },
  {
   "cell_type": "code",
   "execution_count": 68,
   "id": "split-haven",
   "metadata": {},
   "outputs": [],
   "source": [
    "# cell for all classes\n",
    "i_obj = [0,0,0,0,0]\n",
    "\n",
    "for label in labels_list:\n",
    "    # print(label)\n",
    "    with open(label) as f:\n",
    "        content = json.load(f)\n",
    "        \n",
    "    origin_path = Path(content[\"asset\"][\"path\"])\n",
    "    image_path_end = Path(origin_path.parent.name, origin_path.name)\n",
    "    image_path = data_root / label.parent.parent.name  / image_path_end\n",
    "    # print(image_path)\n",
    "    # img = np.asarray(Image.open(image_path))\n",
    "    # img_h, img_w, _ = img.shape\n",
    "    img_h, img_w = content[\"asset\"][\"size\"].values()\n",
    "\n",
    "    all_boxes = content[\"regions\"]\n",
    "\n",
    "    # monkey_boxes = [box for box in all_boxes if \"monkey\" in box[\"tags\"]]\n",
    "\n",
    "    label_fpath = (data_root / \"labels_with_ids\" / image_path.name).with_suffix('.txt')\n",
    "\n",
    "    for box in all_boxes:\n",
    "        if \"monkey\" in box[\"tags\"]:\n",
    "            obj_class = 0\n",
    "        elif \"patch\" in box[\"tags\"]:\n",
    "            obj_class = 1\n",
    "        elif \"kong\" in box[\"tags\"]:\n",
    "            obj_class = 2\n",
    "        elif \"branch\" in box[\"tags\"]:\n",
    "            obj_class = 3\n",
    "        elif \"XBI\" in box[\"tags\"]:\n",
    "            obj_class = 4\n",
    "        h, w, left, top = box[\"boundingBox\"].values()\n",
    "        # print(h,w,left,top)\n",
    "\n",
    "        x_center = left + w/2\n",
    "        y_center = top + h/2\n",
    "\n",
    "        #  img_id = re.sub(\"[.]jpg\",\"\", img_id)\n",
    "        #Label-String schreiben.\n",
    "\n",
    "        label_str = '{:d} {:d} {:.6f} {:.6f} {:.6f} {:.6f}\\n'.format(\n",
    "                obj_class, i_obj[obj_class], x_center / img_w, y_center / img_h, w / img_w, h / img_h)\n",
    "\n",
    "        i_obj[obj_class] += 1\n",
    "        with label_fpath.open(mode='a') as f:\n",
    "            f.write(label_str)"
   ]
  },
  {
   "cell_type": "markdown",
   "id": "legal-position",
   "metadata": {},
   "source": [
    "# Extracting one csv VoTT output for multi-class FairMOT\n",
    "\n",
    "- used for lemurs and boxes"
   ]
  },
  {
   "cell_type": "code",
   "execution_count": 13,
   "id": "martial-inspiration",
   "metadata": {},
   "outputs": [],
   "source": [
    "i_obj = [0,0]\n",
    "img_paths = []\n",
    "for _, row in labels.iterrows():\n",
    "    # print(label)\n",
    "    image, xmin, ymin, xmax, ymax, label = row\n",
    "\n",
    "    image_path = data_root / \"images\" / image\n",
    "    img_paths.append(str(image_path))\n",
    "    # print(image_path)\n",
    "    img = np.asarray(Image.open(image_path))\n",
    "    img_h, img_w, _ = img.shape\n",
    "\n",
    "    # for lemur and box ---\n",
    "    # img_h, img_w = [2160, 3840]\n",
    "\n",
    "\n",
    "    # label_fpath = (data_out / 'labels' / image_path.name).with_suffix('.txt')\n",
    "    # for exp room\n",
    "    if not os.path.exists(data_root / 'labels_with_ids' ):\n",
    "        os.makedirs(data_root / 'labels_with_ids' )\n",
    "\n",
    "    label_fpath = (data_root / 'labels_with_ids' / image_path.name).with_suffix('.txt')\n",
    "    \n",
    "    #obj_class = 0\n",
    "\n",
    "    #for lemur and box ---\n",
    "    if \"Lemur\" in label:\n",
    "        obj_class = 0\n",
    "    elif \"Box\" in label:\n",
    "        obj_class = 1\n",
    "\n",
    "    w = (xmax - xmin)\n",
    "    h = (ymax - ymin)\n",
    "\n",
    "    x_center = xmin + w / 2\n",
    "    y_center = ymin + h / 2\n",
    "\n",
    "    #  img_id = re.sub(\"[.]jpg\",\"\", img_id)\n",
    "    #Label-String schreiben.\n",
    "\n",
    "    label_str = '{:d} {:d} {:.6f} {:.6f} {:.6f} {:.6f}\\n'.format(\n",
    "            obj_class, i_obj[obj_class], x_center / img_w, y_center / img_h, w / img_w, h / img_h)\n",
    "\n",
    "    i_obj[obj_class] += 1\n",
    "\n",
    "    # not for lemur box\n",
    "    with label_fpath.open(mode='a') as f:\n",
    "        f.write(label_str)\n",
    "\n",
    "# for lemur box\n",
    "# img_paths = list(set(img_paths))\n",
    "# with (data_out / 'lemur_box.train').open('w') as f:\n",
    "#     for ip in img_paths:\n",
    "#         f.write(f'{ip}\\n')"
   ]
  },
  {
   "cell_type": "markdown",
   "id": "sitting-thomas",
   "metadata": {},
   "source": [
    "# Extracting one csv VoTT output for multi-class FairMOT + classification"
   ]
  },
  {
   "cell_type": "code",
   "execution_count": 11,
   "id": "grave-velvet",
   "metadata": {},
   "outputs": [],
   "source": [
    "dict_indivs = {'Cha': 0, 'Flo': 1, 'Gen': 2, 'Geo': 3, 'Her': 4, 'Rab': 5, 'Red': 6,\n",
    "              'Uns': 7}"
   ]
  },
  {
   "cell_type": "code",
   "execution_count": 14,
   "id": "accurate-bangkok",
   "metadata": {},
   "outputs": [],
   "source": [
    "i_obj = [0,0]\n",
    "img_paths = []\n",
    "for _, row in labels.iterrows():\n",
    "    # print(label)\n",
    "    image, xmin, ymin, xmax, ymax, label = row\n",
    "    #indiv = label.split(\"-\")[1][:3]\n",
    "    indiv = label[:3]\n",
    "\n",
    "    image_path = data_root / 'eval' / image\n",
    "    img_paths.append(str(image_path))\n",
    "    # print(image_path)\n",
    "    img = np.asarray(Image.open(image_path))\n",
    "    img_h, img_w, _ = img.shape\n",
    "\n",
    "    # for lemur and box ---\n",
    "    # img_h, img_w = [2160, 3840]\n",
    "\n",
    "\n",
    "    # label_fpath = (data_out / 'labels' / image_path.name).with_suffix('.txt')\n",
    "    # for exp room\n",
    "    label_fpath = (data_root / 'labels_with_ids' / image_path.name).with_suffix('.txt')\n",
    "    \n",
    "    obj_class = 0\n",
    "\n",
    "    # for lemur and box ---\n",
    "    if \"Lemur\" in label:\n",
    "        obj_class = 0\n",
    "    elif \"Box\" in label:\n",
    "        obj_class = 1\n",
    "\n",
    "    w = (xmax - xmin)\n",
    "    h = (ymax - ymin)\n",
    "\n",
    "    x_center = xmin + w / 2\n",
    "    y_center = ymin + h / 2\n",
    "\n",
    "    #  img_id = re.sub(\"[.]jpg\",\"\", img_id)\n",
    "    #Label-String schreiben.\n",
    "\n",
    "    label_str = '{:d} {:d} {:.6f} {:.6f} {:.6f} {:.6f} {:d}\\n'.format(\n",
    "            obj_class, i_obj[obj_class], x_center / img_w, y_center / img_h, \n",
    "        w / img_w, h / img_h, dict_indivs[indiv])\n",
    "\n",
    "    i_obj[obj_class] += 1\n",
    "\n",
    "    # not for lemur box\n",
    "    with label_fpath.open(mode='a') as f:\n",
    "        f.write(label_str)\n",
    "    \n",
    "\n"
   ]
  },
  {
   "cell_type": "markdown",
   "id": "unavailable-necessity",
   "metadata": {},
   "source": [
    "# Original VoTT output transform for FairMOT (from Richard)\n",
    "\n",
    "- I at least think that that is in this cell ^^"
   ]
  },
  {
   "cell_type": "code",
   "execution_count": 332,
   "id": "associate-prisoner",
   "metadata": {},
   "outputs": [],
   "source": [
    "i_monkey = 0\n",
    "\n",
    "# for img_id in img_list:\n",
    "for img_path in img_list:\n",
    "    idx = np.where(labels.image == img_id)\n",
    "    image_labels = labels.iloc[idx]\n",
    "    \n",
    "    label_fpath = data_root + \"labels_with_ids/\" + re.sub(\".JPG\", \".txt\", img_id)\n",
    "\n",
    "    img = np.asarray(Image.open(data_root + \"images/\" + img_id))\n",
    "    img_h, img_w, _ = img.shape\n",
    "\n",
    "    for index, row in image_labels.iterrows():\n",
    "\n",
    "        #if row.label == \"baboon\":\n",
    "        x_center = row.xmin + (row.xmax - row.xmin)/2\n",
    "        y_center = row.ymin + (row.ymax - row.ymin)/2\n",
    "        w = row.xmax - row.xmin\n",
    "        h = row.ymax - row.ymin\n",
    "\n",
    "        #i_monkey = row.label\n",
    "\n",
    "        img_id = re.sub(\"[.]jpg\",\"\", img_id)\n",
    "        #Label-String schreiben.\n",
    "\n",
    "        label_str = '0 {:d} {:.6f} {:.6f} {:.6f} {:.6f}\\n'.format(\n",
    "                i_monkey, x_center / img_w, y_center / img_h, w / img_w, h / img_h)\n",
    "\n",
    "        i_monkey += 1\n",
    "        with open(label_fpath, 'a') as f:\n",
    "            f.write(label_str)\n",
    "\n",
    "\n",
    "            "
   ]
  },
  {
   "cell_type": "markdown",
   "id": "sporting-marsh",
   "metadata": {},
   "source": [
    "### Converting CVAT output\n",
    "\n",
    "Data comes in separate files."
   ]
  },
  {
   "cell_type": "code",
   "execution_count": 353,
   "id": "indirect-friday",
   "metadata": {},
   "outputs": [],
   "source": [
    "video_id = 'VID_20210227_133440_0'\n",
    "\n",
    "data_root = \"/usr/users/agecker/datasets/macaque_videos/\"\n",
    "\n",
    "path_o = data_root + video_id + \"/obj_train_data/\"\n",
    "\n",
    "frame_list = os.listdir(path_o)\n",
    "frame_list.sort()"
   ]
  },
  {
   "cell_type": "code",
   "execution_count": 354,
   "id": "preceding-immune",
   "metadata": {},
   "outputs": [
    {
     "name": "stdout",
     "output_type": "stream",
     "text": [
      "361\n"
     ]
    }
   ],
   "source": [
    "regex = re.compile('.*txt')\n",
    "frame_list = [i for i in frame_list if regex.match(i)]\n",
    "print(len(frame_list))"
   ]
  },
  {
   "cell_type": "code",
   "execution_count": 343,
   "id": "alien-apparel",
   "metadata": {},
   "outputs": [
    {
     "name": "stdout",
     "output_type": "stream",
     "text": [
      "mkdir: cannot create directory ‘/usr/users/agecker/datasets/macaque_videos/VID_20210228_153846_0/labels_with_ids/’: File exists\n"
     ]
    }
   ],
   "source": [
    "\n",
    "!mkdir /usr/users/agecker/datasets/macaque_videos/VID_20210228_153846_0/labels_with_ids/"
   ]
  },
  {
   "cell_type": "code",
   "execution_count": 356,
   "id": "large-repair",
   "metadata": {},
   "outputs": [],
   "source": [
    "!mkdir /usr/users/agecker/datasets/macaque_videos/VID_20210227_133440_0/images/"
   ]
  },
  {
   "cell_type": "code",
   "execution_count": 357,
   "id": "approximate-sewing",
   "metadata": {},
   "outputs": [],
   "source": [
    "for frame_id in frame_list:\n",
    "    text = pd.read_csv(path_o + frame_id, names = [1,2,3,4,5], sep = \" \")\n",
    "    text.insert(0, \"z\", np.zeros(len(text)))\n",
    "    text.z = text.z.astype(int)\n",
    "    text.to_csv(data_root + video_id + \"/labels_with_ids/\" + frame_id,\n",
    "                 sep=' ', index=False, header = False)"
   ]
  },
  {
   "cell_type": "markdown",
   "id": "aerial-disco",
   "metadata": {},
   "source": [
    "## Videos to frames"
   ]
  },
  {
   "cell_type": "code",
   "execution_count": 358,
   "id": "surprising-improvement",
   "metadata": {},
   "outputs": [],
   "source": [
    "import cv2\n",
    "import sys\n",
    "#sys.path"
   ]
  },
  {
   "cell_type": "code",
   "execution_count": 359,
   "id": "blocked-place",
   "metadata": {},
   "outputs": [
    {
     "name": "stdout",
     "output_type": "stream",
     "text": [
      "Frame count: 361\n"
     ]
    }
   ],
   "source": [
    "path = \"/usr/users/agecker/datasets/macaque_videos/\"\n",
    "cap = cv2.VideoCapture(path + \"Videos/\" + video_id + \".mp4\")\n",
    "\n",
    "#Total number of frames\n",
    "frame_count = int(cap.get(cv2.CAP_PROP_FRAME_COUNT))\n",
    "print('Frame count:', frame_count)\n",
    "\n",
    "count = 0"
   ]
  },
  {
   "cell_type": "code",
   "execution_count": 360,
   "id": "whole-defeat",
   "metadata": {},
   "outputs": [
    {
     "name": "stdout",
     "output_type": "stream",
     "text": [
      "50\n",
      "100\n",
      "150\n",
      "200\n",
      "250\n",
      "300\n",
      "350\n"
     ]
    }
   ],
   "source": [
    "#%%\n",
    "\n",
    "while count < frame_count:\n",
    "    cap.set(cv2.CAP_PROP_POS_FRAMES, count)\n",
    "    success, image = cap.read()\n",
    "    cv2.imwrite(path + video_id + \"/images/frame_%s.jpg\" % str(count).zfill(6), image)     # save frame as JPEG file\n",
    "    count += 1\n",
    "    if count % 50 == 0:\n",
    "        print(count)"
   ]
  },
  {
   "cell_type": "code",
   "execution_count": null,
   "id": "dutch-county",
   "metadata": {},
   "outputs": [],
   "source": []
  },
  {
   "cell_type": "markdown",
   "id": "ready-visitor",
   "metadata": {},
   "source": [
    "## Make files for training list images"
   ]
  },
  {
   "cell_type": "code",
   "execution_count": 42,
   "id": "through-official",
   "metadata": {},
   "outputs": [
    {
     "data": {
      "text/plain": [
       "500"
      ]
     },
     "execution_count": 42,
     "metadata": {},
     "output_type": "execute_result"
    }
   ],
   "source": [
    "len(img_list)"
   ]
  },
  {
   "cell_type": "code",
   "execution_count": 5,
   "id": "sustainable-border",
   "metadata": {},
   "outputs": [],
   "source": [
    "trainfile_path = \"/usr/users/vogg/monkey-tracking-in-the-wild/src/data\"\n",
    "img_list = [img for img in img_list if not img.startswith(\".\")]\n",
    "for img_id in img_list:\n",
    "    if not img_id.startswith(\".\"):\n",
    "        label_fpath = \"/usr/users/vogg/monkey-tracking-in-the-wild/src/data/lemur_ids_cleaned1.train\"\n",
    "\n",
    "        label_str = data_root.name + \"/images/\" + img_id.replace(\"txt\", \"jpg\") + \"\\n\"\n",
    "\n",
    "        with open(label_fpath, 'a') as f:\n",
    "            f.write(label_str)"
   ]
  },
  {
   "cell_type": "code",
   "execution_count": 11,
   "id": "clear-milton",
   "metadata": {},
   "outputs": [
    {
     "data": {
      "text/plain": [
       "['0_100',\n",
       " '1_100',\n",
       " '2_100',\n",
       " '3_100',\n",
       " '4_100',\n",
       " '5_100',\n",
       " '6_100',\n",
       " '7_100',\n",
       " '8_100',\n",
       " '9_100']"
      ]
     },
     "execution_count": 11,
     "metadata": {},
     "output_type": "execute_result"
    }
   ],
   "source": [
    "folders"
   ]
  },
  {
   "cell_type": "code",
   "execution_count": 10,
   "id": "noble-effort",
   "metadata": {},
   "outputs": [],
   "source": [
    "#can be deleted: remove duplicates\n",
    "\n",
    "i = 1\n",
    "for folder in folders:\n",
    "    label_list = os.listdir(data_root / folder / \"labels_with_ids\")\n",
    "    label_list = [label for label in label_list if not label.startswith(\".\")]\n",
    "    for label_id in label_list:\n",
    "        with open(data_root / folder / \"labels_with_ids\" / label_id, \"r\") as f:\n",
    "            boxes = f.readlines()\n",
    "            #boxes = set(boxes)\n",
    "            #boxes = list(boxes)\n",
    "            with open(data_root / folder / \"labels_with_ids\" / label_id, \"w\") as f:\n",
    "                for box in boxes:\n",
    "                    i += 1\n",
    "                    box = box.split(\" \")\n",
    "                    box[1] = str(i)\n",
    "                    box = \" \".join(box)\n",
    "                    f.write(box)"
   ]
  },
  {
   "cell_type": "code",
   "execution_count": 9,
   "id": "legal-prime",
   "metadata": {},
   "outputs": [],
   "source": [
    "for folder in folders:\n",
    "    label_list = os.listdir(data_root / folder / \"labels_with_ids\")\n",
    "    label_list = [label for label in label_list if not label.startswith(\".\")]\n",
    "    for label_id in label_list:\n",
    "\n",
    "        with open(data_root / folder / \"labels_with_ids\" / label_id, 'r') as file:\n",
    "            lines = file.readlines()\n",
    "\n",
    "            # Remove empty rows from the lines\n",
    "            processed_lines = [line.strip() for line in lines if line.strip()]\n",
    "\n",
    "            # Write the modified lines to the output file\n",
    "            with open(data_root / folder / \"labels_with_ids\" / label_id, 'w') as file:\n",
    "                file.write('\\n'.join(processed_lines))"
   ]
  },
  {
   "cell_type": "code",
   "execution_count": 13,
   "id": "cheap-kenya",
   "metadata": {},
   "outputs": [],
   "source": [
    "for folder in folders:\n",
    "    label_list = os.listdir(data_root / folder / \"labels_with_ids\")\n",
    "    label_list = [label for label in label_list if not label.startswith(\".\")]\n",
    "    for label_id in label_list:\n",
    "        if os.path.getsize(data_root / folder / \"labels_with_ids\" / label_id) == 0:\n",
    "            print(f\"Empty file: {data_root / folder / 'labels_with_ids' / label_id}\")"
   ]
  },
  {
   "cell_type": "code",
   "execution_count": 15,
   "id": "acquired-break",
   "metadata": {},
   "outputs": [],
   "source": [
    "with open(data_root / \"macaque_image_pairs.train\", 'r') as file:\n",
    "    lines = file.readlines()\n",
    "\n",
    "# Remove lines containing the string \"_1.jpg\"\n",
    "filtered_lines = [line for line in lines if \"_1.jpg\" not in line]\n",
    "\n",
    "# Write the filtered lines to the output file\n",
    "with open(data_root / \"macaque_image_pairs2.train\", 'w') as file:\n",
    "    file.writelines(filtered_lines)\n"
   ]
  },
  {
   "cell_type": "code",
   "execution_count": 43,
   "id": "minor-essex",
   "metadata": {},
   "outputs": [],
   "source": [
    "for img_id in img_list:\n",
    "    if not img_id.startswith(\".\"):\n",
    "        label_fpath = data_root / \"lemur_ids.train\"\n",
    "\n",
    "        label_str = data_root.name + \"/images/\" + img_id + \"\\n\"\n",
    "\n",
    "        with open(label_fpath, 'a') as f:\n",
    "            f.write(label_str)"
   ]
  },
  {
   "cell_type": "code",
   "execution_count": null,
   "id": "amber-integrity",
   "metadata": {},
   "outputs": [],
   "source": [
    "# my verion\n",
    "for i, img in enumerate(img_list):\n",
    "    train_labl_fpath = '/media/gwdg_home/Data/Monkey/02_VoTT/lab.train'\n",
    "    val_labl_fpath = '/media/gwdg_home/Data/Monkey/02_VoTT/lab.val'\n",
    "    if i % 10 == 0:\n",
    "        with open(val_labl_fpath, 'a') as f:\n",
    "            f.write(str(img) + '\\n')\n",
    "    else:\n",
    "        with open(train_labl_fpath, 'a') as f:\n",
    "            f.write(str(img) + '\\n')\n"
   ]
  }
 ],
 "metadata": {
  "kernelspec": {
   "display_name": "Python 3",
   "language": "python",
   "name": "python3"
  },
  "language_info": {
   "codemirror_mode": {
    "name": "ipython",
    "version": 3
   },
   "file_extension": ".py",
   "mimetype": "text/x-python",
   "name": "python",
   "nbconvert_exporter": "python",
   "pygments_lexer": "ipython3",
   "version": "3.8.17"
  },
  "vscode": {
   "interpreter": {
    "hash": "60ced420ad4e86a519f02723719197983a7bc8a476883984e4cadb85097aad83"
   }
  }
 },
 "nbformat": 4,
 "nbformat_minor": 5
}
